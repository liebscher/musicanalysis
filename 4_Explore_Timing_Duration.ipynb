{
 "cells": [
  {
   "cell_type": "code",
   "execution_count": 1,
   "metadata": {},
   "outputs": [],
   "source": [
    "import pandas as pd\n",
    "from pandas import Timestamp\n",
    "import numpy as np\n",
    "import scipy.stats as stats\n",
    "from datetime import datetime\n",
    "from pytz import timezone\n",
    "\n",
    "import itertools\n",
    "\n",
    "import seaborn as sns\n",
    "import matplotlib.pyplot as plt\n",
    "from matplotlib import colors\n",
    "%matplotlib inline\n",
    "\n",
    "sns.set_style('whitegrid')\n",
    "pd.set_option('display.max_columns', 100)"
   ]
  },
  {
   "cell_type": "code",
   "execution_count": 2,
   "metadata": {},
   "outputs": [],
   "source": [
    "full_history = pd.read_json('data/history_clean.json')\n",
    "\n",
    "if full_history['timestamp'].max().tz is None:\n",
    "    full_history['timestamp'] = pd.to_datetime(full_history['timestamp'], utc=True)\n",
    "    full_history['timestamp'] = full_history['timestamp'].apply(lambda t: t.tz_convert('US/Pacific'))"
   ]
  },
  {
   "cell_type": "code",
   "execution_count": 3,
   "metadata": {},
   "outputs": [],
   "source": [
    "artists = pd.read_json('data/artists_clean.json')"
   ]
  },
  {
   "cell_type": "code",
   "execution_count": 4,
   "metadata": {},
   "outputs": [],
   "source": [
    "def get_unique():\n",
    "    unique_history = full_history.drop('timestamp', axis=1)\n",
    "    return unique_history.drop_duplicates('id')"
   ]
  },
  {
   "cell_type": "markdown",
   "metadata": {},
   "source": [
    "## When do I listen to music?\n",
    "\n",
    "It's unlikely I'm always listening to music, 24/7. So what does the time frame of my listening actually look like?\n",
    "\n",
    "Above I mentioned that on average I listen to about 78 songs per day. Since I've started recording my listening, how have I deviated from that? The graph below shows the \"rate\" of my music listening, overlaid with a linear estimation of exactly 78 songs per day. Around late March was Finals week and the beginning of my Spring Break, hence the steep rise in music listening (less time in class, more time in the library/relaxing at home). Following that is a flatline of music listening, which corresponds to a vacation I took with my girlfriend. I was spending time exploring a new place and being present with her, instead of listening to music."
   ]
  },
  {
   "cell_type": "code",
   "execution_count": 5,
   "metadata": {},
   "outputs": [
    {
     "data": {
      "image/png": "[encoded data removed]",
      "text/plain": [
       "<matplotlib.figure.Figure at 0x1a10f38eb8>"
      ]
     },
     "metadata": {},
     "output_type": "display_data"
    }
   ],
   "source": [
    "dates = full_history['timestamp'].sort_values().reset_index(drop=True)\n",
    "plt.xticks(rotation=15)\n",
    "plt.plot([min(full_history['timestamp']), max(full_history['timestamp'])], \n",
    "         [0, max(dates.index)], \n",
    "         'r-', alpha=0.4, label='Linear Expected')\n",
    "plt.plot(dates.values, dates.index, c='k', label='Observed')\n",
    "plt.legend()\n",
    "plt.grid(alpha=0.4)"
   ]
  },
  {
   "cell_type": "markdown",
   "metadata": {},
   "source": [
    "How does my music collection look in terms of song length?"
   ]
  },
  {
   "cell_type": "code",
   "execution_count": 6,
   "metadata": {},
   "outputs": [
    {
     "name": "stdout",
     "output_type": "stream",
     "text": [
      "count    17235.000000\n",
      "mean         3.876867\n",
      "std          1.448328\n",
      "min          0.528667\n",
      "25%          3.139500\n",
      "50%          3.665033\n",
      "75%          4.348950\n",
      "max         41.983333\n",
      "Name: duration, dtype: float64\n"
     ]
    },
    {
     "data": {
      "text/html": [
       "<div>\n",
       "<style scoped>\n",
       "    .dataframe tbody tr th:only-of-type {\n",
       "        vertical-align: middle;\n",
       "    }\n",
       "\n",
       "    .dataframe tbody tr th {\n",
       "        vertical-align: top;\n",
       "    }\n",
       "\n",
       "    .dataframe thead th {\n",
       "        text-align: right;\n",
       "    }\n",
       "</style>\n",
       "<table border=\"1\" class=\"dataframe\">\n",
       "  <thead>\n",
       "    <tr style=\"text-align: right;\">\n",
       "      <th></th>\n",
       "      <th>name</th>\n",
       "      <th>duration</th>\n",
       "    </tr>\n",
       "  </thead>\n",
       "  <tbody>\n",
       "    <tr>\n",
       "      <th>4464</th>\n",
       "      <td>Sea Drift</td>\n",
       "      <td>26.070000</td>\n",
       "    </tr>\n",
       "    <tr>\n",
       "      <th>12306</th>\n",
       "      <td>Tod und Verklärung Op.24, TrV 158</td>\n",
       "      <td>27.024000</td>\n",
       "    </tr>\n",
       "    <tr>\n",
       "      <th>2261</th>\n",
       "      <td>Rag Bhimpalasi: Alap, Jod, Jhala</td>\n",
       "      <td>41.074900</td>\n",
       "    </tr>\n",
       "    <tr>\n",
       "      <th>4395</th>\n",
       "      <td>Rag Bhimpalasi: Alap, Jod, Jhala</td>\n",
       "      <td>41.074900</td>\n",
       "    </tr>\n",
       "    <tr>\n",
       "      <th>3574</th>\n",
       "      <td>Rag Bhimpalasi</td>\n",
       "      <td>41.983333</td>\n",
       "    </tr>\n",
       "  </tbody>\n",
       "</table>\n",
       "</div>"
      ],
      "text/plain": [
       "                                    name   duration\n",
       "4464                           Sea Drift  26.070000\n",
       "12306  Tod und Verklärung Op.24, TrV 158  27.024000\n",
       "2261    Rag Bhimpalasi: Alap, Jod, Jhala  41.074900\n",
       "4395    Rag Bhimpalasi: Alap, Jod, Jhala  41.074900\n",
       "3574                      Rag Bhimpalasi  41.983333"
      ]
     },
     "execution_count": 6,
     "metadata": {},
     "output_type": "execute_result"
    }
   ],
   "source": [
    "print(pd.Series(full_history['duration']).describe())\n",
    "full_history.sort_values('duration')[['name', 'duration']].tail(5)"
   ]
  },
  {
   "cell_type": "markdown",
   "metadata": {},
   "source": [
    "During the average week, when do I listen to music?"
   ]
  },
  {
   "cell_type": "code",
   "execution_count": 7,
   "metadata": {},
   "outputs": [],
   "source": [
    "def _averageDatetimeFrequency(df, hour_inc):\n",
    "    hour_bins = np.arange(0, 24+hour_inc, hour_inc)\n",
    "    hour_labels = np.arange(hour_inc, 24+hour_inc, hour_inc)\n",
    "\n",
    "    df['time_bin'] = pd.cut(df['hour_decimal'], bins=hour_bins, labels=hour_labels)\n",
    "    \n",
    "    history_time_bivar = df.groupby(['weekday', 'time_bin'], axis=0)\n",
    "    return history_time_bivar.size().unstack().fillna(0)\n",
    "\n",
    "def plotAverageDatetimeFrequency(data, title='', fs=(12,5), hour_inc=0.5):\n",
    "    plt.subplots(figsize=fs)\n",
    "    plt.title('Average Listening Date-time Frequency{}'.format(title))\n",
    "    g = sns.heatmap(_averageDatetimeFrequency(data, hour_inc), cmap=\"Blues\", robust=True)\n",
    "    plt.xlabel('Time Bin')\n",
    "    plt.ylabel('Weekday')\n",
    "    g.set(yticklabels=['Mon', 'Tue', 'Wed', 'Thur', 'Fri', 'Sat', 'Sun']); # use ; to suppress output"
   ]
  },
  {
   "cell_type": "markdown",
   "metadata": {},
   "source": [
    "The heatmap below attempts to answer the above question. Darker squares are hours on a specific day of the week in whih I've listened to a lot of music. Notice the lack of 4am-6am, where I have never listened to music."
   ]
  },
  {
   "cell_type": "code",
   "execution_count": 8,
   "metadata": {},
   "outputs": [
    {
     "data": {
      "image/png": "[encoded data removed]",
      "text/plain": [
       "<matplotlib.figure.Figure at 0x1a10f334a8>"
      ]
     },
     "metadata": {},
     "output_type": "display_data"
    }
   ],
   "source": [
    "plotAverageDatetimeFrequency(full_history, hour_inc=1)"
   ]
  },
  {
   "cell_type": "code",
   "execution_count": null,
   "metadata": {},
   "outputs": [],
   "source": [
    "inc = 1\n",
    "\n",
    "hour_labels = np.arange(inc, 24+inc, inc)\n",
    "day_bins = np.arange(0,7)\n",
    "\n",
    "genres_matrix = []\n",
    "\n",
    "w = []\n",
    "for day in day_bins:\n",
    "    d = []\n",
    "    for hour in hour_labels:\n",
    "        genres = full_history.loc[(full_history['weekday'] == day) & (full_history['time_bin'] == hour), 'genres']\n",
    "        \n",
    "        if list(genres):\n",
    "            unique_genres, genres_counts = np.unique(list(itertools.chain(*genres.dropna())), return_counts=True)\n",
    "            i, = np.where(genres_counts==genres_counts.max())\n",
    "            i = i[0]\n",
    "            d.append(str(unique_genres[i]))\n",
    "        else:\n",
    "            d.append('none')\n",
    "    w.append(d)\n",
    "    \n",
    "d = pd.DataFrame(w)"
   ]
  },
  {
   "cell_type": "code",
   "execution_count": null,
   "metadata": {},
   "outputs": [],
   "source": [
    "u = np.unique(d)\n",
    "u = dict(zip(u, range(len(u))))\n",
    "d = d.replace(u)"
   ]
  },
  {
   "cell_type": "code",
   "execution_count": null,
   "metadata": {},
   "outputs": [],
   "source": [
    "fig, ax = plt.subplots(figsize=(16,10))\n",
    "im = plt.imshow(d, cmap='tab20b', aspect=3)\n",
    "\n",
    "cb = fig.colorbar(im)\n",
    "cb.set_ticks(list(u.values()))\n",
    "cb.set_ticklabels(list(u.keys()))  # put text labels on them\n",
    "\n",
    "# Major ticks\n",
    "ax.set_xticks(np.arange(0, 24, 1));\n",
    "ax.set_yticks(np.arange(0, 7, 1));\n",
    "\n",
    "# Minor ticks\n",
    "ax.set_xticks(np.arange(-.5, 23, 1), minor=True);\n",
    "ax.set_yticks(np.arange(-.5, 6, 1), minor=True);\n",
    "\n",
    "# Gridlines based on minor ticks\n",
    "ax.grid(which='minor', color='w', linestyle='-', linewidth=2)\n",
    "ax.grid(which='major', b=False)\n",
    "\n",
    "ax.set_yticklabels(['Mon', 'Tue', 'Wed', 'Thur', 'Fri', 'Sat', 'Sun'])\n",
    "\n",
    "plt.xlabel('Hour of the Day')\n",
    "plt.ylabel('Weekday');"
   ]
  },
  {
   "cell_type": "markdown",
   "metadata": {},
   "source": [
    "Are there artists I prefer at a certain time of day? Let's limit our search to artists who follow these requirements:\n",
    "\n",
    " 1. if we lay out all the hours of the day that I've listened to a song by that artist, we get a vector (or array) of hours (in decimal). We only consider artists that have at most 3 hours between the 25% quantile hour and the 75% quantile hour. This ensures artists are truly localized to a certain time of the day\n",
    " 2. out of all artists, let's find the 90% quantile of listen counts. In this case it happens to be 9 listens. We only consider artists that have an equivalent amount of listens or more than this. This ensures I actually do listen to this artist. We don't want some artist with only 2 listens being included in our results."
   ]
  },
  {
   "cell_type": "code",
   "execution_count": 9,
   "metadata": {},
   "outputs": [
    {
     "data": {
      "text/plain": [
       "(3.0, 10.0)"
      ]
     },
     "execution_count": 9,
     "metadata": {},
     "output_type": "execute_result"
    }
   ],
   "source": [
    "MAX_SPREAD = 3.0\n",
    "MIN_COUNT = np.percentile(artists['listens'], 90)\n",
    "MAX_SPREAD, MIN_COUNT"
   ]
  },
  {
   "cell_type": "code",
   "execution_count": 10,
   "metadata": {},
   "outputs": [],
   "source": [
    "def is_compact(arr):\n",
    "    prc25, prc75 = np.percentile(arr, [25, 75])\n",
    "    return (prc75 - prc25) <= MAX_SPREAD\n",
    "\n",
    "selected_artists = []\n",
    "\n",
    "for artist in artists.itertuples():\n",
    "    track_hours = []\n",
    "        \n",
    "    if artist.listens < MIN_COUNT: continue\n",
    "        \n",
    "    for track in full_history.itertuples():\n",
    "        if artist.id in track.artists:\n",
    "            track_hours.append(track.hour_decimal)\n",
    "            \n",
    "    if is_compact(track_hours):\n",
    "        selected_artists.append([artist.artist, artist.id, np.median(track_hours)])\n",
    "\n",
    "artists_dayhours = pd.DataFrame(selected_artists, columns=['artist', 'id', 'hour'])"
   ]
  },
  {
   "cell_type": "markdown",
   "metadata": {},
   "source": [
    "Interestingly, we see a handul of artists are in fact localized to a certain time of the day for me. For example, we see some classic rock bands (The Kinks, The Who) localized to the morning and afternoon. I have a tendency to listen to classical music before bed, hence Gould, Vivaldi, and Debussy all 9pm and later artists."
   ]
  },
  {
   "cell_type": "code",
   "execution_count": 11,
   "metadata": {},
   "outputs": [
    {
     "name": "stderr",
     "output_type": "stream",
     "text": [
      "/Users/alex/anaconda3/lib/python3.6/site-packages/seaborn/categorical.py:1460: FutureWarning: remove_na is deprecated and is a private function. Do not use.\n",
      "  stat_data = remove_na(group_data)\n"
     ]
    },
    {
     "data": {
      "text/plain": [
       "<matplotlib.axes._subplots.AxesSubplot at 0x1a10df2f28>"
      ]
     },
     "execution_count": 11,
     "metadata": {},
     "output_type": "execute_result"
    },
    {
     "data": {
      "image/png": "[encoded data removed]",
      "text/plain": [
       "<matplotlib.figure.Figure at 0x1a10e782b0>"
      ]
     },
     "metadata": {},
     "output_type": "display_data"
    }
   ],
   "source": [
    "a = artists_dayhours.sort_values('hour')\n",
    "plt.subplots(figsize=(6,10))\n",
    "plt.xlim([0,24])\n",
    "sns.barplot(a['hour'], a['artist'], orient='h', palette='summer')"
   ]
  },
  {
   "cell_type": "markdown",
   "metadata": {},
   "source": [
    "When I listen to music, how much do I listen to? We create the idea of a listening *cluster*, which is a period of time in which I listened to consecutive music. In one cluster, I might listen to just a single song, or 20 songs back-to-back, or a few hours of music on end.\n",
    "\n",
    "We examine this by creating clusters which depend on the time between one song at time $t_i$ and the next song at time $t_{i+1}$, and comparing this value to the duration of the song at $t_i$ plus some time extension. This extension allows little breaks in listening to be had (e.g. pausing in the middle of the song for a minute), but still allows it to continue the chain of songs.\n",
    "\n",
    "$$C = \\{t\\in T \\mid t_{i+1} - t_i < \\epsilon \\textrm{ and } t_i \\leq t_{i+1}\\}$$\n",
    "\n",
    "where $T$ is the set of all song timestamps, and $t_i$ is the timestamp of some song such that the timestamp $t_{i+1}$ occurs next, $t_i \\leq t_{i+1}$. $\\Delta$ is equal to the duration of the song at time $t_i$ and $\\epsilon$ is the cluster width extension variable ($\\epsilon > 0$). Various cluster width extensions are shown in the graph below. A cluster $C$ is the set such that $\\Delta + \\epsilon$ is greater than the amount of time between the timestamps $t_{i+1}$ and $t_i$.\n",
    "\n",
    "The results resemble a logarithmic graph, and are somewhat linear when log transformed. When the cluster width extension, $\\epsilon$, is 5 minutes, the average cluster duration is about 36 minutes. This is interpreted as, if we consider a grouping of listening to occur when one song is played within five minutes of the end of the previous song, I will listen for about 36 minutes. After that, I'll take a break of at least five minutes."
   ]
  },
  {
   "cell_type": "code",
   "execution_count": 12,
   "metadata": {},
   "outputs": [],
   "source": [
    "full_history['timestamp_64'] = pd.DatetimeIndex(full_history['timestamp']).view('int64') // pd.Timedelta(1, unit='s')\n",
    "T = full_history.copy()\n",
    "T = T.sort_values('timestamp_64', ascending=True)\n",
    "T = T.reset_index(drop=True)\n",
    "\n",
    "t_i1 = np.array(T.loc[1:, 'timestamp_64'])\n",
    "t_i = np.array(T.loc[:len(T)-2, 'timestamp_64'])\n",
    "raw_deltas = t_i1 - t_i\n",
    "\n",
    "T.drop(0, axis=0, inplace=True)\n",
    "T.loc[:, 'duration'] *= 60\n",
    "T.loc[:, 'delta'] = np.array(raw_deltas)\n",
    "# duration is the song duration in seconds\n",
    "# delta is the number of seconds from the ith to the (i+1)th record"
   ]
  },
  {
   "cell_type": "code",
   "execution_count": 13,
   "metadata": {},
   "outputs": [],
   "source": [
    "cluster_means = []\n",
    "MAXIMUM_GAPS = np.arange(0,20)\n",
    "\n",
    "for MAXIMUM_GAP in MAXIMUM_GAPS:\n",
    "    clusters = []\n",
    "    current_cluster = 0\n",
    "    for row in T.itertuples():\n",
    "        \n",
    "        current_cluster += row.duration\n",
    "        \n",
    "        if row.delta > (MAXIMUM_GAP * 60):\n",
    "            clusters.append(current_cluster)\n",
    "            current_cluster = 0\n",
    "            \n",
    "    clusters.append(current_cluster)\n",
    "    clusters = pd.Series(clusters) / 60\n",
    "    cluster_means.append(round(np.mean(clusters), 1))"
   ]
  },
  {
   "cell_type": "markdown",
   "metadata": {},
   "source": [
    "We see that as we increase the gap of time between one song and the song after, the clusters get longer and longer until the increase in cluster duration becomes linear. As interpretation: if we cluster together all songs that are at most 5 minutes apart, the average cluster of music is 20.9 minutes. At a 15 minute extension, clusters become 56 minutes long on average."
   ]
  },
  {
   "cell_type": "code",
   "execution_count": 14,
   "metadata": {},
   "outputs": [
    {
     "name": "stdout",
     "output_type": "stream",
     "text": [
      "3.8768297957522586\n"
     ]
    },
    {
     "data": {
      "text/plain": [
       "0      3.9\n",
       "1      4.0\n",
       "2      4.4\n",
       "3      6.6\n",
       "4     12.6\n",
       "5     21.1\n",
       "6     29.3\n",
       "7     35.1\n",
       "8     39.5\n",
       "9     43.9\n",
       "10    46.8\n",
       "11    48.9\n",
       "12    51.4\n",
       "13    53.3\n",
       "14    55.1\n",
       "15    56.5\n",
       "16    57.8\n",
       "17    58.8\n",
       "18    60.0\n",
       "19    61.2\n",
       "dtype: float64"
      ]
     },
     "execution_count": 14,
     "metadata": {},
     "output_type": "execute_result"
    },
    {
     "data": {
      "image/png": "[encoded data removed]",
      "text/plain": [
       "<matplotlib.figure.Figure at 0x1a10de2438>"
      ]
     },
     "metadata": {},
     "output_type": "display_data"
    }
   ],
   "source": [
    "plt.xlabel('Cluster Width Extension, $\\epsilon$, (minutes)')\n",
    "plt.ylabel('Mean Cluster Durations (minutes)')\n",
    "plt.scatter(x=MAXIMUM_GAPS, y=cluster_means)\n",
    "print(np.mean(T.duration)/60)\n",
    "pd.Series(cluster_means, index=MAXIMUM_GAPS)"
   ]
  },
  {
   "cell_type": "markdown",
   "metadata": {},
   "source": [
    "What's the probability I'll play another song?\n",
    "\n",
    "Let $X_t$ be the event that the $t^{th}$ song is played.\n",
    "\n",
    "$$\n",
    "P(X_t|X_{t-1}\\cap...\\cap X_0) = \\frac{P(X_t\\cap X_{t-1} \\cap...\\cap X_0)}{P(X_{t-1}\\cap...\\cap X_0)}\n",
    "$$\n",
    "\n",
    "The probability that I play one song is 1.0 due to the structure of the problem.\n",
    "\n",
    "$$\n",
    "P(X_0) = 1.0\n",
    "$$\n",
    "\n",
    "The probability that we listen the next song is \n",
    "\n",
    "$$\n",
    "P(X_1|X_0) = \\frac{P(X_1 \\cap X_0)}{P(X_0)} = \n",
    "$$"
   ]
  },
  {
   "cell_type": "code",
   "execution_count": 159,
   "metadata": {},
   "outputs": [],
   "source": [
    "ts = T['timestamp_64'].values\n",
    "\n",
    "\n",
    "reach = 60 * 6\n",
    "rng = np.zeros(100)\n",
    "\n",
    "current = 0\n",
    "\n",
    "total = 0\n",
    "\n",
    "for i in range(len(ts)-2):\n",
    "#     print(f'{i} to {i+1} \\t  {ts[i+1] - ts[i] <= reach}')\n",
    "    total += 1\n",
    "    if ts[i+1] - ts[i] <= reach:\n",
    "        current += 1\n",
    "        rng[:current+1] += 1\n",
    "    else:\n",
    "        current = 0"
   ]
  },
  {
   "cell_type": "code",
   "execution_count": 160,
   "metadata": {},
   "outputs": [
    {
     "name": "stderr",
     "output_type": "stream",
     "text": [
      "/Users/alex/anaconda3/lib/python3.6/site-packages/ipykernel_launcher.py:4: RuntimeWarning: invalid value encountered in double_scalars\n",
      "  after removing the cwd from sys.path.\n"
     ]
    },
    {
     "data": {
      "image/png": "[encoded data removed]",
      "text/plain": [
       "<matplotlib.figure.Figure at 0x1a0fa36908>"
      ]
     },
     "metadata": {},
     "output_type": "display_data"
    }
   ],
   "source": [
    "rng[0] = total\n",
    "probs = rng / total\n",
    "\n",
    "p = np.array([(probs[i+1] / probs[i]) for i in range(len(rng) - 1)])\n",
    "plt.subplots(figsize=(8,6))\n",
    "plt.ylabel(r'$P(X_t | X0 \\cap ... \\cap X_{t-1})$')\n",
    "plt.xlabel('t')\n",
    "plt.plot(range(len(rng) - 1), p);"
   ]
  },
  {
   "cell_type": "code",
   "execution_count": 161,
   "metadata": {},
   "outputs": [
    {
     "data": {
      "text/plain": [
       "array([ 0.86757196,  0.87130435,  0.87678489,  0.88372297,  0.88853661,\n",
       "        0.89328724,  0.89539383,  0.89641712,  0.89766719,  0.90003465,\n",
       "        0.9012512 ,  0.9015378 ,  0.90334044,  0.90427485,  0.90487239,\n",
       "        0.90512821,  0.9026204 ,  0.90388388,  0.90494792,  0.9059952 ,\n",
       "        0.90524087,  0.90409357,  0.89909444,  0.90071942,  0.89936102,\n",
       "        0.89698046,  0.8990099 ,  0.90198238,  0.9047619 ,  0.90418354,\n",
       "        0.90149254,  0.89900662,  0.89686924,  0.89938398,  0.89726027,\n",
       "        0.8956743 ,  0.90056818,  0.89274448,  0.8869258 ,  0.88446215,\n",
       "        0.88738739,  0.89847716,  0.89265537,  0.87974684,  0.89928058,\n",
       "        0.896     ,  0.89285714,  0.89      ,  0.87640449,  0.8974359 ,\n",
       "        0.9       ,  0.88888889,  0.91071429,  0.90196078,  0.91304348,\n",
       "        0.9047619 ,  0.89473684,  0.88235294,  0.9       ,  0.88888889,\n",
       "        0.875     ,  0.85714286,  0.88888889,  0.875     ,  0.85714286,\n",
       "        0.83333333,  0.9       ,  0.88888889,  0.875     ,  0.85714286,\n",
       "        0.83333333,  0.8       ,  0.75      ,  0.66666667,  0.5       ,  0.        ])"
      ]
     },
     "execution_count": 161,
     "metadata": {},
     "output_type": "execute_result"
    }
   ],
   "source": [
    "p[~np.isnan(p)]"
   ]
  },
  {
   "cell_type": "code",
   "execution_count": 162,
   "metadata": {},
   "outputs": [
    {
     "data": {
      "image/png": "[encoded data removed]",
      "text/plain": [
       "<matplotlib.figure.Figure at 0x1a11033ef0>"
      ]
     },
     "metadata": {},
     "output_type": "display_data"
    }
   ],
   "source": [
    "plt.plot(range(len(rng[rng > 0])-1), (rng[rng > 0][1:] - rng[rng > 0][:-1]) / rng[rng > 0][:-1])\n",
    "plt.ylim([-0.5, 0]);"
   ]
  },
  {
   "cell_type": "code",
   "execution_count": 164,
   "metadata": {},
   "outputs": [
    {
     "data": {
      "text/plain": [
       "[17232.0,\n",
       " 14950.0,\n",
       " 13026.0,\n",
       " 11421.0,\n",
       " 10093.0,\n",
       " 8968.0,\n",
       " 8011.0,\n",
       " 7173.0,\n",
       " 6430.0,\n",
       " 5772.0,\n",
       " 5195.0,\n",
       " 4682.0,\n",
       " 4221.0,\n",
       " 3813.0,\n",
       " 3448.0,\n",
       " 3120.0,\n",
       " 2824.0,\n",
       " 2549.0,\n",
       " 2304.0,\n",
       " 2085.0,\n",
       " 1889.0,\n",
       " 1710.0,\n",
       " 1546.0,\n",
       " 1390.0,\n",
       " 1252.0,\n",
       " 1126.0,\n",
       " 1010.0,\n",
       " 908.0,\n",
       " 819.0,\n",
       " 741.0,\n",
       " 670.0,\n",
       " 604.0,\n",
       " 543.0,\n",
       " 487.0,\n",
       " 438.0,\n",
       " 393.0,\n",
       " 352.0,\n",
       " 317.0,\n",
       " 283.0,\n",
       " 251.0,\n",
       " 222.0,\n",
       " 197.0,\n",
       " 177.0,\n",
       " 158.0,\n",
       " 139.0,\n",
       " 125.0,\n",
       " 112.0,\n",
       " 100.0,\n",
       " 89.0,\n",
       " 78.0,\n",
       " 70.0,\n",
       " 63.0,\n",
       " 56.0,\n",
       " 51.0,\n",
       " 46.0,\n",
       " 42.0,\n",
       " 38.0,\n",
       " 34.0,\n",
       " 30.0,\n",
       " 27.0,\n",
       " 24.0,\n",
       " 21.0,\n",
       " 18.0,\n",
       " 16.0,\n",
       " 14.0,\n",
       " 12.0,\n",
       " 10.0,\n",
       " 9.0,\n",
       " 8.0,\n",
       " 7.0,\n",
       " 6.0,\n",
       " 5.0,\n",
       " 4.0,\n",
       " 3.0,\n",
       " 2.0,\n",
       " 1.0,\n",
       " 0.0,\n",
       " 0.0,\n",
       " 0.0,\n",
       " 0.0,\n",
       " 0.0,\n",
       " 0.0,\n",
       " 0.0,\n",
       " 0.0,\n",
       " 0.0,\n",
       " 0.0,\n",
       " 0.0,\n",
       " 0.0,\n",
       " 0.0,\n",
       " 0.0,\n",
       " 0.0,\n",
       " 0.0,\n",
       " 0.0,\n",
       " 0.0,\n",
       " 0.0,\n",
       " 0.0,\n",
       " 0.0,\n",
       " 0.0,\n",
       " 0.0,\n",
       " 0.0]"
      ]
     },
     "execution_count": 164,
     "metadata": {},
     "output_type": "execute_result"
    }
   ],
   "source": [
    "list(rng)"
   ]
  },
  {
   "cell_type": "code",
   "execution_count": null,
   "metadata": {},
   "outputs": [],
   "source": []
  }
 ],
 "metadata": {
  "kernelspec": {
   "display_name": "Python 3",
   "language": "python",
   "name": "python3"
  },
  "language_info": {
   "codemirror_mode": {
    "name": "ipython",
    "version": 3
   },
   "file_extension": ".py",
   "mimetype": "text/x-python",
   "name": "python",
   "nbconvert_exporter": "python",
   "pygments_lexer": "ipython3",
   "version": "3.6.3"
  }
 },
 "nbformat": 4,
 "nbformat_minor": 2
}
