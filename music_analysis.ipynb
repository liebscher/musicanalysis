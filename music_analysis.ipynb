{
 "cells": [
  {
   "cell_type": "code",
   "execution_count": null,
   "metadata": {},
   "outputs": [],
   "source": [
    "total_hours = full_history['duration_ms'].sum()/(1000.0*60.0*60.0)\n",
    "print('Total hours: {:0.3f}'.format(total_hours))\n",
    "\n",
    "hours_per_day = total_hours/(full_history['timestamp'].max() - full_history['timestamp'].min()).days\n",
    "print('Hours/day: {:0.1f}'.format(hours_per_day))\n",
    "\n",
    "avg_song_duration = full_history['duration_ms'].mean()\n",
    "print('Average songs/day: {:0.0f}'.format(hours_per_day/(avg_song_duration/(1000.0*60.0*60.0))))"
   ]
  },
  {
   "cell_type": "code",
   "execution_count": null,
   "metadata": {},
   "outputs": [],
   "source": [
    "print('Unique tracks:\\t{}'.format(len(full_history['id'].unique())))\n",
    "print('Unique artists:\\t{}'.format(len(stitched_artists['id'].unique())))\n",
    "print('Unique genres:\\t{}'.format(len(genre_df['genre'].unique())))"
   ]
  },
  {
   "cell_type": "code",
   "execution_count": null,
   "metadata": {},
   "outputs": [],
   "source": []
  },
  {
   "cell_type": "code",
   "execution_count": null,
   "metadata": {},
   "outputs": [],
   "source": [
    "track_df = full_history.groupby(['id', 'name']).size().sort_values(ascending=False)[:25]\n",
    "plt.subplots(figsize=(18,6))\n",
    "names = track_df.index.get_level_values('name')\n",
    "g = sns.barplot(x=names, y=track_df.values)\n",
    "g.set_xticklabels(g.get_xticklabels(), rotation=30, horizontalalignment='right');"
   ]
  },
  {
   "cell_type": "code",
   "execution_count": null,
   "metadata": {},
   "outputs": [],
   "source": []
  },
  {
   "cell_type": "code",
   "execution_count": null,
   "metadata": {},
   "outputs": [],
   "source": []
  },
  {
   "cell_type": "code",
   "execution_count": null,
   "metadata": {},
   "outputs": [],
   "source": []
  },
  {
   "cell_type": "code",
   "execution_count": null,
   "metadata": {},
   "outputs": [],
   "source": []
  },
  {
   "cell_type": "code",
   "execution_count": null,
   "metadata": {},
   "outputs": [],
   "source": []
  },
  {
   "cell_type": "code",
   "execution_count": null,
   "metadata": {},
   "outputs": [],
   "source": [
    "timestamp_index_history = single_genre_full_history.set_index(keys='timestamp')\n",
    "classical_dens = np.zeros(3)\n",
    "classical_dens[0] = len(timestamp_index_history.between_time('6:00AM', '12:00PM'))\n",
    "classical_dens[1] = len(timestamp_index_history.between_time('12:00PM', '6:00PM'))\n",
    "classical_dens[2] = len(timestamp_index_history.between_time('6:00PM', '12:00AM'))\n",
    "print('expected f: ' + str(classical_dens.sum() / 3 / 6))\n",
    "print('observed f: ' + str(classical_dens / 6))"
   ]
  },
  {
   "cell_type": "markdown",
   "metadata": {},
   "source": [
    "I show a significant preference for listening to classical music in the morning, afternoon, or evening, &Chi;<sup>2</sup> (2, n=453) = 16.142, p < .005."
   ]
  },
  {
   "cell_type": "code",
   "execution_count": null,
   "metadata": {},
   "outputs": [],
   "source": [
    "hour_inc = 1.0\n",
    "hour_bins = np.arange(0, 24, hour_inc)\n",
    "hour_labels = np.arange(hour_inc, 24, hour_inc)\n",
    "\n",
    "full_history_temp = full_history\n",
    "\n",
    "full_history_temp['time_bin'] = pd.cut(full_history_temp['hour_decimal'], bins=hour_bins, labels=hour_labels)\n",
    "\n",
    "history_time_bivar = full_history_temp.groupby('time_bin', axis=0)\n",
    "m = history_time_bivar['duration_ms'].mean()\n",
    "s = history_time_bivar['duration_ms'].size()\n",
    "plt.subplots(figsize=(10,4))\n",
    "g = sns.barplot(x=m.index, y=m.values, hue=s.values, palette='Blues')\n",
    "g.legend_.remove()"
   ]
  },
  {
   "cell_type": "code",
   "execution_count": null,
   "metadata": {},
   "outputs": [],
   "source": []
  }
 ],
 "metadata": {
  "kernelspec": {
   "display_name": "Python 3",
   "language": "python",
   "name": "python3"
  },
  "language_info": {
   "codemirror_mode": {
    "name": "ipython",
    "version": 3
   },
   "file_extension": ".py",
   "mimetype": "text/x-python",
   "name": "python",
   "nbconvert_exporter": "python",
   "pygments_lexer": "ipython3",
   "version": "3.6.3"
  }
 },
 "nbformat": 4,
 "nbformat_minor": 2
}
