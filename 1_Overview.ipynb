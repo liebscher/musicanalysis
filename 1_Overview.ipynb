{
 "cells": [
  {
   "cell_type": "markdown",
   "metadata": {},
   "source": [
    "# Questions\n",
    "\n",
    "* What kind of music do I listen to?\n",
    "    - Genre, mood, and artist\n",
    "    - How diverse is my music collection?\n",
    "    - What do I listen to the most of?\n",
    "* When do I listen to music?\n",
    "    - Are there periods where I only listen to one type of music? where I never listen to a type of music?\n",
    "    - Do I prefer to listen at a certain day or time? For a specific amount of time?\n",
    "* What music do I actually like?\n",
    "    - Just because I listen to it, doesn't mean I like it. What qualifies as a song I like?\n",
    "* Do I prefer to listen to familiar songs or to discover new songs?\n",
    "    - Go-to and hidden favorite song and artist\n",
    "    - How many tracks do my top 10% of artists represent?\n",
    "* Is my music mainstream?\n",
    "    - In terms of popularity, duration, artists?\n",
    "    \n",
    "Becuase the data are time dependent, we cannot assume individual samples are independent from one another. \n",
    "\n",
    "https://github.com/medennikova/itunes-music-analysis\n",
    "\n",
    "https://dev.to/ericbonfadini/finding-my-new-favorite-song-on-spotify-4lgc\n",
    "\n",
    "http://geoffboeing.com/2016/05/analyzing-lastfm-history/\n",
    "\n",
    "https://medium.com/mlreview/spotify-analyzing-and-predicting-songs-58827a0fa42b\n",
    "\n",
    "https://hotonehundo.com/2018/02/20/advanced-scrobbling-stats-part-ii/\n",
    "\n",
    "http://tamaszilagyi.com/blog/analyzing-my-spotify-listening-history/\n",
    "\n",
    "https://medium.com/cuepoint/visualizing-hundreds-of-my-favorite-songs-on-spotify-fe50c94b8af3\n",
    "\n",
    "https://qz.com/571007/the-magic-that-makes-spotifys-discover-weekly-playlists-so-damn-good/\n",
    "\n",
    "https://papers.nips.cc/paper/5004-deep-content-based-music-recommendation.pdf"
   ]
  },
  {
   "cell_type": "code",
   "execution_count": null,
   "metadata": {},
   "outputs": [],
   "source": []
  }
 ],
 "metadata": {
  "kernelspec": {
   "display_name": "Python 3",
   "language": "python",
   "name": "python3"
  },
  "language_info": {
   "codemirror_mode": {
    "name": "ipython",
    "version": 3
   },
   "file_extension": ".py",
   "mimetype": "text/x-python",
   "name": "python",
   "nbconvert_exporter": "python",
   "pygments_lexer": "ipython3",
   "version": "3.6.3"
  }
 },
 "nbformat": 4,
 "nbformat_minor": 2
}
