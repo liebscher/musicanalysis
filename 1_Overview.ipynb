{
 "cells": [
  {
   "cell_type": "markdown",
   "metadata": {},
   "source": [
    "# Questions\n",
    "\n",
    "I love talking about music: learning about new artists and songs, discussing albums, and debating the lyrics of music. I might argue that my taste in music defines my friend-circle to some degree. When I meet new people, often times one of the first questions I'll ask is, \"So what kind of music do you listen to?\" or \"Who are your top three artists right now?\" Music can tell you a lot about a person, and I take this to heart. Hence, this project is an attempt to understand *me* a little better. Here are some guiding questions that I want to try to answer:\n",
    "\n",
    "1. **What music do I listen to?**\n",
    "    - Top genres, artists, and songs\n",
    "    - What's the mood like?\n",
    "    - How long is my music?\n",
    "    - How diverse is my music collection?\n",
    "    - What do I listen to the most of?\n",
    "2. **When do I listen to music?**\n",
    "    - Are there periods where I only listen to one type of music? where I never listen to a type of music?\n",
    "    - Do I prefer to listen at a certain day or time? For a specific amount of time?\n",
    "3. **What music do I actually like?**\n",
    "    - Just because I listen to it, doesn't mean I like it. What qualifies as a song I like?\n",
    "4. **Do I prefer to listen to familiar songs or to discover new songs?**\n",
    "    - Go-to and hidden favorite song and artist\n",
    "    - How many tracks do my top 10% of artists represent?\n",
    "5. **Is my music mainstream?**\n",
    "    - In terms of popularity, duration, artists?\n",
    "    \n",
    "### Resources/Inspiration\n",
    "\n",
    "1. https://github.com/medennikova/itunes-music-analysis\n",
    "2. https://dev.to/ericbonfadini/finding-my-new-favorite-song-on-spotify-4lgc\n",
    "3. http://geoffboeing.com/2016/05/analyzing-lastfm-history/\n",
    "4. https://medium.com/mlreview/spotify-analyzing-and-predicting-songs-58827a0fa42b\n",
    "5. https://hotonehundo.com/2018/02/20/advanced-scrobbling-stats-part-ii/\n",
    "6. http://tamaszilagyi.com/blog/analyzing-my-spotify-listening-history/\n",
    "7. https://medium.com/cuepoint/visualizing-hundreds-of-my-favorite-songs-on-spotify-fe50c94b8af3\n",
    "8. https://qz.com/571007/the-magic-that-makes-spotifys-discover-weekly-playlists-so-damn-good/\n",
    "9. https://papers.nips.cc/paper/5004-deep-content-based-music-recommendation.pdf"
   ]
  },
  {
   "cell_type": "code",
   "execution_count": null,
   "metadata": {},
   "outputs": [],
   "source": []
  }
 ],
 "metadata": {
  "kernelspec": {
   "display_name": "Python 3",
   "language": "python",
   "name": "python3"
  },
  "language_info": {
   "codemirror_mode": {
    "name": "ipython",
    "version": 3
   },
   "file_extension": ".py",
   "mimetype": "text/x-python",
   "name": "python",
   "nbconvert_exporter": "python",
   "pygments_lexer": "ipython3",
   "version": "3.6.3"
  }
 },
 "nbformat": 4,
 "nbformat_minor": 2
}
