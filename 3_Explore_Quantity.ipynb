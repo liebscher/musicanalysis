{
 "cells": [
  {
   "cell_type": "code",
   "execution_count": 1,
   "metadata": {},
   "outputs": [],
   "source": [
    "import pandas as pd\n",
    "from pandas import Timestamp\n",
    "import numpy as np\n",
    "import scipy.stats as stats\n",
    "from datetime import datetime\n",
    "from pytz import timezone\n",
    "\n",
    "import itertools\n",
    "\n",
    "import seaborn as sns\n",
    "import matplotlib.pyplot as plt\n",
    "from matplotlib import colors\n",
    "%matplotlib inline\n",
    "\n",
    "sns.set_style('whitegrid')\n",
    "pd.set_option('display.max_columns', 100)"
   ]
  },
  {
   "cell_type": "code",
   "execution_count": 2,
   "metadata": {},
   "outputs": [],
   "source": [
    "full_history = pd.read_json('data/history_comp.json')\n",
    "\n",
    "if full_history['timestamp'].max().tz is None:\n",
    "    full_history['timestamp'] = pd.to_datetime(full_history['timestamp'], utc=True)\n",
    "    full_history['timestamp'] = full_history['timestamp'].apply(lambda t: t.tz_convert('US/Pacific'))\n",
    "\n",
    "full_history = full_history.drop('index', axis=1)"
   ]
  },
  {
   "cell_type": "markdown",
   "metadata": {},
   "source": [
    "As shown below, for every 2 songs listened to, 1 of them is unique and new to my music catalog."
   ]
  },
  {
   "cell_type": "code",
   "execution_count": 4,
   "metadata": {},
   "outputs": [
    {
     "data": {
      "text/plain": [
       "2.065061107117182"
      ]
     },
     "execution_count": 4,
     "metadata": {},
     "output_type": "execute_result"
    }
   ],
   "source": [
    "def get_unique():\n",
    "    drop_cols = ['timestamp']\n",
    "    if 'weekday' in full_history.columns:\n",
    "        drop_cols.extend(['weekday', 'hour_decimal'])\n",
    "        \n",
    "    unique_history = full_history.drop(drop_cols, axis=1)\n",
    "    return unique_history.drop_duplicates('id')\n",
    "\n",
    "len(full_history)/len(get_unique())"
   ]
  },
  {
   "cell_type": "markdown",
   "metadata": {},
   "source": [
    "Here is a sample of artists. In addition to the a priori known name, we have followers, genres, and popularity of each artist."
   ]
  },
  {
   "cell_type": "code",
   "execution_count": 5,
   "metadata": {},
   "outputs": [
    {
     "data": {
      "text/html": [
       "<div>\n",
       "<style scoped>\n",
       "    .dataframe tbody tr th:only-of-type {\n",
       "        vertical-align: middle;\n",
       "    }\n",
       "\n",
       "    .dataframe tbody tr th {\n",
       "        vertical-align: top;\n",
       "    }\n",
       "\n",
       "    .dataframe thead th {\n",
       "        text-align: right;\n",
       "    }\n",
       "</style>\n",
       "<table border=\"1\" class=\"dataframe\">\n",
       "  <thead>\n",
       "    <tr style=\"text-align: right;\">\n",
       "      <th></th>\n",
       "      <th>artist</th>\n",
       "      <th>followers</th>\n",
       "      <th>genres</th>\n",
       "      <th>id</th>\n",
       "      <th>popularity</th>\n",
       "    </tr>\n",
       "  </thead>\n",
       "  <tbody>\n",
       "    <tr>\n",
       "      <th>291</th>\n",
       "      <td>Oasis</td>\n",
       "      <td>2392763</td>\n",
       "      <td>[britpop, modern rock, permanent wave, rock]</td>\n",
       "      <td>2DaxqgrOhkeH0fpeiQq2f4</td>\n",
       "      <td>81</td>\n",
       "    </tr>\n",
       "    <tr>\n",
       "      <th>4524</th>\n",
       "      <td>TOY</td>\n",
       "      <td>17586</td>\n",
       "      <td>[chamber psych]</td>\n",
       "      <td>0b0uhvUEeiD6y0XHVw3mRA</td>\n",
       "      <td>33</td>\n",
       "    </tr>\n",
       "    <tr>\n",
       "      <th>2623</th>\n",
       "      <td>Chicago Symphony Chorus</td>\n",
       "      <td>207</td>\n",
       "      <td>[]</td>\n",
       "      <td>18PZhbpywoKUnS1nCmXIPK</td>\n",
       "      <td>29</td>\n",
       "    </tr>\n",
       "    <tr>\n",
       "      <th>3260</th>\n",
       "      <td>Cigarettes After Sex</td>\n",
       "      <td>464285</td>\n",
       "      <td>[]</td>\n",
       "      <td>1QAJqy2dA3ihHBFIHRphZj</td>\n",
       "      <td>70</td>\n",
       "    </tr>\n",
       "    <tr>\n",
       "      <th>3531</th>\n",
       "      <td>The Offspring</td>\n",
       "      <td>2258346</td>\n",
       "      <td>[alternative metal, permanent wave, pop punk, ...</td>\n",
       "      <td>5LfGQac0EIXyAN8aUwmNAQ</td>\n",
       "      <td>76</td>\n",
       "    </tr>\n",
       "  </tbody>\n",
       "</table>\n",
       "</div>"
      ],
      "text/plain": [
       "                       artist  followers  \\\n",
       "291                     Oasis    2392763   \n",
       "4524                      TOY      17586   \n",
       "2623  Chicago Symphony Chorus        207   \n",
       "3260     Cigarettes After Sex     464285   \n",
       "3531            The Offspring    2258346   \n",
       "\n",
       "                                                 genres  \\\n",
       "291        [britpop, modern rock, permanent wave, rock]   \n",
       "4524                                    [chamber psych]   \n",
       "2623                                                 []   \n",
       "3260                                                 []   \n",
       "3531  [alternative metal, permanent wave, pop punk, ...   \n",
       "\n",
       "                          id  popularity  \n",
       "291   2DaxqgrOhkeH0fpeiQq2f4          81  \n",
       "4524  0b0uhvUEeiD6y0XHVw3mRA          33  \n",
       "2623  18PZhbpywoKUnS1nCmXIPK          29  \n",
       "3260  1QAJqy2dA3ihHBFIHRphZj          70  \n",
       "3531  5LfGQac0EIXyAN8aUwmNAQ          76  "
      ]
     },
     "execution_count": 5,
     "metadata": {},
     "output_type": "execute_result"
    }
   ],
   "source": [
    "artists = pd.read_json('data/artist_info.json')\n",
    "artists.sample(5)"
   ]
  },
  {
   "cell_type": "markdown",
   "metadata": {},
   "source": [
    "### Visualizing Feature Space\n",
    "\n",
    "Below we visualize the distributions of each feature. Pay close attention because we do make some modifications on a per-feature basis. These are designed to reduce error down the road."
   ]
  },
  {
   "cell_type": "code",
   "execution_count": 6,
   "metadata": {},
   "outputs": [],
   "source": [
    "def hist(X, xlim, bins=14):\n",
    "    plt.xlim(xlim)\n",
    "    N, bins, patches = plt.hist(X, bins=bins)\n",
    "\n",
    "    fracs = N / N.max()\n",
    "\n",
    "    norm = colors.Normalize(fracs.min(), fracs.max())\n",
    "\n",
    "    for frac, patch in zip(fracs, patches):\n",
    "        color = plt.cm.coolwarm(norm(frac))\n",
    "        patch.set_facecolor(color)"
   ]
  },
  {
   "cell_type": "markdown",
   "metadata": {},
   "source": [
    "### Acousticness\n",
    "\n",
    "A confidence measure from 0.0 to 1.0 of whether the track is acoustic. 1.0 represents high confidence the track is acoustic."
   ]
  },
  {
   "cell_type": "code",
   "execution_count": 7,
   "metadata": {},
   "outputs": [
    {
     "data": {
      "text/plain": [
       "count    17235.000000\n",
       "mean         0.296889\n",
       "std          0.310711\n",
       "min          0.000003\n",
       "25%          0.035900\n",
       "50%          0.173000\n",
       "75%          0.493000\n",
       "max          0.996000\n",
       "Name: acousticness, dtype: float64"
      ]
     },
     "execution_count": 7,
     "metadata": {},
     "output_type": "execute_result"
    },
    {
     "data": {
      "image/png": "[encoded data removed]",
      "text/plain": [
       "<matplotlib.figure.Figure at 0x1104d8d68>"
      ]
     },
     "metadata": {},
     "output_type": "display_data"
    }
   ],
   "source": [
    "hist(full_history['acousticness'], [0,1])\n",
    "full_history['acousticness'].describe()"
   ]
  },
  {
   "cell_type": "markdown",
   "metadata": {},
   "source": [
    "### Danceability\n",
    "\n",
    "Danceability describes how suitable a track is for dancing based on a combination of musical elements including tempo, rhythm stability, beat strength, and overall regularity. A value of 0.0 is least danceable and 1.0 is most danceable."
   ]
  },
  {
   "cell_type": "code",
   "execution_count": 8,
   "metadata": {},
   "outputs": [
    {
     "data": {
      "text/plain": [
       "count    17235.000000\n",
       "mean         0.599629\n",
       "std          0.170962\n",
       "min          0.000000\n",
       "25%          0.483000\n",
       "50%          0.609000\n",
       "75%          0.729000\n",
       "max          0.984000\n",
       "Name: danceability, dtype: float64"
      ]
     },
     "execution_count": 8,
     "metadata": {},
     "output_type": "execute_result"
    },
    {
     "data": {
      "image/png": "[encoded data removed]",
      "text/plain": [
       "<matplotlib.figure.Figure at 0x1104d78d0>"
      ]
     },
     "metadata": {},
     "output_type": "display_data"
    }
   ],
   "source": [
    "hist(full_history['danceability'], [0,1])\n",
    "full_history['danceability'].describe()"
   ]
  },
  {
   "cell_type": "markdown",
   "metadata": {},
   "source": [
    "### Duration\n",
    "\n",
    "The duration of the track in milliseconds. Convert the duration to floating-point minutes."
   ]
  },
  {
   "cell_type": "code",
   "execution_count": 9,
   "metadata": {},
   "outputs": [
    {
     "data": {
      "text/plain": [
       "count    17235.000000\n",
       "mean         3.876867\n",
       "std          1.448328\n",
       "min          0.528667\n",
       "25%          3.139500\n",
       "50%          3.665033\n",
       "75%          4.348950\n",
       "max         41.983333\n",
       "Name: duration, dtype: float64"
      ]
     },
     "execution_count": 9,
     "metadata": {},
     "output_type": "execute_result"
    },
    {
     "data": {
      "image/png": "[encoded data removed]",
      "text/plain": [
       "<matplotlib.figure.Figure at 0x1104d8d30>"
      ]
     },
     "metadata": {},
     "output_type": "display_data"
    }
   ],
   "source": [
    "full_history['duration'] = full_history['duration_ms'] / 1000 / 60\n",
    "hist(full_history['duration'], [0,45], 25)\n",
    "full_history['duration'].describe()"
   ]
  },
  {
   "cell_type": "code",
   "execution_count": 10,
   "metadata": {},
   "outputs": [],
   "source": [
    "full_history = full_history.drop('duration_ms', axis=1)"
   ]
  },
  {
   "cell_type": "markdown",
   "metadata": {},
   "source": [
    "### Energy\n",
    "\n",
    "Energy is a measure from 0.0 to 1.0 and represents a perceptual measure of intensity and activity. Typically, energetic tracks feel fast, loud, and noisy. For example, death metal has high energy, while a Bach prelude scores low on the scale. Perceptual features contributing to this attribute include dynamic range, perceived loudness, timbre, onset rate, and general entropy."
   ]
  },
  {
   "cell_type": "code",
   "execution_count": 11,
   "metadata": {},
   "outputs": [
    {
     "data": {
      "text/plain": [
       "count    17235.000000\n",
       "mean         0.589826\n",
       "std          0.229063\n",
       "min          0.000577\n",
       "25%          0.452000\n",
       "50%          0.609000\n",
       "75%          0.762500\n",
       "max          0.998000\n",
       "Name: energy, dtype: float64"
      ]
     },
     "execution_count": 11,
     "metadata": {},
     "output_type": "execute_result"
    },
    {
     "data": {
      "image/png": "[encoded data removed]",
      "text/plain": [
       "<matplotlib.figure.Figure at 0x1104b7320>"
      ]
     },
     "metadata": {},
     "output_type": "display_data"
    }
   ],
   "source": [
    "hist(full_history['energy'], [0,1])\n",
    "full_history['energy'].describe()"
   ]
  },
  {
   "cell_type": "markdown",
   "metadata": {},
   "source": [
    "### Liveness\n",
    "\n",
    "Detects the presence of an audience in the recording. Higher liveness values represent an increased probability that the track was performed live. A value above 0.8 provides strong likelihood that the track is live."
   ]
  },
  {
   "cell_type": "code",
   "execution_count": 12,
   "metadata": {},
   "outputs": [
    {
     "data": {
      "text/plain": [
       "count    17235.000000\n",
       "mean         0.189863\n",
       "std          0.153152\n",
       "min          0.017600\n",
       "25%          0.097200\n",
       "50%          0.125000\n",
       "75%          0.233000\n",
       "max          0.989000\n",
       "Name: liveness, dtype: float64"
      ]
     },
     "execution_count": 12,
     "metadata": {},
     "output_type": "execute_result"
    },
    {
     "data": {
      "image/png": "[encoded data removed]",
      "text/plain": [
       "<matplotlib.figure.Figure at 0x10e57a2e8>"
      ]
     },
     "metadata": {},
     "output_type": "display_data"
    }
   ],
   "source": [
    "hist(full_history['liveness'], [0,1])\n",
    "full_history['liveness'].describe()"
   ]
  },
  {
   "cell_type": "code",
   "execution_count": 13,
   "metadata": {},
   "outputs": [
    {
     "data": {
      "text/plain": [
       "10059                                     Look Back\n",
       "10082                                    Brightfall\n",
       "10138                                       Feel Me\n",
       "10320                                   La-Di-Da-Di\n",
       "10358                                     Champions\n",
       "10435                                          TEAM\n",
       "1052                                 Round Whippin'\n",
       "10658                                    So Special\n",
       "11101                            Roll One Up, Homie\n",
       "11376                                 Momma Told Me\n",
       "11815                               Mushroom Clouds\n",
       "12279                                   The Dreamer\n",
       "12350                                      Thriller\n",
       "12456                        Get Up Offa That Thing\n",
       "1249     Not Nineteen Forever - Live at Heaton Park\n",
       "Name: name, dtype: object"
      ]
     },
     "execution_count": 13,
     "metadata": {},
     "output_type": "execute_result"
    }
   ],
   "source": [
    "full_history[full_history['liveness'] > 0.8].drop_duplicates('id')['name'][:15]"
   ]
  },
  {
   "cell_type": "markdown",
   "metadata": {},
   "source": [
    "Liveness is obviously an inaccurate measurement, thus we cannot use it reliably. We remove it."
   ]
  },
  {
   "cell_type": "code",
   "execution_count": 14,
   "metadata": {},
   "outputs": [],
   "source": [
    "full_history = full_history.drop('liveness', axis=1)"
   ]
  },
  {
   "cell_type": "markdown",
   "metadata": {},
   "source": [
    "### Loudness\n",
    "\n",
    "The overall loudness of a track in decibels (dB). Loudness values are averaged across the entire track and are useful for comparing relative loudness of tracks. Loudness is the quality of a sound that is the primary psychological correlate of physical strength (amplitude). Values typical range between -60 and 0 db.\n",
    "\n",
    "Similar to duration, loudness is heavily skewed, thus we log scale it to bring things back together and reveal more of the underlying structure. Note the transformation of the values too. Since we don't care too much about the actual value of the loudness, only whether it's relatively loud or not, we assume this is acceptable."
   ]
  },
  {
   "cell_type": "code",
   "execution_count": 15,
   "metadata": {},
   "outputs": [
    {
     "data": {
      "text/plain": [
       "count    17235.000000\n",
       "mean         2.144166\n",
       "std          0.455249\n",
       "min         -0.529329\n",
       "25%          1.855360\n",
       "50%          2.112393\n",
       "75%          2.366967\n",
       "max          3.877990\n",
       "Name: log_loudness, dtype: float64"
      ]
     },
     "execution_count": 15,
     "metadata": {},
     "output_type": "execute_result"
    },
    {
     "data": {
      "image/png": "[encoded data removed]",
      "text/plain": [
       "<matplotlib.figure.Figure at 0x11040a240>"
      ]
     },
     "metadata": {},
     "output_type": "display_data"
    }
   ],
   "source": [
    "full_history['log_loudness'] = np.log(-1*full_history['loudness']+1)\n",
    "hist(full_history['log_loudness'], [-0.8,4], 20)\n",
    "full_history['log_loudness'].describe()"
   ]
  },
  {
   "cell_type": "code",
   "execution_count": 16,
   "metadata": {},
   "outputs": [],
   "source": [
    "full_history = full_history.drop('loudness', axis=1)"
   ]
  },
  {
   "cell_type": "markdown",
   "metadata": {},
   "source": [
    "### Popularity\n",
    "\n",
    "The popularity of the track. The value will be between 0 and 100, with 100 being the most popular.\n",
    "The popularity of a track is a value between 0 and 100, with 100 being the most popular. The popularity is calculated by algorithm and is based, in the most part, on the total number of plays the track has had and how recent those plays are.\n",
    "\n",
    "Generally speaking, songs that are being played a lot now will have a higher popularity than songs that were played a lot in the past. Duplicate tracks (e.g. the same track from a single and an album) are rated independently. Artist and album popularity is derived mathematically from track popularity. Note that the popularity value may lag actual popularity by a few days: the value is not updated in real time."
   ]
  },
  {
   "cell_type": "code",
   "execution_count": 17,
   "metadata": {},
   "outputs": [
    {
     "data": {
      "text/plain": [
       "count    17235.000000\n",
       "mean        53.327415\n",
       "std         17.579643\n",
       "min          0.000000\n",
       "25%         43.000000\n",
       "50%         55.000000\n",
       "75%         65.000000\n",
       "max        100.000000\n",
       "Name: popularity, dtype: float64"
      ]
     },
     "execution_count": 17,
     "metadata": {},
     "output_type": "execute_result"
    },
    {
     "data": {
      "image/png": "[encoded data removed]",
      "text/plain": [
       "<matplotlib.figure.Figure at 0x1103ba4e0>"
      ]
     },
     "metadata": {},
     "output_type": "display_data"
    }
   ],
   "source": [
    "hist(full_history['popularity'], [0, 100])\n",
    "full_history['popularity'].describe()"
   ]
  },
  {
   "cell_type": "markdown",
   "metadata": {},
   "source": [
    "### Tempo\n",
    "\n",
    "The overall estimated tempo of a track in beats per minute (BPM). In musical terminology, tempo is the speed or pace of a given piece and derives directly from the average beat duration."
   ]
  },
  {
   "cell_type": "code",
   "execution_count": 18,
   "metadata": {},
   "outputs": [
    {
     "data": {
      "text/plain": [
       "count    17235.000000\n",
       "mean       118.446939\n",
       "std         30.188259\n",
       "min          0.000000\n",
       "25%         94.000000\n",
       "50%        118.000000\n",
       "75%        140.000000\n",
       "max        222.000000\n",
       "Name: tempo, dtype: float64"
      ]
     },
     "execution_count": 18,
     "metadata": {},
     "output_type": "execute_result"
    },
    {
     "data": {
      "image/png": "[encoded data removed]",
      "text/plain": [
       "<matplotlib.figure.Figure at 0x110400898>"
      ]
     },
     "metadata": {},
     "output_type": "display_data"
    }
   ],
   "source": [
    "full_history['tempo'] = full_history['tempo'].apply(round)\n",
    "hist(full_history['tempo'], [30, 225], 24)\n",
    "full_history['tempo'].describe()"
   ]
  },
  {
   "cell_type": "markdown",
   "metadata": {},
   "source": [
    "Many songs are misclassified by Spotify, often doubling the real BPM. Presto tempo is said to be above 168, and after looking through many of the resutls of songs above 168 BPM, it is reasonable to correct songs above this threshold. Although it does cut out the top end, it is more representative for  many songs."
   ]
  },
  {
   "cell_type": "code",
   "execution_count": 19,
   "metadata": {},
   "outputs": [],
   "source": [
    "full_history['tempo'] = full_history['tempo'].apply(lambda x: x if x < 168 else x/2)"
   ]
  },
  {
   "cell_type": "markdown",
   "metadata": {},
   "source": [
    "### Valence\n",
    "\n",
    "A measure from 0.0 to 1.0 describing the musical positiveness conveyed by a track. Tracks with high valence sound more positive (e.g. happy, cheerful, euphoric), while tracks with low valence sound more negative (e.g. sad, depressed, angry)."
   ]
  },
  {
   "cell_type": "code",
   "execution_count": 20,
   "metadata": {},
   "outputs": [
    {
     "data": {
      "text/plain": [
       "count    17235.000000\n",
       "mean         0.442846\n",
       "std          0.242088\n",
       "min          0.000000\n",
       "25%          0.246000\n",
       "50%          0.419000\n",
       "75%          0.624000\n",
       "max          0.990000\n",
       "Name: valence, dtype: float64"
      ]
     },
     "execution_count": 20,
     "metadata": {},
     "output_type": "execute_result"
    },
    {
     "data": {
      "image/png": "[encoded data removed]",
      "text/plain": [
       "<matplotlib.figure.Figure at 0x1103cc160>"
      ]
     },
     "metadata": {},
     "output_type": "display_data"
    }
   ],
   "source": [
    "hist(full_history['valence'], [0, 1])\n",
    "full_history['valence'].describe()"
   ]
  },
  {
   "cell_type": "markdown",
   "metadata": {},
   "source": [
    "### Release Date\n",
    "\n",
    "After examining, the release date isn't accurate either. For example, all classical music has release dates of 1960 or later, since this is the release of the album itself, not necessarily the conception of the music (which would have placed a lot of this genre in the 17th-20th centuries)."
   ]
  },
  {
   "cell_type": "code",
   "execution_count": 22,
   "metadata": {
    "collapsed": true
   },
   "outputs": [
    {
     "ename": "ValueError",
     "evalue": "labels ['release'] not contained in axis",
     "output_type": "error",
     "traceback": [
      "\u001b[0;31m---------------------------------------------------------------------------\u001b[0m",
      "\u001b[0;31mValueError\u001b[0m                                Traceback (most recent call last)",
      "\u001b[0;32m<ipython-input-22-79dc000dddde>\u001b[0m in \u001b[0;36m<module>\u001b[0;34m()\u001b[0m\n\u001b[0;32m----> 1\u001b[0;31m \u001b[0mfull_history\u001b[0m \u001b[0;34m=\u001b[0m \u001b[0mfull_history\u001b[0m\u001b[0;34m.\u001b[0m\u001b[0mdrop\u001b[0m\u001b[0;34m(\u001b[0m\u001b[0;34m'release'\u001b[0m\u001b[0;34m,\u001b[0m \u001b[0maxis\u001b[0m\u001b[0;34m=\u001b[0m\u001b[0;36m1\u001b[0m\u001b[0;34m)\u001b[0m\u001b[0;34m\u001b[0m\u001b[0m\n\u001b[0m",
      "\u001b[0;32m~/anaconda3/lib/python3.6/site-packages/pandas/core/generic.py\u001b[0m in \u001b[0;36mdrop\u001b[0;34m(self, labels, axis, index, columns, level, inplace, errors)\u001b[0m\n\u001b[1;32m   2528\u001b[0m         \u001b[0;32mfor\u001b[0m \u001b[0maxis\u001b[0m\u001b[0;34m,\u001b[0m \u001b[0mlabels\u001b[0m \u001b[0;32min\u001b[0m \u001b[0maxes\u001b[0m\u001b[0;34m.\u001b[0m\u001b[0mitems\u001b[0m\u001b[0;34m(\u001b[0m\u001b[0;34m)\u001b[0m\u001b[0;34m:\u001b[0m\u001b[0;34m\u001b[0m\u001b[0m\n\u001b[1;32m   2529\u001b[0m             \u001b[0;32mif\u001b[0m \u001b[0mlabels\u001b[0m \u001b[0;32mis\u001b[0m \u001b[0;32mnot\u001b[0m \u001b[0;32mNone\u001b[0m\u001b[0;34m:\u001b[0m\u001b[0;34m\u001b[0m\u001b[0m\n\u001b[0;32m-> 2530\u001b[0;31m                 \u001b[0mobj\u001b[0m \u001b[0;34m=\u001b[0m \u001b[0mobj\u001b[0m\u001b[0;34m.\u001b[0m\u001b[0m_drop_axis\u001b[0m\u001b[0;34m(\u001b[0m\u001b[0mlabels\u001b[0m\u001b[0;34m,\u001b[0m \u001b[0maxis\u001b[0m\u001b[0;34m,\u001b[0m \u001b[0mlevel\u001b[0m\u001b[0;34m=\u001b[0m\u001b[0mlevel\u001b[0m\u001b[0;34m,\u001b[0m \u001b[0merrors\u001b[0m\u001b[0;34m=\u001b[0m\u001b[0merrors\u001b[0m\u001b[0;34m)\u001b[0m\u001b[0;34m\u001b[0m\u001b[0m\n\u001b[0m\u001b[1;32m   2531\u001b[0m \u001b[0;34m\u001b[0m\u001b[0m\n\u001b[1;32m   2532\u001b[0m         \u001b[0;32mif\u001b[0m \u001b[0minplace\u001b[0m\u001b[0;34m:\u001b[0m\u001b[0;34m\u001b[0m\u001b[0m\n",
      "\u001b[0;32m~/anaconda3/lib/python3.6/site-packages/pandas/core/generic.py\u001b[0m in \u001b[0;36m_drop_axis\u001b[0;34m(self, labels, axis, level, errors)\u001b[0m\n\u001b[1;32m   2560\u001b[0m                 \u001b[0mnew_axis\u001b[0m \u001b[0;34m=\u001b[0m \u001b[0maxis\u001b[0m\u001b[0;34m.\u001b[0m\u001b[0mdrop\u001b[0m\u001b[0;34m(\u001b[0m\u001b[0mlabels\u001b[0m\u001b[0;34m,\u001b[0m \u001b[0mlevel\u001b[0m\u001b[0;34m=\u001b[0m\u001b[0mlevel\u001b[0m\u001b[0;34m,\u001b[0m \u001b[0merrors\u001b[0m\u001b[0;34m=\u001b[0m\u001b[0merrors\u001b[0m\u001b[0;34m)\u001b[0m\u001b[0;34m\u001b[0m\u001b[0m\n\u001b[1;32m   2561\u001b[0m             \u001b[0;32melse\u001b[0m\u001b[0;34m:\u001b[0m\u001b[0;34m\u001b[0m\u001b[0m\n\u001b[0;32m-> 2562\u001b[0;31m                 \u001b[0mnew_axis\u001b[0m \u001b[0;34m=\u001b[0m \u001b[0maxis\u001b[0m\u001b[0;34m.\u001b[0m\u001b[0mdrop\u001b[0m\u001b[0;34m(\u001b[0m\u001b[0mlabels\u001b[0m\u001b[0;34m,\u001b[0m \u001b[0merrors\u001b[0m\u001b[0;34m=\u001b[0m\u001b[0merrors\u001b[0m\u001b[0;34m)\u001b[0m\u001b[0;34m\u001b[0m\u001b[0m\n\u001b[0m\u001b[1;32m   2563\u001b[0m             \u001b[0mdropped\u001b[0m \u001b[0;34m=\u001b[0m \u001b[0mself\u001b[0m\u001b[0;34m.\u001b[0m\u001b[0mreindex\u001b[0m\u001b[0;34m(\u001b[0m\u001b[0;34m**\u001b[0m\u001b[0;34m{\u001b[0m\u001b[0maxis_name\u001b[0m\u001b[0;34m:\u001b[0m \u001b[0mnew_axis\u001b[0m\u001b[0;34m}\u001b[0m\u001b[0;34m)\u001b[0m\u001b[0;34m\u001b[0m\u001b[0m\n\u001b[1;32m   2564\u001b[0m             \u001b[0;32mtry\u001b[0m\u001b[0;34m:\u001b[0m\u001b[0;34m\u001b[0m\u001b[0m\n",
      "\u001b[0;32m~/anaconda3/lib/python3.6/site-packages/pandas/core/indexes/base.py\u001b[0m in \u001b[0;36mdrop\u001b[0;34m(self, labels, errors)\u001b[0m\n\u001b[1;32m   3742\u001b[0m             \u001b[0;32mif\u001b[0m \u001b[0merrors\u001b[0m \u001b[0;34m!=\u001b[0m \u001b[0;34m'ignore'\u001b[0m\u001b[0;34m:\u001b[0m\u001b[0;34m\u001b[0m\u001b[0m\n\u001b[1;32m   3743\u001b[0m                 raise ValueError('labels %s not contained in axis' %\n\u001b[0;32m-> 3744\u001b[0;31m                                  labels[mask])\n\u001b[0m\u001b[1;32m   3745\u001b[0m             \u001b[0mindexer\u001b[0m \u001b[0;34m=\u001b[0m \u001b[0mindexer\u001b[0m\u001b[0;34m[\u001b[0m\u001b[0;34m~\u001b[0m\u001b[0mmask\u001b[0m\u001b[0;34m]\u001b[0m\u001b[0;34m\u001b[0m\u001b[0m\n\u001b[1;32m   3746\u001b[0m         \u001b[0;32mreturn\u001b[0m \u001b[0mself\u001b[0m\u001b[0;34m.\u001b[0m\u001b[0mdelete\u001b[0m\u001b[0;34m(\u001b[0m\u001b[0mindexer\u001b[0m\u001b[0;34m)\u001b[0m\u001b[0;34m\u001b[0m\u001b[0m\n",
      "\u001b[0;31mValueError\u001b[0m: labels ['release'] not contained in axis"
     ]
    }
   ],
   "source": [
    "full_history = full_history.drop('release', axis=1)"
   ]
  },
  {
   "cell_type": "markdown",
   "metadata": {},
   "source": [
    "Day and time of the week"
   ]
  },
  {
   "cell_type": "code",
   "execution_count": 23,
   "metadata": {},
   "outputs": [],
   "source": [
    "def makeWeekday(a):\n",
    "    '''\n",
    "    weekday\n",
    "    '''\n",
    "    return a.weekday()\n",
    "\n",
    "def makeDecimalHour(a):\n",
    "    '''\n",
    "    decimal hour\n",
    "    '''\n",
    "    return a.hour + (a.minute / 60.0)"
   ]
  },
  {
   "cell_type": "code",
   "execution_count": 24,
   "metadata": {},
   "outputs": [],
   "source": [
    "full_history['weekday'] = full_history['timestamp'].apply(makeWeekday)\n",
    "\n",
    "full_history['hour_decimal'] = full_history['timestamp'].apply(makeDecimalHour)"
   ]
  },
  {
   "cell_type": "code",
   "execution_count": 25,
   "metadata": {
    "scrolled": true
   },
   "outputs": [
    {
     "data": {
      "text/html": [
       "<div>\n",
       "<style scoped>\n",
       "    .dataframe tbody tr th:only-of-type {\n",
       "        vertical-align: middle;\n",
       "    }\n",
       "\n",
       "    .dataframe tbody tr th {\n",
       "        vertical-align: top;\n",
       "    }\n",
       "\n",
       "    .dataframe thead th {\n",
       "        text-align: right;\n",
       "    }\n",
       "</style>\n",
       "<table border=\"1\" class=\"dataframe\">\n",
       "  <thead>\n",
       "    <tr style=\"text-align: right;\">\n",
       "      <th></th>\n",
       "      <th>acousticness</th>\n",
       "      <th>album</th>\n",
       "      <th>artists</th>\n",
       "      <th>danceability</th>\n",
       "      <th>energy</th>\n",
       "      <th>explicit</th>\n",
       "      <th>id</th>\n",
       "      <th>key</th>\n",
       "      <th>mode</th>\n",
       "      <th>name</th>\n",
       "      <th>popularity</th>\n",
       "      <th>speechiness</th>\n",
       "      <th>tempo</th>\n",
       "      <th>time_signature</th>\n",
       "      <th>timestamp</th>\n",
       "      <th>valence</th>\n",
       "      <th>duration</th>\n",
       "      <th>log_loudness</th>\n",
       "      <th>weekday</th>\n",
       "      <th>hour_decimal</th>\n",
       "    </tr>\n",
       "  </thead>\n",
       "  <tbody>\n",
       "    <tr>\n",
       "      <th>3114</th>\n",
       "      <td>0.22700</td>\n",
       "      <td>My Life</td>\n",
       "      <td>[28j8lBWDdDSHSSt5oPlsX2, 5INjqkS1o8h1imAzPqGZBb]</td>\n",
       "      <td>0.744</td>\n",
       "      <td>0.562</td>\n",
       "      <td>0</td>\n",
       "      <td>2NDZ6i6UfOUSKgFiTQKbnv</td>\n",
       "      <td>0</td>\n",
       "      <td>0</td>\n",
       "      <td>My Life</td>\n",
       "      <td>70</td>\n",
       "      <td>0.0378</td>\n",
       "      <td>110.0</td>\n",
       "      <td>4</td>\n",
       "      <td>2018-05-11 10:09:00-07:00</td>\n",
       "      <td>0.161</td>\n",
       "      <td>4.905850</td>\n",
       "      <td>2.184927</td>\n",
       "      <td>4</td>\n",
       "      <td>10.150000</td>\n",
       "    </tr>\n",
       "    <tr>\n",
       "      <th>15484</th>\n",
       "      <td>0.00763</td>\n",
       "      <td>Pop Makossa (Analog Africa No. 23)</td>\n",
       "      <td>[0YVakpWhqBiiG3EK8OJisV]</td>\n",
       "      <td>0.695</td>\n",
       "      <td>0.836</td>\n",
       "      <td>0</td>\n",
       "      <td>0jOzBuBfj7ppEuD2FoH5lE</td>\n",
       "      <td>11</td>\n",
       "      <td>0</td>\n",
       "      <td>Africa</td>\n",
       "      <td>17</td>\n",
       "      <td>0.0438</td>\n",
       "      <td>131.0</td>\n",
       "      <td>4</td>\n",
       "      <td>2018-05-13 12:07:00-07:00</td>\n",
       "      <td>0.760</td>\n",
       "      <td>7.349017</td>\n",
       "      <td>2.662216</td>\n",
       "      <td>6</td>\n",
       "      <td>12.116667</td>\n",
       "    </tr>\n",
       "    <tr>\n",
       "      <th>10639</th>\n",
       "      <td>0.25000</td>\n",
       "      <td>Invincible</td>\n",
       "      <td>[0PxzGnCYBpSuaI49OR94cA, 5hrtcI0g197yJxmyAU6VYv]</td>\n",
       "      <td>0.310</td>\n",
       "      <td>0.712</td>\n",
       "      <td>0</td>\n",
       "      <td>5pUzE0TnMuLlWGYto3LJSb</td>\n",
       "      <td>7</td>\n",
       "      <td>0</td>\n",
       "      <td>Invincible</td>\n",
       "      <td>50</td>\n",
       "      <td>0.0825</td>\n",
       "      <td>83.0</td>\n",
       "      <td>4</td>\n",
       "      <td>2017-12-18 19:11:00-08:00</td>\n",
       "      <td>0.167</td>\n",
       "      <td>3.613267</td>\n",
       "      <td>1.706746</td>\n",
       "      <td>0</td>\n",
       "      <td>19.183333</td>\n",
       "    </tr>\n",
       "    <tr>\n",
       "      <th>15218</th>\n",
       "      <td>0.04780</td>\n",
       "      <td>Choose Your Own Adventure</td>\n",
       "      <td>[4idG41ELGGRKuiHLc3VLc5]</td>\n",
       "      <td>0.468</td>\n",
       "      <td>0.636</td>\n",
       "      <td>0</td>\n",
       "      <td>3ItCDZEok1K8DtZi51CWYr</td>\n",
       "      <td>7</td>\n",
       "      <td>1</td>\n",
       "      <td>The Conservation of Energy</td>\n",
       "      <td>41</td>\n",
       "      <td>0.0260</td>\n",
       "      <td>92.0</td>\n",
       "      <td>4</td>\n",
       "      <td>2018-05-13 15:51:00-07:00</td>\n",
       "      <td>0.263</td>\n",
       "      <td>4.224450</td>\n",
       "      <td>2.004583</td>\n",
       "      <td>6</td>\n",
       "      <td>15.850000</td>\n",
       "    </tr>\n",
       "    <tr>\n",
       "      <th>1629</th>\n",
       "      <td>0.29600</td>\n",
       "      <td>Little World</td>\n",
       "      <td>[5jLbQGcvxehi2Z6qkUP9Rh]</td>\n",
       "      <td>0.733</td>\n",
       "      <td>0.679</td>\n",
       "      <td>0</td>\n",
       "      <td>4PevTpnIWy2D1wIQZY3MmX</td>\n",
       "      <td>7</td>\n",
       "      <td>1</td>\n",
       "      <td>Cool</td>\n",
       "      <td>58</td>\n",
       "      <td>0.2070</td>\n",
       "      <td>94.0</td>\n",
       "      <td>4</td>\n",
       "      <td>2018-01-02 15:28:00-08:00</td>\n",
       "      <td>0.882</td>\n",
       "      <td>2.087267</td>\n",
       "      <td>1.968789</td>\n",
       "      <td>1</td>\n",
       "      <td>15.466667</td>\n",
       "    </tr>\n",
       "  </tbody>\n",
       "</table>\n",
       "</div>"
      ],
      "text/plain": [
       "       acousticness                               album  \\\n",
       "3114        0.22700                             My Life   \n",
       "15484       0.00763  Pop Makossa (Analog Africa No. 23)   \n",
       "10639       0.25000                          Invincible   \n",
       "15218       0.04780           Choose Your Own Adventure   \n",
       "1629        0.29600                        Little World   \n",
       "\n",
       "                                                artists  danceability  energy  \\\n",
       "3114   [28j8lBWDdDSHSSt5oPlsX2, 5INjqkS1o8h1imAzPqGZBb]         0.744   0.562   \n",
       "15484                          [0YVakpWhqBiiG3EK8OJisV]         0.695   0.836   \n",
       "10639  [0PxzGnCYBpSuaI49OR94cA, 5hrtcI0g197yJxmyAU6VYv]         0.310   0.712   \n",
       "15218                          [4idG41ELGGRKuiHLc3VLc5]         0.468   0.636   \n",
       "1629                           [5jLbQGcvxehi2Z6qkUP9Rh]         0.733   0.679   \n",
       "\n",
       "       explicit                      id  key  mode  \\\n",
       "3114          0  2NDZ6i6UfOUSKgFiTQKbnv    0     0   \n",
       "15484         0  0jOzBuBfj7ppEuD2FoH5lE   11     0   \n",
       "10639         0  5pUzE0TnMuLlWGYto3LJSb    7     0   \n",
       "15218         0  3ItCDZEok1K8DtZi51CWYr    7     1   \n",
       "1629          0  4PevTpnIWy2D1wIQZY3MmX    7     1   \n",
       "\n",
       "                             name  popularity  speechiness  tempo  \\\n",
       "3114                      My Life          70       0.0378  110.0   \n",
       "15484                      Africa          17       0.0438  131.0   \n",
       "10639                  Invincible          50       0.0825   83.0   \n",
       "15218  The Conservation of Energy          41       0.0260   92.0   \n",
       "1629                         Cool          58       0.2070   94.0   \n",
       "\n",
       "       time_signature                 timestamp  valence  duration  \\\n",
       "3114                4 2018-05-11 10:09:00-07:00    0.161  4.905850   \n",
       "15484               4 2018-05-13 12:07:00-07:00    0.760  7.349017   \n",
       "10639               4 2017-12-18 19:11:00-08:00    0.167  3.613267   \n",
       "15218               4 2018-05-13 15:51:00-07:00    0.263  4.224450   \n",
       "1629                4 2018-01-02 15:28:00-08:00    0.882  2.087267   \n",
       "\n",
       "       log_loudness  weekday  hour_decimal  \n",
       "3114       2.184927        4     10.150000  \n",
       "15484      2.662216        6     12.116667  \n",
       "10639      1.706746        0     19.183333  \n",
       "15218      2.004583        6     15.850000  \n",
       "1629       1.968789        1     15.466667  "
      ]
     },
     "execution_count": 25,
     "metadata": {},
     "output_type": "execute_result"
    }
   ],
   "source": [
    "full_history.sample(5)"
   ]
  },
  {
   "cell_type": "markdown",
   "metadata": {},
   "source": [
    "How much music are we talking about here?"
   ]
  },
  {
   "cell_type": "code",
   "execution_count": 26,
   "metadata": {},
   "outputs": [
    {
     "name": "stdout",
     "output_type": "stream",
     "text": [
      "Total hours: 1113.630\n",
      "Hours/day: 5.4\n",
      "Average songs/day: 83\n",
      "Total songs listened to: 17235 (unique songs: 8346)\n"
     ]
    }
   ],
   "source": [
    "total_hours = full_history['duration'].sum()/(60)\n",
    "print('Total hours: {:0.3f}'.format(total_hours))\n",
    "\n",
    "hours_per_day = total_hours/(full_history['timestamp'].max() - full_history['timestamp'].min()).days\n",
    "print('Hours/day: {:0.1f}'.format(hours_per_day))\n",
    "\n",
    "avg_song_dur = full_history['duration'].mean()\n",
    "print('Average songs/day: {:0.0f}'.format(hours_per_day/(avg_song_dur/(60.0))))\n",
    "\n",
    "print('Total songs listened to: {} (unique songs: {})'.format(len(full_history), len(get_unique())))"
   ]
  },
  {
   "cell_type": "markdown",
   "metadata": {},
   "source": [
    "## What kinds of music do I listen to?"
   ]
  },
  {
   "cell_type": "markdown",
   "metadata": {},
   "source": [
    "First, what types of genres am I listening to?"
   ]
  },
  {
   "cell_type": "code",
   "execution_count": 27,
   "metadata": {},
   "outputs": [],
   "source": [
    "artists_index = pd.Index(artists['id'])\n",
    "\n",
    "def addTrackGenres(row):\n",
    "    inner_gs = []\n",
    "        \n",
    "    # for each artist in a track\n",
    "    for track_artist in row['artists']:\n",
    "                        \n",
    "        # if the artist exists, get its index\n",
    "        i = artists_index.get_loc(track_artist)\n",
    "        if i > -1:\n",
    "            cell = artists.iloc[i, 2]\n",
    "            if cell:\n",
    "                # collect genres from artists that match the current index\n",
    "                inner_gs.append(cell)\n",
    "                \n",
    "    if inner_gs:\n",
    "        row['genres'] = np.unique(list(itertools.chain(*inner_gs)))\n",
    "    else:\n",
    "        row['genres'] = None\n",
    "        \n",
    "    return row"
   ]
  },
  {
   "cell_type": "code",
   "execution_count": 28,
   "metadata": {},
   "outputs": [],
   "source": [
    "full_history = full_history.apply(addTrackGenres, 1)"
   ]
  },
  {
   "cell_type": "code",
   "execution_count": 29,
   "metadata": {},
   "outputs": [],
   "source": [
    "genres = []\n",
    "counts = []\n",
    "freqs =  []\n",
    "var1 =   []\n",
    "\n",
    "for row in full_history.loc[full_history['genres'].notnull(), ['energy', 'genres']].itertuples():\n",
    "    \n",
    "    for genre in row.genres:\n",
    "        \n",
    "        if genre in genres:\n",
    "            i = genres.index(genre)\n",
    "            counts[i] += 1\n",
    "            var1[i] += row.energy\n",
    "        else:\n",
    "            genres.append(genre)\n",
    "            counts.append(1)\n",
    "            var1.append(row.energy)\n",
    "\n",
    "total = sum(counts)\n",
    "freqs = np.array(counts) / total\n",
    "var1 = np.array(var1) / np.array(counts)\n",
    "\n",
    "collective_genres = pd.DataFrame({'freq': freqs, 'count': counts, 'genre': genres, 'var1': var1})"
   ]
  },
  {
   "cell_type": "markdown",
   "metadata": {},
   "source": [
    "Below is a visualization of my top 25 genres, starting with most listened to. Dark red represents a low energy, dark blue is high energy."
   ]
  },
  {
   "cell_type": "code",
   "execution_count": 30,
   "metadata": {},
   "outputs": [
    {
     "name": "stderr",
     "output_type": "stream",
     "text": [
      "/Users/alex/anaconda3/lib/python3.6/site-packages/seaborn/categorical.py:1508: FutureWarning: remove_na is deprecated and is a private function. Do not use.\n",
      "  stat_data = remove_na(group_data[hue_mask])\n"
     ]
    },
    {
     "data": {
      "image/png": "[encoded data removed]",
      "text/plain": [
       "<matplotlib.figure.Figure at 0x10f0f1080>"
      ]
     },
     "metadata": {},
     "output_type": "display_data"
    }
   ],
   "source": [
    "offset = 0\n",
    "collective_genres = collective_genres.sort_values('freq', ascending=False)\n",
    "\n",
    "plt.subplots(figsize=(18,6))\n",
    "g = sns.barplot(x='genre', y='freq', \n",
    "                data=collective_genres[offset:offset+25], \n",
    "                hue='var1', palette='RdBu', dodge=False)\n",
    "g.legend_.remove()\n",
    "plt.xticks(rotation=30, horizontalalignment='right')\n",
    "plt.xlabel('Genre')\n",
    "plt.ylabel('Frequency');"
   ]
  },
  {
   "cell_type": "markdown",
   "metadata": {},
   "source": [
    "What is the overall mood of my music collection like? It is skewed toward a sadder mood, and has a mean valence of 0.4, which isn't particularly happy."
   ]
  },
  {
   "cell_type": "code",
   "execution_count": 31,
   "metadata": {},
   "outputs": [
    {
     "data": {
      "image/png": "[encoded data removed]",
      "text/plain": [
       "<matplotlib.figure.Figure at 0x1a11b62ac8>"
      ]
     },
     "metadata": {},
     "output_type": "display_data"
    }
   ],
   "source": [
    "ax = sns.distplot(full_history.valence, bins=10, kde=False, hist_kws={\"edgecolor\": \"k\", \"linewidth\":1})\n",
    "plt.axvline(full_history.valence.median(), color='k', linestyle='--', linewidth=2);\n",
    "plt.text(0.8, 0.8, r'$\\mu={0:2f}$'.format(full_history.valence.median()), \n",
    "         horizontalalignment='center', verticalalignment='center', transform=ax.transAxes);"
   ]
  },
  {
   "cell_type": "markdown",
   "metadata": {},
   "source": [
    "Who are my most listened to artists?"
   ]
  },
  {
   "cell_type": "code",
   "execution_count": 32,
   "metadata": {},
   "outputs": [],
   "source": [
    "collective_artists = [artists for artists in full_history.loc[full_history['artists'].notnull(), 'artists']]\n",
    "    \n",
    "collective_artists = np.array(list(itertools.chain(*collective_artists)))\n",
    "unique_artists, artist_counts = np.unique(collective_artists, return_counts=True)\n",
    "\n",
    "artist_df = pd.DataFrame({'id': unique_artists, 'listens': artist_counts})\n",
    "artists = pd.merge(artist_df, artists, on='id')\n",
    "\n",
    "def simplifyGenre(x):\n",
    "    for genre in collective_genres['genre']:\n",
    "        if genre in x:\n",
    "            return genre\n",
    "        \n",
    "    return 'other'\n",
    "\n",
    "artists['simple_genre'] = artists['genres'].apply(simplifyGenre)"
   ]
  },
  {
   "cell_type": "markdown",
   "metadata": {},
   "source": [
    "Below is a visualization of my most listened to artists. They are counted if they are featured or produce a song as well. The color represents their top-level genre classification."
   ]
  },
  {
   "cell_type": "code",
   "execution_count": 33,
   "metadata": {},
   "outputs": [
    {
     "name": "stderr",
     "output_type": "stream",
     "text": [
      "/Users/alex/anaconda3/lib/python3.6/site-packages/seaborn/categorical.py:1508: FutureWarning: remove_na is deprecated and is a private function. Do not use.\n",
      "  stat_data = remove_na(group_data[hue_mask])\n"
     ]
    },
    {
     "data": {
      "image/png": "[encoded data removed]",
      "text/plain": [
       "<matplotlib.figure.Figure at 0x1102e0668>"
      ]
     },
     "metadata": {},
     "output_type": "display_data"
    }
   ],
   "source": [
    "offset = 0\n",
    "sort_artist_df = artists.sort_values('listens', ascending=False)\n",
    "\n",
    "plt.subplots(figsize=(18,6))\n",
    "g = sns.barplot(x='artist', y='listens', data=sort_artist_df[offset:offset+25], hue='simple_genre', dodge=False, palette='hls')\n",
    "plt.xticks(rotation=30, horizontalalignment='right')\n",
    "plt.xlabel('Artist');\n",
    "plt.ylabel('# of Listens');\n",
    "#plt.savefig('topartists.png')"
   ]
  },
  {
   "cell_type": "code",
   "execution_count": 34,
   "metadata": {},
   "outputs": [],
   "source": [
    "full_history.to_json('data/history_clean.json')\n",
    "artists.to_json('data/artists_clean.json')"
   ]
  }
 ],
 "metadata": {
  "kernelspec": {
   "display_name": "Python 3",
   "language": "python",
   "name": "python3"
  },
  "language_info": {
   "codemirror_mode": {
    "name": "ipython",
    "version": 3
   },
   "file_extension": ".py",
   "mimetype": "text/x-python",
   "name": "python",
   "nbconvert_exporter": "python",
   "pygments_lexer": "ipython3",
   "version": "3.6.3"
  }
 },
 "nbformat": 4,
 "nbformat_minor": 2
}
