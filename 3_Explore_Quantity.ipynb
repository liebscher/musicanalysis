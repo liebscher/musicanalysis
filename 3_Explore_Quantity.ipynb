{
 "cells": [
  {
   "cell_type": "code",
   "execution_count": 1,
   "metadata": {},
   "outputs": [],
   "source": [
    "import pandas as pd\n",
    "from pandas import Timestamp\n",
    "import numpy as np\n",
    "import scipy.stats as stats\n",
    "from datetime import datetime\n",
    "from pytz import timezone\n",
    "\n",
    "import itertools\n",
    "\n",
    "import seaborn as sns\n",
    "import matplotlib.pyplot as plt\n",
    "from matplotlib import colors\n",
    "%matplotlib inline\n",
    "\n",
    "sns.set_style('whitegrid')\n",
    "pd.set_option('display.max_columns', 100)"
   ]
  },
  {
   "cell_type": "code",
   "execution_count": 2,
   "metadata": {},
   "outputs": [],
   "source": [
    "full_history = pd.read_json('data/history_comp.json')\n",
    "\n",
    "if full_history['timestamp'].max().tz is None:\n",
    "    full_history['timestamp'] = pd.to_datetime(full_history['timestamp'], utc=True)\n",
    "    full_history['timestamp'] = full_history['timestamp'].apply(lambda t: t.tz_convert('US/Pacific'))\n",
    "\n",
    "full_history = full_history.drop('index', axis=1)"
   ]
  },
  {
   "cell_type": "markdown",
   "metadata": {},
   "source": [
    "As shown below, for every 2 songs listened to, 1 of them is unique and new to my music catalog."
   ]
  },
  {
   "cell_type": "code",
   "execution_count": 3,
   "metadata": {},
   "outputs": [
    {
     "data": {
      "text/plain": [
       "2.261246535427475"
      ]
     },
     "execution_count": 3,
     "metadata": {},
     "output_type": "execute_result"
    }
   ],
   "source": [
    "def get_unique():\n",
    "    drop_cols = ['timestamp']\n",
    "    if 'weekday' in full_history.columns:\n",
    "        drop_cols.extend(['weekday', 'hour_decimal'])\n",
    "        \n",
    "    unique_history = full_history.drop(drop_cols, axis=1)\n",
    "    return unique_history.drop_duplicates('id')\n",
    "\n",
    "len(full_history)/len(get_unique())"
   ]
  },
  {
   "cell_type": "markdown",
   "metadata": {},
   "source": [
    "Here is a sample of artists. In addition to the a priori known name, we have followers, genres, and popularity of each artist."
   ]
  },
  {
   "cell_type": "code",
   "execution_count": 4,
   "metadata": {},
   "outputs": [
    {
     "data": {
      "text/html": [
       "<div>\n",
       "<style scoped>\n",
       "    .dataframe tbody tr th:only-of-type {\n",
       "        vertical-align: middle;\n",
       "    }\n",
       "\n",
       "    .dataframe tbody tr th {\n",
       "        vertical-align: top;\n",
       "    }\n",
       "\n",
       "    .dataframe thead th {\n",
       "        text-align: right;\n",
       "    }\n",
       "</style>\n",
       "<table border=\"1\" class=\"dataframe\">\n",
       "  <thead>\n",
       "    <tr style=\"text-align: right;\">\n",
       "      <th></th>\n",
       "      <th>artist</th>\n",
       "      <th>followers</th>\n",
       "      <th>genres</th>\n",
       "      <th>id</th>\n",
       "      <th>popularity</th>\n",
       "    </tr>\n",
       "  </thead>\n",
       "  <tbody>\n",
       "    <tr>\n",
       "      <th>3843</th>\n",
       "      <td>Big Mack</td>\n",
       "      <td>227</td>\n",
       "      <td>[]</td>\n",
       "      <td>6lRUscuxA2Lugzx3589qb7</td>\n",
       "      <td>41</td>\n",
       "    </tr>\n",
       "    <tr>\n",
       "      <th>523</th>\n",
       "      <td>Blake Hazard</td>\n",
       "      <td>426</td>\n",
       "      <td>[boston rock]</td>\n",
       "      <td>1HgfGD7xhAr4cF3HBVL8p6</td>\n",
       "      <td>21</td>\n",
       "    </tr>\n",
       "    <tr>\n",
       "      <th>7832</th>\n",
       "      <td>Mr. Paradise</td>\n",
       "      <td>1341</td>\n",
       "      <td>[]</td>\n",
       "      <td>4se6qBU0M2I86IER53xbYo</td>\n",
       "      <td>33</td>\n",
       "    </tr>\n",
       "    <tr>\n",
       "      <th>5115</th>\n",
       "      <td>Dae Zhen</td>\n",
       "      <td>1249</td>\n",
       "      <td>[]</td>\n",
       "      <td>2DAlyzXQHghMi4v3bWQs8h</td>\n",
       "      <td>33</td>\n",
       "    </tr>\n",
       "    <tr>\n",
       "      <th>2416</th>\n",
       "      <td>If These Trees Could Talk</td>\n",
       "      <td>51563</td>\n",
       "      <td>[instrumental post rock, post rock, post-metal]</td>\n",
       "      <td>2GVzsXcXyU95u2EahzwqN7</td>\n",
       "      <td>47</td>\n",
       "    </tr>\n",
       "  </tbody>\n",
       "</table>\n",
       "</div>"
      ],
      "text/plain": [
       "                         artist  followers  \\\n",
       "3843                   Big Mack        227   \n",
       "523                Blake Hazard        426   \n",
       "7832               Mr. Paradise       1341   \n",
       "5115                   Dae Zhen       1249   \n",
       "2416  If These Trees Could Talk      51563   \n",
       "\n",
       "                                               genres                      id  \\\n",
       "3843                                               []  6lRUscuxA2Lugzx3589qb7   \n",
       "523                                     [boston rock]  1HgfGD7xhAr4cF3HBVL8p6   \n",
       "7832                                               []  4se6qBU0M2I86IER53xbYo   \n",
       "5115                                               []  2DAlyzXQHghMi4v3bWQs8h   \n",
       "2416  [instrumental post rock, post rock, post-metal]  2GVzsXcXyU95u2EahzwqN7   \n",
       "\n",
       "      popularity  \n",
       "3843          41  \n",
       "523           21  \n",
       "7832          33  \n",
       "5115          33  \n",
       "2416          47  "
      ]
     },
     "execution_count": 4,
     "metadata": {},
     "output_type": "execute_result"
    }
   ],
   "source": [
    "artists = pd.read_json('data/artist_info.json')\n",
    "artists.sample(5)"
   ]
  },
  {
   "cell_type": "markdown",
   "metadata": {},
   "source": [
    "### Visualizing Feature Space\n",
    "\n",
    "Below we visualize the distributions of each feature. Pay close attention because we do make some modifications on a per-feature basis. These are designed to reduce error down the road."
   ]
  },
  {
   "cell_type": "code",
   "execution_count": 5,
   "metadata": {},
   "outputs": [],
   "source": [
    "def hist(X, xlim, bins=14):\n",
    "    plt.xlim(xlim)\n",
    "    N, bins, patches = plt.hist(X, bins=bins)\n",
    "\n",
    "    fracs = N / N.max()\n",
    "\n",
    "    norm = colors.Normalize(fracs.min(), fracs.max())\n",
    "\n",
    "    for frac, patch in zip(fracs, patches):\n",
    "        color = plt.cm.coolwarm(norm(frac))\n",
    "        patch.set_facecolor(color)"
   ]
  },
  {
   "cell_type": "markdown",
   "metadata": {},
   "source": [
    "### Acousticness\n",
    "\n",
    "A confidence measure from 0.0 to 1.0 of whether the track is acoustic. 1.0 represents high confidence the track is acoustic."
   ]
  },
  {
   "cell_type": "code",
   "execution_count": 6,
   "metadata": {},
   "outputs": [
    {
     "data": {
      "text/plain": [
       "count    31818.000000\n",
       "mean         0.305927\n",
       "std          0.313991\n",
       "min          0.000001\n",
       "25%          0.039000\n",
       "50%          0.184000\n",
       "75%          0.514000\n",
       "max          0.996000\n",
       "Name: acousticness, dtype: float64"
      ]
     },
     "execution_count": 6,
     "metadata": {},
     "output_type": "execute_result"
    },
    {
     "data": {
      "image/png": "[encoded data removed]",
      "text/plain": [
       "<Figure size 432x288 with 1 Axes>"
      ]
     },
     "metadata": {},
     "output_type": "display_data"
    }
   ],
   "source": [
    "hist(full_history['acousticness'], [0,1])\n",
    "full_history['acousticness'].describe()"
   ]
  },
  {
   "cell_type": "markdown",
   "metadata": {},
   "source": [
    "### Danceability\n",
    "\n",
    "Danceability describes how suitable a track is for dancing based on a combination of musical elements including tempo, rhythm stability, beat strength, and overall regularity. A value of 0.0 is least danceable and 1.0 is most danceable."
   ]
  },
  {
   "cell_type": "code",
   "execution_count": 7,
   "metadata": {},
   "outputs": [
    {
     "data": {
      "text/plain": [
       "count    31818.000000\n",
       "mean         0.596498\n",
       "std          0.170409\n",
       "min          0.000000\n",
       "25%          0.482000\n",
       "50%          0.606000\n",
       "75%          0.723000\n",
       "max          0.984000\n",
       "Name: danceability, dtype: float64"
      ]
     },
     "execution_count": 7,
     "metadata": {},
     "output_type": "execute_result"
    },
    {
     "data": {
      "image/png": "[encoded data removed]",
      "text/plain": [
       "<Figure size 432x288 with 1 Axes>"
      ]
     },
     "metadata": {},
     "output_type": "display_data"
    }
   ],
   "source": [
    "hist(full_history['danceability'], [0,1])\n",
    "full_history['danceability'].describe()"
   ]
  },
  {
   "cell_type": "markdown",
   "metadata": {},
   "source": [
    "### Duration\n",
    "\n",
    "The duration of the track in milliseconds. Convert the duration to floating-point minutes."
   ]
  },
  {
   "cell_type": "code",
   "execution_count": 8,
   "metadata": {},
   "outputs": [
    {
     "data": {
      "text/plain": [
       "count    31818.000000\n",
       "mean         3.857636\n",
       "std          1.463389\n",
       "min          0.510367\n",
       "25%          3.103333\n",
       "50%          3.638775\n",
       "75%          4.316667\n",
       "max         41.983333\n",
       "Name: duration, dtype: float64"
      ]
     },
     "execution_count": 8,
     "metadata": {},
     "output_type": "execute_result"
    },
    {
     "data": {
      "image/png": "[encoded data removed]",
      "text/plain": [
       "<Figure size 432x288 with 1 Axes>"
      ]
     },
     "metadata": {},
     "output_type": "display_data"
    }
   ],
   "source": [
    "full_history['duration'] = full_history['duration_ms'] / 1000 / 60\n",
    "hist(full_history['duration'], [0,45], 25)\n",
    "full_history['duration'].describe()"
   ]
  },
  {
   "cell_type": "code",
   "execution_count": 9,
   "metadata": {},
   "outputs": [],
   "source": [
    "full_history = full_history.drop('duration_ms', axis=1)"
   ]
  },
  {
   "cell_type": "markdown",
   "metadata": {},
   "source": [
    "### Energy\n",
    "\n",
    "Energy is a measure from 0.0 to 1.0 and represents a perceptual measure of intensity and activity. Typically, energetic tracks feel fast, loud, and noisy. For example, death metal has high energy, while a Bach prelude scores low on the scale. Perceptual features contributing to this attribute include dynamic range, perceived loudness, timbre, onset rate, and general entropy."
   ]
  },
  {
   "cell_type": "code",
   "execution_count": 10,
   "metadata": {},
   "outputs": [
    {
     "data": {
      "text/plain": [
       "count    31818.000000\n",
       "mean         0.585496\n",
       "std          0.231184\n",
       "min          0.000577\n",
       "25%          0.447000\n",
       "50%          0.605000\n",
       "75%          0.757000\n",
       "max          0.998000\n",
       "Name: energy, dtype: float64"
      ]
     },
     "execution_count": 10,
     "metadata": {},
     "output_type": "execute_result"
    },
    {
     "data": {
      "image/png": "[encoded data removed]",
      "text/plain": [
       "<Figure size 432x288 with 1 Axes>"
      ]
     },
     "metadata": {},
     "output_type": "display_data"
    }
   ],
   "source": [
    "hist(full_history['energy'], [0,1])\n",
    "full_history['energy'].describe()"
   ]
  },
  {
   "cell_type": "markdown",
   "metadata": {},
   "source": [
    "### Liveness\n",
    "\n",
    "Detects the presence of an audience in the recording. Higher liveness values represent an increased probability that the track was performed live. A value above 0.8 provides strong likelihood that the track is live."
   ]
  },
  {
   "cell_type": "code",
   "execution_count": 11,
   "metadata": {},
   "outputs": [
    {
     "data": {
      "text/plain": [
       "count    31818.000000\n",
       "mean         0.188500\n",
       "std          0.151333\n",
       "min          0.017600\n",
       "25%          0.097200\n",
       "50%          0.124000\n",
       "75%          0.231000\n",
       "max          0.992000\n",
       "Name: liveness, dtype: float64"
      ]
     },
     "execution_count": 11,
     "metadata": {},
     "output_type": "execute_result"
    },
    {
     "data": {
      "image/png": "[encoded data removed]",
      "text/plain": [
       "<Figure size 432x288 with 1 Axes>"
      ]
     },
     "metadata": {},
     "output_type": "display_data"
    }
   ],
   "source": [
    "hist(full_history['liveness'], [0,1])\n",
    "full_history['liveness'].describe()"
   ]
  },
  {
   "cell_type": "code",
   "execution_count": 12,
   "metadata": {},
   "outputs": [
    {
     "data": {
      "text/plain": [
       "10014                                       Round Whippin'\n",
       "10046                         Superhuman (feat. Eric Leva)\n",
       "10071                                                 TEAM\n",
       "10141                    Sunday Morning Coming Down - Live\n",
       "10385                                              Feel Me\n",
       "10422                                            Look Back\n",
       "1065                              Fell In Love With A Girl\n",
       "10665                                        Momma Told Me\n",
       "10781                                           TEMPTATION\n",
       "10919    Flick of the Wrist - Live at The Rainbow, Lond...\n",
       "10923                           Get Down, Make Love - Live\n",
       "10926                            God Save The Queen - Live\n",
       "10966                                           So Special\n",
       "10988                                      Ragged Old Flag\n",
       "11296                                    Tourment d' amour\n",
       "Name: name, dtype: object"
      ]
     },
     "execution_count": 12,
     "metadata": {},
     "output_type": "execute_result"
    }
   ],
   "source": [
    "full_history[full_history['liveness'] > 0.8].drop_duplicates('id')['name'][:15]"
   ]
  },
  {
   "cell_type": "markdown",
   "metadata": {},
   "source": [
    "Liveness is obviously an inaccurate measurement, thus we cannot use it reliably. We remove it."
   ]
  },
  {
   "cell_type": "code",
   "execution_count": 13,
   "metadata": {},
   "outputs": [],
   "source": [
    "full_history = full_history.drop('liveness', axis=1)"
   ]
  },
  {
   "cell_type": "markdown",
   "metadata": {},
   "source": [
    "### Loudness\n",
    "\n",
    "The overall loudness of a track in decibels (dB). Loudness values are averaged across the entire track and are useful for comparing relative loudness of tracks. Loudness is the quality of a sound that is the primary psychological correlate of physical strength (amplitude). Values typical range between -60 and 0 db.\n",
    "\n",
    "Similar to duration, loudness is heavily skewed, thus we log scale it to bring things back together and reveal more of the underlying structure. Note the transformation of the values too. Since we don't care too much about the actual value of the loudness, only whether it's relatively loud or not, we assume this is acceptable."
   ]
  },
  {
   "cell_type": "code",
   "execution_count": 14,
   "metadata": {},
   "outputs": [
    {
     "data": {
      "text/plain": [
       "count    31818.000000\n",
       "mean         2.150760\n",
       "std          0.459909\n",
       "min         -0.529329\n",
       "25%          1.859262\n",
       "50%          2.116015\n",
       "75%          2.379731\n",
       "max          3.877990\n",
       "Name: log_loudness, dtype: float64"
      ]
     },
     "execution_count": 14,
     "metadata": {},
     "output_type": "execute_result"
    },
    {
     "data": {
      "image/png": "[encoded data removed]",
      "text/plain": [
       "<Figure size 432x288 with 1 Axes>"
      ]
     },
     "metadata": {},
     "output_type": "display_data"
    }
   ],
   "source": [
    "full_history['log_loudness'] = np.log(-1*full_history['loudness']+1)\n",
    "hist(full_history['log_loudness'], [-0.8,4], 20)\n",
    "full_history['log_loudness'].describe()"
   ]
  },
  {
   "cell_type": "code",
   "execution_count": 15,
   "metadata": {},
   "outputs": [],
   "source": [
    "full_history = full_history.drop('loudness', axis=1)"
   ]
  },
  {
   "cell_type": "markdown",
   "metadata": {},
   "source": [
    "### Popularity\n",
    "\n",
    "The popularity of the track. The value will be between 0 and 100, with 100 being the most popular.\n",
    "The popularity of a track is a value between 0 and 100, with 100 being the most popular. The popularity is calculated by algorithm and is based, in the most part, on the total number of plays the track has had and how recent those plays are.\n",
    "\n",
    "Generally speaking, songs that are being played a lot now will have a higher popularity than songs that were played a lot in the past. Duplicate tracks (e.g. the same track from a single and an album) are rated independently. Artist and album popularity is derived mathematically from track popularity. Note that the popularity value may lag actual popularity by a few days: the value is not updated in real time."
   ]
  },
  {
   "cell_type": "code",
   "execution_count": 16,
   "metadata": {},
   "outputs": [
    {
     "data": {
      "text/plain": [
       "count    31818.000000\n",
       "mean        53.189704\n",
       "std         17.636074\n",
       "min          0.000000\n",
       "25%         43.000000\n",
       "50%         55.000000\n",
       "75%         65.000000\n",
       "max        100.000000\n",
       "Name: popularity, dtype: float64"
      ]
     },
     "execution_count": 16,
     "metadata": {},
     "output_type": "execute_result"
    },
    {
     "data": {
      "image/png": "[encoded data removed]",
      "text/plain": [
       "<Figure size 432x288 with 1 Axes>"
      ]
     },
     "metadata": {},
     "output_type": "display_data"
    }
   ],
   "source": [
    "hist(full_history['popularity'], [0, 100])\n",
    "full_history['popularity'].describe()"
   ]
  },
  {
   "cell_type": "markdown",
   "metadata": {},
   "source": [
    "### Tempo\n",
    "\n",
    "The overall estimated tempo of a track in beats per minute (BPM). In musical terminology, tempo is the speed or pace of a given piece and derives directly from the average beat duration."
   ]
  },
  {
   "cell_type": "code",
   "execution_count": 17,
   "metadata": {},
   "outputs": [
    {
     "data": {
      "text/plain": [
       "count    31818.000000\n",
       "mean       117.822648\n",
       "std         30.121253\n",
       "min          0.000000\n",
       "25%         94.000000\n",
       "50%        117.000000\n",
       "75%        140.000000\n",
       "max        222.000000\n",
       "Name: tempo, dtype: float64"
      ]
     },
     "execution_count": 17,
     "metadata": {},
     "output_type": "execute_result"
    },
    {
     "data": {
      "image/png": "[encoded data removed]",
      "text/plain": [
       "<Figure size 432x288 with 1 Axes>"
      ]
     },
     "metadata": {},
     "output_type": "display_data"
    }
   ],
   "source": [
    "full_history['tempo'] = full_history['tempo'].apply(round)\n",
    "hist(full_history['tempo'], [30, 225], 24)\n",
    "full_history['tempo'].describe()"
   ]
  },
  {
   "cell_type": "markdown",
   "metadata": {},
   "source": [
    "Many songs are misclassified by Spotify, often doubling the real BPM. Presto tempo is said to be above 168, and after looking through many of the resutls of songs above 168 BPM, it is reasonable to correct songs above this threshold. Although it does cut out the top end, it is more representative for  many songs."
   ]
  },
  {
   "cell_type": "code",
   "execution_count": 18,
   "metadata": {},
   "outputs": [],
   "source": [
    "full_history['tempo'] = full_history['tempo'].apply(lambda x: x if x < 168 else x/2)"
   ]
  },
  {
   "cell_type": "markdown",
   "metadata": {},
   "source": [
    "### Valence\n",
    "\n",
    "A measure from 0.0 to 1.0 describing the musical positiveness conveyed by a track. Tracks with high valence sound more positive (e.g. happy, cheerful, euphoric), while tracks with low valence sound more negative (e.g. sad, depressed, angry)."
   ]
  },
  {
   "cell_type": "code",
   "execution_count": 19,
   "metadata": {},
   "outputs": [
    {
     "data": {
      "text/plain": [
       "count    31818.000000\n",
       "mean         0.443361\n",
       "std          0.241752\n",
       "min          0.000000\n",
       "25%          0.246000\n",
       "50%          0.421000\n",
       "75%          0.621000\n",
       "max          0.990000\n",
       "Name: valence, dtype: float64"
      ]
     },
     "execution_count": 19,
     "metadata": {},
     "output_type": "execute_result"
    },
    {
     "data": {
      "image/png": "[encoded data removed]",
      "text/plain": [
       "<Figure size 432x288 with 1 Axes>"
      ]
     },
     "metadata": {},
     "output_type": "display_data"
    }
   ],
   "source": [
    "hist(full_history['valence'], [0, 1])\n",
    "full_history['valence'].describe()"
   ]
  },
  {
   "cell_type": "markdown",
   "metadata": {},
   "source": [
    "### Release Date\n",
    "\n",
    "After examining, the release date isn't accurate either. For example, all classical music has release dates of 1960 or later, since this is the release of the album itself, not necessarily the conception of the music (which would have placed a lot of this genre in the 17th-20th centuries)."
   ]
  },
  {
   "cell_type": "code",
   "execution_count": 20,
   "metadata": {},
   "outputs": [],
   "source": [
    "full_history = full_history.drop('release', axis=1)"
   ]
  },
  {
   "cell_type": "markdown",
   "metadata": {},
   "source": [
    "Day and time of the week"
   ]
  },
  {
   "cell_type": "code",
   "execution_count": 21,
   "metadata": {},
   "outputs": [],
   "source": [
    "def makeWeekday(a):\n",
    "    '''\n",
    "    weekday\n",
    "    '''\n",
    "    return a.weekday()\n",
    "\n",
    "def makeDecimalHour(a):\n",
    "    '''\n",
    "    decimal hour\n",
    "    '''\n",
    "    return a.hour + (a.minute / 60.0)"
   ]
  },
  {
   "cell_type": "code",
   "execution_count": 22,
   "metadata": {},
   "outputs": [],
   "source": [
    "full_history['weekday'] = full_history['timestamp'].apply(makeWeekday)\n",
    "\n",
    "full_history['hour_decimal'] = full_history['timestamp'].apply(makeDecimalHour)"
   ]
  },
  {
   "cell_type": "code",
   "execution_count": 23,
   "metadata": {
    "scrolled": true
   },
   "outputs": [
    {
     "data": {
      "text/html": [
       "<div>\n",
       "<style scoped>\n",
       "    .dataframe tbody tr th:only-of-type {\n",
       "        vertical-align: middle;\n",
       "    }\n",
       "\n",
       "    .dataframe tbody tr th {\n",
       "        vertical-align: top;\n",
       "    }\n",
       "\n",
       "    .dataframe thead th {\n",
       "        text-align: right;\n",
       "    }\n",
       "</style>\n",
       "<table border=\"1\" class=\"dataframe\">\n",
       "  <thead>\n",
       "    <tr style=\"text-align: right;\">\n",
       "      <th></th>\n",
       "      <th>acousticness</th>\n",
       "      <th>album</th>\n",
       "      <th>artists</th>\n",
       "      <th>danceability</th>\n",
       "      <th>energy</th>\n",
       "      <th>explicit</th>\n",
       "      <th>id</th>\n",
       "      <th>key</th>\n",
       "      <th>mode</th>\n",
       "      <th>name</th>\n",
       "      <th>popularity</th>\n",
       "      <th>speechiness</th>\n",
       "      <th>tempo</th>\n",
       "      <th>time_signature</th>\n",
       "      <th>timestamp</th>\n",
       "      <th>valence</th>\n",
       "      <th>duration</th>\n",
       "      <th>log_loudness</th>\n",
       "      <th>weekday</th>\n",
       "      <th>hour_decimal</th>\n",
       "    </tr>\n",
       "  </thead>\n",
       "  <tbody>\n",
       "    <tr>\n",
       "      <th>19438</th>\n",
       "      <td>0.786</td>\n",
       "      <td>So Polite</td>\n",
       "      <td>[3MATPJ9tYbcMhw5VOZrRU6]</td>\n",
       "      <td>0.788</td>\n",
       "      <td>0.2000</td>\n",
       "      <td>0</td>\n",
       "      <td>15z8ZeMZXrUrkO5ydZnSmo</td>\n",
       "      <td>2</td>\n",
       "      <td>0</td>\n",
       "      <td>So Polite</td>\n",
       "      <td>44</td>\n",
       "      <td>0.0288</td>\n",
       "      <td>106.0</td>\n",
       "      <td>4</td>\n",
       "      <td>2018-09-19 16:41:00-07:00</td>\n",
       "      <td>0.314</td>\n",
       "      <td>1.758517</td>\n",
       "      <td>2.502337</td>\n",
       "      <td>2</td>\n",
       "      <td>16.683333</td>\n",
       "    </tr>\n",
       "    <tr>\n",
       "      <th>26905</th>\n",
       "      <td>0.809</td>\n",
       "      <td>The Astaire Story</td>\n",
       "      <td>[4BtDAwCZhR6nPrJtbVgQNX]</td>\n",
       "      <td>0.719</td>\n",
       "      <td>0.0879</td>\n",
       "      <td>0</td>\n",
       "      <td>5amzLSUX4V7Gszkd0bJnt5</td>\n",
       "      <td>9</td>\n",
       "      <td>1</td>\n",
       "      <td>I Love Louisa</td>\n",
       "      <td>14</td>\n",
       "      <td>0.3430</td>\n",
       "      <td>109.0</td>\n",
       "      <td>4</td>\n",
       "      <td>2018-09-04 20:57:00-07:00</td>\n",
       "      <td>0.521</td>\n",
       "      <td>2.722000</td>\n",
       "      <td>2.851804</td>\n",
       "      <td>1</td>\n",
       "      <td>20.950000</td>\n",
       "    </tr>\n",
       "    <tr>\n",
       "      <th>28004</th>\n",
       "      <td>0.255</td>\n",
       "      <td>Light of Mine</td>\n",
       "      <td>[4qBgvVog0wzW75IQ48mU7v, 17lzZA2AlOHwCwFALHttm...</td>\n",
       "      <td>0.765</td>\n",
       "      <td>0.6090</td>\n",
       "      <td>1</td>\n",
       "      <td>2NWoKpRnMfxocVAXF8ASwk</td>\n",
       "      <td>1</td>\n",
       "      <td>0</td>\n",
       "      <td>Ikuyo (feat. 2 Chainz &amp; Sophia Black)</td>\n",
       "      <td>64</td>\n",
       "      <td>0.1900</td>\n",
       "      <td>78.0</td>\n",
       "      <td>4</td>\n",
       "      <td>2018-08-26 17:51:00-07:00</td>\n",
       "      <td>0.547</td>\n",
       "      <td>3.694450</td>\n",
       "      <td>1.838166</td>\n",
       "      <td>6</td>\n",
       "      <td>17.850000</td>\n",
       "    </tr>\n",
       "    <tr>\n",
       "      <th>18577</th>\n",
       "      <td>0.362</td>\n",
       "      <td>Couldn't Stand The Weather (Legacy Edition)</td>\n",
       "      <td>[5fsDcuclIe8ZiBD5P787K1]</td>\n",
       "      <td>0.475</td>\n",
       "      <td>0.3830</td>\n",
       "      <td>0</td>\n",
       "      <td>5XNpdKmlLJPUbwKQceX2tW</td>\n",
       "      <td>1</td>\n",
       "      <td>1</td>\n",
       "      <td>Little Wing</td>\n",
       "      <td>59</td>\n",
       "      <td>0.0375</td>\n",
       "      <td>115.0</td>\n",
       "      <td>4</td>\n",
       "      <td>2018-09-28 14:45:00-07:00</td>\n",
       "      <td>0.524</td>\n",
       "      <td>6.808000</td>\n",
       "      <td>2.721427</td>\n",
       "      <td>4</td>\n",
       "      <td>14.750000</td>\n",
       "    </tr>\n",
       "    <tr>\n",
       "      <th>31260</th>\n",
       "      <td>0.579</td>\n",
       "      <td>Heaven's Only Wishful</td>\n",
       "      <td>[63vaeIIBKIe9zT91EORVbr]</td>\n",
       "      <td>0.542</td>\n",
       "      <td>0.4680</td>\n",
       "      <td>0</td>\n",
       "      <td>3mSDOXph5bbX3YfFIJLi64</td>\n",
       "      <td>10</td>\n",
       "      <td>1</td>\n",
       "      <td>Whatever Comes to Mind</td>\n",
       "      <td>56</td>\n",
       "      <td>0.0265</td>\n",
       "      <td>131.0</td>\n",
       "      <td>4</td>\n",
       "      <td>2018-11-23 11:14:00-08:00</td>\n",
       "      <td>0.252</td>\n",
       "      <td>4.155083</td>\n",
       "      <td>2.174297</td>\n",
       "      <td>4</td>\n",
       "      <td>11.233333</td>\n",
       "    </tr>\n",
       "  </tbody>\n",
       "</table>\n",
       "</div>"
      ],
      "text/plain": [
       "       acousticness                                        album  \\\n",
       "19438         0.786                                    So Polite   \n",
       "26905         0.809                            The Astaire Story   \n",
       "28004         0.255                                Light of Mine   \n",
       "18577         0.362  Couldn't Stand The Weather (Legacy Edition)   \n",
       "31260         0.579                        Heaven's Only Wishful   \n",
       "\n",
       "                                                 artists  danceability  \\\n",
       "19438                           [3MATPJ9tYbcMhw5VOZrRU6]         0.788   \n",
       "26905                           [4BtDAwCZhR6nPrJtbVgQNX]         0.719   \n",
       "28004  [4qBgvVog0wzW75IQ48mU7v, 17lzZA2AlOHwCwFALHttm...         0.765   \n",
       "18577                           [5fsDcuclIe8ZiBD5P787K1]         0.475   \n",
       "31260                           [63vaeIIBKIe9zT91EORVbr]         0.542   \n",
       "\n",
       "       energy  explicit                      id  key  mode  \\\n",
       "19438  0.2000         0  15z8ZeMZXrUrkO5ydZnSmo    2     0   \n",
       "26905  0.0879         0  5amzLSUX4V7Gszkd0bJnt5    9     1   \n",
       "28004  0.6090         1  2NWoKpRnMfxocVAXF8ASwk    1     0   \n",
       "18577  0.3830         0  5XNpdKmlLJPUbwKQceX2tW    1     1   \n",
       "31260  0.4680         0  3mSDOXph5bbX3YfFIJLi64   10     1   \n",
       "\n",
       "                                        name  popularity  speechiness  tempo  \\\n",
       "19438                              So Polite          44       0.0288  106.0   \n",
       "26905                          I Love Louisa          14       0.3430  109.0   \n",
       "28004  Ikuyo (feat. 2 Chainz & Sophia Black)          64       0.1900   78.0   \n",
       "18577                            Little Wing          59       0.0375  115.0   \n",
       "31260                 Whatever Comes to Mind          56       0.0265  131.0   \n",
       "\n",
       "       time_signature                 timestamp  valence  duration  \\\n",
       "19438               4 2018-09-19 16:41:00-07:00    0.314  1.758517   \n",
       "26905               4 2018-09-04 20:57:00-07:00    0.521  2.722000   \n",
       "28004               4 2018-08-26 17:51:00-07:00    0.547  3.694450   \n",
       "18577               4 2018-09-28 14:45:00-07:00    0.524  6.808000   \n",
       "31260               4 2018-11-23 11:14:00-08:00    0.252  4.155083   \n",
       "\n",
       "       log_loudness  weekday  hour_decimal  \n",
       "19438      2.502337        2     16.683333  \n",
       "26905      2.851804        1     20.950000  \n",
       "28004      1.838166        6     17.850000  \n",
       "18577      2.721427        4     14.750000  \n",
       "31260      2.174297        4     11.233333  "
      ]
     },
     "execution_count": 23,
     "metadata": {},
     "output_type": "execute_result"
    }
   ],
   "source": [
    "full_history.sample(5)"
   ]
  },
  {
   "cell_type": "markdown",
   "metadata": {},
   "source": [
    "How much music are we talking about here?"
   ]
  },
  {
   "cell_type": "code",
   "execution_count": 24,
   "metadata": {},
   "outputs": [
    {
     "name": "stdout",
     "output_type": "stream",
     "text": [
      "Total hours: 2045.704\n",
      "Hours/day: 5.6\n",
      "Average songs/day: 87\n",
      "Total songs listened to: 31818 (unique songs: 14071)\n"
     ]
    }
   ],
   "source": [
    "total_hours = full_history['duration'].sum()/(60)\n",
    "print('Total hours: {:0.3f}'.format(total_hours))\n",
    "\n",
    "hours_per_day = total_hours/(full_history['timestamp'].max() - full_history['timestamp'].min()).days\n",
    "print('Hours/day: {:0.1f}'.format(hours_per_day))\n",
    "\n",
    "avg_song_dur = full_history['duration'].mean()\n",
    "print('Average songs/day: {:0.0f}'.format(hours_per_day/(avg_song_dur/(60.0))))\n",
    "\n",
    "print('Total songs listened to: {} (unique songs: {})'.format(len(full_history), len(get_unique())))"
   ]
  },
  {
   "cell_type": "markdown",
   "metadata": {},
   "source": [
    "## What kinds of music do I listen to?"
   ]
  },
  {
   "cell_type": "markdown",
   "metadata": {},
   "source": [
    "First, what types of genres am I listening to?"
   ]
  },
  {
   "cell_type": "code",
   "execution_count": 25,
   "metadata": {},
   "outputs": [],
   "source": [
    "artists_index = pd.Index(artists['id'])\n",
    "\n",
    "def addTrackGenres(row):\n",
    "    inner_gs = []\n",
    "        \n",
    "    # for each artist in a track\n",
    "    for track_artist in row['artists']:\n",
    "                        \n",
    "        # if the artist exists, get its index\n",
    "        try:\n",
    "            i = artists_index.get_loc(track_artist)\n",
    "        except KeyError:\n",
    "            i = -1\n",
    "            \n",
    "        if i > -1:\n",
    "            cell = artists.iloc[i, 2]\n",
    "            if cell:\n",
    "                # collect genres from artists that match the current index\n",
    "                inner_gs.append(cell)\n",
    "                \n",
    "    if inner_gs:\n",
    "        row['genres'] = np.unique(list(itertools.chain(*inner_gs)))\n",
    "    else:\n",
    "        row['genres'] = None\n",
    "        \n",
    "    return row"
   ]
  },
  {
   "cell_type": "code",
   "execution_count": 26,
   "metadata": {},
   "outputs": [],
   "source": [
    "full_history = full_history.apply(addTrackGenres, 1)"
   ]
  },
  {
   "cell_type": "code",
   "execution_count": 27,
   "metadata": {},
   "outputs": [],
   "source": [
    "genres = []\n",
    "counts = []\n",
    "freqs =  []\n",
    "var1 =   []\n",
    "\n",
    "for row in full_history.loc[full_history['genres'].notnull(), ['energy', 'genres']].itertuples():\n",
    "    \n",
    "    for genre in row.genres:\n",
    "        \n",
    "        if genre in genres:\n",
    "            i = genres.index(genre)\n",
    "            counts[i] += 1\n",
    "            var1[i] += row.energy\n",
    "        else:\n",
    "            genres.append(genre)\n",
    "            counts.append(1)\n",
    "            var1.append(row.energy)\n",
    "\n",
    "total = sum(counts)\n",
    "freqs = np.array(counts) / total\n",
    "var1 = np.array(var1) / np.array(counts)\n",
    "\n",
    "collective_genres = pd.DataFrame({'freq': freqs, 'count': counts, 'genre': genres, 'var1': var1})"
   ]
  },
  {
   "cell_type": "markdown",
   "metadata": {},
   "source": [
    "Below is a visualization of my top 25 genres, starting with most listened to."
   ]
  },
  {
   "cell_type": "code",
   "execution_count": 28,
   "metadata": {},
   "outputs": [
    {
     "data": {
      "image/png": "[encoded data removed]",
      "text/plain": [
       "<Figure size 1152x432 with 1 Axes>"
      ]
     },
     "metadata": {},
     "output_type": "display_data"
    }
   ],
   "source": [
    "offset = 0\n",
    "top = 25\n",
    "sorted_collective_genres = collective_genres.sort_values('freq', ascending=False)\n",
    "\n",
    "plt.subplots(figsize=(16, 6))\n",
    "sns.barplot(x='genre', y='freq', data=sorted_collective_genres[offset:offset+top])\n",
    "plt.ylabel('Frequency')\n",
    "plt.xticks(rotation=30, ha='right');"
   ]
  },
  {
   "cell_type": "markdown",
   "metadata": {},
   "source": [
    "What is the overall mood of my music collection like? It is skewed toward a sadder mood, and has a mean valence of 0.4, which isn't particularly happy."
   ]
  },
  {
   "cell_type": "code",
   "execution_count": 29,
   "metadata": {},
   "outputs": [
    {
     "data": {
      "image/png": "[encoded data removed]",
      "text/plain": [
       "<Figure size 432x288 with 1 Axes>"
      ]
     },
     "metadata": {},
     "output_type": "display_data"
    }
   ],
   "source": [
    "ax = sns.distplot(full_history.valence, bins=10, kde=False, hist_kws={\"edgecolor\": \"k\", \"linewidth\":1})\n",
    "plt.axvline(full_history.valence.median(), color='k', linestyle='--', linewidth=2);\n",
    "plt.text(0.8, 0.8, r'$\\mu={0:2f}$'.format(full_history.valence.median()), \n",
    "         horizontalalignment='center', verticalalignment='center', transform=ax.transAxes);"
   ]
  },
  {
   "cell_type": "markdown",
   "metadata": {},
   "source": [
    "Who are my most listened to artists?"
   ]
  },
  {
   "cell_type": "code",
   "execution_count": 30,
   "metadata": {},
   "outputs": [],
   "source": [
    "collective_artists = [artists for artists in full_history.loc[full_history['artists'].notnull(), 'artists']]\n",
    "    \n",
    "collective_artists = np.array(list(itertools.chain(*collective_artists)))\n",
    "unique_artists, artist_counts = np.unique(collective_artists, return_counts=True)\n",
    "\n",
    "artist_df = pd.DataFrame({'id': unique_artists, 'listens': artist_counts})\n",
    "artists = pd.merge(artist_df, artists, on='id')\n",
    "\n",
    "def simplifyGenre(x):\n",
    "    for genre in collective_genres['genre']:\n",
    "        if genre in x:\n",
    "            return genre\n",
    "        \n",
    "    return 'other'\n",
    "\n",
    "artists['simple_genre'] = artists['genres'].apply(simplifyGenre)"
   ]
  },
  {
   "cell_type": "markdown",
   "metadata": {},
   "source": [
    "Below is a visualization of my most listened to artists. They are counted if they are featured or produce a song as well. The color represents their top-level genre classification."
   ]
  },
  {
   "cell_type": "code",
   "execution_count": 31,
   "metadata": {},
   "outputs": [
    {
     "data": {
      "image/png": "[encoded data removed]",
      "text/plain": [
       "<Figure size 1296x432 with 1 Axes>"
      ]
     },
     "metadata": {},
     "output_type": "display_data"
    }
   ],
   "source": [
    "offset = 0\n",
    "sort_artist_df = artists.sort_values('listens', ascending=False)\n",
    "\n",
    "plt.subplots(figsize=(18,6))\n",
    "g = sns.barplot(x='artist', y='listens', data=sort_artist_df[offset:offset+25], hue='simple_genre', dodge=False, palette='hls')\n",
    "plt.xticks(rotation=30, horizontalalignment='right')\n",
    "plt.xlabel('Artist');\n",
    "plt.ylabel('# of Listens');\n",
    "#plt.savefig('topartists.png')"
   ]
  },
  {
   "cell_type": "code",
   "execution_count": 32,
   "metadata": {},
   "outputs": [],
   "source": [
    "full_history.to_json('data/history_clean.json')\n",
    "artists.to_json('data/artists_clean.json')"
   ]
  }
 ],
 "metadata": {
  "kernelspec": {
   "display_name": "Python 3",
   "language": "python",
   "name": "python3"
  },
  "language_info": {
   "codemirror_mode": {
    "name": "ipython",
    "version": 3
   },
   "file_extension": ".py",
   "mimetype": "text/x-python",
   "name": "python",
   "nbconvert_exporter": "python",
   "pygments_lexer": "ipython3",
   "version": "3.6.3"
  }
 },
 "nbformat": 4,
 "nbformat_minor": 2
}
