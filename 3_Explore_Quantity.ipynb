{
 "cells": [
  {
   "cell_type": "code",
   "execution_count": 1,
   "metadata": {},
   "outputs": [],
   "source": [
    "import pandas as pd\n",
    "from pandas import Timestamp\n",
    "import numpy as np\n",
    "import scipy.stats as stats\n",
    "from datetime import datetime\n",
    "from pytz import timezone\n",
    "\n",
    "import itertools\n",
    "\n",
    "import seaborn as sns\n",
    "import matplotlib.pyplot as plt\n",
    "from matplotlib import colors\n",
    "%matplotlib inline\n",
    "\n",
    "sns.set_style('whitegrid')\n",
    "pd.set_option('display.max_columns', 100)"
   ]
  },
  {
   "cell_type": "code",
   "execution_count": 2,
   "metadata": {},
   "outputs": [],
   "source": [
    "full_history = pd.read_json('data/history_comp.json')\n",
    "\n",
    "if full_history['timestamp'].max().tz is None:\n",
    "    full_history['timestamp'] = pd.to_datetime(full_history['timestamp'], utc=True)\n",
    "    full_history['timestamp'] = full_history['timestamp'].apply(lambda t: t.tz_convert('US/Pacific'))\n",
    "\n",
    "full_history = full_history.drop('index', axis=1)"
   ]
  },
  {
   "cell_type": "markdown",
   "metadata": {},
   "source": [
    "As shown below, for every 2 songs listened to, 1 of them is unique and new to my music catalog."
   ]
  },
  {
   "cell_type": "code",
   "execution_count": 3,
   "metadata": {},
   "outputs": [
    {
     "data": {
      "text/plain": [
       "2.0317730125523012"
      ]
     },
     "execution_count": 3,
     "metadata": {},
     "output_type": "execute_result"
    }
   ],
   "source": [
    "def get_unique():\n",
    "    unique_history = full_history.drop('timestamp', axis=1)\n",
    "    return unique_history.drop_duplicates('id')\n",
    "\n",
    "len(full_history)/len(get_unique())"
   ]
  },
  {
   "cell_type": "markdown",
   "metadata": {},
   "source": [
    "Here is a sample of artists. In addition to the a priori known name, we have followers, genres, and popularity of each artist."
   ]
  },
  {
   "cell_type": "code",
   "execution_count": 4,
   "metadata": {},
   "outputs": [
    {
     "data": {
      "text/html": [
       "<div>\n",
       "<style scoped>\n",
       "    .dataframe tbody tr th:only-of-type {\n",
       "        vertical-align: middle;\n",
       "    }\n",
       "\n",
       "    .dataframe tbody tr th {\n",
       "        vertical-align: top;\n",
       "    }\n",
       "\n",
       "    .dataframe thead th {\n",
       "        text-align: right;\n",
       "    }\n",
       "</style>\n",
       "<table border=\"1\" class=\"dataframe\">\n",
       "  <thead>\n",
       "    <tr style=\"text-align: right;\">\n",
       "      <th></th>\n",
       "      <th>artist</th>\n",
       "      <th>followers</th>\n",
       "      <th>genres</th>\n",
       "      <th>id</th>\n",
       "      <th>popularity</th>\n",
       "    </tr>\n",
       "  </thead>\n",
       "  <tbody>\n",
       "    <tr>\n",
       "      <th>226</th>\n",
       "      <td>Tofer Dolan</td>\n",
       "      <td>253</td>\n",
       "      <td>[]</td>\n",
       "      <td>1A15FtO93wkkoqGYAufuc0</td>\n",
       "      <td>40</td>\n",
       "    </tr>\n",
       "    <tr>\n",
       "      <th>4000</th>\n",
       "      <td>Hank Williams, Jr.</td>\n",
       "      <td>288396</td>\n",
       "      <td>[contemporary country, country, country road, ...</td>\n",
       "      <td>2dyeCWctcFRt3Pha76ONgb</td>\n",
       "      <td>66</td>\n",
       "    </tr>\n",
       "    <tr>\n",
       "      <th>4872</th>\n",
       "      <td>Sleepy Sun</td>\n",
       "      <td>21679</td>\n",
       "      <td>[freak folk, neo-psychedelic, space rock]</td>\n",
       "      <td>4CL0ezfJvQDkDmjMG7XrV0</td>\n",
       "      <td>39</td>\n",
       "    </tr>\n",
       "    <tr>\n",
       "      <th>1653</th>\n",
       "      <td>Peter Donohoe</td>\n",
       "      <td>691</td>\n",
       "      <td>[orchestral]</td>\n",
       "      <td>4f0tuIEBENmmp4JnPxV7Ka</td>\n",
       "      <td>36</td>\n",
       "    </tr>\n",
       "    <tr>\n",
       "      <th>1136</th>\n",
       "      <td>falcxne</td>\n",
       "      <td>9</td>\n",
       "      <td>[]</td>\n",
       "      <td>5WHA42lIQnJQRjOLVlapkZ</td>\n",
       "      <td>0</td>\n",
       "    </tr>\n",
       "  </tbody>\n",
       "</table>\n",
       "</div>"
      ],
      "text/plain": [
       "                  artist  followers  \\\n",
       "226          Tofer Dolan        253   \n",
       "4000  Hank Williams, Jr.     288396   \n",
       "4872          Sleepy Sun      21679   \n",
       "1653       Peter Donohoe        691   \n",
       "1136             falcxne          9   \n",
       "\n",
       "                                                 genres  \\\n",
       "226                                                  []   \n",
       "4000  [contemporary country, country, country road, ...   \n",
       "4872          [freak folk, neo-psychedelic, space rock]   \n",
       "1653                                       [orchestral]   \n",
       "1136                                                 []   \n",
       "\n",
       "                          id  popularity  \n",
       "226   1A15FtO93wkkoqGYAufuc0          40  \n",
       "4000  2dyeCWctcFRt3Pha76ONgb          66  \n",
       "4872  4CL0ezfJvQDkDmjMG7XrV0          39  \n",
       "1653  4f0tuIEBENmmp4JnPxV7Ka          36  \n",
       "1136  5WHA42lIQnJQRjOLVlapkZ           0  "
      ]
     },
     "execution_count": 4,
     "metadata": {},
     "output_type": "execute_result"
    }
   ],
   "source": [
    "artists = pd.read_json('data/artist_info.json')\n",
    "artists.sample(5)"
   ]
  },
  {
   "cell_type": "markdown",
   "metadata": {},
   "source": [
    "### Visualizing Feature Space\n",
    "\n",
    "Below we visualize the distributions of each feature. Pay close attention because we do make some modifications on a per-feature basis. These are designed to reduce error down the road."
   ]
  },
  {
   "cell_type": "code",
   "execution_count": 5,
   "metadata": {},
   "outputs": [],
   "source": [
    "def hist(X, xlim, bins=14):\n",
    "    plt.xlim(xlim)\n",
    "    N, bins, patches = plt.hist(X, bins=bins)\n",
    "\n",
    "    fracs = N / N.max()\n",
    "\n",
    "    norm = colors.Normalize(fracs.min(), fracs.max())\n",
    "\n",
    "    for frac, patch in zip(fracs, patches):\n",
    "        color = plt.cm.coolwarm(norm(frac))\n",
    "        patch.set_facecolor(color)"
   ]
  },
  {
   "cell_type": "markdown",
   "metadata": {},
   "source": [
    "### Acousticness\n",
    "\n",
    "A confidence measure from 0.0 to 1.0 of whether the track is acoustic. 1.0 represents high confidence the track is acoustic."
   ]
  },
  {
   "cell_type": "code",
   "execution_count": 6,
   "metadata": {},
   "outputs": [
    {
     "data": {
      "text/plain": [
       "count    15539.000000\n",
       "mean         0.299589\n",
       "std          0.311644\n",
       "min          0.000003\n",
       "25%          0.036400\n",
       "50%          0.176000\n",
       "75%          0.500500\n",
       "max          0.996000\n",
       "Name: acousticness, dtype: float64"
      ]
     },
     "execution_count": 6,
     "metadata": {},
     "output_type": "execute_result"
    },
    {
     "data": {
      "image/png": "[encoded data removed]",
      "text/plain": [
       "<matplotlib.figure.Figure at 0x1a1c765e80>"
      ]
     },
     "metadata": {},
     "output_type": "display_data"
    }
   ],
   "source": [
    "hist(full_history['acousticness'], [0,1])\n",
    "full_history['acousticness'].describe()"
   ]
  },
  {
   "cell_type": "markdown",
   "metadata": {},
   "source": [
    "### Danceability\n",
    "\n",
    "Danceability describes how suitable a track is for dancing based on a combination of musical elements including tempo, rhythm stability, beat strength, and overall regularity. A value of 0.0 is least danceable and 1.0 is most danceable."
   ]
  },
  {
   "cell_type": "code",
   "execution_count": 7,
   "metadata": {},
   "outputs": [
    {
     "data": {
      "text/plain": [
       "count    15539.000000\n",
       "mean         0.600849\n",
       "std          0.171185\n",
       "min          0.000000\n",
       "25%          0.484000\n",
       "50%          0.610000\n",
       "75%          0.731000\n",
       "max          0.984000\n",
       "Name: danceability, dtype: float64"
      ]
     },
     "execution_count": 7,
     "metadata": {},
     "output_type": "execute_result"
    },
    {
     "data": {
      "image/png": "[encoded data removed]",
      "text/plain": [
       "<matplotlib.figure.Figure at 0x1a1c765c50>"
      ]
     },
     "metadata": {},
     "output_type": "display_data"
    }
   ],
   "source": [
    "hist(full_history['danceability'], [0,1])\n",
    "full_history['danceability'].describe()"
   ]
  },
  {
   "cell_type": "markdown",
   "metadata": {},
   "source": [
    "### Duration\n",
    "\n",
    "The duration of the track in milliseconds. Convert the duration to floating-point minutes."
   ]
  },
  {
   "cell_type": "code",
   "execution_count": 8,
   "metadata": {},
   "outputs": [
    {
     "data": {
      "text/plain": [
       "count    15539.000000\n",
       "mean         3.888261\n",
       "std          1.461977\n",
       "min          0.566450\n",
       "25%          3.150000\n",
       "50%          3.666667\n",
       "75%          4.358217\n",
       "max         41.983333\n",
       "Name: duration, dtype: float64"
      ]
     },
     "execution_count": 8,
     "metadata": {},
     "output_type": "execute_result"
    },
    {
     "data": {
      "image/png": "[encoded data removed]",
      "text/plain": [
       "<matplotlib.figure.Figure at 0x1a1c64c128>"
      ]
     },
     "metadata": {},
     "output_type": "display_data"
    }
   ],
   "source": [
    "full_history['duration'] = full_history['duration_ms'] / 1000 / 60\n",
    "hist(full_history['duration'], [0,45], 25)\n",
    "full_history['duration'].describe()"
   ]
  },
  {
   "cell_type": "code",
   "execution_count": 9,
   "metadata": {},
   "outputs": [],
   "source": [
    "full_history = full_history.drop('duration_ms', axis=1)"
   ]
  },
  {
   "cell_type": "markdown",
   "metadata": {},
   "source": [
    "### Energy\n",
    "\n",
    "Energy is a measure from 0.0 to 1.0 and represents a perceptual measure of intensity and activity. Typically, energetic tracks feel fast, loud, and noisy. For example, death metal has high energy, while a Bach prelude scores low on the scale. Perceptual features contributing to this attribute include dynamic range, perceived loudness, timbre, onset rate, and general entropy."
   ]
  },
  {
   "cell_type": "code",
   "execution_count": 10,
   "metadata": {},
   "outputs": [
    {
     "data": {
      "text/plain": [
       "count    15539.000000\n",
       "mean         0.586611\n",
       "std          0.228814\n",
       "min          0.000577\n",
       "25%          0.448000\n",
       "50%          0.605000\n",
       "75%          0.757000\n",
       "max          0.998000\n",
       "Name: energy, dtype: float64"
      ]
     },
     "execution_count": 10,
     "metadata": {},
     "output_type": "execute_result"
    },
    {
     "data": {
      "image/png": "[encoded data removed]",
      "text/plain": [
       "<matplotlib.figure.Figure at 0x1a1c7552e8>"
      ]
     },
     "metadata": {},
     "output_type": "display_data"
    }
   ],
   "source": [
    "hist(full_history['energy'], [0,1])\n",
    "full_history['energy'].describe()"
   ]
  },
  {
   "cell_type": "markdown",
   "metadata": {},
   "source": [
    "### Liveness\n",
    "\n",
    "Detects the presence of an audience in the recording. Higher liveness values represent an increased probability that the track was performed live. A value above 0.8 provides strong likelihood that the track is live."
   ]
  },
  {
   "cell_type": "code",
   "execution_count": 11,
   "metadata": {},
   "outputs": [
    {
     "data": {
      "text/plain": [
       "count    15539.000000\n",
       "mean         0.189742\n",
       "std          0.153008\n",
       "min          0.018700\n",
       "25%          0.097600\n",
       "50%          0.125000\n",
       "75%          0.232000\n",
       "max          0.989000\n",
       "Name: liveness, dtype: float64"
      ]
     },
     "execution_count": 11,
     "metadata": {},
     "output_type": "execute_result"
    },
    {
     "data": {
      "image/png": "[encoded data removed]",
      "text/plain": [
       "<matplotlib.figure.Figure at 0x1a1c7597b8>"
      ]
     },
     "metadata": {},
     "output_type": "display_data"
    }
   ],
   "source": [
    "hist(full_history['liveness'], [0,1])\n",
    "full_history['liveness'].describe()"
   ]
  },
  {
   "cell_type": "code",
   "execution_count": 12,
   "metadata": {},
   "outputs": [
    {
     "data": {
      "text/plain": [
       "10235                                                 WDYW\n",
       "10565                                              Feel Me\n",
       "10662                    Sunday Morning Coming Down - Live\n",
       "10728                                       Round Whippin'\n",
       "10733                                                 TEAM\n",
       "10770                                            Champions\n",
       "10838    If I Believe You - Live From The O2, London. 1...\n",
       "1089                                            So Special\n",
       "11120           Not Nineteen Forever - Live at Heaton Park\n",
       "11493                                      Ragged Old Flag\n",
       "11982                                    I’m On Everything\n",
       "12176                               Get Up Offa That Thing\n",
       "12342                                 Transgender Biscuits\n",
       "13007                                          The Dreamer\n",
       "13240                                      Colder Than Ice\n",
       "Name: name, dtype: object"
      ]
     },
     "execution_count": 12,
     "metadata": {},
     "output_type": "execute_result"
    }
   ],
   "source": [
    "full_history[full_history['liveness'] > 0.8].drop_duplicates('id')['name'][:15]"
   ]
  },
  {
   "cell_type": "markdown",
   "metadata": {},
   "source": [
    "Liveness is obviously an inaccurate measurement, thus we cannot use it reliably. We remove it."
   ]
  },
  {
   "cell_type": "code",
   "execution_count": 13,
   "metadata": {},
   "outputs": [],
   "source": [
    "full_history = full_history.drop('liveness', axis=1)"
   ]
  },
  {
   "cell_type": "markdown",
   "metadata": {},
   "source": [
    "### Loudness\n",
    "\n",
    "The overall loudness of a track in decibels (dB). Loudness values are averaged across the entire track and are useful for comparing relative loudness of tracks. Loudness is the quality of a sound that is the primary psychological correlate of physical strength (amplitude). Values typical range between -60 and 0 db.\n",
    "\n",
    "Similar to duration, loudness is heavily skewed, thus we log scale it to bring things back together and reveal more of the underlying structure. Note the transformation of the values too. Since we don't care too much about the actual value of the loudness, only whether it's relatively loud or not, we assume this is acceptable."
   ]
  },
  {
   "cell_type": "code",
   "execution_count": 14,
   "metadata": {},
   "outputs": [
    {
     "data": {
      "text/plain": [
       "count    15539.000000\n",
       "mean         2.146680\n",
       "std          0.455518\n",
       "min         -0.529329\n",
       "25%          1.858561\n",
       "50%          2.114205\n",
       "75%          2.367858\n",
       "max          3.877990\n",
       "Name: log_loudness, dtype: float64"
      ]
     },
     "execution_count": 14,
     "metadata": {},
     "output_type": "execute_result"
    },
    {
     "data": {
      "image/png": "[encoded data removed]",
      "text/plain": [
       "<matplotlib.figure.Figure at 0x1a1c652710>"
      ]
     },
     "metadata": {},
     "output_type": "display_data"
    }
   ],
   "source": [
    "full_history['log_loudness'] = np.log(-1*full_history['loudness']+1)\n",
    "hist(full_history['log_loudness'], [-0.8,4], 20)\n",
    "full_history['log_loudness'].describe()"
   ]
  },
  {
   "cell_type": "code",
   "execution_count": 15,
   "metadata": {},
   "outputs": [],
   "source": [
    "full_history = full_history.drop('loudness', axis=1)"
   ]
  },
  {
   "cell_type": "markdown",
   "metadata": {},
   "source": [
    "### Popularity\n",
    "\n",
    "The popularity of the track. The value will be between 0 and 100, with 100 being the most popular.\n",
    "The popularity of a track is a value between 0 and 100, with 100 being the most popular. The popularity is calculated by algorithm and is based, in the most part, on the total number of plays the track has had and how recent those plays are.\n",
    "\n",
    "Generally speaking, songs that are being played a lot now will have a higher popularity than songs that were played a lot in the past. Duplicate tracks (e.g. the same track from a single and an album) are rated independently. Artist and album popularity is derived mathematically from track popularity. Note that the popularity value may lag actual popularity by a few days: the value is not updated in real time."
   ]
  },
  {
   "cell_type": "code",
   "execution_count": 16,
   "metadata": {},
   "outputs": [
    {
     "data": {
      "text/plain": [
       "count    15539.000000\n",
       "mean        53.478474\n",
       "std         17.515526\n",
       "min          0.000000\n",
       "25%         43.000000\n",
       "50%         56.000000\n",
       "75%         65.000000\n",
       "max        100.000000\n",
       "Name: popularity, dtype: float64"
      ]
     },
     "execution_count": 16,
     "metadata": {},
     "output_type": "execute_result"
    },
    {
     "data": {
      "image/png": "[encoded data removed]",
      "text/plain": [
       "<matplotlib.figure.Figure at 0x11b6f06d8>"
      ]
     },
     "metadata": {},
     "output_type": "display_data"
    }
   ],
   "source": [
    "hist(full_history['popularity'], [0, 100])\n",
    "full_history['popularity'].describe()"
   ]
  },
  {
   "cell_type": "markdown",
   "metadata": {},
   "source": [
    "### Tempo\n",
    "\n",
    "The overall estimated tempo of a track in beats per minute (BPM). In musical terminology, tempo is the speed or pace of a given piece and derives directly from the average beat duration."
   ]
  },
  {
   "cell_type": "code",
   "execution_count": 17,
   "metadata": {},
   "outputs": [
    {
     "data": {
      "text/plain": [
       "count    15539.000000\n",
       "mean       118.310059\n",
       "std         30.204418\n",
       "min          0.000000\n",
       "25%         94.000000\n",
       "50%        118.000000\n",
       "75%        140.000000\n",
       "max        222.000000\n",
       "Name: tempo, dtype: float64"
      ]
     },
     "execution_count": 17,
     "metadata": {},
     "output_type": "execute_result"
    },
    {
     "data": {
      "image/png": "[encoded data removed]",
      "text/plain": [
       "<matplotlib.figure.Figure at 0x11b6f09b0>"
      ]
     },
     "metadata": {},
     "output_type": "display_data"
    }
   ],
   "source": [
    "full_history['tempo'] = full_history['tempo'].apply(round)\n",
    "hist(full_history['tempo'], [30, 225], 24)\n",
    "full_history['tempo'].describe()"
   ]
  },
  {
   "cell_type": "markdown",
   "metadata": {},
   "source": [
    "Many songs are misclassified by Spotify, often doubling the real BPM. Presto tempo is said to be above 168, and after looking through many of the resutls of songs above 168 BPM, it is reasonable to correct songs above this threshold. Although it does cut out the top end, it is more representative for  many songs."
   ]
  },
  {
   "cell_type": "code",
   "execution_count": 18,
   "metadata": {},
   "outputs": [],
   "source": [
    "full_history['tempo'] = full_history['tempo'].apply(lambda x: x if x < 168 else x/2)"
   ]
  },
  {
   "cell_type": "markdown",
   "metadata": {},
   "source": [
    "### Valence\n",
    "\n",
    "A measure from 0.0 to 1.0 describing the musical positiveness conveyed by a track. Tracks with high valence sound more positive (e.g. happy, cheerful, euphoric), while tracks with low valence sound more negative (e.g. sad, depressed, angry)."
   ]
  },
  {
   "cell_type": "code",
   "execution_count": 19,
   "metadata": {},
   "outputs": [
    {
     "data": {
      "text/plain": [
       "count    15539.000000\n",
       "mean         0.441296\n",
       "std          0.241125\n",
       "min          0.000000\n",
       "25%          0.246000\n",
       "50%          0.417000\n",
       "75%          0.621000\n",
       "max          0.990000\n",
       "Name: valence, dtype: float64"
      ]
     },
     "execution_count": 19,
     "metadata": {},
     "output_type": "execute_result"
    },
    {
     "data": {
      "image/png": "[encoded data removed]",
      "text/plain": [
       "<matplotlib.figure.Figure at 0x1a1c760dd8>"
      ]
     },
     "metadata": {},
     "output_type": "display_data"
    }
   ],
   "source": [
    "hist(full_history['valence'], [0, 1])\n",
    "full_history['valence'].describe()"
   ]
  },
  {
   "cell_type": "markdown",
   "metadata": {},
   "source": [
    "### Release Date\n",
    "\n",
    "After examining, the release date isn't accurate either. For example, all classical music has release dates of 1960 or later, since this is the release of the album itself, not necessarily the conception of the music (which would have placed a lot of this genre in the 17th-20th centuries)."
   ]
  },
  {
   "cell_type": "code",
   "execution_count": 20,
   "metadata": {},
   "outputs": [],
   "source": [
    "full_history = full_history.drop('release', axis=1)"
   ]
  },
  {
   "cell_type": "code",
   "execution_count": 22,
   "metadata": {},
   "outputs": [],
   "source": [
    "def makeWeekday(a):\n",
    "    '''\n",
    "    weekday\n",
    "    '''\n",
    "    return a.weekday()\n",
    "\n",
    "def makeDecimalHour(a):\n",
    "    '''\n",
    "    decimal hour\n",
    "    '''\n",
    "    return a.hour + (a.minute / 60.0)"
   ]
  },
  {
   "cell_type": "code",
   "execution_count": 23,
   "metadata": {},
   "outputs": [],
   "source": [
    "full_history['weekday'] = full_history['timestamp'].apply(makeWeekday)\n",
    "\n",
    "full_history['hour_decimal'] = full_history['timestamp'].apply(makeDecimalHour)"
   ]
  },
  {
   "cell_type": "code",
   "execution_count": 24,
   "metadata": {
    "scrolled": true
   },
   "outputs": [
    {
     "data": {
      "text/html": [
       "<div>\n",
       "<style scoped>\n",
       "    .dataframe tbody tr th:only-of-type {\n",
       "        vertical-align: middle;\n",
       "    }\n",
       "\n",
       "    .dataframe tbody tr th {\n",
       "        vertical-align: top;\n",
       "    }\n",
       "\n",
       "    .dataframe thead th {\n",
       "        text-align: right;\n",
       "    }\n",
       "</style>\n",
       "<table border=\"1\" class=\"dataframe\">\n",
       "  <thead>\n",
       "    <tr style=\"text-align: right;\">\n",
       "      <th></th>\n",
       "      <th>acousticness</th>\n",
       "      <th>album</th>\n",
       "      <th>artists</th>\n",
       "      <th>danceability</th>\n",
       "      <th>energy</th>\n",
       "      <th>explicit</th>\n",
       "      <th>id</th>\n",
       "      <th>key</th>\n",
       "      <th>mode</th>\n",
       "      <th>name</th>\n",
       "      <th>popularity</th>\n",
       "      <th>speechiness</th>\n",
       "      <th>tempo</th>\n",
       "      <th>time_signature</th>\n",
       "      <th>timestamp</th>\n",
       "      <th>valence</th>\n",
       "      <th>duration</th>\n",
       "      <th>log_loudness</th>\n",
       "      <th>weekday</th>\n",
       "      <th>hour_decimal</th>\n",
       "    </tr>\n",
       "  </thead>\n",
       "  <tbody>\n",
       "    <tr>\n",
       "      <th>11101</th>\n",
       "      <td>0.17600</td>\n",
       "      <td>French Kiwi Juice</td>\n",
       "      <td>[2FwDTncULUnmANIh7qKa5z]</td>\n",
       "      <td>0.525</td>\n",
       "      <td>0.7200</td>\n",
       "      <td>0</td>\n",
       "      <td>4c60yLpE5lXvICT0pyEaZ5</td>\n",
       "      <td>11</td>\n",
       "      <td>0</td>\n",
       "      <td>Better Give U Up</td>\n",
       "      <td>66</td>\n",
       "      <td>0.1690</td>\n",
       "      <td>92.0</td>\n",
       "      <td>4</td>\n",
       "      <td>2018-01-04 14:59:00-08:00</td>\n",
       "      <td>0.483</td>\n",
       "      <td>4.280000</td>\n",
       "      <td>2.068886</td>\n",
       "      <td>3</td>\n",
       "      <td>14.983333</td>\n",
       "    </tr>\n",
       "    <tr>\n",
       "      <th>11949</th>\n",
       "      <td>0.62600</td>\n",
       "      <td>Old Habits</td>\n",
       "      <td>[5Z1pJHnETn6fqC37KYfi3Z]</td>\n",
       "      <td>0.727</td>\n",
       "      <td>0.3570</td>\n",
       "      <td>0</td>\n",
       "      <td>4BAa7dlu1M4yP7Vt5ul3US</td>\n",
       "      <td>1</td>\n",
       "      <td>1</td>\n",
       "      <td>Old Habits</td>\n",
       "      <td>27</td>\n",
       "      <td>0.3400</td>\n",
       "      <td>84.0</td>\n",
       "      <td>4</td>\n",
       "      <td>2017-12-30 21:39:00-08:00</td>\n",
       "      <td>0.324</td>\n",
       "      <td>2.645833</td>\n",
       "      <td>2.320523</td>\n",
       "      <td>5</td>\n",
       "      <td>21.650000</td>\n",
       "    </tr>\n",
       "    <tr>\n",
       "      <th>12417</th>\n",
       "      <td>0.00359</td>\n",
       "      <td>The Peace And The Panic</td>\n",
       "      <td>[2TM0qnbJH4QPhGMCdPt7fH]</td>\n",
       "      <td>0.594</td>\n",
       "      <td>0.9590</td>\n",
       "      <td>0</td>\n",
       "      <td>6WoyghnMAvDDRbZfFbpwEo</td>\n",
       "      <td>7</td>\n",
       "      <td>1</td>\n",
       "      <td>In Bloom</td>\n",
       "      <td>63</td>\n",
       "      <td>0.0486</td>\n",
       "      <td>111.0</td>\n",
       "      <td>4</td>\n",
       "      <td>2018-06-16 11:05:00-07:00</td>\n",
       "      <td>0.381</td>\n",
       "      <td>3.634250</td>\n",
       "      <td>1.739940</td>\n",
       "      <td>5</td>\n",
       "      <td>11.083333</td>\n",
       "    </tr>\n",
       "    <tr>\n",
       "      <th>4582</th>\n",
       "      <td>0.99100</td>\n",
       "      <td>The English Suites; Suites Nos.1 - 6 (2 CDs)</td>\n",
       "      <td>[5aIqB5nVVvmFsvSdExz408, 24K6LTZFqBAvKsorwK0iXd]</td>\n",
       "      <td>0.290</td>\n",
       "      <td>0.0768</td>\n",
       "      <td>0</td>\n",
       "      <td>4jOrVPvsjQz78jeMxeOTDK</td>\n",
       "      <td>9</td>\n",
       "      <td>0</td>\n",
       "      <td>English Suite No.2 in A minor, BWV 807: 2. All...</td>\n",
       "      <td>36</td>\n",
       "      <td>0.0466</td>\n",
       "      <td>129.0</td>\n",
       "      <td>4</td>\n",
       "      <td>2017-12-22 20:30:00-08:00</td>\n",
       "      <td>0.583</td>\n",
       "      <td>3.258883</td>\n",
       "      <td>3.447636</td>\n",
       "      <td>4</td>\n",
       "      <td>20.500000</td>\n",
       "    </tr>\n",
       "    <tr>\n",
       "      <th>1248</th>\n",
       "      <td>0.03500</td>\n",
       "      <td>Heaven On Earth</td>\n",
       "      <td>[7xkAwz0bQTGDSbkofyQt3U]</td>\n",
       "      <td>0.637</td>\n",
       "      <td>0.7860</td>\n",
       "      <td>0</td>\n",
       "      <td>58mFu3oIpBa0HLNeJIxsw3</td>\n",
       "      <td>4</td>\n",
       "      <td>1</td>\n",
       "      <td>Heaven Is A Place On Earth</td>\n",
       "      <td>64</td>\n",
       "      <td>0.0324</td>\n",
       "      <td>123.0</td>\n",
       "      <td>4</td>\n",
       "      <td>2018-04-02 17:49:00-07:00</td>\n",
       "      <td>0.804</td>\n",
       "      <td>4.121550</td>\n",
       "      <td>2.415199</td>\n",
       "      <td>0</td>\n",
       "      <td>17.816667</td>\n",
       "    </tr>\n",
       "  </tbody>\n",
       "</table>\n",
       "</div>"
      ],
      "text/plain": [
       "       acousticness                                         album  \\\n",
       "11101       0.17600                             French Kiwi Juice   \n",
       "11949       0.62600                                    Old Habits   \n",
       "12417       0.00359                       The Peace And The Panic   \n",
       "4582        0.99100  The English Suites; Suites Nos.1 - 6 (2 CDs)   \n",
       "1248        0.03500                               Heaven On Earth   \n",
       "\n",
       "                                                artists  danceability  energy  \\\n",
       "11101                          [2FwDTncULUnmANIh7qKa5z]         0.525  0.7200   \n",
       "11949                          [5Z1pJHnETn6fqC37KYfi3Z]         0.727  0.3570   \n",
       "12417                          [2TM0qnbJH4QPhGMCdPt7fH]         0.594  0.9590   \n",
       "4582   [5aIqB5nVVvmFsvSdExz408, 24K6LTZFqBAvKsorwK0iXd]         0.290  0.0768   \n",
       "1248                           [7xkAwz0bQTGDSbkofyQt3U]         0.637  0.7860   \n",
       "\n",
       "       explicit                      id  key  mode  \\\n",
       "11101         0  4c60yLpE5lXvICT0pyEaZ5   11     0   \n",
       "11949         0  4BAa7dlu1M4yP7Vt5ul3US    1     1   \n",
       "12417         0  6WoyghnMAvDDRbZfFbpwEo    7     1   \n",
       "4582          0  4jOrVPvsjQz78jeMxeOTDK    9     0   \n",
       "1248          0  58mFu3oIpBa0HLNeJIxsw3    4     1   \n",
       "\n",
       "                                                    name  popularity  \\\n",
       "11101                                   Better Give U Up          66   \n",
       "11949                                         Old Habits          27   \n",
       "12417                                           In Bloom          63   \n",
       "4582   English Suite No.2 in A minor, BWV 807: 2. All...          36   \n",
       "1248                          Heaven Is A Place On Earth          64   \n",
       "\n",
       "       speechiness  tempo  time_signature                 timestamp  valence  \\\n",
       "11101       0.1690   92.0               4 2018-01-04 14:59:00-08:00    0.483   \n",
       "11949       0.3400   84.0               4 2017-12-30 21:39:00-08:00    0.324   \n",
       "12417       0.0486  111.0               4 2018-06-16 11:05:00-07:00    0.381   \n",
       "4582        0.0466  129.0               4 2017-12-22 20:30:00-08:00    0.583   \n",
       "1248        0.0324  123.0               4 2018-04-02 17:49:00-07:00    0.804   \n",
       "\n",
       "       duration  log_loudness  weekday  hour_decimal  \n",
       "11101  4.280000      2.068886        3     14.983333  \n",
       "11949  2.645833      2.320523        5     21.650000  \n",
       "12417  3.634250      1.739940        5     11.083333  \n",
       "4582   3.258883      3.447636        4     20.500000  \n",
       "1248   4.121550      2.415199        0     17.816667  "
      ]
     },
     "execution_count": 24,
     "metadata": {},
     "output_type": "execute_result"
    }
   ],
   "source": [
    "full_history.sample(5)"
   ]
  },
  {
   "cell_type": "markdown",
   "metadata": {},
   "source": [
    "How much music are we talking about here?"
   ]
  },
  {
   "cell_type": "code",
   "execution_count": 26,
   "metadata": {},
   "outputs": [
    {
     "name": "stdout",
     "output_type": "stream",
     "text": [
      "Total hours: 1006.995\n",
      "Hours/day: 5.4\n",
      "Average songs/day: 84\n",
      "Total songs listened to: 15539 (unique songs: 7648)\n"
     ]
    }
   ],
   "source": [
    "total_hours = full_history['duration'].sum()/(60)\n",
    "print('Total hours: {:0.3f}'.format(total_hours))\n",
    "\n",
    "hours_per_day = total_hours/(full_history['timestamp'].max() - full_history['timestamp'].min()).days\n",
    "print('Hours/day: {:0.1f}'.format(hours_per_day))\n",
    "\n",
    "avg_song_dur = full_history['duration'].mean()\n",
    "print('Average songs/day: {:0.0f}'.format(hours_per_day/(avg_song_dur/(60.0))))\n",
    "\n",
    "print('Total songs listened to: {} (unique songs: {})'.format(len(full_history), len(get_unique())))"
   ]
  },
  {
   "cell_type": "markdown",
   "metadata": {},
   "source": [
    "## What kinds of music do I listen to?"
   ]
  },
  {
   "cell_type": "markdown",
   "metadata": {},
   "source": [
    "First, what types of genres am I listening to?"
   ]
  },
  {
   "cell_type": "code",
   "execution_count": 27,
   "metadata": {},
   "outputs": [],
   "source": [
    "artists_index = pd.Index(artists['id'])\n",
    "\n",
    "def addTrackGenres(row):\n",
    "    inner_gs = []\n",
    "        \n",
    "    # for each artist in a track\n",
    "    for track_artist in row['artists']:\n",
    "                        \n",
    "        # if the artist exists, get its index\n",
    "        i = artists_index.get_loc(track_artist)\n",
    "        if i > -1:\n",
    "            cell = artists.iloc[i, 2]\n",
    "            if cell:\n",
    "                # collect genres from artists that match the current index\n",
    "                inner_gs.append(cell)\n",
    "                \n",
    "    if inner_gs:\n",
    "        row['genres'] = np.unique(list(itertools.chain(*inner_gs)))\n",
    "    else:\n",
    "        row['genres'] = None\n",
    "        \n",
    "    return row"
   ]
  },
  {
   "cell_type": "code",
   "execution_count": 28,
   "metadata": {},
   "outputs": [],
   "source": [
    "full_history = full_history.apply(addTrackGenres, 1)"
   ]
  },
  {
   "cell_type": "code",
   "execution_count": 29,
   "metadata": {},
   "outputs": [],
   "source": [
    "genres = []\n",
    "counts = []\n",
    "freqs =  []\n",
    "var1 =   []\n",
    "\n",
    "for row in full_history.loc[full_history['genres'].notnull(), ['energy', 'genres']].itertuples():\n",
    "    \n",
    "    for genre in row.genres:\n",
    "        \n",
    "        if genre in genres:\n",
    "            i = genres.index(genre)\n",
    "            counts[i] += 1\n",
    "            var1[i] += row.energy\n",
    "        else:\n",
    "            genres.append(genre)\n",
    "            counts.append(1)\n",
    "            var1.append(row.energy)\n",
    "\n",
    "total = sum(counts)\n",
    "freqs = np.array(counts) / total\n",
    "var1 = np.array(var1) / np.array(counts)\n",
    "\n",
    "collective_genres = pd.DataFrame({'freq': freqs, 'count': counts, 'genre': genres, 'var1': var1})"
   ]
  },
  {
   "cell_type": "markdown",
   "metadata": {},
   "source": [
    "Below is a visualization of my top 25 genres, starting with most listened to. Dark blue represents a low energy, dark red is high energy."
   ]
  },
  {
   "cell_type": "code",
   "execution_count": 30,
   "metadata": {},
   "outputs": [
    {
     "name": "stderr",
     "output_type": "stream",
     "text": [
      "/Users/alex/anaconda3/lib/python3.6/site-packages/seaborn/categorical.py:1508: FutureWarning: remove_na is deprecated and is a private function. Do not use.\n",
      "  stat_data = remove_na(group_data[hue_mask])\n"
     ]
    },
    {
     "data": {
      "image/png": "[encoded data removed]",
      "text/plain": [
       "<matplotlib.figure.Figure at 0x1a1c737710>"
      ]
     },
     "metadata": {},
     "output_type": "display_data"
    }
   ],
   "source": [
    "offset = 0\n",
    "collective_genres = collective_genres.sort_values('freq', ascending=False)\n",
    "\n",
    "plt.subplots(figsize=(18,6))\n",
    "g = sns.barplot(x='genre', y='freq', \n",
    "                data=collective_genres[offset:offset+25], \n",
    "                hue='var1', palette='RdBu', dodge=False)\n",
    "g.legend_.remove()\n",
    "plt.xticks(rotation=30, horizontalalignment='right')\n",
    "plt.xlabel('Genre')\n",
    "plt.ylabel('Frequency');"
   ]
  },
  {
   "cell_type": "markdown",
   "metadata": {},
   "source": [
    "What is the overall mood of my music collection like? It is skewed toward a sadder mood, and has a mean valence of 0.4, which isn't particularly happy."
   ]
  },
  {
   "cell_type": "code",
   "execution_count": 31,
   "metadata": {},
   "outputs": [
    {
     "data": {
      "image/png": "[encoded data removed]",
      "text/plain": [
       "<matplotlib.figure.Figure at 0x1a252045f8>"
      ]
     },
     "metadata": {},
     "output_type": "display_data"
    }
   ],
   "source": [
    "ax = sns.distplot(full_history.valence, bins=10, kde=False, hist_kws={\"edgecolor\": \"k\", \"linewidth\":1})\n",
    "plt.axvline(full_history.valence.median(), color='k', linestyle='--', linewidth=2);\n",
    "plt.text(0.8, 0.8, r'$\\mu={0:2f}$'.format(full_history.valence.median()), \n",
    "         horizontalalignment='center', verticalalignment='center', transform=ax.transAxes);"
   ]
  },
  {
   "cell_type": "markdown",
   "metadata": {},
   "source": [
    "Who are my most listened to artists?"
   ]
  },
  {
   "cell_type": "code",
   "execution_count": 32,
   "metadata": {},
   "outputs": [],
   "source": [
    "collective_artists = [artists for artists in full_history.loc[full_history['artists'].notnull(), 'artists']]\n",
    "    \n",
    "collective_artists = np.array(list(itertools.chain(*collective_artists)))\n",
    "unique_artists, artist_counts = np.unique(collective_artists, return_counts=True)\n",
    "\n",
    "artist_df = pd.DataFrame({'id': unique_artists, 'listens': artist_counts})\n",
    "artists = pd.merge(artist_df, artists, on='id')\n",
    "\n",
    "def simplifyGenre(x):\n",
    "    for genre in collective_genres['genre']:\n",
    "        if genre in x:\n",
    "            return genre\n",
    "        \n",
    "    return 'other'\n",
    "\n",
    "artists['simple_genre'] = artists['genres'].apply(simplifyGenre)"
   ]
  },
  {
   "cell_type": "markdown",
   "metadata": {},
   "source": [
    "Below is a visualization of my most listened to artists. They are counted if they are featured or produce a song as well. The color represents their top-level genre classification."
   ]
  },
  {
   "cell_type": "code",
   "execution_count": 33,
   "metadata": {},
   "outputs": [
    {
     "name": "stderr",
     "output_type": "stream",
     "text": [
      "/Users/alex/anaconda3/lib/python3.6/site-packages/seaborn/categorical.py:1508: FutureWarning: remove_na is deprecated and is a private function. Do not use.\n",
      "  stat_data = remove_na(group_data[hue_mask])\n"
     ]
    },
    {
     "data": {
      "image/png": "[encoded data removed]",
      "text/plain": [
       "<matplotlib.figure.Figure at 0x119e755c0>"
      ]
     },
     "metadata": {},
     "output_type": "display_data"
    }
   ],
   "source": [
    "offset = 0\n",
    "sort_artist_df = artists.sort_values('listens', ascending=False)\n",
    "\n",
    "plt.subplots(figsize=(18,6))\n",
    "g = sns.barplot(x='artist', y='listens', data=sort_artist_df[offset:offset+25], hue='simple_genre', dodge=False, palette='hls')\n",
    "plt.xticks(rotation=30, horizontalalignment='right')\n",
    "plt.xlabel('Artist');\n",
    "plt.ylabel('# of Listens');\n",
    "#plt.savefig('topartists.png')"
   ]
  },
  {
   "cell_type": "code",
   "execution_count": 39,
   "metadata": {},
   "outputs": [],
   "source": [
    "full_history.to_json('data/history_clean.json')\n",
    "artists.to_json('data/artists_clean.json')"
   ]
  },
  {
   "cell_type": "code",
   "execution_count": null,
   "metadata": {},
   "outputs": [],
   "source": []
  }
 ],
 "metadata": {
  "kernelspec": {
   "display_name": "Python 3",
   "language": "python",
   "name": "python3"
  },
  "language_info": {
   "codemirror_mode": {
    "name": "ipython",
    "version": 3
   },
   "file_extension": ".py",
   "mimetype": "text/x-python",
   "name": "python",
   "nbconvert_exporter": "python",
   "pygments_lexer": "ipython3",
   "version": "3.6.3"
  }
 },
 "nbformat": 4,
 "nbformat_minor": 2
}
