{
 "cells": [
  {
   "cell_type": "code",
   "execution_count": 1,
   "metadata": {},
   "outputs": [],
   "source": [
    "import pandas as pd\n",
    "from pandas import Timestamp\n",
    "import numpy as np\n",
    "import scipy.stats as stats\n",
    "from datetime import datetime\n",
    "from pytz import timezone\n",
    "\n",
    "from sklearn import preprocessing\n",
    "from sklearn.model_selection import train_test_split\n",
    "\n",
    "from keras.models import Sequential\n",
    "from keras.layers import *\n",
    "\n",
    "import itertools\n",
    "\n",
    "from tqdm import tqdm_notebook as tqdm\n",
    "\n",
    "import seaborn as sns\n",
    "import matplotlib.pyplot as plt\n",
    "from matplotlib import colors\n",
    "%matplotlib inline\n",
    "\n",
    "sns.set_style('whitegrid')\n",
    "pd.set_option('display.max_columns', 100)"
   ]
  },
  {
   "cell_type": "code",
   "execution_count": 2,
   "metadata": {},
   "outputs": [],
   "source": [
    "full_history = pd.read_json('data/history_clean.json')\n",
    "\n",
    "if full_history['timestamp'].max().tz is None:\n",
    "    full_history['timestamp'] = pd.to_datetime(full_history['timestamp'], utc=True)\n",
    "    full_history['timestamp'] = full_history['timestamp'].apply(lambda t: t.tz_convert('US/Pacific'))\n",
    "    \n",
    "full_history['timestamp_64'] = pd.DatetimeIndex(full_history['timestamp']).view('int64') // pd.Timedelta(1, unit='s')"
   ]
  },
  {
   "cell_type": "code",
   "execution_count": null,
   "metadata": {},
   "outputs": [],
   "source": [
    "artists = pd.read_json('data/artists_clean.json')"
   ]
  },
  {
   "cell_type": "code",
   "execution_count": 3,
   "metadata": {},
   "outputs": [],
   "source": [
    "def get_unique():\n",
    "    unique_history = full_history.drop(['timestamp', 'timestamp_64', 'hour_decimal', 'weekday'], axis=1)\n",
    "    return unique_history.drop_duplicates('id')"
   ]
  },
  {
   "cell_type": "markdown",
   "metadata": {},
   "source": [
    "## What music do I *actually* like?"
   ]
  },
  {
   "cell_type": "code",
   "execution_count": 4,
   "metadata": {},
   "outputs": [],
   "source": [
    "latest_day = full_history['timestamp'].max()\n",
    "day_range = (latest_day - full_history['timestamp'].min()).days"
   ]
  },
  {
   "cell_type": "code",
   "execution_count": 5,
   "metadata": {},
   "outputs": [],
   "source": [
    "history_timing = full_history[['id', 'timestamp_64']]"
   ]
  },
  {
   "cell_type": "code",
   "execution_count": 156,
   "metadata": {},
   "outputs": [
    {
     "data": {
      "application/vnd.jupyter.widget-view+json": {
       "model_id": "b182073476ce4f4e9f04310e7746f7f4",
       "version_major": 2,
       "version_minor": 0
      },
      "text/plain": [
       "A Jupyter Widget"
      ]
     },
     "metadata": {},
     "output_type": "display_data"
    }
   ],
   "source": [
    "song_info = []\n",
    "\n",
    "u = get_unique().reset_index(drop=True)\n",
    "\n",
    "vocab = []\n",
    "\n",
    "pbar = tqdm(total=len(u))\n",
    "\n",
    "for song in u[['id', 'genres']].itertuples():\n",
    "    listens = history_timing[history_timing['id'] == song.id]\n",
    "    \n",
    "    if song.genres:\n",
    "        vocab.extend([genre.replace(' ', '') for genre in song.genres])\n",
    "        \n",
    "    spread = (listens['timestamp_64'].max() - listens['timestamp_64'].min()) / (60 * 60 * 24)\n",
    "    \n",
    "    distance = (latest_day.timestamp() - listens['timestamp_64'].max()) / (60 * 60 * 24)\n",
    "    \n",
    "    song_info.append([spread, distance, len(listens)])\n",
    "    \n",
    "    pbar.update()\n",
    "    \n",
    "pbar.close()\n",
    "    \n",
    "song_info = np.array(song_info)"
   ]
  },
  {
   "cell_type": "code",
   "execution_count": 183,
   "metadata": {},
   "outputs": [],
   "source": [
    "from keras.preprocessing.text import one_hot\n",
    "from keras.preprocessing.sequence import pad_sequences\n",
    "\n",
    "encoded_genres = []\n",
    "vocab_size = len(np.unique(vocab))\n",
    "\n",
    "for song in u['genres'].values:\n",
    "    if song:\n",
    "        a = []\n",
    "        for genre in song:\n",
    "            a.extend(one_hot(genre.replace(' ', ''), vocab_size))\n",
    "            \n",
    "        encoded_genres.append(a)\n",
    "    else:\n",
    "        encoded_genres.append([])\n",
    "        \n",
    "max_sequences = max(list(map(len, encoded_genres)))\n",
    "padded_docs = pad_sequences(encoded_genres, maxlen=max_sequences, padding='post')"
   ]
  },
  {
   "cell_type": "code",
   "execution_count": 184,
   "metadata": {},
   "outputs": [
    {
     "data": {
      "text/plain": [
       "(7648, 31)"
      ]
     },
     "execution_count": 184,
     "metadata": {},
     "output_type": "execute_result"
    }
   ],
   "source": [
    "padded_docs.shape"
   ]
  },
  {
   "cell_type": "code",
   "execution_count": 214,
   "metadata": {},
   "outputs": [
    {
     "data": {
      "text/plain": [
       "((7648, 44), (7648, 3))"
      ]
     },
     "execution_count": 214,
     "metadata": {},
     "output_type": "execute_result"
    }
   ],
   "source": [
    "numeric = ['acousticness', 'danceability', 'duration', 'energy', 'explicit', 'key', 'log_loudness',\n",
    "          'mode', 'popularity', 'speechiness', 'tempo', 'time_signature', 'valence']\n",
    "\n",
    "X = u[numeric].reset_index(drop=True)\n",
    "\n",
    "X = preprocessing.minmax_scale(X, axis=1)\n",
    "X = np.concatenate([X, padded_docs], axis=1)\n",
    "\n",
    "y = pd.DataFrame(song_info, columns=['spread', 'distance', 'listens'])\n",
    "X.shape, y.shape"
   ]
  },
  {
   "cell_type": "code",
   "execution_count": 215,
   "metadata": {},
   "outputs": [
    {
     "data": {
      "text/plain": [
       "((5353, 44), (5353, 3))"
      ]
     },
     "execution_count": 215,
     "metadata": {},
     "output_type": "execute_result"
    }
   ],
   "source": [
    "X_train, X_test, y_train, y_test = train_test_split(X, y, test_size=0.3)\n",
    "X_train.shape, y_train.shape"
   ]
  },
  {
   "cell_type": "code",
   "execution_count": 228,
   "metadata": {},
   "outputs": [
    {
     "name": "stderr",
     "output_type": "stream",
     "text": [
      "/Users/alex/anaconda3/lib/python3.6/site-packages/ipykernel_launcher.py:12: UserWarning: The `Merge` layer is deprecated and will be removed after 08/2017. Use instead layers from `keras.layers.merge`, e.g. `add`, `concatenate`, etc.\n",
      "  if sys.path[0] == '':\n"
     ]
    },
    {
     "name": "stdout",
     "output_type": "stream",
     "text": [
      "Epoch 1/30\n",
      "5353/5353 [==============================] - 2s 324us/step - loss: 3063.9622 - acc: 0.6802\n",
      "Epoch 2/30\n",
      "5353/5353 [==============================] - 1s 104us/step - loss: 1731.2749 - acc: 0.7947\n",
      "Epoch 3/30\n",
      "5353/5353 [==============================] - 1s 111us/step - loss: 1703.3248 - acc: 0.79470s - loss: 177\n",
      "Epoch 4/30\n",
      "5353/5353 [==============================] - 1s 97us/step - loss: 1693.9888 - acc: 0.7947\n",
      "Epoch 5/30\n",
      "5353/5353 [==============================] - 1s 99us/step - loss: 1682.3014 - acc: 0.7947\n",
      "Epoch 6/30\n",
      "5353/5353 [==============================] - 1s 113us/step - loss: 1672.6950 - acc: 0.7947\n",
      "Epoch 7/30\n",
      "5353/5353 [==============================] - 1s 95us/step - loss: 1661.4001 - acc: 0.7947\n",
      "Epoch 8/30\n",
      "5353/5353 [==============================] - 1s 105us/step - loss: 1651.5452 - acc: 0.7947\n",
      "Epoch 9/30\n",
      "5353/5353 [==============================] - 1s 97us/step - loss: 1642.2484 - acc: 0.7947\n",
      "Epoch 10/30\n",
      "5353/5353 [==============================] - 1s 109us/step - loss: 1635.0634 - acc: 0.7947\n",
      "Epoch 11/30\n",
      "5353/5353 [==============================] - 1s 104us/step - loss: 1626.9538 - acc: 0.7947\n",
      "Epoch 12/30\n",
      "5353/5353 [==============================] - 1s 127us/step - loss: 1620.6119 - acc: 0.7947\n",
      "Epoch 13/30\n",
      "5353/5353 [==============================] - 1s 103us/step - loss: 1615.2955 - acc: 0.7943\n",
      "Epoch 14/30\n",
      "5353/5353 [==============================] - 1s 107us/step - loss: 1608.6637 - acc: 0.7943\n",
      "Epoch 15/30\n",
      "5353/5353 [==============================] - 1s 100us/step - loss: 1602.7646 - acc: 0.7943\n",
      "Epoch 16/30\n",
      "5353/5353 [==============================] - 1s 120us/step - loss: 1598.8173 - acc: 0.7930\n",
      "Epoch 17/30\n",
      "5353/5353 [==============================] - 1s 106us/step - loss: 1593.1439 - acc: 0.7923\n",
      "Epoch 18/30\n",
      "5353/5353 [==============================] - 1s 136us/step - loss: 1588.4079 - acc: 0.7917\n",
      "Epoch 19/30\n",
      "5353/5353 [==============================] - 1s 126us/step - loss: 1583.9041 - acc: 0.7911\n",
      "Epoch 20/30\n",
      "5353/5353 [==============================] - 1s 191us/step - loss: 1580.4445 - acc: 0.7910\n",
      "Epoch 21/30\n",
      "5353/5353 [==============================] - 1s 213us/step - loss: 1576.4360 - acc: 0.7906\n",
      "Epoch 22/30\n",
      "5353/5353 [==============================] - 1s 171us/step - loss: 1572.1832 - acc: 0.7895\n",
      "Epoch 23/30\n",
      "5353/5353 [==============================] - 1s 146us/step - loss: 1568.9047 - acc: 0.7891\n",
      "Epoch 24/30\n",
      "5353/5353 [==============================] - 1s 127us/step - loss: 1564.5539 - acc: 0.7883\n",
      "Epoch 25/30\n",
      "5353/5353 [==============================] - 0s 83us/step - loss: 1561.4486 - acc: 0.7874\n",
      "Epoch 26/30\n",
      "5353/5353 [==============================] - 1s 102us/step - loss: 1558.0587 - acc: 0.7878\n",
      "Epoch 27/30\n",
      "5353/5353 [==============================] - 1s 153us/step - loss: 1553.6079 - acc: 0.7878\n",
      "Epoch 28/30\n",
      "5353/5353 [==============================] - 1s 113us/step - loss: 1551.7859 - acc: 0.7848\n",
      "Epoch 29/30\n",
      "5353/5353 [==============================] - 1s 117us/step - loss: 1547.7549 - acc: 0.7842\n",
      "Epoch 30/30\n",
      "5353/5353 [==============================] - 1s 111us/step - loss: 1543.8046 - acc: 0.7829\n"
     ]
    }
   ],
   "source": [
    "branchA = Sequential()\n",
    "branchA.add(Embedding(vocab_size, 16, input_length=padded_docs.shape[1]))\n",
    "branchA.add(Flatten())\n",
    "branchA.add(Dense(3))\n",
    "\n",
    "branchB = Sequential()\n",
    "branchB.add(Dense(13, input_shape=(13,)))\n",
    "branchB.add(Activation('sigmoid'))\n",
    "branchB.add(Dense(6))\n",
    "\n",
    "model = Sequential()\n",
    "model.add(Merge([branchA, branchB], mode='concat'))\n",
    "model.add(Dense(3))\n",
    "\n",
    "model.compile(optimizer='adam',\n",
    "              loss='mse',\n",
    "              metrics=['acc'])\n",
    "\n",
    "history = model.fit([X_train[:, -padded_docs.shape[1]:], X_train[:, :-padded_docs.shape[1]]], y_train, epochs=30)"
   ]
  },
  {
   "cell_type": "code",
   "execution_count": 229,
   "metadata": {},
   "outputs": [
    {
     "name": "stdout",
     "output_type": "stream",
     "text": [
      "2295/2295 [==============================] - 1s 304us/step\n",
      "0.78474945526\n"
     ]
    },
    {
     "data": {
      "text/plain": [
       "[<matplotlib.lines.Line2D object at 0x1a32efafd0>]"
      ]
     },
     "execution_count": 229,
     "metadata": {},
     "output_type": "execute_result"
    },
    {
     "data": {
      "image/png": "[encoded data removed]",
      "text/plain": [
       "<matplotlib.figure.Figure object at 0x1a30b93390>"
      ]
     },
     "metadata": {},
     "output_type": "display_data"
    }
   ],
   "source": [
    "acc = model.evaluate([X_test[:, -padded_docs.shape[1]:], X_test[:, :-padded_docs.shape[1]]], y_test)[1]\n",
    "\n",
    "print(acc)\n",
    "\n",
    "plt.plot(history.history['loss'])"
   ]
  },
  {
   "cell_type": "code",
   "execution_count": 200,
   "metadata": {},
   "outputs": [
    {
     "data": {
      "text/html": [
       "<div>\n",
       "<style scoped>\n",
       "    .dataframe tbody tr th:only-of-type {\n",
       "        vertical-align: middle;\n",
       "    }\n",
       "\n",
       "    .dataframe tbody tr th {\n",
       "        vertical-align: top;\n",
       "    }\n",
       "\n",
       "    .dataframe thead th {\n",
       "        text-align: right;\n",
       "    }\n",
       "</style>\n",
       "<table border=\"1\" class=\"dataframe\">\n",
       "  <thead>\n",
       "    <tr style=\"text-align: right;\">\n",
       "      <th></th>\n",
       "      <th>acousticness</th>\n",
       "      <th>album</th>\n",
       "      <th>artists</th>\n",
       "      <th>danceability</th>\n",
       "      <th>duration</th>\n",
       "      <th>energy</th>\n",
       "      <th>explicit</th>\n",
       "      <th>genres</th>\n",
       "      <th>id</th>\n",
       "      <th>key</th>\n",
       "      <th>log_loudness</th>\n",
       "      <th>mode</th>\n",
       "      <th>name</th>\n",
       "      <th>popularity</th>\n",
       "      <th>speechiness</th>\n",
       "      <th>tempo</th>\n",
       "      <th>time_signature</th>\n",
       "      <th>valence</th>\n",
       "    </tr>\n",
       "  </thead>\n",
       "  <tbody>\n",
       "    <tr>\n",
       "      <th>379</th>\n",
       "      <td>0.847</td>\n",
       "      <td>SATURATION II</td>\n",
       "      <td>[1Bl6wpkWCQ4KVgnASpvzzA]</td>\n",
       "      <td>0.497</td>\n",
       "      <td>3.41565</td>\n",
       "      <td>0.55</td>\n",
       "      <td>1</td>\n",
       "      <td>[hip hop, indie r&amp;b, rap, underground hip hop]</td>\n",
       "      <td>66dQdXAbtuPdSasezCQVZE</td>\n",
       "      <td>8</td>\n",
       "      <td>1.964311</td>\n",
       "      <td>1</td>\n",
       "      <td>SUMMER</td>\n",
       "      <td>65</td>\n",
       "      <td>0.0257</td>\n",
       "      <td>80.0</td>\n",
       "      <td>4</td>\n",
       "      <td>0.542</td>\n",
       "    </tr>\n",
       "  </tbody>\n",
       "</table>\n",
       "</div>"
      ],
      "text/plain": [
       "     acousticness          album                   artists  danceability  \\\n",
       "379         0.847  SATURATION II  [1Bl6wpkWCQ4KVgnASpvzzA]         0.497   \n",
       "\n",
       "     duration  energy  explicit  \\\n",
       "379   3.41565    0.55         1   \n",
       "\n",
       "                                             genres                      id  \\\n",
       "379  [hip hop, indie r&b, rap, underground hip hop]  66dQdXAbtuPdSasezCQVZE   \n",
       "\n",
       "     key  log_loudness  mode    name  popularity  speechiness  tempo  \\\n",
       "379    8      1.964311     1  SUMMER          65       0.0257   80.0   \n",
       "\n",
       "     time_signature  valence  \n",
       "379               4    0.542  "
      ]
     },
     "execution_count": 200,
     "metadata": {},
     "output_type": "execute_result"
    }
   ],
   "source": [
    "song = u[u['name'] == 'SUMMER']\n",
    "song"
   ]
  },
  {
   "cell_type": "code",
   "execution_count": 219,
   "metadata": {},
   "outputs": [
    {
     "data": {
      "text/html": [
       "<div>\n",
       "<style scoped>\n",
       "    .dataframe tbody tr th:only-of-type {\n",
       "        vertical-align: middle;\n",
       "    }\n",
       "\n",
       "    .dataframe tbody tr th {\n",
       "        vertical-align: top;\n",
       "    }\n",
       "\n",
       "    .dataframe thead th {\n",
       "        text-align: right;\n",
       "    }\n",
       "</style>\n",
       "<table border=\"1\" class=\"dataframe\">\n",
       "  <thead>\n",
       "    <tr style=\"text-align: right;\">\n",
       "      <th></th>\n",
       "      <th>spread</th>\n",
       "      <th>distance</th>\n",
       "      <th>listens</th>\n",
       "    </tr>\n",
       "  </thead>\n",
       "  <tbody>\n",
       "    <tr>\n",
       "      <th>379</th>\n",
       "      <td>169.647917</td>\n",
       "      <td>16.018056</td>\n",
       "      <td>38.0</td>\n",
       "    </tr>\n",
       "  </tbody>\n",
       "</table>\n",
       "</div>"
      ],
      "text/plain": [
       "         spread   distance  listens\n",
       "379  169.647917  16.018056     38.0"
      ]
     },
     "execution_count": 219,
     "metadata": {},
     "output_type": "execute_result"
    }
   ],
   "source": [
    "y.iloc[song.index]"
   ]
  },
  {
   "cell_type": "code",
   "execution_count": 226,
   "metadata": {},
   "outputs": [
    {
     "data": {
      "text/plain": [
       "array([[  0.59753418,  42.82969666,   1.07978642]], dtype=float32)"
      ]
     },
     "execution_count": 226,
     "metadata": {},
     "output_type": "execute_result"
    }
   ],
   "source": [
    "model.predict([padded_docs[song.index], song[numeric]])"
   ]
  },
  {
   "cell_type": "code",
   "execution_count": 213,
   "metadata": {},
   "outputs": [
    {
     "data": {
      "text/plain": [
       "DescribeResult(nobs=2295, minmax=(array([-1.32842612], dtype=float32), array([ 8.53903961], dtype=float32)), mean=array([ 2.10937214], dtype=float32), variance=array([ 1.28929579], dtype=float32), skewness=array([ 1.29618573], dtype=float32), kurtosis=array([ 3.60226583], dtype=float32))"
      ]
     },
     "execution_count": 213,
     "metadata": {},
     "output_type": "execute_result"
    }
   ],
   "source": [
    "stats.describe(model.predict([X_test[:, -padded_docs.shape[1]:], X_test[:, :-padded_docs.shape[1]]]))"
   ]
  },
  {
   "cell_type": "code",
   "execution_count": null,
   "metadata": {},
   "outputs": [],
   "source": []
  }
 ],
 "metadata": {
  "kernelspec": {
   "display_name": "Python 3",
   "language": "python",
   "name": "python3"
  },
  "language_info": {
   "codemirror_mode": {
    "name": "ipython",
    "version": 3
   },
   "file_extension": ".py",
   "mimetype": "text/x-python",
   "name": "python",
   "nbconvert_exporter": "python",
   "pygments_lexer": "ipython3",
   "version": "3.6.3"
  }
 },
 "nbformat": 4,
 "nbformat_minor": 2
}
