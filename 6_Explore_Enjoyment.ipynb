{
 "cells": [
  {
   "cell_type": "code",
   "execution_count": 39,
   "metadata": {},
   "outputs": [],
   "source": [
    "import pandas as pd\n",
    "from pandas import Timestamp\n",
    "import numpy as np\n",
    "import scipy.stats as stats\n",
    "from datetime import datetime\n",
    "from pytz import timezone\n",
    "\n",
    "from sklearn import manifold, decomposition, cluster, preprocessing\n",
    "from sklearn.model_selection import train_test_split\n",
    "\n",
    "import itertools\n",
    "\n",
    "from tqdm import tqdm_notebook as tqdm\n",
    "\n",
    "import seaborn as sns\n",
    "import matplotlib.pyplot as plt\n",
    "from matplotlib import colors\n",
    "%matplotlib inline\n",
    "\n",
    "sns.set_style('whitegrid')\n",
    "pd.set_option('display.max_columns', 100)"
   ]
  },
  {
   "cell_type": "code",
   "execution_count": 2,
   "metadata": {},
   "outputs": [],
   "source": [
    "full_history = pd.read_json('data/history_comp.json')\n",
    "\n",
    "if full_history['timestamp'].max().tz is None:\n",
    "    full_history['timestamp'] = pd.to_datetime(full_history['timestamp'], utc=True)\n",
    "    full_history['timestamp'] = full_history['timestamp'].apply(lambda t: t.tz_convert('US/Pacific'))\n",
    "\n",
    "full_history = full_history.drop('index', axis=1)"
   ]
  },
  {
   "cell_type": "code",
   "execution_count": 3,
   "metadata": {},
   "outputs": [],
   "source": [
    "artists = pd.read_json('data/artist_info.json')"
   ]
  },
  {
   "cell_type": "code",
   "execution_count": 19,
   "metadata": {},
   "outputs": [
    {
     "data": {
      "text/plain": [
       "1.9713631156930127"
      ]
     },
     "execution_count": 19,
     "metadata": {},
     "output_type": "execute_result"
    }
   ],
   "source": [
    "def get_unique():\n",
    "    unique_history = full_history.drop('timestamp', axis=1)\n",
    "    return unique_history.drop_duplicates('id')\n",
    "\n",
    "len(full_history)/len(get_unique())"
   ]
  },
  {
   "cell_type": "code",
   "execution_count": 12,
   "metadata": {},
   "outputs": [],
   "source": [
    "collective_artists = [artists for artists in full_history.loc[full_history['artists'].notnull(), 'artists']]\n",
    "    \n",
    "collective_artists = np.array(list(itertools.chain(*collective_artists)))\n",
    "unique_artists, artist_counts = np.unique(collective_artists, return_counts=True)\n",
    "\n",
    "artist_df = pd.DataFrame({'id': unique_artists, 'listens': artist_counts})\n",
    "artists = pd.merge(artists, artist_df, on='id')"
   ]
  },
  {
   "cell_type": "code",
   "execution_count": 14,
   "metadata": {},
   "outputs": [],
   "source": [
    "def makeWeekday(a):\n",
    "    '''\n",
    "    weekday\n",
    "    '''\n",
    "    return a.weekday()\n",
    "\n",
    "def makeDecimalHour(a):\n",
    "    '''\n",
    "    decimal hour\n",
    "    '''\n",
    "    return a.hour + (a.minute / 60.0)"
   ]
  },
  {
   "cell_type": "code",
   "execution_count": 15,
   "metadata": {},
   "outputs": [],
   "source": [
    "full_history['duration'] = full_history['duration_ms'] / 1000 / 60\n",
    "full_history['log_loudness'] = np.log(-1*full_history['loudness']+1)\n",
    "full_history['tempo'] = full_history['tempo'].apply(round)\n",
    "full_history['tempo'] = full_history['tempo'].apply(lambda x: x if x < 168 else x/2)\n",
    "full_history['timestamp_64'] = pd.DatetimeIndex(full_history['timestamp']).view('int64') // pd.Timedelta(1, unit='s')\n",
    "full_history['weekday'] = full_history['timestamp'].apply(makeWeekday)\n",
    "full_history['hour_decimal'] = full_history['timestamp'].apply(makeDecimalHour)\n",
    "full_history = full_history.drop(['duration_ms', 'liveness', 'loudness', 'release'], axis=1)"
   ]
  },
  {
   "cell_type": "code",
   "execution_count": 16,
   "metadata": {},
   "outputs": [],
   "source": [
    "latest_day = full_history['timestamp'].max()\n",
    "day_range = (latest_day - full_history['timestamp'].min()).days"
   ]
  },
  {
   "cell_type": "code",
   "execution_count": 17,
   "metadata": {},
   "outputs": [],
   "source": [
    "history_timing = full_history[['id', 'artists', 'timestamp_64']]"
   ]
  },
  {
   "cell_type": "code",
   "execution_count": 28,
   "metadata": {},
   "outputs": [
    {
     "data": {
      "application/vnd.jupyter.widget-view+json": {
       "model_id": "3e08260cd22441c491c23637ac17c368",
       "version_major": 2,
       "version_minor": 0
      },
      "text/plain": [
       "A Jupyter Widget"
      ]
     },
     "metadata": {},
     "output_type": "display_data"
    },
    {
     "name": "stdout",
     "output_type": "stream",
     "text": [
      "\n"
     ]
    }
   ],
   "source": [
    "song_info = []\n",
    "\n",
    "u = get_unique()\n",
    "unique_ids = u['id']\n",
    "unique_names = u['name']\n",
    "\n",
    "for song in tqdm(unique_ids):\n",
    "    listens = history_timing[history_timing['id'] == song]\n",
    "    \n",
    "    quality = []\n",
    "    \n",
    "    for artist in listens['artists']:\n",
    "        quality.append(artists.loc[artists['id'] == artist[0], 'listens'].values[0])\n",
    "        \n",
    "    spread = (listens['timestamp_64'].max() - listens['timestamp_64'].min()) / (60 * 60 * 24)\n",
    "    \n",
    "    distance = (latest_day.timestamp() - listens['timestamp_64'].max()) / (60 * 60 * 24)\n",
    "    \n",
    "    song_info.append([spread, distance, len(listens), max(quality)])\n",
    "    \n",
    "song_info = np.array(song_info)"
   ]
  },
  {
   "cell_type": "code",
   "execution_count": 42,
   "metadata": {},
   "outputs": [],
   "source": [
    "song_info_scaled = preprocessing.minmax_scale(song_info)"
   ]
  },
  {
   "cell_type": "code",
   "execution_count": 43,
   "metadata": {},
   "outputs": [
    {
     "name": "stdout",
     "output_type": "stream",
     "text": [
      "[ 0.55283035  0.24829477]\n"
     ]
    },
    {
     "data": {
      "image/png": "[encoded data removed]",
      "text/plain": [
       "<matplotlib.figure.Figure at 0x1121de198>"
      ]
     },
     "metadata": {},
     "output_type": "display_data"
    }
   ],
   "source": [
    "pca = decomposition.PCA(2)\n",
    "\n",
    "pca_fit = pca.fit_transform(song_info_scaled[:, :].astype(float))\n",
    "\n",
    "print(pca.explained_variance_ratio_)\n",
    "\n",
    "# sns.stripplot(pca_fit[:, 0], jitter=True)\n",
    "\n",
    "plt.scatter(pca_fit[:, 0], pca_fit[:, 1]);"
   ]
  },
  {
   "cell_type": "code",
   "execution_count": 44,
   "metadata": {},
   "outputs": [],
   "source": [
    "locs = np.argwhere(pca_fit[:, 1] > 0.8)\n",
    "# locs = pca_fit[:, 0].argsort()[::-1][:10]"
   ]
  },
  {
   "cell_type": "code",
   "execution_count": 45,
   "metadata": {},
   "outputs": [
    {
     "data": {
      "text/plain": [
       "(array([['WASTE'],\n",
       "        ['FACE'],\n",
       "        ['TEAM'],\n",
       "        [\"'Till I Collapse\"],\n",
       "        ['SUMMER'],\n",
       "        ['STUPID'],\n",
       "        ['Big Weenie'],\n",
       "        ['ZIPPER'],\n",
       "        ['BLEACH'],\n",
       "        ['Rabbit Run - Soundtrack Version'],\n",
       "        ['Superman'],\n",
       "        ['When The Music Stops'],\n",
       "        ['BOOGIE']], dtype=object), array([['1cuYCAodLWgzhwE2KFZ8rC'],\n",
       "        ['5bknBRjKJZ643DAN2w8Yoy'],\n",
       "        ['3dzi1yJbrxUaPS3yjn9SgV'],\n",
       "        ['4xkOaSrkexMciUUogZKVTS'],\n",
       "        ['66dQdXAbtuPdSasezCQVZE'],\n",
       "        ['01oc1NWevpGhtCkiX5flPH'],\n",
       "        ['4dh34dyav8M5jCN3yidn8Z'],\n",
       "        ['1m4C9zlV89rXTfXStluvec'],\n",
       "        ['0dWOFwdXrbBUYqD9DLsoyK'],\n",
       "        ['30KKYkJ0lonfKI2eaLACnZ'],\n",
       "        ['4woTEX1wYOTGDqNXuavlRC'],\n",
       "        ['73qINA7ccO03wxD8nsJalr'],\n",
       "        ['3NuN59jpH3B5cNa2M4r7XG']], dtype=object))"
      ]
     },
     "execution_count": 45,
     "metadata": {},
     "output_type": "execute_result"
    }
   ],
   "source": [
    "unique_names.values[locs], unique_ids.values[locs]"
   ]
  },
  {
   "cell_type": "code",
   "execution_count": null,
   "metadata": {},
   "outputs": [],
   "source": []
  }
 ],
 "metadata": {
  "kernelspec": {
   "display_name": "Python 3",
   "language": "python",
   "name": "python3"
  },
  "language_info": {
   "codemirror_mode": {
    "name": "ipython",
    "version": 3
   },
   "file_extension": ".py",
   "mimetype": "text/x-python",
   "name": "python",
   "nbconvert_exporter": "python",
   "pygments_lexer": "ipython3",
   "version": "3.6.3"
  }
 },
 "nbformat": 4,
 "nbformat_minor": 2
}
