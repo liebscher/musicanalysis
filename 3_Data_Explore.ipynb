{
 "cells": [
  {
   "cell_type": "code",
   "execution_count": 1,
   "metadata": {},
   "outputs": [],
   "source": [
    "import pandas as pd\n",
    "from pandas import Timestamp\n",
    "import numpy as np\n",
    "import scipy.stats as stats\n",
    "from datetime import datetime\n",
    "from pytz import timezone\n",
    "\n",
    "from sklearn import manifold\n",
    "from sklearn.cluster import KMeans\n",
    "from sklearn.model_selection import train_test_split\n",
    "\n",
    "import itertools\n",
    "\n",
    "import seaborn as sns\n",
    "import matplotlib.pyplot as plt\n",
    "\n",
    "sns.set_style('whitegrid')\n",
    "pd.set_option('display.max_columns', 100)"
   ]
  },
  {
   "cell_type": "code",
   "execution_count": 2,
   "metadata": {},
   "outputs": [],
   "source": [
    "def correctTimestamp(timestamp):\n",
    "    '''\n",
    "    Correct missing timezone information to US/Pacific from UTC\n",
    "    \n",
    "    Parameters\n",
    "    ----------\n",
    "    timestamp : str, pandas.Timestamp\n",
    "        The naive timestamp to correct\n",
    "        \n",
    "    Return\n",
    "    ----------\n",
    "    A corrected, US/Pacific aware timestamp\n",
    "    '''\n",
    "    if type(timestamp) is str:\n",
    "        timestamp = Timestamp(datetime.strptime(timestamp, '%x %H:%M').replace(tzinfo=timezone('UTC')))\n",
    "    if timestamp.tzinfo is None:\n",
    "        timestamp = timestamp.tz_localize('UTC')\n",
    "        \n",
    "    return timestamp.tz_convert('US/Pacific')"
   ]
  },
  {
   "cell_type": "code",
   "execution_count": 3,
   "metadata": {},
   "outputs": [],
   "source": [
    "full_history = pd.read_json('data/history_comp.json')\n",
    "full_history['timestamp'] = full_history['timestamp'].apply(correctTimestamp)\n",
    "full_history = full_history.drop('index', axis=1)"
   ]
  },
  {
   "cell_type": "code",
   "execution_count": null,
   "metadata": {},
   "outputs": [],
   "source": [
    "full_history = full_history.sample(5000)"
   ]
  },
  {
   "cell_type": "markdown",
   "metadata": {},
   "source": [
    "As shown below, for every 19 songs listened to, 10 of them are unique to my music catalog."
   ]
  },
  {
   "cell_type": "code",
   "execution_count": 4,
   "metadata": {},
   "outputs": [
    {
     "data": {
      "text/plain": [
       "1.8613094024066899"
      ]
     },
     "execution_count": 4,
     "metadata": {},
     "output_type": "execute_result"
    }
   ],
   "source": [
    "def get_unique():\n",
    "    unique_history = full_history.drop('timestamp', axis=1)\n",
    "    return unique_history.drop_duplicates('id')\n",
    "\n",
    "len(full_history)/len(get_unique())"
   ]
  },
  {
   "cell_type": "code",
   "execution_count": 5,
   "metadata": {},
   "outputs": [
    {
     "data": {
      "text/html": [
       "<div>\n",
       "<style scoped>\n",
       "    .dataframe tbody tr th:only-of-type {\n",
       "        vertical-align: middle;\n",
       "    }\n",
       "\n",
       "    .dataframe tbody tr th {\n",
       "        vertical-align: top;\n",
       "    }\n",
       "\n",
       "    .dataframe thead th {\n",
       "        text-align: right;\n",
       "    }\n",
       "</style>\n",
       "<table border=\"1\" class=\"dataframe\">\n",
       "  <thead>\n",
       "    <tr style=\"text-align: right;\">\n",
       "      <th></th>\n",
       "      <th>artist</th>\n",
       "      <th>followers</th>\n",
       "      <th>genres</th>\n",
       "      <th>id</th>\n",
       "      <th>popularity</th>\n",
       "    </tr>\n",
       "  </thead>\n",
       "  <tbody>\n",
       "    <tr>\n",
       "      <th>1843</th>\n",
       "      <td>Method Man</td>\n",
       "      <td>471493</td>\n",
       "      <td>[dirty south rap, east coast hip hop, gangster...</td>\n",
       "      <td>4VmEWwd8y9MCLwexFMdpwt</td>\n",
       "      <td>68</td>\n",
       "    </tr>\n",
       "    <tr>\n",
       "      <th>1243</th>\n",
       "      <td>Tali</td>\n",
       "      <td>11524</td>\n",
       "      <td>[reggaeton flow, trap latino]</td>\n",
       "      <td>52izvDWTdRIQPsrI0IaHNx</td>\n",
       "      <td>55</td>\n",
       "    </tr>\n",
       "    <tr>\n",
       "      <th>3027</th>\n",
       "      <td>Khruangbin</td>\n",
       "      <td>93256</td>\n",
       "      <td>[funk, indie jazz]</td>\n",
       "      <td>2mVVjNmdjXZZDvhgQWiakk</td>\n",
       "      <td>65</td>\n",
       "    </tr>\n",
       "    <tr>\n",
       "      <th>1457</th>\n",
       "      <td>John Lennon</td>\n",
       "      <td>1431470</td>\n",
       "      <td>[album rock, art rock, classic rock, folk chri...</td>\n",
       "      <td>4x1nvY2FN8jxqAFA0DA02H</td>\n",
       "      <td>69</td>\n",
       "    </tr>\n",
       "    <tr>\n",
       "      <th>2926</th>\n",
       "      <td>Destroyer</td>\n",
       "      <td>70489</td>\n",
       "      <td>[alternative dance, alternative rock, art pop,...</td>\n",
       "      <td>22ojy4H4ZVpowC4lRRC8In</td>\n",
       "      <td>54</td>\n",
       "    </tr>\n",
       "  </tbody>\n",
       "</table>\n",
       "</div>"
      ],
      "text/plain": [
       "           artist  followers  \\\n",
       "1843   Method Man     471493   \n",
       "1243         Tali      11524   \n",
       "3027   Khruangbin      93256   \n",
       "1457  John Lennon    1431470   \n",
       "2926    Destroyer      70489   \n",
       "\n",
       "                                                 genres  \\\n",
       "1843  [dirty south rap, east coast hip hop, gangster...   \n",
       "1243                      [reggaeton flow, trap latino]   \n",
       "3027                                 [funk, indie jazz]   \n",
       "1457  [album rock, art rock, classic rock, folk chri...   \n",
       "2926  [alternative dance, alternative rock, art pop,...   \n",
       "\n",
       "                          id  popularity  \n",
       "1843  4VmEWwd8y9MCLwexFMdpwt          68  \n",
       "1243  52izvDWTdRIQPsrI0IaHNx          55  \n",
       "3027  2mVVjNmdjXZZDvhgQWiakk          65  \n",
       "1457  4x1nvY2FN8jxqAFA0DA02H          69  \n",
       "2926  22ojy4H4ZVpowC4lRRC8In          54  "
      ]
     },
     "execution_count": 5,
     "metadata": {},
     "output_type": "execute_result"
    }
   ],
   "source": [
    "artists = pd.read_json('data/artist_info.json')\n",
    "artists.sample(5)"
   ]
  },
  {
   "cell_type": "code",
   "execution_count": 6,
   "metadata": {},
   "outputs": [
    {
     "data": {
      "text/plain": [
       "count    9126.000000\n",
       "mean        0.308442\n",
       "std         0.314812\n",
       "min         0.000003\n",
       "25%         0.044300\n",
       "50%         0.183000\n",
       "75%         0.515000\n",
       "max         0.996000\n",
       "Name: acousticness, dtype: float64"
      ]
     },
     "execution_count": 6,
     "metadata": {},
     "output_type": "execute_result"
    },
    {
     "data": {
      "image/png": "[encoded data removed]",
      "text/plain": [
       "<matplotlib.figure.Figure at 0x116b7ac50>"
      ]
     },
     "metadata": {},
     "output_type": "display_data"
    }
   ],
   "source": [
    "sns.distplot(full_history['acousticness'], kde=False)\n",
    "full_history['acousticness'].describe()"
   ]
  },
  {
   "cell_type": "code",
   "execution_count": 7,
   "metadata": {},
   "outputs": [
    {
     "data": {
      "text/plain": [
       "count    9126.000000\n",
       "mean        0.602877\n",
       "std         0.168923\n",
       "min         0.063400\n",
       "25%         0.492000\n",
       "50%         0.614000\n",
       "75%         0.730000\n",
       "max         0.984000\n",
       "Name: danceability, dtype: float64"
      ]
     },
     "execution_count": 7,
     "metadata": {},
     "output_type": "execute_result"
    },
    {
     "data": {
      "image/png": "[encoded data removed]",
      "text/plain": [
       "<matplotlib.figure.Figure at 0x116add128>"
      ]
     },
     "metadata": {},
     "output_type": "display_data"
    }
   ],
   "source": [
    "sns.distplot(full_history['danceability'], kde=False)\n",
    "full_history['danceability'].describe()"
   ]
  },
  {
   "cell_type": "code",
   "execution_count": 8,
   "metadata": {},
   "outputs": [
    {
     "name": "stdout",
     "output_type": "stream",
     "text": [
      "count    9126.000000\n",
      "mean        1.304663\n",
      "std         0.304398\n",
      "min        -0.568366\n",
      "25%         1.153562\n",
      "50%         1.299283\n",
      "75%         1.463768\n",
      "max         3.715397\n",
      "Name: log_duration, dtype: float64\n"
     ]
    },
    {
     "data": {
      "text/plain": [
       "0.0584329634870428"
      ]
     },
     "execution_count": 8,
     "metadata": {},
     "output_type": "execute_result"
    },
    {
     "data": {
      "image/png": "[encoded data removed]",
      "text/plain": [
       "<matplotlib.figure.Figure at 0x116b0f438>"
      ]
     },
     "metadata": {},
     "output_type": "display_data"
    }
   ],
   "source": [
    "full_history['log_duration'] = np.log(full_history['duration_ms'] / 1000 / 60)\n",
    "sns.distplot(full_history['log_duration'], kde=False)\n",
    "print(full_history['log_duration'].describe())\n",
    "stats.skew(full_history['log_duration'])"
   ]
  },
  {
   "cell_type": "code",
   "execution_count": 9,
   "metadata": {},
   "outputs": [],
   "source": [
    "full_history = full_history.drop('duration_ms', axis=1)"
   ]
  },
  {
   "cell_type": "code",
   "execution_count": 10,
   "metadata": {},
   "outputs": [
    {
     "data": {
      "text/plain": [
       "count    9126.000000\n",
       "mean        0.567615\n",
       "std         0.226944\n",
       "min         0.000803\n",
       "25%         0.431000\n",
       "50%         0.586000\n",
       "75%         0.733000\n",
       "max         0.998000\n",
       "Name: energy, dtype: float64"
      ]
     },
     "execution_count": 10,
     "metadata": {},
     "output_type": "execute_result"
    },
    {
     "data": {
      "image/png": "[encoded data removed]",
      "text/plain": [
       "<matplotlib.figure.Figure at 0x116b0d0b8>"
      ]
     },
     "metadata": {},
     "output_type": "display_data"
    }
   ],
   "source": [
    "sns.distplot(full_history['energy'], kde=False)\n",
    "full_history['energy'].describe()"
   ]
  },
  {
   "cell_type": "code",
   "execution_count": 11,
   "metadata": {},
   "outputs": [
    {
     "data": {
      "text/plain": [
       "count    9126.000000\n",
       "mean        0.187905\n",
       "std         0.154291\n",
       "min         0.018700\n",
       "25%         0.097600\n",
       "50%         0.123000\n",
       "75%         0.226000\n",
       "max         0.989000\n",
       "Name: liveness, dtype: float64"
      ]
     },
     "execution_count": 11,
     "metadata": {},
     "output_type": "execute_result"
    },
    {
     "data": {
      "image/png": "[encoded data removed]",
      "text/plain": [
       "<matplotlib.figure.Figure at 0x116b9f898>"
      ]
     },
     "metadata": {},
     "output_type": "display_data"
    }
   ],
   "source": [
    "sns.distplot(full_history['liveness'], kde=False)\n",
    "full_history['liveness'].describe()"
   ]
  },
  {
   "cell_type": "code",
   "execution_count": 12,
   "metadata": {},
   "outputs": [
    {
     "data": {
      "text/plain": [
       "1007                                       Round Whippin'\n",
       "1073                                   Ain't Love Strange\n",
       "113                                       Ragged Old Flag\n",
       "1180                                 Put Your Money on Me\n",
       "1224                                                  RUN\n",
       "1236                                         Silvertongue\n",
       "1243                                            Hound Dog\n",
       "125                         Escape (The Pina Colada Song)\n",
       "1256                                                 TEAM\n",
       "1301    Satellite / Stealing Time - Live At The Hollyw...\n",
       "1425           On A Good Day - Live At The Hollywood Bowl\n",
       "144                                            LD50 - VIP\n",
       "1442                                                 WDYW\n",
       "1467                                                Pt. 2\n",
       "148              Jah No Partial - Heroes x Villains Remix\n",
       "1517                                              Feel Me\n",
       "1849                                            Intention\n",
       "1872                                              Wake Up\n",
       "1928                                           Fine Whine\n",
       "2248                                            Look Back\n",
       "2264                                           Brightfall\n",
       "2465                                            Champions\n",
       "3006                                   Roll One Up, Homie\n",
       "3206                                        Momma Told Me\n",
       "3526                                      Mushroom Clouds\n",
       "3727                                           Good Times\n",
       "3862                                          The Dreamer\n",
       "4035                                          The Reunion\n",
       "4361                                               ALASKA\n",
       "442                                     I’m On Everything\n",
       "4466                                              Bahamas\n",
       "4868                               Get Up Offa That Thing\n",
       "4990    If I Believe You - Live From The O2, London. 1...\n",
       "5132                                         Candle Light\n",
       "5182                                       Samba Do Aviao\n",
       "5378                                          Motley Crew\n",
       "6051                           I'm Gonna Change The World\n",
       "623                              Fell In Love With A Girl\n",
       "625            Not Nineteen Forever - Live at Heaton Park\n",
       "7409                    Sunday Morning Coming Down - Live\n",
       "7933                                               Encore\n",
       "8239                                             My Girls\n",
       "829                                              Soldiers\n",
       "8460                                              Asshole\n",
       "858            The Gangsta, The Killa And The Dope Dealer\n",
       "8693                                           So Special\n",
       "890     Busted - Live at Folsom State Prison, Folsom, ...\n",
       "9106                                       Starting Today\n",
       "Name: name, dtype: object"
      ]
     },
     "execution_count": 12,
     "metadata": {},
     "output_type": "execute_result"
    }
   ],
   "source": [
    "full_history[full_history['liveness'] > 0.75].drop_duplicates('id')['name']"
   ]
  },
  {
   "cell_type": "markdown",
   "metadata": {},
   "source": [
    "Liveness is obviously an inaccurate measurement, thus we cannot use it reliably. We remove it."
   ]
  },
  {
   "cell_type": "code",
   "execution_count": 13,
   "metadata": {},
   "outputs": [],
   "source": [
    "full_history = full_history.drop('liveness', axis=1)"
   ]
  },
  {
   "cell_type": "code",
   "execution_count": 14,
   "metadata": {},
   "outputs": [
    {
     "data": {
      "text/plain": [
       "count    9126.000000\n",
       "mean        2.162364\n",
       "std         0.458975\n",
       "min        -0.529329\n",
       "25%         1.880381\n",
       "50%         2.124056\n",
       "75%         2.374347\n",
       "max         3.877990\n",
       "Name: log_loudness, dtype: float64"
      ]
     },
     "execution_count": 14,
     "metadata": {},
     "output_type": "execute_result"
    },
    {
     "data": {
      "image/png": "[encoded data removed]",
      "text/plain": [
       "<matplotlib.figure.Figure at 0x115c81358>"
      ]
     },
     "metadata": {},
     "output_type": "display_data"
    }
   ],
   "source": [
    "full_history['log_loudness'] = np.log(-1*full_history['loudness']+1)\n",
    "sns.distplot(full_history['log_loudness'], kde=False)\n",
    "full_history['log_loudness'].describe()"
   ]
  },
  {
   "cell_type": "code",
   "execution_count": 15,
   "metadata": {},
   "outputs": [],
   "source": [
    "full_history = full_history.drop('loudness', axis=1)"
   ]
  },
  {
   "cell_type": "code",
   "execution_count": 16,
   "metadata": {},
   "outputs": [
    {
     "data": {
      "text/plain": [
       "count    9126.000000\n",
       "mean       55.498685\n",
       "std        17.477593\n",
       "min         0.000000\n",
       "25%        46.000000\n",
       "50%        57.000000\n",
       "75%        67.000000\n",
       "max       100.000000\n",
       "Name: popularity, dtype: float64"
      ]
     },
     "execution_count": 16,
     "metadata": {},
     "output_type": "execute_result"
    },
    {
     "data": {
      "image/png": "[encoded data removed]",
      "text/plain": [
       "<matplotlib.figure.Figure at 0x115c99ef0>"
      ]
     },
     "metadata": {},
     "output_type": "display_data"
    }
   ],
   "source": [
    "sns.distplot(full_history['popularity'], kde=False)\n",
    "full_history['popularity'].describe()"
   ]
  },
  {
   "cell_type": "code",
   "execution_count": 17,
   "metadata": {},
   "outputs": [
    {
     "data": {
      "text/plain": [
       "count    9126.000000\n",
       "mean      117.698115\n",
       "std        29.647410\n",
       "min        32.000000\n",
       "25%        94.000000\n",
       "50%       119.000000\n",
       "75%       140.000000\n",
       "max       222.000000\n",
       "Name: tempo, dtype: float64"
      ]
     },
     "execution_count": 17,
     "metadata": {},
     "output_type": "execute_result"
    },
    {
     "data": {
      "image/png": "[encoded data removed]",
      "text/plain": [
       "<matplotlib.figure.Figure at 0x1168348d0>"
      ]
     },
     "metadata": {},
     "output_type": "display_data"
    }
   ],
   "source": [
    "full_history['tempo'] = full_history['tempo'].apply(round)\n",
    "sns.distplot(full_history['tempo'], kde=False)\n",
    "full_history['tempo'].describe()"
   ]
  },
  {
   "cell_type": "markdown",
   "metadata": {},
   "source": [
    "Many songs are misclassified by Spotify, often doubling the real BPM. Presto tempo is said to be above 168, and after looking through many of the resutls of songs above 168 BPM, it is reasonable to correct songs above this threshold. Although it does cut out the top end, it is more representative for ~200 songs."
   ]
  },
  {
   "cell_type": "code",
   "execution_count": 18,
   "metadata": {},
   "outputs": [],
   "source": [
    "full_history['tempo'] = full_history['tempo'].apply(lambda x: x if x < 168 else x/2)"
   ]
  },
  {
   "cell_type": "code",
   "execution_count": 19,
   "metadata": {},
   "outputs": [
    {
     "data": {
      "text/plain": [
       "count    9126.000000\n",
       "mean        0.424578\n",
       "std         0.235932\n",
       "min         0.029800\n",
       "25%         0.233000\n",
       "50%         0.399500\n",
       "75%         0.596000\n",
       "max         0.990000\n",
       "Name: valence, dtype: float64"
      ]
     },
     "execution_count": 19,
     "metadata": {},
     "output_type": "execute_result"
    },
    {
     "data": {
      "image/png": "[encoded data removed]",
      "text/plain": [
       "<matplotlib.figure.Figure at 0x116ae6518>"
      ]
     },
     "metadata": {},
     "output_type": "display_data"
    }
   ],
   "source": [
    "sns.distplot(full_history['valence'], kde=False)\n",
    "full_history['valence'].describe()"
   ]
  },
  {
   "cell_type": "markdown",
   "metadata": {},
   "source": [
    "The release date isn't accurate either. For example, all classical music has release dates of 1960 or later, since this is the release of the album itself, not necessarily the conception of the music (which would have placed a lot of this genre in the 17th-20th centuries)."
   ]
  },
  {
   "cell_type": "code",
   "execution_count": 20,
   "metadata": {},
   "outputs": [],
   "source": [
    "full_history = full_history.drop('release', axis=1)"
   ]
  },
  {
   "cell_type": "code",
   "execution_count": 21,
   "metadata": {},
   "outputs": [
    {
     "data": {
      "text/html": [
       "<div>\n",
       "<style scoped>\n",
       "    .dataframe tbody tr th:only-of-type {\n",
       "        vertical-align: middle;\n",
       "    }\n",
       "\n",
       "    .dataframe tbody tr th {\n",
       "        vertical-align: top;\n",
       "    }\n",
       "\n",
       "    .dataframe thead th {\n",
       "        text-align: right;\n",
       "    }\n",
       "</style>\n",
       "<table border=\"1\" class=\"dataframe\">\n",
       "  <thead>\n",
       "    <tr style=\"text-align: right;\">\n",
       "      <th></th>\n",
       "      <th>acousticness</th>\n",
       "      <th>album</th>\n",
       "      <th>artists</th>\n",
       "      <th>danceability</th>\n",
       "      <th>energy</th>\n",
       "      <th>explicit</th>\n",
       "      <th>id</th>\n",
       "      <th>key</th>\n",
       "      <th>mode</th>\n",
       "      <th>name</th>\n",
       "      <th>popularity</th>\n",
       "      <th>speechiness</th>\n",
       "      <th>tempo</th>\n",
       "      <th>time_signature</th>\n",
       "      <th>timestamp</th>\n",
       "      <th>valence</th>\n",
       "      <th>log_duration</th>\n",
       "      <th>log_loudness</th>\n",
       "    </tr>\n",
       "  </thead>\n",
       "  <tbody>\n",
       "    <tr>\n",
       "      <th>2588</th>\n",
       "      <td>0.00244</td>\n",
       "      <td>Symphony Soldier</td>\n",
       "      <td>[2C2sVVXanbOpymYBMpsi89]</td>\n",
       "      <td>0.458</td>\n",
       "      <td>0.917</td>\n",
       "      <td>0</td>\n",
       "      <td>6Po2A4lsnVu0GrQ8Dy1nme</td>\n",
       "      <td>5</td>\n",
       "      <td>0</td>\n",
       "      <td>Temporary Bliss</td>\n",
       "      <td>58</td>\n",
       "      <td>0.1040</td>\n",
       "      <td>154.0</td>\n",
       "      <td>4</td>\n",
       "      <td>2018-02-28 13:27:00-08:00</td>\n",
       "      <td>0.6890</td>\n",
       "      <td>1.318314</td>\n",
       "      <td>1.687509</td>\n",
       "    </tr>\n",
       "    <tr>\n",
       "      <th>1847</th>\n",
       "      <td>0.02010</td>\n",
       "      <td>Lost &amp; Found EP</td>\n",
       "      <td>[0e7jcv95x5MTycydtfg6wv]</td>\n",
       "      <td>0.692</td>\n",
       "      <td>0.695</td>\n",
       "      <td>0</td>\n",
       "      <td>2we1ouAzi78tmtDJ72dX85</td>\n",
       "      <td>9</td>\n",
       "      <td>1</td>\n",
       "      <td>Without You</td>\n",
       "      <td>52</td>\n",
       "      <td>0.0354</td>\n",
       "      <td>120.0</td>\n",
       "      <td>4</td>\n",
       "      <td>2018-03-09 17:33:00-08:00</td>\n",
       "      <td>0.6160</td>\n",
       "      <td>1.098612</td>\n",
       "      <td>1.775969</td>\n",
       "    </tr>\n",
       "    <tr>\n",
       "      <th>8416</th>\n",
       "      <td>0.12000</td>\n",
       "      <td>Biz's Baddest Beats: The Best Of Biz Markie</td>\n",
       "      <td>[22282KfMxDo2PMjnBc82I4]</td>\n",
       "      <td>0.862</td>\n",
       "      <td>0.663</td>\n",
       "      <td>0</td>\n",
       "      <td>3yNVfRQlUPViUh8O2V9SQn</td>\n",
       "      <td>0</td>\n",
       "      <td>1</td>\n",
       "      <td>Just A Friend</td>\n",
       "      <td>65</td>\n",
       "      <td>0.2100</td>\n",
       "      <td>85.0</td>\n",
       "      <td>4</td>\n",
       "      <td>2017-12-23 18:16:00-08:00</td>\n",
       "      <td>0.8370</td>\n",
       "      <td>1.379047</td>\n",
       "      <td>2.302985</td>\n",
       "    </tr>\n",
       "    <tr>\n",
       "      <th>6867</th>\n",
       "      <td>0.00583</td>\n",
       "      <td>I Am...</td>\n",
       "      <td>[20qISvAhX20dpIbOOzGK3q, 59wfkuBoNyhDMQGCljbUbA]</td>\n",
       "      <td>0.678</td>\n",
       "      <td>0.770</td>\n",
       "      <td>1</td>\n",
       "      <td>158DIbrVt4YbqNnWyRCS3P</td>\n",
       "      <td>9</td>\n",
       "      <td>0</td>\n",
       "      <td>Hate Me Now</td>\n",
       "      <td>69</td>\n",
       "      <td>0.2220</td>\n",
       "      <td>90.0</td>\n",
       "      <td>4</td>\n",
       "      <td>2018-04-16 10:19:00-07:00</td>\n",
       "      <td>0.4120</td>\n",
       "      <td>1.554630</td>\n",
       "      <td>1.686214</td>\n",
       "    </tr>\n",
       "    <tr>\n",
       "      <th>2185</th>\n",
       "      <td>0.01140</td>\n",
       "      <td>Nostalgia</td>\n",
       "      <td>[7cYEt1pqMgXJdq00hAwVpT]</td>\n",
       "      <td>0.422</td>\n",
       "      <td>0.609</td>\n",
       "      <td>0</td>\n",
       "      <td>2jQiSYrwJehQAcuaaQrXnS</td>\n",
       "      <td>11</td>\n",
       "      <td>0</td>\n",
       "      <td>Friends</td>\n",
       "      <td>67</td>\n",
       "      <td>0.0335</td>\n",
       "      <td>107.0</td>\n",
       "      <td>3</td>\n",
       "      <td>2018-03-03 16:54:00-08:00</td>\n",
       "      <td>0.0911</td>\n",
       "      <td>1.343783</td>\n",
       "      <td>1.996196</td>\n",
       "    </tr>\n",
       "  </tbody>\n",
       "</table>\n",
       "</div>"
      ],
      "text/plain": [
       "      acousticness                                        album  \\\n",
       "2588       0.00244                             Symphony Soldier   \n",
       "1847       0.02010                              Lost & Found EP   \n",
       "8416       0.12000  Biz's Baddest Beats: The Best Of Biz Markie   \n",
       "6867       0.00583                                      I Am...   \n",
       "2185       0.01140                                    Nostalgia   \n",
       "\n",
       "                                               artists  danceability  energy  \\\n",
       "2588                          [2C2sVVXanbOpymYBMpsi89]         0.458   0.917   \n",
       "1847                          [0e7jcv95x5MTycydtfg6wv]         0.692   0.695   \n",
       "8416                          [22282KfMxDo2PMjnBc82I4]         0.862   0.663   \n",
       "6867  [20qISvAhX20dpIbOOzGK3q, 59wfkuBoNyhDMQGCljbUbA]         0.678   0.770   \n",
       "2185                          [7cYEt1pqMgXJdq00hAwVpT]         0.422   0.609   \n",
       "\n",
       "      explicit                      id  key  mode             name  \\\n",
       "2588         0  6Po2A4lsnVu0GrQ8Dy1nme    5     0  Temporary Bliss   \n",
       "1847         0  2we1ouAzi78tmtDJ72dX85    9     1      Without You   \n",
       "8416         0  3yNVfRQlUPViUh8O2V9SQn    0     1    Just A Friend   \n",
       "6867         1  158DIbrVt4YbqNnWyRCS3P    9     0      Hate Me Now   \n",
       "2185         0  2jQiSYrwJehQAcuaaQrXnS   11     0          Friends   \n",
       "\n",
       "      popularity  speechiness  tempo  time_signature  \\\n",
       "2588          58       0.1040  154.0               4   \n",
       "1847          52       0.0354  120.0               4   \n",
       "8416          65       0.2100   85.0               4   \n",
       "6867          69       0.2220   90.0               4   \n",
       "2185          67       0.0335  107.0               3   \n",
       "\n",
       "                     timestamp  valence  log_duration  log_loudness  \n",
       "2588 2018-02-28 13:27:00-08:00   0.6890      1.318314      1.687509  \n",
       "1847 2018-03-09 17:33:00-08:00   0.6160      1.098612      1.775969  \n",
       "8416 2017-12-23 18:16:00-08:00   0.8370      1.379047      2.302985  \n",
       "6867 2018-04-16 10:19:00-07:00   0.4120      1.554630      1.686214  \n",
       "2185 2018-03-03 16:54:00-08:00   0.0911      1.343783      1.996196  "
      ]
     },
     "execution_count": 21,
     "metadata": {},
     "output_type": "execute_result"
    }
   ],
   "source": [
    "full_history.sample(5)"
   ]
  },
  {
   "cell_type": "markdown",
   "metadata": {},
   "source": [
    "## What kinds of music do I listen to?\n",
    "\n",
    "First, what types of genres?"
   ]
  },
  {
   "cell_type": "code",
   "execution_count": 22,
   "metadata": {},
   "outputs": [],
   "source": [
    "def addTrackGenres(row):\n",
    "    inner_gs = []\n",
    "        \n",
    "    # for each artist in a track\n",
    "    for track_artist in row['artists']:\n",
    "        \n",
    "        # if there is any artist data for that artist\n",
    "        if (artists['id'] == track_artist).any():\n",
    "            \n",
    "            # collect genres from artists that match the current one\n",
    "            for genre in artists[artists['id'] == track_artist]['genres']:\n",
    "                inner_gs.append(genre)\n",
    "                \n",
    "    u = np.unique(list(itertools.chain(*inner_gs)))\n",
    "    \n",
    "    if len(u) > 0:\n",
    "        row['genres'] = u\n",
    "    else:\n",
    "        row['genres'] = None\n",
    "        \n",
    "    return row\n"
   ]
  },
  {
   "cell_type": "code",
   "execution_count": 23,
   "metadata": {},
   "outputs": [],
   "source": [
    "full_history = full_history.apply(addTrackGenres, 1)"
   ]
  },
  {
   "cell_type": "code",
   "execution_count": 24,
   "metadata": {},
   "outputs": [],
   "source": [
    "collective_genres = []\n",
    "for genre in full_history.loc[full_history['genres'].notnull(), 'genres']:\n",
    "    collective_genres.append(genre)\n",
    "    \n",
    "collective_genres = np.array(list(itertools.chain(*collective_genres)))\n",
    "unique_genres, genre_counts = np.unique(collective_genres, return_counts=True)\n",
    "genre_df = pd.DataFrame({'genre': unique_genres, 'freq': genre_counts/genre_counts.sum()})"
   ]
  },
  {
   "cell_type": "code",
   "execution_count": 25,
   "metadata": {},
   "outputs": [
    {
     "name": "stderr",
     "output_type": "stream",
     "text": [
      "/Users/alex/anaconda3/lib/python3.6/site-packages/seaborn/categorical.py:1460: FutureWarning: remove_na is deprecated and is a private function. Do not use.\n",
      "  stat_data = remove_na(group_data)\n"
     ]
    },
    {
     "data": {
      "image/png": "[encoded data removed]",
      "text/plain": [
       "<matplotlib.figure.Figure at 0x1168e6a58>"
      ]
     },
     "metadata": {},
     "output_type": "display_data"
    }
   ],
   "source": [
    "offset = 0\n",
    "sort_genre_df = genre_df.sort_values('freq', ascending=False)\n",
    "\n",
    "plt.subplots(figsize=(18,6))\n",
    "g = sns.barplot(x='genre', y='freq', data=sort_genre_df[offset:offset+25])\n",
    "g.set_xticklabels(g.get_xticklabels(), rotation=30, horizontalalignment='right');"
   ]
  },
  {
   "cell_type": "markdown",
   "metadata": {},
   "source": [
    "What is the mood like?"
   ]
  },
  {
   "cell_type": "code",
   "execution_count": 26,
   "metadata": {},
   "outputs": [
    {
     "data": {
      "image/png": "[encoded data removed]",
      "text/plain": [
       "<matplotlib.figure.Figure at 0x1166f8d30>"
      ]
     },
     "metadata": {},
     "output_type": "display_data"
    }
   ],
   "source": [
    "ax = sns.distplot(full_history.valence, bins=10, kde=False, hist_kws={\"edgecolor\": \"k\", \"linewidth\":1})\n",
    "plt.axvline(full_history.valence.median(), color='k', linestyle='--', linewidth=2);\n",
    "plt.text(0.8, 0.8, r'$\\mu={0:2f}$'.format(full_history.valence.median()), \n",
    "         horizontalalignment='center', verticalalignment='center', transform=ax.transAxes);"
   ]
  },
  {
   "cell_type": "markdown",
   "metadata": {},
   "source": [
    "Most listened to artists"
   ]
  },
  {
   "cell_type": "code",
   "execution_count": 27,
   "metadata": {},
   "outputs": [],
   "source": [
    "collective_artists = []\n",
    "for artist in full_history.loc[full_history['artists'].notnull(), 'artists']:\n",
    "    collective_artists.append(artist)\n",
    "    \n",
    "collective_artists = np.array(list(itertools.chain(*collective_artists)))\n",
    "unique_artists, artist_counts = np.unique(collective_artists, return_counts=True)\n",
    "\n",
    "artist_df = pd.DataFrame({'artist': unique_artists, 'freq': artist_counts/artist_counts.sum()})\n",
    "artist_df = pd.merge(artist_df, artists, left_on='artist', right_on='id')[['artist_y', 'freq', 'genres']]\n",
    "\n",
    "def simplifyGenre(x):\n",
    "    for genre in sort_genre_df['genre']:\n",
    "        if genre in x:\n",
    "            return genre\n",
    "        \n",
    "    return 'other'\n",
    "\n",
    "artist_df['genres'] = artist_df['genres'].apply(simplifyGenre)"
   ]
  },
  {
   "cell_type": "code",
   "execution_count": 28,
   "metadata": {},
   "outputs": [
    {
     "name": "stderr",
     "output_type": "stream",
     "text": [
      "/Users/alex/anaconda3/lib/python3.6/site-packages/seaborn/categorical.py:1508: FutureWarning: remove_na is deprecated and is a private function. Do not use.\n",
      "  stat_data = remove_na(group_data[hue_mask])\n"
     ]
    },
    {
     "data": {
      "image/png": "[encoded data removed]",
      "text/plain": [
       "<matplotlib.figure.Figure at 0x1169125c0>"
      ]
     },
     "metadata": {},
     "output_type": "display_data"
    }
   ],
   "source": [
    "offset = 0\n",
    "sort_artist_df = artist_df.sort_values('freq', ascending=False)[offset:offset+25]\n",
    "\n",
    "plt.subplots(figsize=(18,6))\n",
    "g = sns.barplot(x='artist_y', y='freq', data=sort_artist_df, hue='genres', dodge=False)\n",
    "g.set_xticklabels(g.get_xticklabels(), rotation=30, horizontalalignment='right');"
   ]
  },
  {
   "cell_type": "markdown",
   "metadata": {},
   "source": [
    "How diverse is my music collection? Or, is my music diverse?\n",
    "\n",
    "Suppose it's not. Then we would expect every song to homeogeneous in terms of quantitative musical qualities. Specifically, we would expect acousticness, danceability, duration, energy, volume, speechiness, tempo, and valence to be about the same for every song. \n",
    "\n",
    "We may assume that features of every song would be at least near the corresponding feature's mean. We may also assume that if every song is about the same, the distribution of each feature may be approximately normal.\n",
    "\n",
    "Based on these assumptions, we can construct null hypothesis distributions for each feature, where the mean is equal to the observed mean, and the standard deviation is also equal to the observed standard deviation.\n",
    "\n",
    "Now we possess two distributions and can compare them using the Anderson-Darling test to identify similar distributions. We suppose our null hypothesis for each feature is that both distributions are equivalent.\n",
    "To reject each feature's null hypothesis, .... Let's look at the results:"
   ]
  },
  {
   "cell_type": "code",
   "execution_count": null,
   "metadata": {},
   "outputs": [],
   "source": [
    "features = ['acousticness', 'danceability', 'duration_ms',\n",
    "       'energy', 'loudness', 'speechiness', 'tempo', 'valence']\n",
    "feat_means = full_history[features].mean()\n",
    "feat_stds = full_history[features].std()"
   ]
  },
  {
   "cell_type": "code",
   "execution_count": null,
   "metadata": {},
   "outputs": [],
   "source": [
    "plt.subplots(figsize=(16,16))\n",
    "\n",
    "m = 10000\n",
    "\n",
    "for i, f in enumerate(features):\n",
    "    plt.subplot(4,3,i+1)\n",
    "    \n",
    "    norm = np.random.normal(feat_means[i], feat_stds[i], m)\n",
    "\n",
    "    ax = sns.distplot(norm)\n",
    "    sns.distplot(full_history[f])\n",
    "    test = stats.anderson_ksamp([full_history[f], norm])\n",
    "    plt.text(0.7, 0.8, r'$AD-Test={:0.3f}{}2.718$'.format(test[0],'<' if bool(test[0] < 2.718) else '>'),\n",
    "         horizontalalignment='center', verticalalignment='center', transform=ax.transAxes)"
   ]
  },
  {
   "cell_type": "markdown",
   "metadata": {},
   "source": [
    "From the above graphs, we can see that not a single feature is homogeneous enough to be considered \"diverse\" under our standards. Notably homogeneous features include energy, danceability, valence, and tempo.\n",
    "\n",
    "Based on these results, my music collection is not homogeneous and thus is musically diverse."
   ]
  },
  {
   "cell_type": "code",
   "execution_count": null,
   "metadata": {},
   "outputs": [],
   "source": [
    "def genreFilter(history, genres):\n",
    "    '''\n",
    "    filter\n",
    "    '''\n",
    "    indices = []\n",
    "\n",
    "    for i, r in history.iterrows():\n",
    "        if type(genres) is list:\n",
    "            for genre in genres:\n",
    "                if r['genres'] is not None and genre in r['genres']:\n",
    "                    indices.append(i)\n",
    "                    break\n",
    "        elif type(genres) is str:\n",
    "            if genres in r['genres']:\n",
    "                indices.append(i)\n",
    "            \n",
    "    if not indices:\n",
    "        raise Exception('No tracks found for genre: {}'.format(genres))\n",
    "\n",
    "    return history[history.index.isin(indices)]"
   ]
  },
  {
   "cell_type": "code",
   "execution_count": null,
   "metadata": {},
   "outputs": [],
   "source": [
    "genre = ['rock']\n",
    "\n",
    "subs = genreFilter(full_history, genre)\n",
    "\n",
    "subs_feat_means = subs[features].mean()\n",
    "subs_feat_stds = subs[features].std()\n",
    "\n",
    "plt.subplots(figsize=(16,16))\n",
    "\n",
    "m = len(subs)\n",
    "\n",
    "for i, f in enumerate(features):\n",
    "    plt.subplot(4,3,i+1)\n",
    "    \n",
    "    norm = np.random.normal(subs_feat_means[i], subs_feat_stds[i], m)\n",
    "\n",
    "    ax = sns.distplot(norm)\n",
    "    sns.distplot(subs[f])\n",
    "    test = stats.anderson_ksamp([subs[f], norm])\n",
    "    plt.text(0.7, 0.8, r'$AD-Test={:0.3f}{}2.718$'.format(test[0],'<' if bool(test[0] < 2.718) else '>'),\n",
    "         horizontalalignment='center', verticalalignment='center', transform=ax.transAxes)"
   ]
  },
  {
   "cell_type": "markdown",
   "metadata": {},
   "source": [
    "Variability in time"
   ]
  },
  {
   "cell_type": "markdown",
   "metadata": {},
   "source": [
    "## When do I listen to music?"
   ]
  },
  {
   "cell_type": "code",
   "execution_count": null,
   "metadata": {},
   "outputs": [],
   "source": [
    "m = full_history['timestamp'].astype(np.int64) // 10**9\n",
    "m = m.sort_values(ascending=False).reset_index(drop=True)\n",
    "n = np.array([m[i] - m[i+1] for i in range(len(m) - 1)])\n",
    "\n",
    "cv = n.std()/n.mean()\n",
    "(cv, (cv-1)/(cv+1))"
   ]
  },
  {
   "cell_type": "code",
   "execution_count": 29,
   "metadata": {},
   "outputs": [],
   "source": [
    "def makeWeekday(a):\n",
    "    '''\n",
    "    weekday\n",
    "    '''\n",
    "    return a.weekday()"
   ]
  },
  {
   "cell_type": "code",
   "execution_count": 30,
   "metadata": {},
   "outputs": [],
   "source": [
    "full_history['weekday'] = full_history['timestamp'].apply(makeWeekday)"
   ]
  },
  {
   "cell_type": "code",
   "execution_count": 31,
   "metadata": {},
   "outputs": [],
   "source": [
    "def makeDecimalHour(a):\n",
    "    '''\n",
    "    decimal hour\n",
    "    '''\n",
    "    return a.hour + (a.minute / 60.0)"
   ]
  },
  {
   "cell_type": "code",
   "execution_count": 32,
   "metadata": {},
   "outputs": [],
   "source": [
    "full_history['hour_decimal'] = full_history['timestamp'].apply(makeDecimalHour)"
   ]
  },
  {
   "cell_type": "code",
   "execution_count": 33,
   "metadata": {},
   "outputs": [],
   "source": [
    "def _averageDatetimeFrequency(df, hour_inc):\n",
    "    hour_bins = np.arange(0, 24, hour_inc)\n",
    "    hour_labels = np.arange(hour_inc, 24, hour_inc)\n",
    "\n",
    "    df['time_bin'] = pd.cut(df['hour_decimal'], bins=hour_bins, labels=hour_labels)\n",
    "    \n",
    "    history_time_bivar = df.groupby(['weekday', 'time_bin'], axis=0)\n",
    "    return history_time_bivar.size().unstack().fillna(0)\n",
    "\n",
    "def plotAverageDatetimeFrequency(data, title='', fs=(12,5), hour_inc=0.5):\n",
    "    plt.subplots(figsize=fs)\n",
    "    plt.title('Average Listening Date-time Frequency{}'.format(title))\n",
    "    g = sns.heatmap(_averageDatetimeFrequency(data, hour_inc), cmap=\"Blues\", robust=True)\n",
    "    g.set(yticklabels=['Mon', 'Tue', 'Wed', 'Thur', 'Fri', 'Sat', 'Sun']); # use ; to suppress output"
   ]
  },
  {
   "cell_type": "code",
   "execution_count": 34,
   "metadata": {},
   "outputs": [
    {
     "data": {
      "image/png": "[encoded data removed]",
      "text/plain": [
       "<matplotlib.figure.Figure at 0x116657780>"
      ]
     },
     "metadata": {},
     "output_type": "display_data"
    }
   ],
   "source": [
    "plotAverageDatetimeFrequency(full_history, hour_inc=0.5)"
   ]
  },
  {
   "cell_type": "code",
   "execution_count": null,
   "metadata": {},
   "outputs": [],
   "source": [
    "a = []\n",
    "\n",
    "inc = 1\n",
    "\n",
    "hour_bins = np.arange(0, 24, inc)\n",
    "hour_labels = np.arange(inc, 24, inc)\n",
    "day_bins = np.arange(0,7)\n",
    "g = None\n",
    "for t_genre in sort_genre_df['genre'][0:2]:\n",
    "    g = genreFilter(full_history, [t_genre])\n",
    "    a.append(_averageDatetimeFrequency(g, inc))\n",
    "    \n",
    "b = pd.DataFrame(index=day_bins, columns=hour_bins)\n",
    "b = b.fillna(0)\n",
    "\n",
    "spot_max = np.nan\n",
    "\n",
    "print((a[0].shape, b.shape))\n",
    "\n",
    "for x in hour_bins:\n",
    "    for y in day_bins:\n",
    "        for s in range(2):\n",
    "            #print((a[s].iloc[y, x]), b.iloc[y, x], s)\n",
    "            #print((y, x, s))\n",
    "            if a[s].shape[1]-1 < x:\n",
    "                break\n",
    "                \n",
    "            if a[s].iloc[y, x] > b.iloc[y, x]:\n",
    "                b.iloc[y, x] = s\n",
    "b"
   ]
  },
  {
   "cell_type": "markdown",
   "metadata": {},
   "source": [
    "## What music do I *actually* like?\n",
    "\n",
    "With thousands of songs in my music listening history, it should be obvious that I don't *love* all of them. If we wish to describe the songs I like, the dataset must be labeled with whether I like a particular song. In other words, we extract implicit feedback to classify songs as \"Like\" or \"Dislike.\" Implicit feedback is easier to collect because it does not require individually labeling each sample. Here, we define this feedback as listening frequency. It is assumed that songs that are enjoyed are listened to more often than songs that are not enjoyed.\n",
    "\n",
    "There are two flavors of frequency feedback: absolute and relative. Absolute frequency feedback (AFF) is the listening frequency within the know period of recording. Relative frequency feedback (RFF) is the listening frequency between the first and last listening event. AFF accounts for long-term listening habits. RFF accounts for songs that were enjoyed during one period in time (and may still be enjoyed)."
   ]
  },
  {
   "cell_type": "code",
   "execution_count": 35,
   "metadata": {},
   "outputs": [],
   "source": [
    "day_range = (full_history['timestamp'].max() - full_history['timestamp'].min()).days"
   ]
  },
  {
   "cell_type": "code",
   "execution_count": 36,
   "metadata": {},
   "outputs": [],
   "source": [
    "unique_counts = []\n",
    "\n",
    "MIN_DAYS_FOR_LIKE = 21\n",
    "MIN_LISTENING_FREQ = 0.0030\n",
    "\n",
    "for i, row_outer in full_history.iterrows():\n",
    "    matches = full_history.loc[full_history['id'] == row_outer['id'], 'timestamp']\n",
    "    \n",
    "    n = len(matches)\n",
    "    lpd = n / day_range\n",
    "        \n",
    "    ts = np.array(matches.sort_values())\n",
    "    spread = int((ts.max() - ts.min()) / 8.64e13) + 0.5\n",
    "    deltas = []\n",
    "\n",
    "    for i in range(n-1):\n",
    "            deltas.append(int((ts[i+1] - ts[i]) / 8.64e13))\n",
    "            \n",
    "    lps = n / spread\n",
    "    med = np.median(deltas) if n > 1 else 0\n",
    "        \n",
    "    unique_counts.append([row_outer['id'], lpd, lps])\n",
    "    \n",
    "unique_counts = pd.DataFrame(unique_counts, columns=['id', 'lpd', 'lps'])"
   ]
  },
  {
   "cell_type": "code",
   "execution_count": 37,
   "metadata": {},
   "outputs": [
    {
     "data": {
      "text/plain": [
       "<matplotlib.collections.PathCollection at 0x115ba0668>"
      ]
     },
     "execution_count": 37,
     "metadata": {},
     "output_type": "execute_result"
    },
    {
     "data": {
      "image/png": "[encoded data removed]",
      "text/plain": [
       "<matplotlib.figure.Figure at 0x115b759e8>"
      ]
     },
     "metadata": {},
     "output_type": "display_data"
    }
   ],
   "source": [
    "unique_counts['log_lps'] = np.log(unique_counts['lps'])\n",
    "\n",
    "EXP = 1.5\n",
    "INTERCEPT = -5.8\n",
    "\n",
    "def f(x, y):\n",
    "    return np.array(np.power(EXP, x+INTERCEPT) < y).astype(np.int)\n",
    "\n",
    "unique_counts['like'] = f(unique_counts['log_lps'], unique_counts['lpd'])\n",
    "\n",
    "plt.scatter(y=unique_counts['lpd'], x=unique_counts['log_lps'], c=unique_counts['like'], cmap='Set1')"
   ]
  },
  {
   "cell_type": "code",
   "execution_count": null,
   "metadata": {},
   "outputs": [],
   "source": [
    "unique_labeled = unique_counts.drop(['lpd', 'lps'], axis=1).drop_duplicates('id')\n",
    "unique_labeled = get_unique().merge(unique_labeled, on='id')"
   ]
  },
  {
   "cell_type": "code",
   "execution_count": null,
   "metadata": {},
   "outputs": [],
   "source": []
  },
  {
   "cell_type": "markdown",
   "metadata": {},
   "source": [
    "## Do I prefer to discover new music or discover new songs?\n",
    "\n",
    "Do I have any go-to songs? artists? A go-to song is a song...\n",
    "\n",
    "Do I have any hidden favorite songs? artists? A hidden favorite is a song or artist that reappears infrequently: has at least two weeks between each listen, but no more than eight weeks between each listen."
   ]
  },
  {
   "cell_type": "code",
   "execution_count": null,
   "metadata": {},
   "outputs": [],
   "source": [
    "hidden_fav_songs = []\n",
    "\n",
    "for i, row_outer in full_history.iterrows():\n",
    "    \n",
    "    if row_outer['id'] in hidden_fav_songs:\n",
    "        continue\n",
    "    \n",
    "    matches = full_history.loc[full_history['id'] == row_outer['id']]\n",
    "    \n",
    "    n = len(matches['timestamp'])\n",
    "    ts = np.array(matches['timestamp'].sort_values())\n",
    "    \n",
    "    if n / day_range > 0.025 and n / day_range < 0.1:\n",
    "        #print((row_outer['name'], n))\n",
    "        add = True\n",
    "        for i in range(n-1):\n",
    "            delta = int((ts[i+1] - ts[i]) / 8.64e13)\n",
    "            if delta != 0 and (delta < 7 or delta > 45):\n",
    "                add = False\n",
    "                #print(str(delta) + ' -> fail')\n",
    "                break\n",
    "            #print(delta)\n",
    "                \n",
    "        if add:\n",
    "              hidden_fav_songs.append(row_outer['id'])\n",
    "                \n",
    "full_history.loc[full_history['id'].isin(hidden_fav_songs), ['name', 'id']].drop_duplicates('id')"
   ]
  },
  {
   "cell_type": "code",
   "execution_count": null,
   "metadata": {},
   "outputs": [],
   "source": []
  }
 ],
 "metadata": {
  "kernelspec": {
   "display_name": "Python 3",
   "language": "python",
   "name": "python3"
  },
  "language_info": {
   "codemirror_mode": {
    "name": "ipython",
    "version": 3
   },
   "file_extension": ".py",
   "mimetype": "text/x-python",
   "name": "python",
   "nbconvert_exporter": "python",
   "pygments_lexer": "ipython3",
   "version": "3.6.3"
  }
 },
 "nbformat": 4,
 "nbformat_minor": 2
}
