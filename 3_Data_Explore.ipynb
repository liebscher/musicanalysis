{
 "cells": [
  {
   "cell_type": "markdown",
   "metadata": {},
   "source": [
    "# Exploration"
   ]
  },
  {
   "cell_type": "code",
   "execution_count": 1,
   "metadata": {},
   "outputs": [],
   "source": [
    "import pandas as pd\n",
    "from pandas import Timestamp\n",
    "import numpy as np\n",
    "import scipy.stats as stats\n",
    "from datetime import datetime\n",
    "from pytz import timezone\n",
    "\n",
    "from sklearn import manifold, decomposition, cluster\n",
    "from sklearn.model_selection import train_test_split\n",
    "\n",
    "import itertools\n",
    "\n",
    "import seaborn as sns\n",
    "import matplotlib.pyplot as plt\n",
    "from matplotlib import colors\n",
    "\n",
    "sns.set_style('whitegrid')\n",
    "pd.set_option('display.max_columns', 100)"
   ]
  },
  {
   "cell_type": "code",
   "execution_count": 2,
   "metadata": {},
   "outputs": [],
   "source": [
    "full_history = pd.read_json('data/history_comp.json')\n",
    "\n",
    "if full_history['timestamp'].max().tz is None:\n",
    "    full_history['timestamp'] = pd.to_datetime(full_history['timestamp'], utc=True)\n",
    "    full_history['timestamp'] = full_history['timestamp'].apply(lambda t: t.tz_convert('US/Pacific'))\n",
    "\n",
    "full_history = full_history.drop('index', axis=1)"
   ]
  },
  {
   "cell_type": "markdown",
   "metadata": {},
   "source": [
    "As shown below, for every 19 songs listened to, 10 of them are unique to my music catalog."
   ]
  },
  {
   "cell_type": "code",
   "execution_count": 3,
   "metadata": {},
   "outputs": [
    {
     "data": {
      "text/plain": [
       "1.9224489795918367"
      ]
     },
     "execution_count": 3,
     "metadata": {},
     "output_type": "execute_result"
    }
   ],
   "source": [
    "def get_unique():\n",
    "    unique_history = full_history.drop('timestamp', axis=1)\n",
    "    return unique_history.drop_duplicates('id')\n",
    "\n",
    "len(full_history)/len(get_unique())"
   ]
  },
  {
   "cell_type": "markdown",
   "metadata": {},
   "source": [
    "Here is a sample of artists. In addition to the a priori known name, we have followers, genres, and popularity of each artist."
   ]
  },
  {
   "cell_type": "code",
   "execution_count": 4,
   "metadata": {},
   "outputs": [
    {
     "data": {
      "text/html": [
       "<div>\n",
       "<style scoped>\n",
       "    .dataframe tbody tr th:only-of-type {\n",
       "        vertical-align: middle;\n",
       "    }\n",
       "\n",
       "    .dataframe tbody tr th {\n",
       "        vertical-align: top;\n",
       "    }\n",
       "\n",
       "    .dataframe thead th {\n",
       "        text-align: right;\n",
       "    }\n",
       "</style>\n",
       "<table border=\"1\" class=\"dataframe\">\n",
       "  <thead>\n",
       "    <tr style=\"text-align: right;\">\n",
       "      <th></th>\n",
       "      <th>artist</th>\n",
       "      <th>followers</th>\n",
       "      <th>genres</th>\n",
       "      <th>id</th>\n",
       "      <th>popularity</th>\n",
       "    </tr>\n",
       "  </thead>\n",
       "  <tbody>\n",
       "    <tr>\n",
       "      <th>1635</th>\n",
       "      <td>Martin Volt</td>\n",
       "      <td>902</td>\n",
       "      <td>[progressive electro house]</td>\n",
       "      <td>0Nca2TQcIrUaIRYwShmLrc</td>\n",
       "      <td>24</td>\n",
       "    </tr>\n",
       "    <tr>\n",
       "      <th>2349</th>\n",
       "      <td>Meltycanon</td>\n",
       "      <td>13259</td>\n",
       "      <td>[lo beats]</td>\n",
       "      <td>3agnCimLdkVM3mc4PFJUxC</td>\n",
       "      <td>53</td>\n",
       "    </tr>\n",
       "    <tr>\n",
       "      <th>337</th>\n",
       "      <td>Andrew Manze</td>\n",
       "      <td>2913</td>\n",
       "      <td>[baroque ensemble, choral, classical, classica...</td>\n",
       "      <td>0MPbAeGQj0YatrUMdY2KEr</td>\n",
       "      <td>55</td>\n",
       "    </tr>\n",
       "    <tr>\n",
       "      <th>395</th>\n",
       "      <td>Nikolaus Harnoncourt</td>\n",
       "      <td>40845</td>\n",
       "      <td>[baroque ensemble, choral, classical, classica...</td>\n",
       "      <td>0AeOzXbHJu8q2xqILEOLEO</td>\n",
       "      <td>62</td>\n",
       "    </tr>\n",
       "    <tr>\n",
       "      <th>1318</th>\n",
       "      <td>Kailee Morgue</td>\n",
       "      <td>10853</td>\n",
       "      <td>[indie electro-pop]</td>\n",
       "      <td>245PKF3hKjtxJKIG153kF0</td>\n",
       "      <td>57</td>\n",
       "    </tr>\n",
       "  </tbody>\n",
       "</table>\n",
       "</div>"
      ],
      "text/plain": [
       "                    artist  followers  \\\n",
       "1635           Martin Volt        902   \n",
       "2349            Meltycanon      13259   \n",
       "337           Andrew Manze       2913   \n",
       "395   Nikolaus Harnoncourt      40845   \n",
       "1318         Kailee Morgue      10853   \n",
       "\n",
       "                                                 genres  \\\n",
       "1635                        [progressive electro house]   \n",
       "2349                                         [lo beats]   \n",
       "337   [baroque ensemble, choral, classical, classica...   \n",
       "395   [baroque ensemble, choral, classical, classica...   \n",
       "1318                                [indie electro-pop]   \n",
       "\n",
       "                          id  popularity  \n",
       "1635  0Nca2TQcIrUaIRYwShmLrc          24  \n",
       "2349  3agnCimLdkVM3mc4PFJUxC          53  \n",
       "337   0MPbAeGQj0YatrUMdY2KEr          55  \n",
       "395   0AeOzXbHJu8q2xqILEOLEO          62  \n",
       "1318  245PKF3hKjtxJKIG153kF0          57  "
      ]
     },
     "execution_count": 4,
     "metadata": {},
     "output_type": "execute_result"
    }
   ],
   "source": [
    "artists = pd.read_json('data/artist_info.json')\n",
    "artists.sample(5)"
   ]
  },
  {
   "cell_type": "markdown",
   "metadata": {},
   "source": [
    "### Visualizing Feature Space\n",
    "\n",
    "Below we visualize the distributions of each feature. Pay close attention because we do make some modifications on a per-feature basis. These are designed to reduce error down the road."
   ]
  },
  {
   "cell_type": "code",
   "execution_count": 5,
   "metadata": {},
   "outputs": [],
   "source": [
    "def hist(X, xlim, bins=14):\n",
    "    plt.xlim(xlim)\n",
    "    N, bins, patches = plt.hist(X, bins=bins)\n",
    "\n",
    "    fracs = N / N.max()\n",
    "\n",
    "    norm = colors.Normalize(fracs.min(), fracs.max())\n",
    "\n",
    "    for frac, patch in zip(fracs, patches):\n",
    "        color = plt.cm.coolwarm(norm(frac))\n",
    "        patch.set_facecolor(color)"
   ]
  },
  {
   "cell_type": "code",
   "execution_count": 6,
   "metadata": {},
   "outputs": [
    {
     "data": {
      "text/plain": [
       "count    10362.000000\n",
       "mean         0.305218\n",
       "std          0.313379\n",
       "min          0.000003\n",
       "25%          0.043500\n",
       "50%          0.181500\n",
       "75%          0.511000\n",
       "max          0.996000\n",
       "Name: acousticness, dtype: float64"
      ]
     },
     "execution_count": 6,
     "metadata": {},
     "output_type": "execute_result"
    },
    {
     "data": {
      "image/png": "[encoded data removed]",
      "text/plain": [
       "<matplotlib.figure.Figure at 0x1a10c73a90>"
      ]
     },
     "metadata": {},
     "output_type": "display_data"
    }
   ],
   "source": [
    "hist(full_history['acousticness'], [0,1])\n",
    "full_history['acousticness'].describe()"
   ]
  },
  {
   "cell_type": "code",
   "execution_count": 7,
   "metadata": {},
   "outputs": [
    {
     "data": {
      "text/plain": [
       "count    10362.000000\n",
       "mean         0.604638\n",
       "std          0.169704\n",
       "min          0.063400\n",
       "25%          0.492000\n",
       "50%          0.614000\n",
       "75%          0.734000\n",
       "max          0.984000\n",
       "Name: danceability, dtype: float64"
      ]
     },
     "execution_count": 7,
     "metadata": {},
     "output_type": "execute_result"
    },
    {
     "data": {
      "image/png": "[encoded data removed]",
      "text/plain": [
       "<matplotlib.figure.Figure at 0x1a10c7f080>"
      ]
     },
     "metadata": {},
     "output_type": "display_data"
    }
   ],
   "source": [
    "hist(full_history['danceability'], [0,1])\n",
    "full_history['danceability'].describe()"
   ]
  },
  {
   "cell_type": "markdown",
   "metadata": {},
   "source": [
    "Convert the duration of each song from milliseconds to floating-point minutes."
   ]
  },
  {
   "cell_type": "code",
   "execution_count": 8,
   "metadata": {},
   "outputs": [
    {
     "name": "stdout",
     "output_type": "stream",
     "text": [
      "count    10362.000000\n",
      "mean         3.867266\n",
      "std          1.405493\n",
      "min          0.566450\n",
      "25%          3.156017\n",
      "50%          3.666667\n",
      "75%          4.321529\n",
      "max         41.074900\n",
      "Name: duration, dtype: float64\n"
     ]
    },
    {
     "data": {
      "image/png": "[encoded data removed]",
      "text/plain": [
       "<matplotlib.figure.Figure at 0x1a10c4c9b0>"
      ]
     },
     "metadata": {},
     "output_type": "display_data"
    }
   ],
   "source": [
    "full_history['duration'] = full_history['duration_ms'] / 1000 / 60\n",
    "full_history['duration'].describe()\n",
    "hist(full_history['duration'], [0,45], 25)"
   ]
  },
  {
   "cell_type": "code",
   "execution_count": 11,
   "metadata": {
    "collapsed": true
   },
   "outputs": [
    {
     "ename": "ValueError",
     "evalue": "labels ['duration_ms'] not contained in axis",
     "output_type": "error",
     "traceback": [
      "\u001b[0;31m---------------------------------------------------------------------------\u001b[0m",
      "\u001b[0;31mValueError\u001b[0m                                Traceback (most recent call last)",
      "\u001b[0;32m<ipython-input-11-1daf391f537c>\u001b[0m in \u001b[0;36m<module>\u001b[0;34m()\u001b[0m\n\u001b[0;32m----> 1\u001b[0;31m \u001b[0mfull_history\u001b[0m \u001b[0;34m=\u001b[0m \u001b[0mfull_history\u001b[0m\u001b[0;34m.\u001b[0m\u001b[0mdrop\u001b[0m\u001b[0;34m(\u001b[0m\u001b[0;34m'duration_ms'\u001b[0m\u001b[0;34m,\u001b[0m \u001b[0maxis\u001b[0m\u001b[0;34m=\u001b[0m\u001b[0;36m1\u001b[0m\u001b[0;34m)\u001b[0m\u001b[0;34m\u001b[0m\u001b[0m\n\u001b[0m",
      "\u001b[0;32m~/anaconda3/lib/python3.6/site-packages/pandas/core/generic.py\u001b[0m in \u001b[0;36mdrop\u001b[0;34m(self, labels, axis, index, columns, level, inplace, errors)\u001b[0m\n\u001b[1;32m   2528\u001b[0m         \u001b[0;32mfor\u001b[0m \u001b[0maxis\u001b[0m\u001b[0;34m,\u001b[0m \u001b[0mlabels\u001b[0m \u001b[0;32min\u001b[0m \u001b[0maxes\u001b[0m\u001b[0;34m.\u001b[0m\u001b[0mitems\u001b[0m\u001b[0;34m(\u001b[0m\u001b[0;34m)\u001b[0m\u001b[0;34m:\u001b[0m\u001b[0;34m\u001b[0m\u001b[0m\n\u001b[1;32m   2529\u001b[0m             \u001b[0;32mif\u001b[0m \u001b[0mlabels\u001b[0m \u001b[0;32mis\u001b[0m \u001b[0;32mnot\u001b[0m \u001b[0;32mNone\u001b[0m\u001b[0;34m:\u001b[0m\u001b[0;34m\u001b[0m\u001b[0m\n\u001b[0;32m-> 2530\u001b[0;31m                 \u001b[0mobj\u001b[0m \u001b[0;34m=\u001b[0m \u001b[0mobj\u001b[0m\u001b[0;34m.\u001b[0m\u001b[0m_drop_axis\u001b[0m\u001b[0;34m(\u001b[0m\u001b[0mlabels\u001b[0m\u001b[0;34m,\u001b[0m \u001b[0maxis\u001b[0m\u001b[0;34m,\u001b[0m \u001b[0mlevel\u001b[0m\u001b[0;34m=\u001b[0m\u001b[0mlevel\u001b[0m\u001b[0;34m,\u001b[0m \u001b[0merrors\u001b[0m\u001b[0;34m=\u001b[0m\u001b[0merrors\u001b[0m\u001b[0;34m)\u001b[0m\u001b[0;34m\u001b[0m\u001b[0m\n\u001b[0m\u001b[1;32m   2531\u001b[0m \u001b[0;34m\u001b[0m\u001b[0m\n\u001b[1;32m   2532\u001b[0m         \u001b[0;32mif\u001b[0m \u001b[0minplace\u001b[0m\u001b[0;34m:\u001b[0m\u001b[0;34m\u001b[0m\u001b[0m\n",
      "\u001b[0;32m~/anaconda3/lib/python3.6/site-packages/pandas/core/generic.py\u001b[0m in \u001b[0;36m_drop_axis\u001b[0;34m(self, labels, axis, level, errors)\u001b[0m\n\u001b[1;32m   2560\u001b[0m                 \u001b[0mnew_axis\u001b[0m \u001b[0;34m=\u001b[0m \u001b[0maxis\u001b[0m\u001b[0;34m.\u001b[0m\u001b[0mdrop\u001b[0m\u001b[0;34m(\u001b[0m\u001b[0mlabels\u001b[0m\u001b[0;34m,\u001b[0m \u001b[0mlevel\u001b[0m\u001b[0;34m=\u001b[0m\u001b[0mlevel\u001b[0m\u001b[0;34m,\u001b[0m \u001b[0merrors\u001b[0m\u001b[0;34m=\u001b[0m\u001b[0merrors\u001b[0m\u001b[0;34m)\u001b[0m\u001b[0;34m\u001b[0m\u001b[0m\n\u001b[1;32m   2561\u001b[0m             \u001b[0;32melse\u001b[0m\u001b[0;34m:\u001b[0m\u001b[0;34m\u001b[0m\u001b[0m\n\u001b[0;32m-> 2562\u001b[0;31m                 \u001b[0mnew_axis\u001b[0m \u001b[0;34m=\u001b[0m \u001b[0maxis\u001b[0m\u001b[0;34m.\u001b[0m\u001b[0mdrop\u001b[0m\u001b[0;34m(\u001b[0m\u001b[0mlabels\u001b[0m\u001b[0;34m,\u001b[0m \u001b[0merrors\u001b[0m\u001b[0;34m=\u001b[0m\u001b[0merrors\u001b[0m\u001b[0;34m)\u001b[0m\u001b[0;34m\u001b[0m\u001b[0m\n\u001b[0m\u001b[1;32m   2563\u001b[0m             \u001b[0mdropped\u001b[0m \u001b[0;34m=\u001b[0m \u001b[0mself\u001b[0m\u001b[0;34m.\u001b[0m\u001b[0mreindex\u001b[0m\u001b[0;34m(\u001b[0m\u001b[0;34m**\u001b[0m\u001b[0;34m{\u001b[0m\u001b[0maxis_name\u001b[0m\u001b[0;34m:\u001b[0m \u001b[0mnew_axis\u001b[0m\u001b[0;34m}\u001b[0m\u001b[0;34m)\u001b[0m\u001b[0;34m\u001b[0m\u001b[0m\n\u001b[1;32m   2564\u001b[0m             \u001b[0;32mtry\u001b[0m\u001b[0;34m:\u001b[0m\u001b[0;34m\u001b[0m\u001b[0m\n",
      "\u001b[0;32m~/anaconda3/lib/python3.6/site-packages/pandas/core/indexes/base.py\u001b[0m in \u001b[0;36mdrop\u001b[0;34m(self, labels, errors)\u001b[0m\n\u001b[1;32m   3742\u001b[0m             \u001b[0;32mif\u001b[0m \u001b[0merrors\u001b[0m \u001b[0;34m!=\u001b[0m \u001b[0;34m'ignore'\u001b[0m\u001b[0;34m:\u001b[0m\u001b[0;34m\u001b[0m\u001b[0m\n\u001b[1;32m   3743\u001b[0m                 raise ValueError('labels %s not contained in axis' %\n\u001b[0;32m-> 3744\u001b[0;31m                                  labels[mask])\n\u001b[0m\u001b[1;32m   3745\u001b[0m             \u001b[0mindexer\u001b[0m \u001b[0;34m=\u001b[0m \u001b[0mindexer\u001b[0m\u001b[0;34m[\u001b[0m\u001b[0;34m~\u001b[0m\u001b[0mmask\u001b[0m\u001b[0;34m]\u001b[0m\u001b[0;34m\u001b[0m\u001b[0m\n\u001b[1;32m   3746\u001b[0m         \u001b[0;32mreturn\u001b[0m \u001b[0mself\u001b[0m\u001b[0;34m.\u001b[0m\u001b[0mdelete\u001b[0m\u001b[0;34m(\u001b[0m\u001b[0mindexer\u001b[0m\u001b[0;34m)\u001b[0m\u001b[0;34m\u001b[0m\u001b[0m\n",
      "\u001b[0;31mValueError\u001b[0m: labels ['duration_ms'] not contained in axis"
     ]
    }
   ],
   "source": [
    "full_history = full_history.drop('duration_ms', axis=1)"
   ]
  },
  {
   "cell_type": "code",
   "execution_count": 10,
   "metadata": {},
   "outputs": [
    {
     "data": {
      "text/plain": [
       "count    10362.000000\n",
       "mean         0.572375\n",
       "std          0.226727\n",
       "min          0.000803\n",
       "25%          0.436000\n",
       "50%          0.590500\n",
       "75%          0.739000\n",
       "max          0.998000\n",
       "Name: energy, dtype: float64"
      ]
     },
     "execution_count": 10,
     "metadata": {},
     "output_type": "execute_result"
    },
    {
     "data": {
      "image/png": "[encoded data removed]",
      "text/plain": [
       "<matplotlib.figure.Figure at 0x1a10c94208>"
      ]
     },
     "metadata": {},
     "output_type": "display_data"
    }
   ],
   "source": [
    "hist(full_history['energy'], [0,1])\n",
    "full_history['energy'].describe()"
   ]
  },
  {
   "cell_type": "code",
   "execution_count": 12,
   "metadata": {},
   "outputs": [
    {
     "data": {
      "text/plain": [
       "count    10362.000000\n",
       "mean         0.187516\n",
       "std          0.152933\n",
       "min          0.018700\n",
       "25%          0.097900\n",
       "50%          0.123000\n",
       "75%          0.225000\n",
       "max          0.989000\n",
       "Name: liveness, dtype: float64"
      ]
     },
     "execution_count": 12,
     "metadata": {},
     "output_type": "execute_result"
    },
    {
     "data": {
      "image/png": "[encoded data removed]",
      "text/plain": [
       "<matplotlib.figure.Figure at 0x1a10bc3550>"
      ]
     },
     "metadata": {},
     "output_type": "display_data"
    }
   ],
   "source": [
    "hist(full_history['liveness'], [0,1])\n",
    "full_history['liveness'].describe()"
   ]
  },
  {
   "cell_type": "code",
   "execution_count": 13,
   "metadata": {},
   "outputs": [
    {
     "data": {
      "text/plain": [
       "10010                             My Girls\n",
       "10065                          Dude - Skit\n",
       "10231                              Asshole\n",
       "10337                              Feel Me\n",
       "105                             So Special\n",
       "1056                        Round Whippin'\n",
       "1158                                  TEAM\n",
       "1279                             Hound Dog\n",
       "1290                          Candle Light\n",
       "138                                 ALASKA\n",
       "1469                             Champions\n",
       "1502                                 Pt. 2\n",
       "1522     Sunday Morning Coming Down - Live\n",
       "1527                       Ragged Old Flag\n",
       "1756                        Starting Today\n",
       "Name: name, dtype: object"
      ]
     },
     "execution_count": 13,
     "metadata": {},
     "output_type": "execute_result"
    }
   ],
   "source": [
    "full_history[full_history['liveness'] > 0.75].drop_duplicates('id')['name'][:15]"
   ]
  },
  {
   "cell_type": "markdown",
   "metadata": {},
   "source": [
    "Liveness is obviously an inaccurate measurement, thus we cannot use it reliably. We remove it."
   ]
  },
  {
   "cell_type": "code",
   "execution_count": 14,
   "metadata": {},
   "outputs": [],
   "source": [
    "full_history = full_history.drop('liveness', axis=1)"
   ]
  },
  {
   "cell_type": "markdown",
   "metadata": {},
   "source": [
    "Similar to duration, loudness is heavily skewed, thus we log scale it to bring things back together and reveal more of the underlying structure. Note the transformation of the values too. Since we don't care too much about the actual value of the loudness, only whether it's relatively loud or not, we assume this is acceptable."
   ]
  },
  {
   "cell_type": "code",
   "execution_count": 15,
   "metadata": {},
   "outputs": [
    {
     "data": {
      "text/plain": [
       "count    10362.000000\n",
       "mean         2.157971\n",
       "std          0.456490\n",
       "min         -0.529329\n",
       "25%          1.876866\n",
       "50%          2.124893\n",
       "75%          2.374627\n",
       "max          3.877990\n",
       "Name: log_loudness, dtype: float64"
      ]
     },
     "execution_count": 15,
     "metadata": {},
     "output_type": "execute_result"
    },
    {
     "data": {
      "image/png": "[encoded data removed]",
      "text/plain": [
       "<matplotlib.figure.Figure at 0x1a10c7ffd0>"
      ]
     },
     "metadata": {},
     "output_type": "display_data"
    }
   ],
   "source": [
    "full_history['log_loudness'] = np.log(-1*full_history['loudness']+1)\n",
    "hist(full_history['log_loudness'], [-0.8,4], 20)\n",
    "full_history['log_loudness'].describe()"
   ]
  },
  {
   "cell_type": "code",
   "execution_count": 16,
   "metadata": {},
   "outputs": [],
   "source": [
    "full_history = full_history.drop('loudness', axis=1)"
   ]
  },
  {
   "cell_type": "code",
   "execution_count": 17,
   "metadata": {},
   "outputs": [
    {
     "data": {
      "text/plain": [
       "count    10362.000000\n",
       "mean        54.636557\n",
       "std         17.303703\n",
       "min          0.000000\n",
       "25%         45.000000\n",
       "50%         57.000000\n",
       "75%         66.000000\n",
       "max        100.000000\n",
       "Name: popularity, dtype: float64"
      ]
     },
     "execution_count": 17,
     "metadata": {},
     "output_type": "execute_result"
    },
    {
     "data": {
      "image/png": "[encoded data removed]",
      "text/plain": [
       "<matplotlib.figure.Figure at 0x1a10c67c18>"
      ]
     },
     "metadata": {},
     "output_type": "display_data"
    }
   ],
   "source": [
    "hist(full_history['popularity'], [0, 100])\n",
    "full_history['popularity'].describe()"
   ]
  },
  {
   "cell_type": "code",
   "execution_count": 18,
   "metadata": {},
   "outputs": [
    {
     "data": {
      "text/plain": [
       "count    10362.000000\n",
       "mean       117.801100\n",
       "std         29.800043\n",
       "min         32.000000\n",
       "25%         94.000000\n",
       "50%        118.000000\n",
       "75%        140.000000\n",
       "max        222.000000\n",
       "Name: tempo, dtype: float64"
      ]
     },
     "execution_count": 18,
     "metadata": {},
     "output_type": "execute_result"
    },
    {
     "data": {
      "image/png": "[encoded data removed]",
      "text/plain": [
       "<matplotlib.figure.Figure at 0x1a0fc1e320>"
      ]
     },
     "metadata": {},
     "output_type": "display_data"
    }
   ],
   "source": [
    "full_history['tempo'] = full_history['tempo'].apply(round)\n",
    "hist(full_history['tempo'], [30, 225], 24)\n",
    "full_history['tempo'].describe()"
   ]
  },
  {
   "cell_type": "markdown",
   "metadata": {},
   "source": [
    "Many songs are misclassified by Spotify, often doubling the real BPM. Presto tempo is said to be above 168, and after looking through many of the resutls of songs above 168 BPM, it is reasonable to correct songs above this threshold. Although it does cut out the top end, it is more representative for  many songs."
   ]
  },
  {
   "cell_type": "code",
   "execution_count": 19,
   "metadata": {},
   "outputs": [],
   "source": [
    "full_history['tempo'] = full_history['tempo'].apply(lambda x: x if x < 168 else x/2)"
   ]
  },
  {
   "cell_type": "code",
   "execution_count": 20,
   "metadata": {},
   "outputs": [
    {
     "data": {
      "text/plain": [
       "count    10362.000000\n",
       "mean         0.430213\n",
       "std          0.236940\n",
       "min          0.029800\n",
       "25%          0.238000\n",
       "50%          0.409000\n",
       "75%          0.606750\n",
       "max          0.990000\n",
       "Name: valence, dtype: float64"
      ]
     },
     "execution_count": 20,
     "metadata": {},
     "output_type": "execute_result"
    },
    {
     "data": {
      "image/png": "[encoded data removed]",
      "text/plain": [
       "<matplotlib.figure.Figure at 0x1a108c1550>"
      ]
     },
     "metadata": {},
     "output_type": "display_data"
    }
   ],
   "source": [
    "hist(full_history['valence'], [0, 1])\n",
    "full_history['valence'].describe()"
   ]
  },
  {
   "cell_type": "markdown",
   "metadata": {},
   "source": [
    "The release date isn't accurate either. For example, all classical music has release dates of 1960 or later, since this is the release of the album itself, not necessarily the conception of the music (which would have placed a lot of this genre in the 17th-20th centuries)."
   ]
  },
  {
   "cell_type": "code",
   "execution_count": 21,
   "metadata": {},
   "outputs": [],
   "source": [
    "full_history = full_history.drop('release', axis=1)"
   ]
  },
  {
   "cell_type": "markdown",
   "metadata": {},
   "source": [
    "How much music are we talking about here?"
   ]
  },
  {
   "cell_type": "code",
   "execution_count": 53,
   "metadata": {},
   "outputs": [
    {
     "name": "stdout",
     "output_type": "stream",
     "text": [
      "Total hours: 667.877\n",
      "Hours/day: 5.0\n",
      "Average songs/day: 78\n",
      "Total songs listened to: 10362 (unique songs: 5390)\n"
     ]
    }
   ],
   "source": [
    "total_hours = full_history['duration'].sum()/(60)\n",
    "print('Total hours: {:0.3f}'.format(total_hours))\n",
    "\n",
    "hours_per_day = total_hours/(full_history['timestamp'].max() - full_history['timestamp'].min()).days\n",
    "print('Hours/day: {:0.1f}'.format(hours_per_day))\n",
    "\n",
    "avg_song_dur = full_history['duration'].mean()\n",
    "print('Average songs/day: {:0.0f}'.format(hours_per_day/(avg_song_dur/(60.0))))\n",
    "\n",
    "print('Total songs listened to: {} (unique songs: {})'.format(len(full_history), len(get_unique())))"
   ]
  },
  {
   "cell_type": "code",
   "execution_count": 22,
   "metadata": {},
   "outputs": [
    {
     "data": {
      "text/html": [
       "<div>\n",
       "<style scoped>\n",
       "    .dataframe tbody tr th:only-of-type {\n",
       "        vertical-align: middle;\n",
       "    }\n",
       "\n",
       "    .dataframe tbody tr th {\n",
       "        vertical-align: top;\n",
       "    }\n",
       "\n",
       "    .dataframe thead th {\n",
       "        text-align: right;\n",
       "    }\n",
       "</style>\n",
       "<table border=\"1\" class=\"dataframe\">\n",
       "  <thead>\n",
       "    <tr style=\"text-align: right;\">\n",
       "      <th></th>\n",
       "      <th>acousticness</th>\n",
       "      <th>album</th>\n",
       "      <th>artists</th>\n",
       "      <th>danceability</th>\n",
       "      <th>energy</th>\n",
       "      <th>explicit</th>\n",
       "      <th>id</th>\n",
       "      <th>key</th>\n",
       "      <th>mode</th>\n",
       "      <th>name</th>\n",
       "      <th>popularity</th>\n",
       "      <th>speechiness</th>\n",
       "      <th>tempo</th>\n",
       "      <th>time_signature</th>\n",
       "      <th>timestamp</th>\n",
       "      <th>valence</th>\n",
       "      <th>duration</th>\n",
       "      <th>log_loudness</th>\n",
       "    </tr>\n",
       "  </thead>\n",
       "  <tbody>\n",
       "    <tr>\n",
       "      <th>8826</th>\n",
       "      <td>0.78200</td>\n",
       "      <td>17</td>\n",
       "      <td>[15UsOTVnJzReFVN1VCnxy4]</td>\n",
       "      <td>0.746</td>\n",
       "      <td>0.251</td>\n",
       "      <td>1</td>\n",
       "      <td>5TXDeTFVRVY7Cvt0Dw4vWW</td>\n",
       "      <td>11</td>\n",
       "      <td>0</td>\n",
       "      <td>Revenge</td>\n",
       "      <td>79</td>\n",
       "      <td>0.2590</td>\n",
       "      <td>140.0</td>\n",
       "      <td>4</td>\n",
       "      <td>2018-04-21 17:15:00-07:00</td>\n",
       "      <td>0.180</td>\n",
       "      <td>2.000450</td>\n",
       "      <td>2.843105</td>\n",
       "    </tr>\n",
       "    <tr>\n",
       "      <th>4374</th>\n",
       "      <td>0.01420</td>\n",
       "      <td>Alien Boy EP</td>\n",
       "      <td>[6TLwD7HPWuiOzvXEa3oCNe]</td>\n",
       "      <td>0.666</td>\n",
       "      <td>0.774</td>\n",
       "      <td>1</td>\n",
       "      <td>62BKMNUacuQ6X67ID4Qcef</td>\n",
       "      <td>1</td>\n",
       "      <td>1</td>\n",
       "      <td>Welcome To LA</td>\n",
       "      <td>55</td>\n",
       "      <td>0.2470</td>\n",
       "      <td>104.0</td>\n",
       "      <td>4</td>\n",
       "      <td>2018-02-28 11:41:00-08:00</td>\n",
       "      <td>0.437</td>\n",
       "      <td>2.527567</td>\n",
       "      <td>1.904344</td>\n",
       "    </tr>\n",
       "    <tr>\n",
       "      <th>5695</th>\n",
       "      <td>0.00329</td>\n",
       "      <td>Wolf</td>\n",
       "      <td>[4V8LLVI7PbaPR0K2TGSxFF]</td>\n",
       "      <td>0.368</td>\n",
       "      <td>0.838</td>\n",
       "      <td>1</td>\n",
       "      <td>6rqj2zeKhLy3exkuFi6mSz</td>\n",
       "      <td>8</td>\n",
       "      <td>0</td>\n",
       "      <td>Answer</td>\n",
       "      <td>62</td>\n",
       "      <td>0.0487</td>\n",
       "      <td>72.0</td>\n",
       "      <td>4</td>\n",
       "      <td>2018-02-13 09:42:00-08:00</td>\n",
       "      <td>0.477</td>\n",
       "      <td>3.834450</td>\n",
       "      <td>2.010225</td>\n",
       "    </tr>\n",
       "    <tr>\n",
       "      <th>10037</th>\n",
       "      <td>0.37400</td>\n",
       "      <td>The Beautiful Game</td>\n",
       "      <td>[4AGwPDdh1y8hochNzHy5HC, 5WId4o5jdGVhptNU0uqKxu]</td>\n",
       "      <td>0.443</td>\n",
       "      <td>0.643</td>\n",
       "      <td>0</td>\n",
       "      <td>1kRTlW6idFA2IGhJrMmiyF</td>\n",
       "      <td>2</td>\n",
       "      <td>1</td>\n",
       "      <td>The Beautiful Game</td>\n",
       "      <td>53</td>\n",
       "      <td>0.0386</td>\n",
       "      <td>105.0</td>\n",
       "      <td>4</td>\n",
       "      <td>2017-12-25 13:03:00-08:00</td>\n",
       "      <td>0.451</td>\n",
       "      <td>4.543117</td>\n",
       "      <td>2.017433</td>\n",
       "    </tr>\n",
       "    <tr>\n",
       "      <th>1394</th>\n",
       "      <td>0.04350</td>\n",
       "      <td>Mercury</td>\n",
       "      <td>[3QqJ1L8cWsPFZ1YDPpUmvG]</td>\n",
       "      <td>0.614</td>\n",
       "      <td>0.802</td>\n",
       "      <td>0</td>\n",
       "      <td>72e9D8QX35Zn2Bp3cnRZfs</td>\n",
       "      <td>0</td>\n",
       "      <td>0</td>\n",
       "      <td>Robots</td>\n",
       "      <td>22</td>\n",
       "      <td>0.1100</td>\n",
       "      <td>128.0</td>\n",
       "      <td>4</td>\n",
       "      <td>2018-04-06 13:41:00-07:00</td>\n",
       "      <td>0.202</td>\n",
       "      <td>4.151917</td>\n",
       "      <td>1.504966</td>\n",
       "    </tr>\n",
       "  </tbody>\n",
       "</table>\n",
       "</div>"
      ],
      "text/plain": [
       "       acousticness               album  \\\n",
       "8826        0.78200                  17   \n",
       "4374        0.01420        Alien Boy EP   \n",
       "5695        0.00329                Wolf   \n",
       "10037       0.37400  The Beautiful Game   \n",
       "1394        0.04350             Mercury   \n",
       "\n",
       "                                                artists  danceability  energy  \\\n",
       "8826                           [15UsOTVnJzReFVN1VCnxy4]         0.746   0.251   \n",
       "4374                           [6TLwD7HPWuiOzvXEa3oCNe]         0.666   0.774   \n",
       "5695                           [4V8LLVI7PbaPR0K2TGSxFF]         0.368   0.838   \n",
       "10037  [4AGwPDdh1y8hochNzHy5HC, 5WId4o5jdGVhptNU0uqKxu]         0.443   0.643   \n",
       "1394                           [3QqJ1L8cWsPFZ1YDPpUmvG]         0.614   0.802   \n",
       "\n",
       "       explicit                      id  key  mode                name  \\\n",
       "8826          1  5TXDeTFVRVY7Cvt0Dw4vWW   11     0             Revenge   \n",
       "4374          1  62BKMNUacuQ6X67ID4Qcef    1     1       Welcome To LA   \n",
       "5695          1  6rqj2zeKhLy3exkuFi6mSz    8     0              Answer   \n",
       "10037         0  1kRTlW6idFA2IGhJrMmiyF    2     1  The Beautiful Game   \n",
       "1394          0  72e9D8QX35Zn2Bp3cnRZfs    0     0              Robots   \n",
       "\n",
       "       popularity  speechiness  tempo  time_signature  \\\n",
       "8826           79       0.2590  140.0               4   \n",
       "4374           55       0.2470  104.0               4   \n",
       "5695           62       0.0487   72.0               4   \n",
       "10037          53       0.0386  105.0               4   \n",
       "1394           22       0.1100  128.0               4   \n",
       "\n",
       "                      timestamp  valence  duration  log_loudness  \n",
       "8826  2018-04-21 17:15:00-07:00    0.180  2.000450      2.843105  \n",
       "4374  2018-02-28 11:41:00-08:00    0.437  2.527567      1.904344  \n",
       "5695  2018-02-13 09:42:00-08:00    0.477  3.834450      2.010225  \n",
       "10037 2017-12-25 13:03:00-08:00    0.451  4.543117      2.017433  \n",
       "1394  2018-04-06 13:41:00-07:00    0.202  4.151917      1.504966  "
      ]
     },
     "execution_count": 22,
     "metadata": {},
     "output_type": "execute_result"
    }
   ],
   "source": [
    "full_history.sample(5)"
   ]
  },
  {
   "cell_type": "markdown",
   "metadata": {},
   "source": [
    "## What kinds of music do I listen to?"
   ]
  },
  {
   "cell_type": "markdown",
   "metadata": {},
   "source": [
    "What types of genres?"
   ]
  },
  {
   "cell_type": "code",
   "execution_count": 23,
   "metadata": {},
   "outputs": [],
   "source": [
    "artists_index = pd.Index(artists['id'])\n",
    "\n",
    "def addTrackGenres(row):\n",
    "    inner_gs = []\n",
    "        \n",
    "    # for each artist in a track\n",
    "    for track_artist in row['artists']:\n",
    "                        \n",
    "        # if the artist exists, get its index\n",
    "        i = artists_index.get_loc(track_artist)\n",
    "        if i > -1:\n",
    "            cell = artists.iloc[i, 2]\n",
    "            if cell:\n",
    "                # collect genres from artists that match the current index\n",
    "                inner_gs.append(cell)\n",
    "                \n",
    "    if inner_gs:\n",
    "        row['genres'] = np.unique(list(itertools.chain(*inner_gs)))\n",
    "    else:\n",
    "        row['genres'] = None\n",
    "        \n",
    "    return row\n"
   ]
  },
  {
   "cell_type": "code",
   "execution_count": 24,
   "metadata": {},
   "outputs": [],
   "source": [
    "full_history = full_history.apply(addTrackGenres, 1)"
   ]
  },
  {
   "cell_type": "code",
   "execution_count": 25,
   "metadata": {},
   "outputs": [],
   "source": [
    "genres = []\n",
    "counts = []\n",
    "freqs =  []\n",
    "var1 =   []\n",
    "\n",
    "for i, row in full_history.loc[full_history['genres'].notnull(), ['energy', 'genres']].iterrows():\n",
    "    \n",
    "    for genre in row['genres']:\n",
    "        \n",
    "        if genre in genres:\n",
    "            i = genres.index(genre)\n",
    "            counts[i] += 1\n",
    "            var1[i] += row['energy']\n",
    "        else:\n",
    "            genres.append(genre)\n",
    "            counts.append(1)\n",
    "            var1.append(row['energy'])\n",
    "\n",
    "total = sum(counts)\n",
    "freqs = np.array(counts) / total\n",
    "var1 = np.array(var1) / np.array(counts)\n",
    "\n",
    "collective_genres = pd.DataFrame({'freq': freqs, 'count': counts, 'genre': genres, 'var1': var1})"
   ]
  },
  {
   "cell_type": "code",
   "execution_count": 26,
   "metadata": {},
   "outputs": [
    {
     "name": "stderr",
     "output_type": "stream",
     "text": [
      "/Users/alex/anaconda3/lib/python3.6/site-packages/seaborn/categorical.py:1508: FutureWarning: remove_na is deprecated and is a private function. Do not use.\n",
      "  stat_data = remove_na(group_data[hue_mask])\n"
     ]
    },
    {
     "data": {
      "image/png": "[encoded data removed]",
      "text/plain": [
       "<matplotlib.figure.Figure at 0x1a198a8438>"
      ]
     },
     "metadata": {},
     "output_type": "display_data"
    }
   ],
   "source": [
    "offset = 0\n",
    "collective_genres = collective_genres.sort_values('freq', ascending=False)\n",
    "\n",
    "plt.subplots(figsize=(18,6))\n",
    "g = sns.barplot(x='genre', y='freq', \n",
    "                data=collective_genres[offset:offset+25], \n",
    "                hue='var1', palette='RdBu', dodge=False)\n",
    "g.legend_.remove()\n",
    "g.set_xticklabels(g.get_xticklabels(), rotation=30, horizontalalignment='right');\n",
    "plt.xlabel('Genre')\n",
    "plt.ylabel('Frequency');"
   ]
  },
  {
   "cell_type": "markdown",
   "metadata": {},
   "source": [
    "What is the overall mood like?"
   ]
  },
  {
   "cell_type": "code",
   "execution_count": 27,
   "metadata": {},
   "outputs": [
    {
     "data": {
      "image/png": "[encoded data removed]",
      "text/plain": [
       "<matplotlib.figure.Figure at 0x1a1988c5c0>"
      ]
     },
     "metadata": {},
     "output_type": "display_data"
    }
   ],
   "source": [
    "ax = sns.distplot(full_history.valence, bins=10, kde=False, hist_kws={\"edgecolor\": \"k\", \"linewidth\":1})\n",
    "plt.axvline(full_history.valence.median(), color='k', linestyle='--', linewidth=2);\n",
    "plt.text(0.8, 0.8, r'$\\mu={0:2f}$'.format(full_history.valence.median()), \n",
    "         horizontalalignment='center', verticalalignment='center', transform=ax.transAxes);"
   ]
  },
  {
   "cell_type": "markdown",
   "metadata": {},
   "source": [
    "Most listened to artists"
   ]
  },
  {
   "cell_type": "code",
   "execution_count": 55,
   "metadata": {},
   "outputs": [],
   "source": [
    "collective_artists = [artist for artist in full_history.loc[full_history['artists'].notnull(), 'artists']]\n",
    "    \n",
    "collective_artists = np.array(list(itertools.chain(*collective_artists)))\n",
    "unique_artists, artist_counts = np.unique(collective_artists, return_counts=True)\n",
    "\n",
    "artist_df = pd.DataFrame({'id': unique_artists, 'count': artist_counts})\n",
    "artist_df = pd.merge(artist_df, artists, on='id')[['id', 'artist', 'count', 'genres']]\n",
    "\n",
    "def simplifyGenre(x):\n",
    "    for genre in collective_genres['genre']:\n",
    "        if genre in x:\n",
    "            return genre\n",
    "        \n",
    "    return 'other'\n",
    "\n",
    "artist_df['genres'] = artist_df['genres'].apply(simplifyGenre)"
   ]
  },
  {
   "cell_type": "code",
   "execution_count": 56,
   "metadata": {},
   "outputs": [
    {
     "name": "stderr",
     "output_type": "stream",
     "text": [
      "/Users/alex/anaconda3/lib/python3.6/site-packages/seaborn/categorical.py:1508: FutureWarning: remove_na is deprecated and is a private function. Do not use.\n",
      "  stat_data = remove_na(group_data[hue_mask])\n"
     ]
    },
    {
     "data": {
      "image/png": "[encoded data removed]",
      "text/plain": [
       "<matplotlib.figure.Figure at 0x1a19495080>"
      ]
     },
     "metadata": {},
     "output_type": "display_data"
    }
   ],
   "source": [
    "offset = 0\n",
    "sort_artist_df = artist_df.sort_values('count', ascending=False)\n",
    "\n",
    "plt.subplots(figsize=(18,6))\n",
    "g = sns.barplot(x='artist', y='count', data=sort_artist_df[offset:offset+25], hue='genres', dodge=False, palette='hls')\n",
    "g.set_xticklabels(g.get_xticklabels(), rotation=30, horizontalalignment='right');\n",
    "plt.xlabel('Artist');\n",
    "plt.ylabel('# of Listens');\n",
    "plt.savefig('topartists.png')"
   ]
  },
  {
   "cell_type": "markdown",
   "metadata": {},
   "source": [
    "Duration of songs:\n",
    "\n",
    "The mean song is 3:52 minutes, the median is 3:40 minutes, and 75% of my music is shorter than 4:19 minutes. My five longest songs include two European classical pieces, two Indian classical pieces, and SB-01, an experimental track by Unknown Mortal Orchestra."
   ]
  },
  {
   "cell_type": "code",
   "execution_count": 54,
   "metadata": {},
   "outputs": [
    {
     "name": "stdout",
     "output_type": "stream",
     "text": [
      "count    10362.000000\n",
      "mean         3.867266\n",
      "std          1.405493\n",
      "min          0.566450\n",
      "25%          3.156017\n",
      "50%          3.666667\n",
      "75%          4.321529\n",
      "max         41.074900\n",
      "Name: duration, dtype: float64\n"
     ]
    },
    {
     "data": {
      "text/html": [
       "<div>\n",
       "<style scoped>\n",
       "    .dataframe tbody tr th:only-of-type {\n",
       "        vertical-align: middle;\n",
       "    }\n",
       "\n",
       "    .dataframe tbody tr th {\n",
       "        vertical-align: top;\n",
       "    }\n",
       "\n",
       "    .dataframe thead th {\n",
       "        text-align: right;\n",
       "    }\n",
       "</style>\n",
       "<table border=\"1\" class=\"dataframe\">\n",
       "  <thead>\n",
       "    <tr style=\"text-align: right;\">\n",
       "      <th></th>\n",
       "      <th>name</th>\n",
       "      <th>duration</th>\n",
       "    </tr>\n",
       "  </thead>\n",
       "  <tbody>\n",
       "    <tr>\n",
       "      <th>990</th>\n",
       "      <td>Raag Mishra Shirvranjani Taal Deepchandi</td>\n",
       "      <td>21.820150</td>\n",
       "    </tr>\n",
       "    <tr>\n",
       "      <th>3046</th>\n",
       "      <td>Piano Concerto No. 1 in B-Flat Minor, Op. 23: ...</td>\n",
       "      <td>22.037783</td>\n",
       "    </tr>\n",
       "    <tr>\n",
       "      <th>7033</th>\n",
       "      <td>SB-01</td>\n",
       "      <td>22.143333</td>\n",
       "    </tr>\n",
       "    <tr>\n",
       "      <th>5655</th>\n",
       "      <td>Tod und Verklärung Op.24, TrV 158</td>\n",
       "      <td>27.024000</td>\n",
       "    </tr>\n",
       "    <tr>\n",
       "      <th>966</th>\n",
       "      <td>Rag Bhimpalasi: Alap, Jod, Jhala</td>\n",
       "      <td>41.074900</td>\n",
       "    </tr>\n",
       "  </tbody>\n",
       "</table>\n",
       "</div>"
      ],
      "text/plain": [
       "                                                   name   duration\n",
       "990            Raag Mishra Shirvranjani Taal Deepchandi  21.820150\n",
       "3046  Piano Concerto No. 1 in B-Flat Minor, Op. 23: ...  22.037783\n",
       "7033                                              SB-01  22.143333\n",
       "5655                  Tod und Verklärung Op.24, TrV 158  27.024000\n",
       "966                    Rag Bhimpalasi: Alap, Jod, Jhala  41.074900"
      ]
     },
     "execution_count": 54,
     "metadata": {},
     "output_type": "execute_result"
    }
   ],
   "source": [
    "print(pd.Series(full_history['duration']).describe())\n",
    "full_history.sort_values('duration')[['name', 'duration']].tail(5)"
   ]
  },
  {
   "cell_type": "markdown",
   "metadata": {},
   "source": [
    "## When do I listen to music?"
   ]
  },
  {
   "cell_type": "markdown",
   "metadata": {},
   "source": [
    "How have I deviated from the above mentioned 78 songs per day?"
   ]
  },
  {
   "cell_type": "code",
   "execution_count": 77,
   "metadata": {},
   "outputs": [
    {
     "data": {
      "image/png": "[encoded data removed]",
      "text/plain": [
       "<matplotlib.figure.Figure at 0x1a1b43b7b8>"
      ]
     },
     "metadata": {},
     "output_type": "display_data"
    }
   ],
   "source": [
    "#plt.plot(x=full_history['timestamp'].index, y=full_history['timestamp'].values)\n",
    "dates = full_history['timestamp'].sort_values().reset_index(drop=True)\n",
    "plt.xticks(rotation=15)\n",
    "plt.plot([min(full_history['timestamp']), max(full_history['timestamp'])], \n",
    "         [0, max(dates.index)], \n",
    "         'r-', alpha=0.4, label='Linear Expected')\n",
    "plt.plot(dates.values, dates.index, c='k', label='Observed')\n",
    "plt.legend()\n",
    "plt.grid(alpha=0.4)"
   ]
  },
  {
   "cell_type": "markdown",
   "metadata": {},
   "source": [
    "Heatmap"
   ]
  },
  {
   "cell_type": "code",
   "execution_count": 29,
   "metadata": {},
   "outputs": [],
   "source": [
    "def makeWeekday(a):\n",
    "    '''\n",
    "    weekday\n",
    "    '''\n",
    "    return a.weekday()"
   ]
  },
  {
   "cell_type": "code",
   "execution_count": 30,
   "metadata": {},
   "outputs": [],
   "source": [
    "full_history['weekday'] = full_history['timestamp'].apply(makeWeekday)"
   ]
  },
  {
   "cell_type": "code",
   "execution_count": 31,
   "metadata": {},
   "outputs": [],
   "source": [
    "def makeDecimalHour(a):\n",
    "    '''\n",
    "    decimal hour\n",
    "    '''\n",
    "    return a.hour + (a.minute / 60.0)"
   ]
  },
  {
   "cell_type": "code",
   "execution_count": 32,
   "metadata": {},
   "outputs": [],
   "source": [
    "full_history['hour_decimal'] = full_history['timestamp'].apply(makeDecimalHour)"
   ]
  },
  {
   "cell_type": "code",
   "execution_count": 33,
   "metadata": {},
   "outputs": [],
   "source": [
    "def _averageDatetimeFrequency(df, hour_inc):\n",
    "    hour_bins = np.arange(0, 24+hour_inc, hour_inc)\n",
    "    hour_labels = np.arange(hour_inc, 24+hour_inc, hour_inc)\n",
    "\n",
    "    df['time_bin'] = pd.cut(df['hour_decimal'], bins=hour_bins, labels=hour_labels)\n",
    "    \n",
    "    history_time_bivar = df.groupby(['weekday', 'time_bin'], axis=0)\n",
    "    return history_time_bivar.size().unstack().fillna(0)\n",
    "\n",
    "def plotAverageDatetimeFrequency(data, title='', fs=(12,5), hour_inc=0.5):\n",
    "    plt.subplots(figsize=fs)\n",
    "    plt.title('Average Listening Date-time Frequency{}'.format(title))\n",
    "    g = sns.heatmap(_averageDatetimeFrequency(data, hour_inc), cmap=\"Blues\", robust=True)\n",
    "    plt.xlabel('Time Bin')\n",
    "    plt.ylabel('Weekday')\n",
    "    g.set(yticklabels=['Mon', 'Tue', 'Wed', 'Thur', 'Fri', 'Sat', 'Sun']); # use ; to suppress output"
   ]
  },
  {
   "cell_type": "code",
   "execution_count": 45,
   "metadata": {},
   "outputs": [
    {
     "data": {
      "image/png": "[encoded data removed]",
      "text/plain": [
       "<matplotlib.figure.Figure at 0x1a109eba58>"
      ]
     },
     "metadata": {},
     "output_type": "display_data"
    }
   ],
   "source": [
    "plotAverageDatetimeFrequency(full_history, hour_inc=1)"
   ]
  },
  {
   "cell_type": "code",
   "execution_count": 46,
   "metadata": {},
   "outputs": [],
   "source": [
    "inc = 1\n",
    "\n",
    "hour_labels = np.arange(inc, 24+inc, inc)\n",
    "day_bins = np.arange(0,7)\n",
    "\n",
    "genres_matrix = []\n",
    "\n",
    "w = []\n",
    "for day in day_bins:\n",
    "    d = []\n",
    "    for hour in hour_labels:\n",
    "        genres = full_history.loc[(full_history['weekday'] == day) & (full_history['time_bin'] == hour), 'genres']\n",
    "        \n",
    "        if list(genres):\n",
    "            unique_genres, genres_counts = np.unique(list(itertools.chain(*genres.dropna())), return_counts=True)\n",
    "            i, = np.where(genres_counts==genres_counts.max())\n",
    "            i = i[0]\n",
    "            d.append(str(unique_genres[i]))\n",
    "        else:\n",
    "            d.append('none')\n",
    "    w.append(d)\n",
    "    \n",
    "d = pd.DataFrame(w)"
   ]
  },
  {
   "cell_type": "code",
   "execution_count": 47,
   "metadata": {},
   "outputs": [],
   "source": [
    "u = np.unique(d)\n",
    "u = dict(zip(u, range(len(u))))\n",
    "d = d.replace(u)"
   ]
  },
  {
   "cell_type": "code",
   "execution_count": 48,
   "metadata": {},
   "outputs": [
    {
     "data": {
      "image/png": "[encoded data removed]",
      "text/plain": [
       "<matplotlib.figure.Figure at 0x1a108f9ba8>"
      ]
     },
     "metadata": {},
     "output_type": "display_data"
    }
   ],
   "source": [
    "fig, ax = plt.subplots(figsize=(16,10))\n",
    "im = plt.imshow(d, cmap='tab20b', aspect=3)\n",
    "\n",
    "cb = fig.colorbar(im)\n",
    "cb.set_ticks(list(u.values()))\n",
    "cb.set_ticklabels(list(u.keys()))  # put text labels on them\n",
    "\n",
    "# Major ticks\n",
    "ax.set_xticks(np.arange(0, 24, 1));\n",
    "ax.set_yticks(np.arange(0, 7, 1));\n",
    "\n",
    "# Minor ticks\n",
    "ax.set_xticks(np.arange(-.5, 23, 1), minor=True);\n",
    "ax.set_yticks(np.arange(-.5, 6, 1), minor=True);\n",
    "\n",
    "# Gridlines based on minor ticks\n",
    "ax.grid(which='minor', color='w', linestyle='-', linewidth=2)\n",
    "ax.grid(which='major', b=False)\n",
    "\n",
    "ax.set_yticklabels(['Mon', 'Tue', 'Wed', 'Thur', 'Fri', 'Sat', 'Sun'])\n",
    "\n",
    "plt.xlabel('Hour of the Day')\n",
    "plt.ylabel('Weekday');"
   ]
  },
  {
   "cell_type": "markdown",
   "metadata": {},
   "source": [
    "Morning vs Afternoon vs Evening"
   ]
  },
  {
   "cell_type": "code",
   "execution_count": null,
   "metadata": {},
   "outputs": [],
   "source": [
    "full_history"
   ]
  },
  {
   "cell_type": "markdown",
   "metadata": {},
   "source": [
    "When I listen to music, how much do I listen to? We create the idea of a listening cluster, which is simply a period of time in which I listened to consecutive music. In one cluster, I might listen to just a single song, or 20 songs back-to-back, or a few hours of music on end.\n",
    "\n",
    "We examine this by creating clusters which depend the time between one song and the next being less than the duration of latter song plus five minutes. This five minute gap allows little breaks to be had, but still include continue the chain of songs.\n",
    "\n",
    "It turns out that I usually listen to music in bouts of about 7 to 48 minutes. The most I've listened to in one cluster is 405 minutes, or 6 hours and 45 minutes."
   ]
  },
  {
   "cell_type": "code",
   "execution_count": 34,
   "metadata": {},
   "outputs": [
    {
     "name": "stderr",
     "output_type": "stream",
     "text": [
      "/Users/alex/anaconda3/lib/python3.6/site-packages/ipykernel_launcher.py:2: SettingWithCopyWarning: \n",
      "A value is trying to be set on a copy of a slice from a DataFrame.\n",
      "Try using .loc[row_indexer,col_indexer] = value instead\n",
      "\n",
      "See the caveats in the documentation: http://pandas.pydata.org/pandas-docs/stable/indexing.html#indexing-view-versus-copy\n",
      "  \n"
     ]
    }
   ],
   "source": [
    "times = full_history[['timestamp', 'duration']]\n",
    "times['timestamp'] = pd.DatetimeIndex(times['timestamp']).view('int64') // pd.Timedelta(1, unit='s')\n",
    "times = times.sort_values('timestamp')\n",
    "\n",
    "latter = np.array(times.iloc[1:, 0])\n",
    "former = np.array(times.iloc[:-1, 0])\n",
    "raw_deltas = latter - former\n",
    "\n",
    "deltas = times[1:].drop('timestamp', axis=1)\n",
    "deltas.loc[:, 'duration'] *= 60\n",
    "deltas.loc[:, 'delta'] = np.array(raw_deltas)"
   ]
  },
  {
   "cell_type": "code",
   "execution_count": 35,
   "metadata": {},
   "outputs": [
    {
     "data": {
      "text/plain": [
       "count    1006.000000\n",
       "mean       35.974451\n",
       "std        45.828728\n",
       "min         0.000000\n",
       "25%         7.396100\n",
       "50%        20.506325\n",
       "75%        47.617837\n",
       "max       404.734067\n",
       "dtype: float64"
      ]
     },
     "execution_count": 35,
     "metadata": {},
     "output_type": "execute_result"
    },
    {
     "data": {
      "image/png": "[encoded data removed]",
      "text/plain": [
       "<matplotlib.figure.Figure at 0x1a0fc18940>"
      ]
     },
     "metadata": {},
     "output_type": "display_data"
    }
   ],
   "source": [
    "clusters = []\n",
    "current_cluster = 0\n",
    "\n",
    "MAXIMUM_GAP = 300\n",
    "\n",
    "for i, row in deltas.iterrows():\n",
    "    if row['duration'] + MAXIMUM_GAP > row['delta']:\n",
    "        current_cluster += row['duration']\n",
    "    else:\n",
    "        clusters.append(current_cluster)\n",
    "        current_cluster = 0\n",
    "\n",
    "clusters.append(current_cluster)\n",
    "clusters = pd.Series(clusters) / 60\n",
    "hist(clusters, [0, 410], 20)\n",
    "clusters.describe()"
   ]
  },
  {
   "cell_type": "markdown",
   "metadata": {},
   "source": [
    "## What music do I *actually* like?\n",
    "\n",
    "With thousands of songs in my music listening history, it should be obvious that I don't *love* all of them. If we wish to describe the songs I like, the dataset must be labeled with whether I like a particular song. In other words, we extract implicit feedback to classify songs as \"Like\" or \"Dislike.\" Implicit feedback is easier to collect because it does not require individually labeling each sample. Here, we define this feedback as listening frequency. It is assumed that songs that are enjoyed are listened to more often than songs that are not enjoyed.\n",
    "\n",
    "There are two flavors of frequency feedback: absolute and relative. Absolute frequency feedback (AFF) is the listening frequency within the know period of recording. Relative frequency feedback (RFF) is the listening frequency between the first and last listening event. AFF accounts for long-term listening habits. RFF accounts for songs that were enjoyed during one period in time (and may still be enjoyed)."
   ]
  },
  {
   "cell_type": "code",
   "execution_count": null,
   "metadata": {},
   "outputs": [],
   "source": [
    "day_range = (full_history['timestamp'].max() - full_history['timestamp'].min()).days"
   ]
  },
  {
   "cell_type": "code",
   "execution_count": null,
   "metadata": {},
   "outputs": [],
   "source": [
    "unique_counts = []\n",
    "\n",
    "last = full_history['timestamp'].max()\n",
    "\n",
    "for i, row_outer in full_history.iterrows():\n",
    "    matches = full_history.loc[full_history['id'] == row_outer['id'], 'timestamp']\n",
    "    \n",
    "    n = len(matches)\n",
    "        \n",
    "    ts = np.array(matches.sort_values())\n",
    "    spread = int((ts.max() - ts.min()) / 8.64e13)\n",
    "    spread = 1 if spread == 0 else spread\n",
    "    \n",
    "    rff = 1\n",
    "    med = 0\n",
    "    if n > 1:\n",
    "        deltas = (ts[1:] - ts[:-1]) / 8.64e13\n",
    "        med = int(np.median(deltas))\n",
    "        rff = n / spread\n",
    "    \n",
    "    distance = last - matches.max()\n",
    "\n",
    "    unique_counts.append([row_outer['id'], row_outer['name'], n, n / day_range, rff, distance.total_seconds()])\n",
    "    "
   ]
  },
  {
   "cell_type": "code",
   "execution_count": null,
   "metadata": {},
   "outputs": [],
   "source": [
    "unique = pd.DataFrame(unique_counts, columns=['id', 'name', 'n', 'aff', 'rff', 'distance']).drop_duplicates('id')"
   ]
  },
  {
   "cell_type": "code",
   "execution_count": null,
   "metadata": {},
   "outputs": [],
   "source": [
    "unique['distance_hat'] = round(unique['distance'] / (60 * 60 * 24 * 2))\n",
    "unique.describe()"
   ]
  },
  {
   "cell_type": "code",
   "execution_count": null,
   "metadata": {},
   "outputs": [],
   "source": [
    "for col in ['aff', 'rff', 'distance_hat']:\n",
    "    mi = unique[col].min()\n",
    "    ma = unique[col].max()\n",
    "    above_zero = -1 if mi > 0 else 1\n",
    "    unique[col] = (unique[col] + above_zero*mi) / ma\n",
    "    "
   ]
  },
  {
   "cell_type": "code",
   "execution_count": null,
   "metadata": {},
   "outputs": [],
   "source": [
    "unique.describe()"
   ]
  },
  {
   "cell_type": "code",
   "execution_count": null,
   "metadata": {},
   "outputs": [],
   "source": [
    "clst = cluster.KMeans(2, init='random', n_init=10)\n",
    "\n",
    "a = unique[0:1000].copy()\n",
    "#a['rff'] = a['rff'].apply(lambda x: np.log(x+1))\n",
    "\n",
    "labels = pd.DataFrame({'Y': clst.fit_predict(a[['aff', 'rff', 'distance_hat']])})\n",
    "a = pd.concat([a, labels], axis=1)\n",
    "a[a['Y'] == 1]"
   ]
  },
  {
   "cell_type": "code",
   "execution_count": null,
   "metadata": {},
   "outputs": [],
   "source": [
    "unique_all = get_unique().merge(unique_counts, on='id')"
   ]
  },
  {
   "cell_type": "code",
   "execution_count": null,
   "metadata": {},
   "outputs": [],
   "source": [
    "unique_labeled[unique_labeled['like'] == 1]"
   ]
  },
  {
   "cell_type": "code",
   "execution_count": null,
   "metadata": {},
   "outputs": [],
   "source": [
    "from keras.models import Sequential\n",
    "from keras.layers import Dense, Activation"
   ]
  },
  {
   "cell_type": "markdown",
   "metadata": {},
   "source": [
    "## Do I prefer to discover new music or stick with known songs?\n",
    "\n",
    "Do I have any go-to songs? artists? A go-to song is a song...\n",
    "\n",
    "Do I have any hidden favorite songs? artists?"
   ]
  },
  {
   "cell_type": "code",
   "execution_count": null,
   "metadata": {},
   "outputs": [],
   "source": []
  },
  {
   "cell_type": "markdown",
   "metadata": {},
   "source": [
    "How much of my collection is from artists from my list of top artists?\n",
    "\n",
    "The top 1% of artists ($n=26$) make up 25.9% of songs in my history, the top 5% of artists ($n=181$) make up 51.1% of songs, the top 10% of artists ($n=362$) make up 64.9% of songs, and the top 25% of artists ($n=906$) make up 81.4% of songs."
   ]
  },
  {
   "cell_type": "code",
   "execution_count": 78,
   "metadata": {},
   "outputs": [],
   "source": [
    "makeup = []\n",
    "\n",
    "for portion in [0.01, 0.05, 0.1, 0.25]:\n",
    "    \n",
    "    top_portion = round(len(sort_artist_df) * portion)\n",
    "    top_portion = sort_artist_df.iloc[:top_portion, 0]\n",
    "    \n",
    "    total_songs_in_portion = 0\n",
    "    for i, row in full_history.iterrows():\n",
    "        # for each track, look through the artists\n",
    "        for artist in row['artists']:\n",
    "            # if at least one artist on the song is in the top portion, count it and skip the rest\n",
    "            if artist in list(top_portion):\n",
    "                total_songs_in_portion += 1\n",
    "                break\n",
    "            \n",
    "    makeup.append([len(top_portion), total_songs_in_portion / len(full_history)])\n",
    "    \n",
    "makeup = np.array(makeup)"
   ]
  },
  {
   "cell_type": "code",
   "execution_count": 79,
   "metadata": {},
   "outputs": [
    {
     "data": {
      "image/png": "[encoded data removed]",
      "text/plain": [
       "<matplotlib.figure.Figure at 0x1a10948390>"
      ]
     },
     "metadata": {},
     "output_type": "display_data"
    }
   ],
   "source": [
    "plt.scatter(x=makeup[:, 0], y=makeup[:, 1])\n",
    "\n",
    "for elm in makeup:\n",
    "    plt.annotate('({}, {}%)'.format(int(elm[0]), int(elm[1]*100)), (elm[0], elm[1]), (elm[0]+25, elm[1]-0.01))\n",
    "\n",
    "plt.xlabel('# of Artists')\n",
    "plt.ylabel('Proportion of Music Collection')\n",
    "plt.ylim([0,1]);"
   ]
  },
  {
   "cell_type": "markdown",
   "metadata": {},
   "source": [
    "55.3% of artists I've listened to,  only once!"
   ]
  },
  {
   "cell_type": "code",
   "execution_count": 85,
   "metadata": {},
   "outputs": [
    {
     "data": {
      "text/plain": [
       "0.5532560706401766"
      ]
     },
     "execution_count": 85,
     "metadata": {},
     "output_type": "execute_result"
    }
   ],
   "source": [
    "len(sort_artist_df[sort_artist_df['count'] == 1])/len(sort_artist_df)"
   ]
  },
  {
   "cell_type": "markdown",
   "metadata": {},
   "source": [
    "# Is my music collection mainstream?\n",
    "\n",
    "Compared to what most people are listening to, am I any different? (I'd like to think so, but we'll see)"
   ]
  },
  {
   "cell_type": "code",
   "execution_count": 36,
   "metadata": {},
   "outputs": [],
   "source": [
    "mainstream = pd.read_json('data/mainstream_music.json')"
   ]
  },
  {
   "cell_type": "code",
   "execution_count": null,
   "metadata": {},
   "outputs": [],
   "source": [
    "mainstream['tempo'] = mainstream['tempo'].apply(round)\n",
    "mainstream['tempo'] = mainstream['tempo'].apply(lambda x: x if x < 168 else x/2)"
   ]
  },
  {
   "cell_type": "code",
   "execution_count": 41,
   "metadata": {},
   "outputs": [
    {
     "data": {
      "text/plain": [
       "count    10362.000000\n",
       "mean       111.641671\n",
       "std         25.434972\n",
       "min         32.000000\n",
       "25%         90.000000\n",
       "50%        110.000000\n",
       "75%        132.000000\n",
       "max        167.000000\n",
       "Name: tempo, dtype: float64"
      ]
     },
     "execution_count": 41,
     "metadata": {},
     "output_type": "execute_result"
    },
    {
     "data": {
      "image/png": "[encoded data removed]",
      "text/plain": [
       "<matplotlib.figure.Figure at 0x1a109f1390>"
      ]
     },
     "metadata": {},
     "output_type": "display_data"
    }
   ],
   "source": [
    "hist(mainstream['tempo'], [65,170])\n",
    "full_history['tempo'].describe()"
   ]
  },
  {
   "cell_type": "code",
   "execution_count": 42,
   "metadata": {},
   "outputs": [],
   "source": [
    "mainstream['duration'] = mainstream['duration_ms'] / 1000 / 60\n",
    "mainstream = mainstream.drop('duration_ms', axis=1)"
   ]
  },
  {
   "cell_type": "code",
   "execution_count": 43,
   "metadata": {},
   "outputs": [
    {
     "name": "stdout",
     "output_type": "stream",
     "text": [
      "count    100.000000\n",
      "mean       3.656737\n",
      "std        0.704452\n",
      "min        2.402483\n",
      "25%        3.239679\n",
      "50%        3.487367\n",
      "75%        3.873775\n",
      "max        7.476217\n",
      "Name: duration, dtype: float64\n"
     ]
    },
    {
     "data": {
      "image/png": "[encoded data removed]",
      "text/plain": [
       "<matplotlib.figure.Figure at 0x1a109eb8d0>"
      ]
     },
     "metadata": {},
     "output_type": "display_data"
    }
   ],
   "source": [
    "hist(mainstream['duration'], [2,8], 21)\n",
    "print(mainstream['duration'].describe())"
   ]
  },
  {
   "cell_type": "code",
   "execution_count": 44,
   "metadata": {},
   "outputs": [],
   "source": [
    "mainstream = mainstream.drop('liveness', axis=1)"
   ]
  },
  {
   "cell_type": "code",
   "execution_count": null,
   "metadata": {},
   "outputs": [],
   "source": []
  }
 ],
 "metadata": {
  "kernelspec": {
   "display_name": "Python 3",
   "language": "python",
   "name": "python3"
  },
  "language_info": {
   "codemirror_mode": {
    "name": "ipython",
    "version": 3
   },
   "file_extension": ".py",
   "mimetype": "text/x-python",
   "name": "python",
   "nbconvert_exporter": "python",
   "pygments_lexer": "ipython3",
   "version": "3.6.3"
  }
 },
 "nbformat": 4,
 "nbformat_minor": 2
}
