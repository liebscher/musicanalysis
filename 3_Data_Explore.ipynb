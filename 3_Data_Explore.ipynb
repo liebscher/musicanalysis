{
 "cells": [
  {
   "cell_type": "markdown",
   "metadata": {},
   "source": [
    "# Exploration"
   ]
  },
  {
   "cell_type": "code",
   "execution_count": 1,
   "metadata": {},
   "outputs": [],
   "source": [
    "import pandas as pd\n",
    "from pandas import Timestamp\n",
    "import numpy as np\n",
    "import scipy.stats as stats\n",
    "from datetime import datetime\n",
    "from pytz import timezone\n",
    "\n",
    "from sklearn import manifold, decomposition, cluster\n",
    "from sklearn.model_selection import train_test_split\n",
    "\n",
    "import itertools\n",
    "\n",
    "import seaborn as sns\n",
    "import matplotlib.pyplot as plt\n",
    "from matplotlib import colors\n",
    "\n",
    "sns.set_style('whitegrid')\n",
    "pd.set_option('display.max_columns', 100)"
   ]
  },
  {
   "cell_type": "code",
   "execution_count": 2,
   "metadata": {},
   "outputs": [],
   "source": [
    "full_history = pd.read_json('data/history_comp.json')\n",
    "\n",
    "if full_history['timestamp'].max().tz is None:\n",
    "    full_history['timestamp'] = pd.to_datetime(full_history['timestamp'], utc=True)\n",
    "    full_history['timestamp'] = full_history['timestamp'].apply(lambda t: t.tz_convert('US/Pacific'))\n",
    "\n",
    "full_history = full_history.drop('index', axis=1)"
   ]
  },
  {
   "cell_type": "markdown",
   "metadata": {},
   "source": [
    "As shown below, for every 19 songs listened to, 10 of them are unique to my music catalog."
   ]
  },
  {
   "cell_type": "code",
   "execution_count": 3,
   "metadata": {},
   "outputs": [
    {
     "data": {
      "text/plain": [
       "1.9224489795918367"
      ]
     },
     "execution_count": 3,
     "metadata": {},
     "output_type": "execute_result"
    }
   ],
   "source": [
    "def get_unique():\n",
    "    unique_history = full_history.drop('timestamp', axis=1)\n",
    "    return unique_history.drop_duplicates('id')\n",
    "\n",
    "len(full_history)/len(get_unique())"
   ]
  },
  {
   "cell_type": "markdown",
   "metadata": {},
   "source": [
    "Here is a sample of artists. In addition to the a priori known name, we have followers, genres, and popularity of each artist."
   ]
  },
  {
   "cell_type": "code",
   "execution_count": 4,
   "metadata": {},
   "outputs": [
    {
     "data": {
      "text/html": [
       "<div>\n",
       "<style scoped>\n",
       "    .dataframe tbody tr th:only-of-type {\n",
       "        vertical-align: middle;\n",
       "    }\n",
       "\n",
       "    .dataframe tbody tr th {\n",
       "        vertical-align: top;\n",
       "    }\n",
       "\n",
       "    .dataframe thead th {\n",
       "        text-align: right;\n",
       "    }\n",
       "</style>\n",
       "<table border=\"1\" class=\"dataframe\">\n",
       "  <thead>\n",
       "    <tr style=\"text-align: right;\">\n",
       "      <th></th>\n",
       "      <th>artist</th>\n",
       "      <th>followers</th>\n",
       "      <th>genres</th>\n",
       "      <th>id</th>\n",
       "      <th>popularity</th>\n",
       "    </tr>\n",
       "  </thead>\n",
       "  <tbody>\n",
       "    <tr>\n",
       "      <th>2378</th>\n",
       "      <td>Tinashe</td>\n",
       "      <td>873781</td>\n",
       "      <td>[dance pop, deep pop r&amp;b, hip pop, indie r&amp;b, ...</td>\n",
       "      <td>0NIIxcxNHmOoyBx03SfTCD</td>\n",
       "      <td>77</td>\n",
       "    </tr>\n",
       "    <tr>\n",
       "      <th>2103</th>\n",
       "      <td>Nina Nesbitt</td>\n",
       "      <td>108740</td>\n",
       "      <td>[indie anthem-folk, neo-singer-songwriter]</td>\n",
       "      <td>7AzjETXRUKNRSJHMW9GIqd</td>\n",
       "      <td>69</td>\n",
       "    </tr>\n",
       "    <tr>\n",
       "      <th>1596</th>\n",
       "      <td>Ghostemane</td>\n",
       "      <td>156108</td>\n",
       "      <td>[underground hip hop]</td>\n",
       "      <td>3uL4UpqShC4p2x1dJutoRW</td>\n",
       "      <td>70</td>\n",
       "    </tr>\n",
       "    <tr>\n",
       "      <th>2966</th>\n",
       "      <td>Dark Heart</td>\n",
       "      <td>395</td>\n",
       "      <td>[]</td>\n",
       "      <td>1k7Cc2WGh6LAE1TUh6dsiy</td>\n",
       "      <td>52</td>\n",
       "    </tr>\n",
       "    <tr>\n",
       "      <th>204</th>\n",
       "      <td>Mia</td>\n",
       "      <td>67</td>\n",
       "      <td>[]</td>\n",
       "      <td>3rBgfuc7o2yOPkihLf7JAg</td>\n",
       "      <td>46</td>\n",
       "    </tr>\n",
       "  </tbody>\n",
       "</table>\n",
       "</div>"
      ],
      "text/plain": [
       "            artist  followers  \\\n",
       "2378       Tinashe     873781   \n",
       "2103  Nina Nesbitt     108740   \n",
       "1596    Ghostemane     156108   \n",
       "2966    Dark Heart        395   \n",
       "204            Mia         67   \n",
       "\n",
       "                                                 genres  \\\n",
       "2378  [dance pop, deep pop r&b, hip pop, indie r&b, ...   \n",
       "2103         [indie anthem-folk, neo-singer-songwriter]   \n",
       "1596                              [underground hip hop]   \n",
       "2966                                                 []   \n",
       "204                                                  []   \n",
       "\n",
       "                          id  popularity  \n",
       "2378  0NIIxcxNHmOoyBx03SfTCD          77  \n",
       "2103  7AzjETXRUKNRSJHMW9GIqd          69  \n",
       "1596  3uL4UpqShC4p2x1dJutoRW          70  \n",
       "2966  1k7Cc2WGh6LAE1TUh6dsiy          52  \n",
       "204   3rBgfuc7o2yOPkihLf7JAg          46  "
      ]
     },
     "execution_count": 4,
     "metadata": {},
     "output_type": "execute_result"
    }
   ],
   "source": [
    "artists = pd.read_json('data/artist_info.json')\n",
    "artists.sample(5)"
   ]
  },
  {
   "cell_type": "markdown",
   "metadata": {},
   "source": [
    "### Visualizing Feature Space\n",
    "\n",
    "Below we visualize the distributions of each feature. Pay close attention because we do make some modifications on a per-feature basis. These are designed to reduce error down the road."
   ]
  },
  {
   "cell_type": "code",
   "execution_count": 5,
   "metadata": {},
   "outputs": [],
   "source": [
    "def hist(X, xlim, bins=14):\n",
    "    plt.xlim(xlim)\n",
    "    N, bins, patches = plt.hist(X, bins=bins)\n",
    "\n",
    "    fracs = N / N.max()\n",
    "\n",
    "    norm = colors.Normalize(fracs.min(), fracs.max())\n",
    "\n",
    "    for thisfrac, thispatch in zip(fracs, patches):\n",
    "        color = plt.cm.coolwarm(norm(thisfrac))\n",
    "        thispatch.set_facecolor(color)"
   ]
  },
  {
   "cell_type": "code",
   "execution_count": 6,
   "metadata": {},
   "outputs": [
    {
     "data": {
      "text/plain": [
       "count    10362.000000\n",
       "mean         0.305218\n",
       "std          0.313379\n",
       "min          0.000003\n",
       "25%          0.043500\n",
       "50%          0.181500\n",
       "75%          0.511000\n",
       "max          0.996000\n",
       "Name: acousticness, dtype: float64"
      ]
     },
     "execution_count": 6,
     "metadata": {},
     "output_type": "execute_result"
    },
    {
     "data": {
      "image/png": "[encoded data removed]",
      "text/plain": [
       "<matplotlib.figure.Figure at 0x1a16637940>"
      ]
     },
     "metadata": {},
     "output_type": "display_data"
    }
   ],
   "source": [
    "hist(full_history['acousticness'], [0,1])\n",
    "full_history['acousticness'].describe()"
   ]
  },
  {
   "cell_type": "code",
   "execution_count": 7,
   "metadata": {},
   "outputs": [
    {
     "data": {
      "text/plain": [
       "count    10362.000000\n",
       "mean         0.604638\n",
       "std          0.169704\n",
       "min          0.063400\n",
       "25%          0.492000\n",
       "50%          0.614000\n",
       "75%          0.734000\n",
       "max          0.984000\n",
       "Name: danceability, dtype: float64"
      ]
     },
     "execution_count": 7,
     "metadata": {},
     "output_type": "execute_result"
    },
    {
     "data": {
      "image/png": "[encoded data removed]",
      "text/plain": [
       "<matplotlib.figure.Figure at 0x1a16643780>"
      ]
     },
     "metadata": {},
     "output_type": "display_data"
    }
   ],
   "source": [
    "hist(full_history['danceability'], [0,1])\n",
    "full_history['danceability'].describe()"
   ]
  },
  {
   "cell_type": "markdown",
   "metadata": {},
   "source": [
    "Convert the duration of each song from milliseconds to floating-point minutes."
   ]
  },
  {
   "cell_type": "code",
   "execution_count": 8,
   "metadata": {},
   "outputs": [
    {
     "name": "stdout",
     "output_type": "stream",
     "text": [
      "count    10362.000000\n",
      "mean         3.867266\n",
      "std          1.405493\n",
      "min          0.566450\n",
      "25%          3.156017\n",
      "50%          3.666667\n",
      "75%          4.321529\n",
      "max         41.074900\n",
      "Name: duration, dtype: float64\n"
     ]
    },
    {
     "data": {
      "image/png": "[encoded data removed]",
      "text/plain": [
       "<matplotlib.figure.Figure at 0x1a16637908>"
      ]
     },
     "metadata": {},
     "output_type": "display_data"
    }
   ],
   "source": [
    "full_history['duration'] = full_history['duration_ms'] / 1000 / 60\n",
    "hist(full_history['duration'], [0,45], 25)\n",
    "print(full_history['duration'].describe())"
   ]
  },
  {
   "cell_type": "code",
   "execution_count": 9,
   "metadata": {},
   "outputs": [],
   "source": [
    "full_history = full_history.drop('duration_ms', axis=1)"
   ]
  },
  {
   "cell_type": "code",
   "execution_count": 10,
   "metadata": {},
   "outputs": [
    {
     "data": {
      "text/plain": [
       "count    10362.000000\n",
       "mean         0.572375\n",
       "std          0.226727\n",
       "min          0.000803\n",
       "25%          0.436000\n",
       "50%          0.590500\n",
       "75%          0.739000\n",
       "max          0.998000\n",
       "Name: energy, dtype: float64"
      ]
     },
     "execution_count": 10,
     "metadata": {},
     "output_type": "execute_result"
    },
    {
     "data": {
      "image/png": "[encoded data removed]",
      "text/plain": [
       "<matplotlib.figure.Figure at 0x1a166505f8>"
      ]
     },
     "metadata": {},
     "output_type": "display_data"
    }
   ],
   "source": [
    "hist(full_history['energy'], [0,1])\n",
    "full_history['energy'].describe()"
   ]
  },
  {
   "cell_type": "code",
   "execution_count": 11,
   "metadata": {},
   "outputs": [
    {
     "data": {
      "text/plain": [
       "count    10362.000000\n",
       "mean         0.187516\n",
       "std          0.152933\n",
       "min          0.018700\n",
       "25%          0.097900\n",
       "50%          0.123000\n",
       "75%          0.225000\n",
       "max          0.989000\n",
       "Name: liveness, dtype: float64"
      ]
     },
     "execution_count": 11,
     "metadata": {},
     "output_type": "execute_result"
    },
    {
     "data": {
      "image/png": "[encoded data removed]",
      "text/plain": [
       "<matplotlib.figure.Figure at 0x1a155c20b8>"
      ]
     },
     "metadata": {},
     "output_type": "display_data"
    }
   ],
   "source": [
    "hist(full_history['liveness'], [0,1])\n",
    "full_history['liveness'].describe()"
   ]
  },
  {
   "cell_type": "code",
   "execution_count": 12,
   "metadata": {},
   "outputs": [
    {
     "data": {
      "text/plain": [
       "10010                             My Girls\n",
       "10065                          Dude - Skit\n",
       "10231                              Asshole\n",
       "10337                              Feel Me\n",
       "105                             So Special\n",
       "1056                        Round Whippin'\n",
       "1158                                  TEAM\n",
       "1279                             Hound Dog\n",
       "1290                          Candle Light\n",
       "138                                 ALASKA\n",
       "1469                             Champions\n",
       "1502                                 Pt. 2\n",
       "1522     Sunday Morning Coming Down - Live\n",
       "1527                       Ragged Old Flag\n",
       "1756                        Starting Today\n",
       "Name: name, dtype: object"
      ]
     },
     "execution_count": 12,
     "metadata": {},
     "output_type": "execute_result"
    }
   ],
   "source": [
    "full_history[full_history['liveness'] > 0.75].drop_duplicates('id')['name'][:15]"
   ]
  },
  {
   "cell_type": "markdown",
   "metadata": {},
   "source": [
    "Liveness is obviously an inaccurate measurement, thus we cannot use it reliably. We remove it."
   ]
  },
  {
   "cell_type": "code",
   "execution_count": 13,
   "metadata": {},
   "outputs": [],
   "source": [
    "full_history = full_history.drop('liveness', axis=1)"
   ]
  },
  {
   "cell_type": "markdown",
   "metadata": {},
   "source": [
    "Similar to duration, loudness is heavily skewed, thus we log scale it to bring things back together and reveal more of the underlying structure. Note the transformation of the values too. Since we don't care too much about the actual value of the loudness, only whether it's relatively loud or not, we assume this is acceptable."
   ]
  },
  {
   "cell_type": "code",
   "execution_count": null,
   "metadata": {},
   "outputs": [],
   "source": [
    "full_history['log_loudness'] = np.log(-1*full_history['loudness']+1)\n",
    "hist(full_history['log_loudness'], [-0.8,4], 20)\n",
    "full_history['log_loudness'].describe()"
   ]
  },
  {
   "cell_type": "code",
   "execution_count": null,
   "metadata": {},
   "outputs": [],
   "source": [
    "full_history = full_history.drop('loudness', axis=1)"
   ]
  },
  {
   "cell_type": "code",
   "execution_count": 14,
   "metadata": {},
   "outputs": [
    {
     "data": {
      "text/plain": [
       "count    10362.000000\n",
       "mean        54.636557\n",
       "std         17.303703\n",
       "min          0.000000\n",
       "25%         45.000000\n",
       "50%         57.000000\n",
       "75%         66.000000\n",
       "max        100.000000\n",
       "Name: popularity, dtype: float64"
      ]
     },
     "execution_count": 14,
     "metadata": {},
     "output_type": "execute_result"
    },
    {
     "data": {
      "image/png": "[encoded data removed]",
      "text/plain": [
       "<matplotlib.figure.Figure at 0x1a155eafd0>"
      ]
     },
     "metadata": {},
     "output_type": "display_data"
    }
   ],
   "source": [
    "hist(full_history['popularity'], [0, 100])\n",
    "full_history['popularity'].describe()"
   ]
  },
  {
   "cell_type": "code",
   "execution_count": 15,
   "metadata": {},
   "outputs": [
    {
     "data": {
      "text/plain": [
       "count    10362.000000\n",
       "mean       117.801100\n",
       "std         29.800043\n",
       "min         32.000000\n",
       "25%         94.000000\n",
       "50%        118.000000\n",
       "75%        140.000000\n",
       "max        222.000000\n",
       "Name: tempo, dtype: float64"
      ]
     },
     "execution_count": 15,
     "metadata": {},
     "output_type": "execute_result"
    },
    {
     "data": {
      "image/png": "[encoded data removed]",
      "text/plain": [
       "<matplotlib.figure.Figure at 0x1a155c7668>"
      ]
     },
     "metadata": {},
     "output_type": "display_data"
    }
   ],
   "source": [
    "full_history['tempo'] = full_history['tempo'].apply(round)\n",
    "hist(full_history['tempo'], [30, 225], 24)\n",
    "full_history['tempo'].describe()"
   ]
  },
  {
   "cell_type": "markdown",
   "metadata": {},
   "source": [
    "Many songs are misclassified by Spotify, often doubling the real BPM. Presto tempo is said to be above 168, and after looking through many of the resutls of songs above 168 BPM, it is reasonable to correct songs above this threshold. Although it does cut out the top end, it is more representative for  many songs."
   ]
  },
  {
   "cell_type": "code",
   "execution_count": 16,
   "metadata": {},
   "outputs": [],
   "source": [
    "full_history['tempo'] = full_history['tempo'].apply(lambda x: x if x < 168 else x/2)"
   ]
  },
  {
   "cell_type": "code",
   "execution_count": 17,
   "metadata": {},
   "outputs": [
    {
     "data": {
      "text/plain": [
       "count    10362.000000\n",
       "mean         0.430213\n",
       "std          0.236940\n",
       "min          0.029800\n",
       "25%          0.238000\n",
       "50%          0.409000\n",
       "75%          0.606750\n",
       "max          0.990000\n",
       "Name: valence, dtype: float64"
      ]
     },
     "execution_count": 17,
     "metadata": {},
     "output_type": "execute_result"
    },
    {
     "data": {
      "image/png": "[encoded data removed]",
      "text/plain": [
       "<matplotlib.figure.Figure at 0x1a165891d0>"
      ]
     },
     "metadata": {},
     "output_type": "display_data"
    }
   ],
   "source": [
    "hist(full_history['valence'], [0, 1])\n",
    "full_history['valence'].describe()"
   ]
  },
  {
   "cell_type": "markdown",
   "metadata": {},
   "source": [
    "The release date isn't accurate either. For example, all classical music has release dates of 1960 or later, since this is the release of the album itself, not necessarily the conception of the music (which would have placed a lot of this genre in the 17th-20th centuries)."
   ]
  },
  {
   "cell_type": "code",
   "execution_count": 18,
   "metadata": {},
   "outputs": [],
   "source": [
    "full_history = full_history.drop('release', axis=1)"
   ]
  },
  {
   "cell_type": "code",
   "execution_count": 19,
   "metadata": {},
   "outputs": [
    {
     "data": {
      "text/html": [
       "<div>\n",
       "<style scoped>\n",
       "    .dataframe tbody tr th:only-of-type {\n",
       "        vertical-align: middle;\n",
       "    }\n",
       "\n",
       "    .dataframe tbody tr th {\n",
       "        vertical-align: top;\n",
       "    }\n",
       "\n",
       "    .dataframe thead th {\n",
       "        text-align: right;\n",
       "    }\n",
       "</style>\n",
       "<table border=\"1\" class=\"dataframe\">\n",
       "  <thead>\n",
       "    <tr style=\"text-align: right;\">\n",
       "      <th></th>\n",
       "      <th>acousticness</th>\n",
       "      <th>album</th>\n",
       "      <th>artists</th>\n",
       "      <th>danceability</th>\n",
       "      <th>energy</th>\n",
       "      <th>explicit</th>\n",
       "      <th>id</th>\n",
       "      <th>key</th>\n",
       "      <th>loudness</th>\n",
       "      <th>mode</th>\n",
       "      <th>name</th>\n",
       "      <th>popularity</th>\n",
       "      <th>speechiness</th>\n",
       "      <th>tempo</th>\n",
       "      <th>time_signature</th>\n",
       "      <th>timestamp</th>\n",
       "      <th>valence</th>\n",
       "      <th>duration</th>\n",
       "    </tr>\n",
       "  </thead>\n",
       "  <tbody>\n",
       "    <tr>\n",
       "      <th>505</th>\n",
       "      <td>0.045</td>\n",
       "      <td>Doggystyle</td>\n",
       "      <td>[7hJcb9fa4alzcOq3EaNPoG, 6NyJIFHAePjHR1pFxwisq...</td>\n",
       "      <td>0.840</td>\n",
       "      <td>0.7980</td>\n",
       "      <td>1</td>\n",
       "      <td>4rLpAOk5KVNcqEMK3m6Lje</td>\n",
       "      <td>8</td>\n",
       "      <td>-5.079</td>\n",
       "      <td>1</td>\n",
       "      <td>Ain't No Fun (If the Homies Cant Have None) (f...</td>\n",
       "      <td>64</td>\n",
       "      <td>0.0699</td>\n",
       "      <td>100.0</td>\n",
       "      <td>4</td>\n",
       "      <td>2018-04-19 16:59:00-07:00</td>\n",
       "      <td>0.695</td>\n",
       "      <td>4.105783</td>\n",
       "    </tr>\n",
       "    <tr>\n",
       "      <th>7584</th>\n",
       "      <td>0.920</td>\n",
       "      <td>Emma Kirkby - A Portrait</td>\n",
       "      <td>[5aIqB5nVVvmFsvSdExz408, 7cIdAeGd445NFOMJ3fr64...</td>\n",
       "      <td>0.477</td>\n",
       "      <td>0.0556</td>\n",
       "      <td>0</td>\n",
       "      <td>4uQVFTWTiyMjYrXJNwxQgV</td>\n",
       "      <td>10</td>\n",
       "      <td>-22.755</td>\n",
       "      <td>0</td>\n",
       "      <td>Schweigt stille, plaudert nicht Cantata, BWV 2...</td>\n",
       "      <td>31</td>\n",
       "      <td>0.0522</td>\n",
       "      <td>130.0</td>\n",
       "      <td>3</td>\n",
       "      <td>2018-01-21 20:50:00-08:00</td>\n",
       "      <td>0.394</td>\n",
       "      <td>4.218000</td>\n",
       "    </tr>\n",
       "    <tr>\n",
       "      <th>3294</th>\n",
       "      <td>0.209</td>\n",
       "      <td>Quality Street Music 2</td>\n",
       "      <td>[5oNgAs7j5XcBMzWv3HAnHG, 55Aa2cqylxrFIXC767Z865]</td>\n",
       "      <td>0.425</td>\n",
       "      <td>0.8160</td>\n",
       "      <td>1</td>\n",
       "      <td>4lWC0Ffv59nR7otmY72b5f</td>\n",
       "      <td>10</td>\n",
       "      <td>-3.059</td>\n",
       "      <td>0</td>\n",
       "      <td>Intro (feat. Lil Wayne)</td>\n",
       "      <td>47</td>\n",
       "      <td>0.3090</td>\n",
       "      <td>83.0</td>\n",
       "      <td>4</td>\n",
       "      <td>2018-03-13 18:20:00-07:00</td>\n",
       "      <td>0.544</td>\n",
       "      <td>2.937117</td>\n",
       "    </tr>\n",
       "    <tr>\n",
       "      <th>8675</th>\n",
       "      <td>0.308</td>\n",
       "      <td>Rogue Waves</td>\n",
       "      <td>[360IAlyVv4PCEVjgyMZrxK, 5INjqkS1o8h1imAzPqGZBb]</td>\n",
       "      <td>0.529</td>\n",
       "      <td>0.8940</td>\n",
       "      <td>0</td>\n",
       "      <td>3lB0GMiI5KxDbTOG8V3bOx</td>\n",
       "      <td>2</td>\n",
       "      <td>-3.599</td>\n",
       "      <td>1</td>\n",
       "      <td>waves - Tame Impala Remix</td>\n",
       "      <td>69</td>\n",
       "      <td>0.0412</td>\n",
       "      <td>108.0</td>\n",
       "      <td>4</td>\n",
       "      <td>2018-01-07 21:59:00-08:00</td>\n",
       "      <td>0.543</td>\n",
       "      <td>4.222450</td>\n",
       "    </tr>\n",
       "    <tr>\n",
       "      <th>8357</th>\n",
       "      <td>0.335</td>\n",
       "      <td>Trip</td>\n",
       "      <td>[5ZS223C6JyBfXasXxrRqOk, 1zNqQNIdeOUZHb8zbZRFMX]</td>\n",
       "      <td>0.743</td>\n",
       "      <td>0.6240</td>\n",
       "      <td>1</td>\n",
       "      <td>2pg2TiYo9Rb8KeB5JjP7jS</td>\n",
       "      <td>6</td>\n",
       "      <td>-7.403</td>\n",
       "      <td>0</td>\n",
       "      <td>Sativa</td>\n",
       "      <td>75</td>\n",
       "      <td>0.0484</td>\n",
       "      <td>126.0</td>\n",
       "      <td>4</td>\n",
       "      <td>2018-01-12 22:06:00-08:00</td>\n",
       "      <td>0.713</td>\n",
       "      <td>4.616000</td>\n",
       "    </tr>\n",
       "  </tbody>\n",
       "</table>\n",
       "</div>"
      ],
      "text/plain": [
       "      acousticness                     album  \\\n",
       "505          0.045                Doggystyle   \n",
       "7584         0.920  Emma Kirkby - A Portrait   \n",
       "3294         0.209    Quality Street Music 2   \n",
       "8675         0.308               Rogue Waves   \n",
       "8357         0.335                      Trip   \n",
       "\n",
       "                                                artists  danceability  energy  \\\n",
       "505   [7hJcb9fa4alzcOq3EaNPoG, 6NyJIFHAePjHR1pFxwisq...         0.840  0.7980   \n",
       "7584  [5aIqB5nVVvmFsvSdExz408, 7cIdAeGd445NFOMJ3fr64...         0.477  0.0556   \n",
       "3294   [5oNgAs7j5XcBMzWv3HAnHG, 55Aa2cqylxrFIXC767Z865]         0.425  0.8160   \n",
       "8675   [360IAlyVv4PCEVjgyMZrxK, 5INjqkS1o8h1imAzPqGZBb]         0.529  0.8940   \n",
       "8357   [5ZS223C6JyBfXasXxrRqOk, 1zNqQNIdeOUZHb8zbZRFMX]         0.743  0.6240   \n",
       "\n",
       "      explicit                      id  key  loudness  mode  \\\n",
       "505          1  4rLpAOk5KVNcqEMK3m6Lje    8    -5.079     1   \n",
       "7584         0  4uQVFTWTiyMjYrXJNwxQgV   10   -22.755     0   \n",
       "3294         1  4lWC0Ffv59nR7otmY72b5f   10    -3.059     0   \n",
       "8675         0  3lB0GMiI5KxDbTOG8V3bOx    2    -3.599     1   \n",
       "8357         1  2pg2TiYo9Rb8KeB5JjP7jS    6    -7.403     0   \n",
       "\n",
       "                                                   name  popularity  \\\n",
       "505   Ain't No Fun (If the Homies Cant Have None) (f...          64   \n",
       "7584  Schweigt stille, plaudert nicht Cantata, BWV 2...          31   \n",
       "3294                            Intro (feat. Lil Wayne)          47   \n",
       "8675                          waves - Tame Impala Remix          69   \n",
       "8357                                             Sativa          75   \n",
       "\n",
       "      speechiness  tempo  time_signature                 timestamp  valence  \\\n",
       "505        0.0699  100.0               4 2018-04-19 16:59:00-07:00    0.695   \n",
       "7584       0.0522  130.0               3 2018-01-21 20:50:00-08:00    0.394   \n",
       "3294       0.3090   83.0               4 2018-03-13 18:20:00-07:00    0.544   \n",
       "8675       0.0412  108.0               4 2018-01-07 21:59:00-08:00    0.543   \n",
       "8357       0.0484  126.0               4 2018-01-12 22:06:00-08:00    0.713   \n",
       "\n",
       "      duration  \n",
       "505   4.105783  \n",
       "7584  4.218000  \n",
       "3294  2.937117  \n",
       "8675  4.222450  \n",
       "8357  4.616000  "
      ]
     },
     "execution_count": 19,
     "metadata": {},
     "output_type": "execute_result"
    }
   ],
   "source": [
    "full_history.sample(5)"
   ]
  },
  {
   "cell_type": "markdown",
   "metadata": {},
   "source": [
    "## What kinds of music do I listen to?\n",
    "\n",
    "First, what types of genres?"
   ]
  },
  {
   "cell_type": "code",
   "execution_count": 20,
   "metadata": {},
   "outputs": [],
   "source": [
    "artists_index = pd.Index(artists['id'])\n",
    "\n",
    "def addTrackGenres(row):\n",
    "    inner_gs = []\n",
    "        \n",
    "    # for each artist in a track\n",
    "    for track_artist in row['artists']:\n",
    "                        \n",
    "        # if the artist exists, get its index\n",
    "        i = artists_index.get_loc(track_artist)\n",
    "        if i > -1:\n",
    "            cell = artists.iloc[i, 2]\n",
    "            if cell:\n",
    "                # collect genres from artists that match the current index\n",
    "                inner_gs.append(cell)\n",
    "                \n",
    "    if inner_gs:\n",
    "        row['genres'] = np.unique(list(itertools.chain(*inner_gs)))\n",
    "    else:\n",
    "        row['genres'] = None\n",
    "        \n",
    "    return row\n"
   ]
  },
  {
   "cell_type": "code",
   "execution_count": 21,
   "metadata": {},
   "outputs": [],
   "source": [
    "full_history = full_history.apply(addTrackGenres, 1)"
   ]
  },
  {
   "cell_type": "code",
   "execution_count": null,
   "metadata": {},
   "outputs": [],
   "source": [
    "genres = []\n",
    "counts = []\n",
    "freqs =  []\n",
    "var1 =   []\n",
    "\n",
    "for i, row in full_history.loc[full_history['genres'].notnull(), ['energy', 'genres']].iterrows():\n",
    "    \n",
    "    for genre in row['genres']:\n",
    "        \n",
    "        if genre in genres:\n",
    "            i = genres.index(genre)\n",
    "            counts[i] += 1\n",
    "            var1[i] += row['energy']\n",
    "        else:\n",
    "            genres.append(genre)\n",
    "            counts.append(1)\n",
    "            var1.append(row['energy'])\n",
    "\n",
    "total = sum(counts)\n",
    "freqs = np.array(counts) / total\n",
    "var1 = np.array(var1) / np.array(counts)\n",
    "\n",
    "collective_genres = pd.DataFrame({'freq': freqs, 'count': counts, 'genre': genres, 'var1': var1})"
   ]
  },
  {
   "cell_type": "code",
   "execution_count": null,
   "metadata": {},
   "outputs": [],
   "source": [
    "offset = 0\n",
    "collective_genres = collective_genres.sort_values('freq', ascending=False)\n",
    "\n",
    "plt.subplots(figsize=(18,6))\n",
    "g = sns.barplot(x='genre', y='freq', \n",
    "                data=collective_genres[offset:offset+25], \n",
    "                hue='var1', palette='RdBu', dodge=False)\n",
    "g.legend_.remove()\n",
    "g.set_xticklabels(g.get_xticklabels(), rotation=30, horizontalalignment='right');\n",
    "plt.xlabel('Genre')\n",
    "plt.ylabel('Frequency');"
   ]
  },
  {
   "cell_type": "markdown",
   "metadata": {},
   "source": [
    "What is the overall mood like?"
   ]
  },
  {
   "cell_type": "code",
   "execution_count": null,
   "metadata": {},
   "outputs": [],
   "source": [
    "ax = sns.distplot(full_history.valence, bins=10, kde=False, hist_kws={\"edgecolor\": \"k\", \"linewidth\":1})\n",
    "plt.axvline(full_history.valence.median(), color='k', linestyle='--', linewidth=2);\n",
    "plt.text(0.8, 0.8, r'$\\mu={0:2f}$'.format(full_history.valence.median()), \n",
    "         horizontalalignment='center', verticalalignment='center', transform=ax.transAxes);"
   ]
  },
  {
   "cell_type": "markdown",
   "metadata": {},
   "source": [
    "Most listened to artists"
   ]
  },
  {
   "cell_type": "code",
   "execution_count": null,
   "metadata": {},
   "outputs": [],
   "source": [
    "collective_artists = [artist for artist in full_history.loc[full_history['artists'].notnull(), 'artists']]\n",
    "    \n",
    "collective_artists = np.array(list(itertools.chain(*collective_artists)))\n",
    "unique_artists, artist_counts = np.unique(collective_artists, return_counts=True)\n",
    "\n",
    "artist_df = pd.DataFrame({'id': unique_artists, 'count': artist_counts})\n",
    "artist_df = pd.merge(artist_df, artists, on='id')[['id', 'artist', 'count', 'genres']]\n",
    "\n",
    "def simplifyGenre(x):\n",
    "    for genre in collective_genres['genre']:\n",
    "        if genre in x:\n",
    "            return genre\n",
    "        \n",
    "    return 'other'\n",
    "\n",
    "artist_df['genres'] = artist_df['genres'].apply(simplifyGenre)"
   ]
  },
  {
   "cell_type": "code",
   "execution_count": null,
   "metadata": {},
   "outputs": [],
   "source": [
    "offset = 0\n",
    "sort_artist_df = artist_df.sort_values('count', ascending=False)\n",
    "\n",
    "plt.subplots(figsize=(18,6))\n",
    "g = sns.barplot(x='artist', y='count', data=sort_artist_df[offset:offset+25], hue='genres', dodge=False, palette='hls')\n",
    "g.set_xticklabels(g.get_xticklabels(), rotation=30, horizontalalignment='right');\n",
    "plt.xlabel('Artist');\n",
    "plt.ylabel('# of Listens');\n",
    "plt.savefig('topartists.png')"
   ]
  },
  {
   "cell_type": "markdown",
   "metadata": {},
   "source": [
    "Duration of songs:\n",
    "\n",
    "The mean song is 3:52 minutes, the median is 3:40 minutes, and 75% of my music is shorter than 4:19 minutes. My five longest songs include two European classical pieces, two Indian classical pieces, and SB-01, an experimental track by Unknown Mortal Orchestra."
   ]
  },
  {
   "cell_type": "code",
   "execution_count": 25,
   "metadata": {},
   "outputs": [
    {
     "name": "stdout",
     "output_type": "stream",
     "text": [
      "count    10362.000000\n",
      "mean         3.867266\n",
      "std          1.405493\n",
      "min          0.566450\n",
      "25%          3.156017\n",
      "50%          3.666667\n",
      "75%          4.321529\n",
      "max         41.074900\n",
      "Name: duration, dtype: float64\n"
     ]
    },
    {
     "data": {
      "text/html": [
       "<div>\n",
       "<style scoped>\n",
       "    .dataframe tbody tr th:only-of-type {\n",
       "        vertical-align: middle;\n",
       "    }\n",
       "\n",
       "    .dataframe tbody tr th {\n",
       "        vertical-align: top;\n",
       "    }\n",
       "\n",
       "    .dataframe thead th {\n",
       "        text-align: right;\n",
       "    }\n",
       "</style>\n",
       "<table border=\"1\" class=\"dataframe\">\n",
       "  <thead>\n",
       "    <tr style=\"text-align: right;\">\n",
       "      <th></th>\n",
       "      <th>name</th>\n",
       "      <th>duration</th>\n",
       "    </tr>\n",
       "  </thead>\n",
       "  <tbody>\n",
       "    <tr>\n",
       "      <th>990</th>\n",
       "      <td>Raag Mishra Shirvranjani Taal Deepchandi</td>\n",
       "      <td>21.820150</td>\n",
       "    </tr>\n",
       "    <tr>\n",
       "      <th>3046</th>\n",
       "      <td>Piano Concerto No. 1 in B-Flat Minor, Op. 23: ...</td>\n",
       "      <td>22.037783</td>\n",
       "    </tr>\n",
       "    <tr>\n",
       "      <th>7033</th>\n",
       "      <td>SB-01</td>\n",
       "      <td>22.143333</td>\n",
       "    </tr>\n",
       "    <tr>\n",
       "      <th>5655</th>\n",
       "      <td>Tod und Verklärung Op.24, TrV 158</td>\n",
       "      <td>27.024000</td>\n",
       "    </tr>\n",
       "    <tr>\n",
       "      <th>966</th>\n",
       "      <td>Rag Bhimpalasi: Alap, Jod, Jhala</td>\n",
       "      <td>41.074900</td>\n",
       "    </tr>\n",
       "  </tbody>\n",
       "</table>\n",
       "</div>"
      ],
      "text/plain": [
       "                                                   name   duration\n",
       "990            Raag Mishra Shirvranjani Taal Deepchandi  21.820150\n",
       "3046  Piano Concerto No. 1 in B-Flat Minor, Op. 23: ...  22.037783\n",
       "7033                                              SB-01  22.143333\n",
       "5655                  Tod und Verklärung Op.24, TrV 158  27.024000\n",
       "966                    Rag Bhimpalasi: Alap, Jod, Jhala  41.074900"
      ]
     },
     "execution_count": 25,
     "metadata": {},
     "output_type": "execute_result"
    }
   ],
   "source": [
    "print(pd.Series(full_history['duration']).describe())\n",
    "full_history.sort_values('duration')[['name', 'duration']].tail(5)"
   ]
  },
  {
   "cell_type": "markdown",
   "metadata": {},
   "source": [
    "## When do I listen to music?"
   ]
  },
  {
   "cell_type": "code",
   "execution_count": 26,
   "metadata": {},
   "outputs": [],
   "source": [
    "def makeWeekday(a):\n",
    "    '''\n",
    "    weekday\n",
    "    '''\n",
    "    return a.weekday()"
   ]
  },
  {
   "cell_type": "code",
   "execution_count": 27,
   "metadata": {},
   "outputs": [],
   "source": [
    "full_history['weekday'] = full_history['timestamp'].apply(makeWeekday)"
   ]
  },
  {
   "cell_type": "code",
   "execution_count": 28,
   "metadata": {},
   "outputs": [],
   "source": [
    "def makeDecimalHour(a):\n",
    "    '''\n",
    "    decimal hour\n",
    "    '''\n",
    "    return a.hour + (a.minute / 60.0)"
   ]
  },
  {
   "cell_type": "code",
   "execution_count": 29,
   "metadata": {},
   "outputs": [],
   "source": [
    "full_history['hour_decimal'] = full_history['timestamp'].apply(makeDecimalHour)"
   ]
  },
  {
   "cell_type": "code",
   "execution_count": 30,
   "metadata": {},
   "outputs": [],
   "source": [
    "def _averageDatetimeFrequency(df, hour_inc):\n",
    "    hour_bins = np.arange(0, 24+hour_inc, hour_inc)\n",
    "    hour_labels = np.arange(hour_inc, 24+hour_inc, hour_inc)\n",
    "\n",
    "    df['time_bin'] = pd.cut(df['hour_decimal'], bins=hour_bins, labels=hour_labels)\n",
    "    \n",
    "    history_time_bivar = df.groupby(['weekday', 'time_bin'], axis=0)\n",
    "    return history_time_bivar.size().unstack().fillna(0)\n",
    "\n",
    "def plotAverageDatetimeFrequency(data, title='', fs=(12,5), hour_inc=0.5):\n",
    "    plt.subplots(figsize=fs)\n",
    "    plt.title('Average Listening Date-time Frequency{}'.format(title))\n",
    "    g = sns.heatmap(_averageDatetimeFrequency(data, hour_inc), cmap=\"Blues\", robust=True)\n",
    "    plt.xlabel('Time Bin')\n",
    "    plt.ylabel('Weekday')\n",
    "    g.set(yticklabels=['Mon', 'Tue', 'Wed', 'Thur', 'Fri', 'Sat', 'Sun']); # use ; to suppress output"
   ]
  },
  {
   "cell_type": "code",
   "execution_count": null,
   "metadata": {},
   "outputs": [],
   "source": [
    "plotAverageDatetimeFrequency(full_history, hour_inc=1)"
   ]
  },
  {
   "cell_type": "code",
   "execution_count": null,
   "metadata": {},
   "outputs": [],
   "source": [
    "inc = 1\n",
    "\n",
    "hour_labels = np.arange(inc, 24+inc, inc)\n",
    "day_bins = np.arange(0,7)\n",
    "\n",
    "genres_matrix = []\n",
    "\n",
    "w = []\n",
    "for day in day_bins:\n",
    "    d = []\n",
    "    for hour in hour_labels:\n",
    "        genres = full_history.loc[(full_history['weekday'] == day) & (full_history['time_bin'] == hour), 'genres']\n",
    "        \n",
    "        if list(genres):\n",
    "            unique_genres, genres_counts = np.unique(list(itertools.chain(*genres.dropna())), return_counts=True)\n",
    "            i, = np.where(genres_counts==genres_counts.max())\n",
    "            i = i[0]\n",
    "            d.append(str(unique_genres[i]))\n",
    "        else:\n",
    "            d.append('none')\n",
    "    w.append(d)\n",
    "    \n",
    "d = pd.DataFrame(w)"
   ]
  },
  {
   "cell_type": "code",
   "execution_count": null,
   "metadata": {},
   "outputs": [],
   "source": [
    "u = np.unique(d)\n",
    "u = dict(zip(u, range(len(u))))\n",
    "d = d.replace(u)"
   ]
  },
  {
   "cell_type": "code",
   "execution_count": null,
   "metadata": {},
   "outputs": [],
   "source": [
    "fig, ax = plt.subplots(figsize=(16,10))\n",
    "im = plt.imshow(d, cmap='tab20b', aspect=3)\n",
    "\n",
    "cb = fig.colorbar(im)\n",
    "cb.set_ticks(list(u.values()))\n",
    "cb.set_ticklabels(list(u.keys()))  # put text labels on them\n",
    "\n",
    "# Major ticks\n",
    "ax.set_xticks(np.arange(0, 24, 1));\n",
    "ax.set_yticks(np.arange(0, 7, 1));\n",
    "\n",
    "# Minor ticks\n",
    "ax.set_xticks(np.arange(-.5, 23, 1), minor=True);\n",
    "ax.set_yticks(np.arange(-.5, 6, 1), minor=True);\n",
    "\n",
    "# Gridlines based on minor ticks\n",
    "ax.grid(which='minor', color='w', linestyle='-', linewidth=2)\n",
    "ax.grid(which='major', b=False)\n",
    "\n",
    "ax.set_yticklabels(['Mon', 'Tue', 'Wed', 'Thur', 'Fri', 'Sat', 'Sun'])\n",
    "\n",
    "plt.xlabel('Hour of the Day')\n",
    "plt.ylabel('Weekday');"
   ]
  },
  {
   "cell_type": "markdown",
   "metadata": {},
   "source": [
    "Spacing between listens"
   ]
  },
  {
   "cell_type": "code",
   "execution_count": 31,
   "metadata": {},
   "outputs": [],
   "source": [
    "ts = pd.DatetimeIndex(sorted(full_history['timestamp'])).view('int64') // pd.Timedelta(1, unit='s')\n",
    "deltas = np.array(ts[1:] - ts[:-1])"
   ]
  },
  {
   "cell_type": "code",
   "execution_count": 34,
   "metadata": {},
   "outputs": [
    {
     "data": {
      "text/plain": [
       "count    936.000000\n",
       "mean      36.925214\n",
       "std       47.555277\n",
       "min        0.000000\n",
       "25%        7.333333\n",
       "50%       18.333333\n",
       "75%       47.666667\n",
       "max      495.000000\n",
       "dtype: float64"
      ]
     },
     "execution_count": 34,
     "metadata": {},
     "output_type": "execute_result"
    },
    {
     "data": {
      "image/png": "[encoded data removed]",
      "text/plain": [
       "<matplotlib.figure.Figure at 0x1a16919d68>"
      ]
     },
     "metadata": {},
     "output_type": "display_data"
    }
   ],
   "source": [
    "clusters = []\n",
    "current_cluster = 0\n",
    "\n",
    "MAXIMUM_GAP = 600\n",
    "\n",
    "for i in range(len(deltas)):\n",
    "    if deltas[i] < MAXIMUM_GAP:\n",
    "        current_cluster += 1\n",
    "    else:\n",
    "        clusters.append(current_cluster)\n",
    "        current_cluster = 0\n",
    "\n",
    "clusters.append(current_cluster)\n",
    "        \n",
    "hist(clusters, [0, 140], 20)\n",
    "dur = full_history['duration'].median()\n",
    "(pd.Series(clusters)*dur).describe()"
   ]
  },
  {
   "cell_type": "markdown",
   "metadata": {},
   "source": [
    "## What music do I *actually* like?\n",
    "\n",
    "With thousands of songs in my music listening history, it should be obvious that I don't *love* all of them. If we wish to describe the songs I like, the dataset must be labeled with whether I like a particular song. In other words, we extract implicit feedback to classify songs as \"Like\" or \"Dislike.\" Implicit feedback is easier to collect because it does not require individually labeling each sample. Here, we define this feedback as listening frequency. It is assumed that songs that are enjoyed are listened to more often than songs that are not enjoyed.\n",
    "\n",
    "There are two flavors of frequency feedback: absolute and relative. Absolute frequency feedback (AFF) is the listening frequency within the know period of recording. Relative frequency feedback (RFF) is the listening frequency between the first and last listening event. AFF accounts for long-term listening habits. RFF accounts for songs that were enjoyed during one period in time (and may still be enjoyed)."
   ]
  },
  {
   "cell_type": "code",
   "execution_count": null,
   "metadata": {},
   "outputs": [],
   "source": [
    "day_range = (full_history['timestamp'].max() - full_history['timestamp'].min()).days"
   ]
  },
  {
   "cell_type": "code",
   "execution_count": null,
   "metadata": {},
   "outputs": [],
   "source": [
    "unique_counts = []\n",
    "\n",
    "last = full_history['timestamp'].max()\n",
    "\n",
    "for i, row_outer in full_history.iterrows():\n",
    "    matches = full_history.loc[full_history['id'] == row_outer['id'], 'timestamp']\n",
    "    \n",
    "    n = len(matches)\n",
    "        \n",
    "    ts = np.array(matches.sort_values())\n",
    "    spread = int((ts.max() - ts.min()) / 8.64e13)\n",
    "    spread = 1 if spread == 0 else spread\n",
    "    \n",
    "    rff = 1\n",
    "    med = 0\n",
    "    if n > 1:\n",
    "        deltas = (ts[1:] - ts[:-1]) / 8.64e13\n",
    "        med = int(np.median(deltas))\n",
    "        rff = n / spread\n",
    "    \n",
    "    distance = last - matches.max()\n",
    "\n",
    "    unique_counts.append([row_outer['id'], row_outer['name'], n, n / day_range, rff, distance.total_seconds()])\n",
    "    "
   ]
  },
  {
   "cell_type": "code",
   "execution_count": null,
   "metadata": {},
   "outputs": [],
   "source": [
    "unique = pd.DataFrame(unique_counts, columns=['id', 'name', 'n', 'aff', 'rff', 'distance']).drop_duplicates('id')"
   ]
  },
  {
   "cell_type": "code",
   "execution_count": null,
   "metadata": {},
   "outputs": [],
   "source": [
    "unique['distance_hat'] = round(unique['distance'] / (60 * 60 * 24 * 2))\n",
    "unique.describe()"
   ]
  },
  {
   "cell_type": "code",
   "execution_count": null,
   "metadata": {},
   "outputs": [],
   "source": [
    "for col in ['aff', 'rff', 'distance_hat']:\n",
    "    mi = unique[col].min()\n",
    "    ma = unique[col].max()\n",
    "    above_zero = -1 if mi > 0 else 1\n",
    "    unique[col] = (unique[col] + above_zero*mi) / ma\n",
    "    "
   ]
  },
  {
   "cell_type": "code",
   "execution_count": null,
   "metadata": {},
   "outputs": [],
   "source": [
    "unique.describe()"
   ]
  },
  {
   "cell_type": "code",
   "execution_count": null,
   "metadata": {},
   "outputs": [],
   "source": [
    "clst = cluster.KMeans(2, init='random', n_init=10)\n",
    "\n",
    "a = unique[0:1000].copy()\n",
    "#a['rff'] = a['rff'].apply(lambda x: np.log(x+1))\n",
    "\n",
    "labels = pd.DataFrame({'Y': clst.fit_predict(a[['aff', 'rff', 'distance_hat']])})\n",
    "a = pd.concat([a, labels], axis=1)\n",
    "a[a['Y'] == 1]"
   ]
  },
  {
   "cell_type": "code",
   "execution_count": null,
   "metadata": {},
   "outputs": [],
   "source": [
    "unique_all = get_unique().merge(unique_counts, on='id')"
   ]
  },
  {
   "cell_type": "code",
   "execution_count": null,
   "metadata": {},
   "outputs": [],
   "source": [
    "unique_labeled[unique_labeled['like'] == 1]"
   ]
  },
  {
   "cell_type": "code",
   "execution_count": null,
   "metadata": {},
   "outputs": [],
   "source": [
    "from keras.models import Sequential\n",
    "from keras.layers import Dense, Activation"
   ]
  },
  {
   "cell_type": "markdown",
   "metadata": {},
   "source": [
    "## Do I prefer to discover new music or stick with known songs?\n",
    "\n",
    "Do I have any go-to songs? artists? A go-to song is a song...\n",
    "\n",
    "Do I have any hidden favorite songs? artists?"
   ]
  },
  {
   "cell_type": "code",
   "execution_count": null,
   "metadata": {},
   "outputs": [],
   "source": []
  },
  {
   "cell_type": "markdown",
   "metadata": {},
   "source": [
    "How much of my collection is from artists from my list of top artists?\n",
    "\n",
    "The top 1% of artists ($n=26$) make up 25.9% of songs in my history, the top 5% of artists ($n=181$) make up 51.1% of songs, the top 10% of artists ($n=362$) make up 64.9% of songs, and the top 25% of artists ($n=906$) make up 81.4% of songs."
   ]
  },
  {
   "cell_type": "code",
   "execution_count": null,
   "metadata": {},
   "outputs": [],
   "source": [
    "makeup = []\n",
    "\n",
    "for portion in [0.01, 0.05, 0.1, 0.25]:\n",
    "    \n",
    "    top_portion = round(len(sort_artist_df) * portion)\n",
    "    top_portion = sort_artist_df.iloc[:top_portion, 0]\n",
    "    \n",
    "    total_songs_in_portion = 0\n",
    "    for i, row in full_history.iterrows():\n",
    "        # for each track, look through the artists\n",
    "        for artist in row['artists']:\n",
    "            # if at least one artist on the song is in the top portion, count it and skip the rest\n",
    "            if artist in list(top_portion):\n",
    "                total_songs_in_portion += 1\n",
    "                break\n",
    "            \n",
    "    makeup.append([len(top_portion), total_songs_in_portion / len(full_history)])\n",
    "    \n",
    "makeup = np.array(makeup)"
   ]
  },
  {
   "cell_type": "code",
   "execution_count": null,
   "metadata": {},
   "outputs": [],
   "source": [
    "plt.scatter(x=makeup[:, 0], y=makeup[:, 1])\n",
    "\n",
    "for elm in makeup:\n",
    "    plt.annotate('({}, {}%)'.format(int(elm[0]), int(elm[1]*100)), (elm[0], elm[1]), (elm[0]+25, elm[1]-0.01))\n",
    "\n",
    "plt.xlabel('# of Artists')\n",
    "plt.ylabel('Proportion of Music Collection')\n",
    "plt.ylim([0,1]);"
   ]
  },
  {
   "cell_type": "markdown",
   "metadata": {},
   "source": [
    "# Is my music collection mainstream?\n",
    "\n",
    "Compared to what most people are listening to, am I any different? (I'd like to think so, but we'll see)"
   ]
  },
  {
   "cell_type": "code",
   "execution_count": null,
   "metadata": {},
   "outputs": [],
   "source": [
    "mainstream = pd.read_json('data/mainstream_music.json')\n",
    "mainstream[mainstream['tempo'] > 168]"
   ]
  },
  {
   "cell_type": "code",
   "execution_count": null,
   "metadata": {},
   "outputs": [],
   "source": []
  }
 ],
 "metadata": {
  "kernelspec": {
   "display_name": "Python 3",
   "language": "python",
   "name": "python3"
  },
  "language_info": {
   "codemirror_mode": {
    "name": "ipython",
    "version": 3
   },
   "file_extension": ".py",
   "mimetype": "text/x-python",
   "name": "python",
   "nbconvert_exporter": "python",
   "pygments_lexer": "ipython3",
   "version": "3.6.3"
  }
 },
 "nbformat": 4,
 "nbformat_minor": 2
}
