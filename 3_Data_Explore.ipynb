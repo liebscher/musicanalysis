{
 "cells": [
  {
   "cell_type": "markdown",
   "metadata": {},
   "source": [
    "# Exploration"
   ]
  },
  {
   "cell_type": "code",
   "execution_count": 2,
   "metadata": {},
   "outputs": [],
   "source": [
    "import pandas as pd\n",
    "from pandas import Timestamp\n",
    "import numpy as np\n",
    "import scipy.stats as stats\n",
    "from datetime import datetime\n",
    "from pytz import timezone\n",
    "\n",
    "from sklearn import manifold, decomposition, cluster\n",
    "from sklearn.model_selection import train_test_split\n",
    "\n",
    "import itertools\n",
    "\n",
    "import seaborn as sns\n",
    "import matplotlib.pyplot as plt\n",
    "from matplotlib import colors\n",
    "%matplotlib inline\n",
    "\n",
    "sns.set_style('whitegrid')\n",
    "pd.set_option('display.max_columns', 100)"
   ]
  },
  {
   "cell_type": "code",
   "execution_count": 3,
   "metadata": {},
   "outputs": [],
   "source": [
    "full_history = pd.read_json('data/history_comp.json')\n",
    "\n",
    "if full_history['timestamp'].max().tz is None:\n",
    "    full_history['timestamp'] = pd.to_datetime(full_history['timestamp'], utc=True)\n",
    "    full_history['timestamp'] = full_history['timestamp'].apply(lambda t: t.tz_convert('US/Pacific'))\n",
    "\n",
    "full_history = full_history.drop('index', axis=1)"
   ]
  },
  {
   "cell_type": "markdown",
   "metadata": {},
   "source": [
    "As shown below, for every 20 songs listened to, 10 of them are unique to my music catalog."
   ]
  },
  {
   "cell_type": "code",
   "execution_count": 4,
   "metadata": {},
   "outputs": [
    {
     "data": {
      "text/plain": [
       "1.9713631156930127"
      ]
     },
     "execution_count": 4,
     "metadata": {},
     "output_type": "execute_result"
    }
   ],
   "source": [
    "def get_unique():\n",
    "    unique_history = full_history.drop('timestamp', axis=1)\n",
    "    return unique_history.drop_duplicates('id')\n",
    "\n",
    "len(full_history)/len(get_unique())"
   ]
  },
  {
   "cell_type": "markdown",
   "metadata": {},
   "source": [
    "Here is a sample of artists. In addition to the a priori known name, we have followers, genres, and popularity of each artist."
   ]
  },
  {
   "cell_type": "code",
   "execution_count": 5,
   "metadata": {},
   "outputs": [
    {
     "data": {
      "text/html": [
       "<div>\n",
       "<style scoped>\n",
       "    .dataframe tbody tr th:only-of-type {\n",
       "        vertical-align: middle;\n",
       "    }\n",
       "\n",
       "    .dataframe tbody tr th {\n",
       "        vertical-align: top;\n",
       "    }\n",
       "\n",
       "    .dataframe thead th {\n",
       "        text-align: right;\n",
       "    }\n",
       "</style>\n",
       "<table border=\"1\" class=\"dataframe\">\n",
       "  <thead>\n",
       "    <tr style=\"text-align: right;\">\n",
       "      <th></th>\n",
       "      <th>artist</th>\n",
       "      <th>followers</th>\n",
       "      <th>genres</th>\n",
       "      <th>id</th>\n",
       "      <th>popularity</th>\n",
       "    </tr>\n",
       "  </thead>\n",
       "  <tbody>\n",
       "    <tr>\n",
       "      <th>2760</th>\n",
       "      <td>Holy White Hounds</td>\n",
       "      <td>4472</td>\n",
       "      <td>[]</td>\n",
       "      <td>5GCvt7F9cCFkCjeEpcmFfL</td>\n",
       "      <td>32</td>\n",
       "    </tr>\n",
       "    <tr>\n",
       "      <th>1973</th>\n",
       "      <td>Sugar Minott</td>\n",
       "      <td>22554</td>\n",
       "      <td>[dancehall, dub, lovers rock, reggae, reggae f...</td>\n",
       "      <td>6iTD167bhyfYwEd7fd2bGn</td>\n",
       "      <td>48</td>\n",
       "    </tr>\n",
       "    <tr>\n",
       "      <th>2430</th>\n",
       "      <td>John Lennon</td>\n",
       "      <td>1431470</td>\n",
       "      <td>[album rock, art rock, classic rock, folk chri...</td>\n",
       "      <td>4x1nvY2FN8jxqAFA0DA02H</td>\n",
       "      <td>69</td>\n",
       "    </tr>\n",
       "    <tr>\n",
       "      <th>2482</th>\n",
       "      <td>Ohio Players</td>\n",
       "      <td>162092</td>\n",
       "      <td>[chicago soul, classic funk rock, deep funk, d...</td>\n",
       "      <td>6m30rs1IQqnWqV5nKMpU7U</td>\n",
       "      <td>55</td>\n",
       "    </tr>\n",
       "    <tr>\n",
       "      <th>1956</th>\n",
       "      <td>happytree</td>\n",
       "      <td>1620</td>\n",
       "      <td>[trap soul]</td>\n",
       "      <td>5UBfVxzuki4jF6yfZ8Omo2</td>\n",
       "      <td>40</td>\n",
       "    </tr>\n",
       "  </tbody>\n",
       "</table>\n",
       "</div>"
      ],
      "text/plain": [
       "                 artist  followers  \\\n",
       "2760  Holy White Hounds       4472   \n",
       "1973       Sugar Minott      22554   \n",
       "2430        John Lennon    1431470   \n",
       "2482       Ohio Players     162092   \n",
       "1956          happytree       1620   \n",
       "\n",
       "                                                 genres  \\\n",
       "2760                                                 []   \n",
       "1973  [dancehall, dub, lovers rock, reggae, reggae f...   \n",
       "2430  [album rock, art rock, classic rock, folk chri...   \n",
       "2482  [chicago soul, classic funk rock, deep funk, d...   \n",
       "1956                                        [trap soul]   \n",
       "\n",
       "                          id  popularity  \n",
       "2760  5GCvt7F9cCFkCjeEpcmFfL          32  \n",
       "1973  6iTD167bhyfYwEd7fd2bGn          48  \n",
       "2430  4x1nvY2FN8jxqAFA0DA02H          69  \n",
       "2482  6m30rs1IQqnWqV5nKMpU7U          55  \n",
       "1956  5UBfVxzuki4jF6yfZ8Omo2          40  "
      ]
     },
     "execution_count": 5,
     "metadata": {},
     "output_type": "execute_result"
    }
   ],
   "source": [
    "artists = pd.read_json('data/artist_info.json')\n",
    "artists.sample(5)"
   ]
  },
  {
   "cell_type": "markdown",
   "metadata": {},
   "source": [
    "### Visualizing Feature Space\n",
    "\n",
    "Below we visualize the distributions of each feature. Pay close attention because we do make some modifications on a per-feature basis. These are designed to reduce error down the road."
   ]
  },
  {
   "cell_type": "code",
   "execution_count": 6,
   "metadata": {},
   "outputs": [],
   "source": [
    "def hist(X, xlim, bins=14):\n",
    "    plt.xlim(xlim)\n",
    "    N, bins, patches = plt.hist(X, bins=bins)\n",
    "\n",
    "    fracs = N / N.max()\n",
    "\n",
    "    norm = colors.Normalize(fracs.min(), fracs.max())\n",
    "\n",
    "    for frac, patch in zip(fracs, patches):\n",
    "        color = plt.cm.coolwarm(norm(frac))\n",
    "        patch.set_facecolor(color)"
   ]
  },
  {
   "cell_type": "markdown",
   "metadata": {},
   "source": [
    "### Acousticness\n",
    "\n",
    "A confidence measure from 0.0 to 1.0 of whether the track is acoustic. 1.0 represents high confidence the track is acoustic."
   ]
  },
  {
   "cell_type": "code",
   "execution_count": 7,
   "metadata": {},
   "outputs": [
    {
     "data": {
      "text/plain": [
       "count    12047.000000\n",
       "mean         0.300358\n",
       "std          0.313313\n",
       "min          0.000003\n",
       "25%          0.038450\n",
       "50%          0.176000\n",
       "75%          0.503500\n",
       "max          0.996000\n",
       "Name: acousticness, dtype: float64"
      ]
     },
     "execution_count": 7,
     "metadata": {},
     "output_type": "execute_result"
    },
    {
     "data": {
      "image/png": "[encoded data removed]",
      "text/plain": [
       "<matplotlib.figure.Figure at 0x111369b00>"
      ]
     },
     "metadata": {},
     "output_type": "display_data"
    }
   ],
   "source": [
    "hist(full_history['acousticness'], [0,1])\n",
    "full_history['acousticness'].describe()"
   ]
  },
  {
   "cell_type": "markdown",
   "metadata": {},
   "source": [
    "### Danceability\n",
    "\n",
    "Danceability describes how suitable a track is for dancing based on a combination of musical elements including tempo, rhythm stability, beat strength, and overall regularity. A value of 0.0 is least danceable and 1.0 is most danceable."
   ]
  },
  {
   "cell_type": "code",
   "execution_count": 8,
   "metadata": {},
   "outputs": [
    {
     "data": {
      "text/plain": [
       "count    12047.000000\n",
       "mean         0.604429\n",
       "std          0.169784\n",
       "min          0.063400\n",
       "25%          0.490000\n",
       "50%          0.614000\n",
       "75%          0.734000\n",
       "max          0.984000\n",
       "Name: danceability, dtype: float64"
      ]
     },
     "execution_count": 8,
     "metadata": {},
     "output_type": "execute_result"
    },
    {
     "data": {
      "image/png": "[encoded data removed]",
      "text/plain": [
       "<matplotlib.figure.Figure at 0x11136d5c0>"
      ]
     },
     "metadata": {},
     "output_type": "display_data"
    }
   ],
   "source": [
    "hist(full_history['danceability'], [0,1])\n",
    "full_history['danceability'].describe()"
   ]
  },
  {
   "cell_type": "markdown",
   "metadata": {},
   "source": [
    "### Duration\n",
    "\n",
    "The duration of the track in milliseconds. Convert the duration to floating-point minutes."
   ]
  },
  {
   "cell_type": "code",
   "execution_count": 9,
   "metadata": {},
   "outputs": [
    {
     "data": {
      "text/plain": [
       "count    12047.000000\n",
       "mean         3.883627\n",
       "std          1.395982\n",
       "min          0.566450\n",
       "25%          3.162992\n",
       "50%          3.669283\n",
       "75%          4.351750\n",
       "max         41.074900\n",
       "Name: duration, dtype: float64"
      ]
     },
     "execution_count": 9,
     "metadata": {},
     "output_type": "execute_result"
    },
    {
     "data": {
      "image/png": "[encoded data removed]",
      "text/plain": [
       "<matplotlib.figure.Figure at 0x1112f5358>"
      ]
     },
     "metadata": {},
     "output_type": "display_data"
    }
   ],
   "source": [
    "full_history['duration'] = full_history['duration_ms'] / 1000 / 60\n",
    "hist(full_history['duration'], [0,45], 25)\n",
    "full_history['duration'].describe()"
   ]
  },
  {
   "cell_type": "code",
   "execution_count": 10,
   "metadata": {},
   "outputs": [],
   "source": [
    "full_history = full_history.drop('duration_ms', axis=1)"
   ]
  },
  {
   "cell_type": "markdown",
   "metadata": {},
   "source": [
    "### Energy\n",
    "\n",
    "Energy is a measure from 0.0 to 1.0 and represents a perceptual measure of intensity and activity. Typically, energetic tracks feel fast, loud, and noisy. For example, death metal has high energy, while a Bach prelude scores low on the scale. Perceptual features contributing to this attribute include dynamic range, perceived loudness, timbre, onset rate, and general entropy."
   ]
  },
  {
   "cell_type": "code",
   "execution_count": 11,
   "metadata": {},
   "outputs": [
    {
     "data": {
      "text/plain": [
       "count    12047.000000\n",
       "mean         0.579678\n",
       "std          0.228323\n",
       "min          0.000803\n",
       "25%          0.443000\n",
       "50%          0.599000\n",
       "75%          0.748000\n",
       "max          0.998000\n",
       "Name: energy, dtype: float64"
      ]
     },
     "execution_count": 11,
     "metadata": {},
     "output_type": "execute_result"
    },
    {
     "data": {
      "image/png": "[encoded data removed]",
      "text/plain": [
       "<matplotlib.figure.Figure at 0x10fab7908>"
      ]
     },
     "metadata": {},
     "output_type": "display_data"
    }
   ],
   "source": [
    "hist(full_history['energy'], [0,1])\n",
    "full_history['energy'].describe()"
   ]
  },
  {
   "cell_type": "markdown",
   "metadata": {},
   "source": [
    "### Liveness\n",
    "\n",
    "Detects the presence of an audience in the recording. Higher liveness values represent an increased probability that the track was performed live. A value above 0.8 provides strong likelihood that the track is live."
   ]
  },
  {
   "cell_type": "code",
   "execution_count": 12,
   "metadata": {},
   "outputs": [
    {
     "data": {
      "text/plain": [
       "count    12047.000000\n",
       "mean         0.188938\n",
       "std          0.153650\n",
       "min          0.018700\n",
       "25%          0.097600\n",
       "50%          0.123000\n",
       "75%          0.231000\n",
       "max          0.989000\n",
       "Name: liveness, dtype: float64"
      ]
     },
     "execution_count": 12,
     "metadata": {},
     "output_type": "execute_result"
    },
    {
     "data": {
      "image/png": "[encoded data removed]",
      "text/plain": [
       "<matplotlib.figure.Figure at 0x111353d68>"
      ]
     },
     "metadata": {},
     "output_type": "display_data"
    }
   ],
   "source": [
    "hist(full_history['liveness'], [0,1])\n",
    "full_history['liveness'].describe()"
   ]
  },
  {
   "cell_type": "code",
   "execution_count": 13,
   "metadata": {},
   "outputs": [
    {
     "data": {
      "text/plain": [
       "10036                                        Encore\n",
       "1016                                 Round Whippin'\n",
       "10303                                       Feel Me\n",
       "10308                                          TEAM\n",
       "10365                Namaste, Alvida - Original Mix\n",
       "10679                             I’m On Everything\n",
       "10978                                    So Special\n",
       "11240                             That's How - Skit\n",
       "1204                                 Starting Today\n",
       "1229                         Get Up Offa That Thing\n",
       "1388       Jah No Partial - Heroes x Villains Remix\n",
       "16                                         My Girls\n",
       "1916                       Fell In Love With A Girl\n",
       "1917     Not Nineteen Forever - Live at Heaton Park\n",
       "2146                                       Soldiers\n",
       "Name: name, dtype: object"
      ]
     },
     "execution_count": 13,
     "metadata": {},
     "output_type": "execute_result"
    }
   ],
   "source": [
    "full_history[full_history['liveness'] > 0.8].drop_duplicates('id')['name'][:15]"
   ]
  },
  {
   "cell_type": "markdown",
   "metadata": {},
   "source": [
    "Liveness is obviously an inaccurate measurement, thus we cannot use it reliably. We remove it."
   ]
  },
  {
   "cell_type": "code",
   "execution_count": 14,
   "metadata": {},
   "outputs": [],
   "source": [
    "full_history = full_history.drop('liveness', axis=1)"
   ]
  },
  {
   "cell_type": "markdown",
   "metadata": {},
   "source": [
    "### Loudness\n",
    "\n",
    "The overall loudness of a track in decibels (dB). Loudness values are averaged across the entire track and are useful for comparing relative loudness of tracks. Loudness is the quality of a sound that is the primary psychological correlate of physical strength (amplitude). Values typical range between -60 and 0 db.\n",
    "\n",
    "Similar to duration, loudness is heavily skewed, thus we log scale it to bring things back together and reveal more of the underlying structure. Note the transformation of the values too. Since we don't care too much about the actual value of the loudness, only whether it's relatively loud or not, we assume this is acceptable."
   ]
  },
  {
   "cell_type": "code",
   "execution_count": 15,
   "metadata": {},
   "outputs": [
    {
     "data": {
      "text/plain": [
       "count    12047.000000\n",
       "mean         2.150195\n",
       "std          0.459787\n",
       "min         -0.529329\n",
       "25%          1.864235\n",
       "50%          2.114688\n",
       "75%          2.366967\n",
       "max          3.877990\n",
       "Name: log_loudness, dtype: float64"
      ]
     },
     "execution_count": 15,
     "metadata": {},
     "output_type": "execute_result"
    },
    {
     "data": {
      "image/png": "[encoded data removed]",
      "text/plain": [
       "<matplotlib.figure.Figure at 0x10fab5b70>"
      ]
     },
     "metadata": {},
     "output_type": "display_data"
    }
   ],
   "source": [
    "full_history['log_loudness'] = np.log(-1*full_history['loudness']+1)\n",
    "hist(full_history['log_loudness'], [-0.8,4], 20)\n",
    "full_history['log_loudness'].describe()"
   ]
  },
  {
   "cell_type": "code",
   "execution_count": 16,
   "metadata": {},
   "outputs": [],
   "source": [
    "full_history = full_history.drop('loudness', axis=1)"
   ]
  },
  {
   "cell_type": "markdown",
   "metadata": {},
   "source": [
    "### Popularity\n",
    "\n",
    "The popularity of the track. The value will be between 0 and 100, with 100 being the most popular.\n",
    "The popularity of a track is a value between 0 and 100, with 100 being the most popular. The popularity is calculated by algorithm and is based, in the most part, on the total number of plays the track has had and how recent those plays are.\n",
    "\n",
    "Generally speaking, songs that are being played a lot now will have a higher popularity than songs that were played a lot in the past. Duplicate tracks (e.g. the same track from a single and an album) are rated independently. Artist and album popularity is derived mathematically from track popularity. Note that the popularity value may lag actual popularity by a few days: the value is not updated in real time."
   ]
  },
  {
   "cell_type": "code",
   "execution_count": 17,
   "metadata": {},
   "outputs": [
    {
     "data": {
      "text/plain": [
       "count    12047.000000\n",
       "mean        54.093218\n",
       "std         17.425109\n",
       "min          0.000000\n",
       "25%         44.000000\n",
       "50%         56.000000\n",
       "75%         65.000000\n",
       "max        100.000000\n",
       "Name: popularity, dtype: float64"
      ]
     },
     "execution_count": 17,
     "metadata": {},
     "output_type": "execute_result"
    },
    {
     "data": {
      "image/png": "[encoded data removed]",
      "text/plain": [
       "<matplotlib.figure.Figure at 0x10fab7c88>"
      ]
     },
     "metadata": {},
     "output_type": "display_data"
    }
   ],
   "source": [
    "hist(full_history['popularity'], [0, 100])\n",
    "full_history['popularity'].describe()"
   ]
  },
  {
   "cell_type": "markdown",
   "metadata": {},
   "source": [
    "### Tempo\n",
    "\n",
    "The overall estimated tempo of a track in beats per minute (BPM). In musical terminology, tempo is the speed or pace of a given piece and derives directly from the average beat duration."
   ]
  },
  {
   "cell_type": "code",
   "execution_count": 18,
   "metadata": {},
   "outputs": [
    {
     "data": {
      "text/plain": [
       "count    12047.000000\n",
       "mean       117.998672\n",
       "std         30.037381\n",
       "min         32.000000\n",
       "25%         94.000000\n",
       "50%        118.000000\n",
       "75%        140.000000\n",
       "max        222.000000\n",
       "Name: tempo, dtype: float64"
      ]
     },
     "execution_count": 18,
     "metadata": {},
     "output_type": "execute_result"
    },
    {
     "data": {
      "image/png": "[encoded data removed]",
      "text/plain": [
       "<matplotlib.figure.Figure at 0x11134f198>"
      ]
     },
     "metadata": {},
     "output_type": "display_data"
    }
   ],
   "source": [
    "full_history['tempo'] = full_history['tempo'].apply(round)\n",
    "hist(full_history['tempo'], [30, 225], 24)\n",
    "full_history['tempo'].describe()"
   ]
  },
  {
   "cell_type": "markdown",
   "metadata": {},
   "source": [
    "Many songs are misclassified by Spotify, often doubling the real BPM. Presto tempo is said to be above 168, and after looking through many of the resutls of songs above 168 BPM, it is reasonable to correct songs above this threshold. Although it does cut out the top end, it is more representative for  many songs."
   ]
  },
  {
   "cell_type": "code",
   "execution_count": 19,
   "metadata": {},
   "outputs": [],
   "source": [
    "full_history['tempo'] = full_history['tempo'].apply(lambda x: x if x < 168 else x/2)"
   ]
  },
  {
   "cell_type": "markdown",
   "metadata": {},
   "source": [
    "### Valence\n",
    "\n",
    "A measure from 0.0 to 1.0 describing the musical positiveness conveyed by a track. Tracks with high valence sound more positive (e.g. happy, cheerful, euphoric), while tracks with low valence sound more negative (e.g. sad, depressed, angry)."
   ]
  },
  {
   "cell_type": "code",
   "execution_count": 20,
   "metadata": {},
   "outputs": [
    {
     "data": {
      "text/plain": [
       "count    12047.000000\n",
       "mean         0.434586\n",
       "std          0.238469\n",
       "min          0.024600\n",
       "25%          0.239000\n",
       "50%          0.412000\n",
       "75%          0.613000\n",
       "max          0.990000\n",
       "Name: valence, dtype: float64"
      ]
     },
     "execution_count": 20,
     "metadata": {},
     "output_type": "execute_result"
    },
    {
     "data": {
      "image/png": "[encoded data removed]",
      "text/plain": [
       "<matplotlib.figure.Figure at 0x1112f5358>"
      ]
     },
     "metadata": {},
     "output_type": "display_data"
    }
   ],
   "source": [
    "hist(full_history['valence'], [0, 1])\n",
    "full_history['valence'].describe()"
   ]
  },
  {
   "cell_type": "markdown",
   "metadata": {},
   "source": [
    "### Release Date\n",
    "\n",
    "After examining, the release date isn't accurate either. For example, all classical music has release dates of 1960 or later, since this is the release of the album itself, not necessarily the conception of the music (which would have placed a lot of this genre in the 17th-20th centuries)."
   ]
  },
  {
   "cell_type": "code",
   "execution_count": 21,
   "metadata": {},
   "outputs": [],
   "source": [
    "full_history = full_history.drop('release', axis=1)"
   ]
  },
  {
   "cell_type": "markdown",
   "metadata": {},
   "source": [
    "How much music are we talking about here?"
   ]
  },
  {
   "cell_type": "code",
   "execution_count": 22,
   "metadata": {},
   "outputs": [
    {
     "name": "stdout",
     "output_type": "stream",
     "text": [
      "Total hours: 779.768\n",
      "Hours/day: 5.2\n",
      "Average songs/day: 80\n",
      "Total songs listened to: 12047 (unique songs: 6111)\n"
     ]
    }
   ],
   "source": [
    "total_hours = full_history['duration'].sum()/(60)\n",
    "print('Total hours: {:0.3f}'.format(total_hours))\n",
    "\n",
    "hours_per_day = total_hours/(full_history['timestamp'].max() - full_history['timestamp'].min()).days\n",
    "print('Hours/day: {:0.1f}'.format(hours_per_day))\n",
    "\n",
    "avg_song_dur = full_history['duration'].mean()\n",
    "print('Average songs/day: {:0.0f}'.format(hours_per_day/(avg_song_dur/(60.0))))\n",
    "\n",
    "print('Total songs listened to: {} (unique songs: {})'.format(len(full_history), len(get_unique())))"
   ]
  },
  {
   "cell_type": "code",
   "execution_count": 23,
   "metadata": {},
   "outputs": [
    {
     "data": {
      "text/html": [
       "<div>\n",
       "<style scoped>\n",
       "    .dataframe tbody tr th:only-of-type {\n",
       "        vertical-align: middle;\n",
       "    }\n",
       "\n",
       "    .dataframe tbody tr th {\n",
       "        vertical-align: top;\n",
       "    }\n",
       "\n",
       "    .dataframe thead th {\n",
       "        text-align: right;\n",
       "    }\n",
       "</style>\n",
       "<table border=\"1\" class=\"dataframe\">\n",
       "  <thead>\n",
       "    <tr style=\"text-align: right;\">\n",
       "      <th></th>\n",
       "      <th>acousticness</th>\n",
       "      <th>album</th>\n",
       "      <th>artists</th>\n",
       "      <th>danceability</th>\n",
       "      <th>energy</th>\n",
       "      <th>explicit</th>\n",
       "      <th>id</th>\n",
       "      <th>key</th>\n",
       "      <th>mode</th>\n",
       "      <th>name</th>\n",
       "      <th>popularity</th>\n",
       "      <th>speechiness</th>\n",
       "      <th>tempo</th>\n",
       "      <th>time_signature</th>\n",
       "      <th>timestamp</th>\n",
       "      <th>valence</th>\n",
       "      <th>duration</th>\n",
       "      <th>log_loudness</th>\n",
       "    </tr>\n",
       "  </thead>\n",
       "  <tbody>\n",
       "    <tr>\n",
       "      <th>2644</th>\n",
       "      <td>0.995</td>\n",
       "      <td>Shostakovich: 24 Preludes &amp; Fugues</td>\n",
       "      <td>[6s1pCNXcbdtQJlsnM1hRIA, 7vk7vgVoYDiZ4Kngc3Jgta]</td>\n",
       "      <td>0.401</td>\n",
       "      <td>0.0276</td>\n",
       "      <td>0</td>\n",
       "      <td>14dUx4xRdtdMwSGkEmv3Bg</td>\n",
       "      <td>3</td>\n",
       "      <td>1</td>\n",
       "      <td>24 Preludes &amp; Fugues, Op. 87: Prelude no.19 in...</td>\n",
       "      <td>2</td>\n",
       "      <td>0.0705</td>\n",
       "      <td>135.0</td>\n",
       "      <td>4</td>\n",
       "      <td>2018-03-16 16:54:00-07:00</td>\n",
       "      <td>0.101</td>\n",
       "      <td>1.846883</td>\n",
       "      <td>3.373346</td>\n",
       "    </tr>\n",
       "    <tr>\n",
       "      <th>6807</th>\n",
       "      <td>0.169</td>\n",
       "      <td>Steps</td>\n",
       "      <td>[3IaqL9bsZtYJkqNLiovVho]</td>\n",
       "      <td>0.580</td>\n",
       "      <td>0.5570</td>\n",
       "      <td>0</td>\n",
       "      <td>3YW7AWZMCvNBYBPoFdebTh</td>\n",
       "      <td>1</td>\n",
       "      <td>1</td>\n",
       "      <td>Weight Of It All</td>\n",
       "      <td>46</td>\n",
       "      <td>0.0745</td>\n",
       "      <td>166.0</td>\n",
       "      <td>4</td>\n",
       "      <td>2017-12-21 22:11:00-08:00</td>\n",
       "      <td>0.407</td>\n",
       "      <td>3.428450</td>\n",
       "      <td>2.292737</td>\n",
       "    </tr>\n",
       "    <tr>\n",
       "      <th>7912</th>\n",
       "      <td>0.158</td>\n",
       "      <td>War &amp; Leisure</td>\n",
       "      <td>[360IAlyVv4PCEVjgyMZrxK, 6l3HvQ5sa6mXTsMTB19rO...</td>\n",
       "      <td>0.461</td>\n",
       "      <td>0.6530</td>\n",
       "      <td>1</td>\n",
       "      <td>1m8WpLYXEiNVZchsWEcCSy</td>\n",
       "      <td>6</td>\n",
       "      <td>1</td>\n",
       "      <td>Come Through and Chill</td>\n",
       "      <td>76</td>\n",
       "      <td>0.3270</td>\n",
       "      <td>82.0</td>\n",
       "      <td>1</td>\n",
       "      <td>2018-01-19 07:54:00-08:00</td>\n",
       "      <td>0.588</td>\n",
       "      <td>5.366667</td>\n",
       "      <td>2.263532</td>\n",
       "    </tr>\n",
       "    <tr>\n",
       "      <th>1602</th>\n",
       "      <td>0.868</td>\n",
       "      <td>Crazy in Love</td>\n",
       "      <td>[0WfaItAbs4vlgIA1cuqGtJ]</td>\n",
       "      <td>0.606</td>\n",
       "      <td>0.3260</td>\n",
       "      <td>0</td>\n",
       "      <td>6m0qBDIhzICOwWMPZdgyVK</td>\n",
       "      <td>7</td>\n",
       "      <td>1</td>\n",
       "      <td>Crazy in Love</td>\n",
       "      <td>65</td>\n",
       "      <td>0.1190</td>\n",
       "      <td>79.0</td>\n",
       "      <td>4</td>\n",
       "      <td>2018-03-28 21:21:00-07:00</td>\n",
       "      <td>0.489</td>\n",
       "      <td>3.791667</td>\n",
       "      <td>2.341902</td>\n",
       "    </tr>\n",
       "    <tr>\n",
       "      <th>3307</th>\n",
       "      <td>0.599</td>\n",
       "      <td>Chase Atlantic</td>\n",
       "      <td>[7cYEt1pqMgXJdq00hAwVpT]</td>\n",
       "      <td>0.372</td>\n",
       "      <td>0.5710</td>\n",
       "      <td>1</td>\n",
       "      <td>0VCaMojESxrxingY2tNS4Q</td>\n",
       "      <td>4</td>\n",
       "      <td>1</td>\n",
       "      <td>23</td>\n",
       "      <td>51</td>\n",
       "      <td>0.0931</td>\n",
       "      <td>136.0</td>\n",
       "      <td>3</td>\n",
       "      <td>2018-03-09 10:04:00-08:00</td>\n",
       "      <td>0.313</td>\n",
       "      <td>4.630667</td>\n",
       "      <td>2.232377</td>\n",
       "    </tr>\n",
       "  </tbody>\n",
       "</table>\n",
       "</div>"
      ],
      "text/plain": [
       "      acousticness                               album  \\\n",
       "2644         0.995  Shostakovich: 24 Preludes & Fugues   \n",
       "6807         0.169                               Steps   \n",
       "7912         0.158                       War & Leisure   \n",
       "1602         0.868                       Crazy in Love   \n",
       "3307         0.599                      Chase Atlantic   \n",
       "\n",
       "                                                artists  danceability  energy  \\\n",
       "2644   [6s1pCNXcbdtQJlsnM1hRIA, 7vk7vgVoYDiZ4Kngc3Jgta]         0.401  0.0276   \n",
       "6807                           [3IaqL9bsZtYJkqNLiovVho]         0.580  0.5570   \n",
       "7912  [360IAlyVv4PCEVjgyMZrxK, 6l3HvQ5sa6mXTsMTB19rO...         0.461  0.6530   \n",
       "1602                           [0WfaItAbs4vlgIA1cuqGtJ]         0.606  0.3260   \n",
       "3307                           [7cYEt1pqMgXJdq00hAwVpT]         0.372  0.5710   \n",
       "\n",
       "      explicit                      id  key  mode  \\\n",
       "2644         0  14dUx4xRdtdMwSGkEmv3Bg    3     1   \n",
       "6807         0  3YW7AWZMCvNBYBPoFdebTh    1     1   \n",
       "7912         1  1m8WpLYXEiNVZchsWEcCSy    6     1   \n",
       "1602         0  6m0qBDIhzICOwWMPZdgyVK    7     1   \n",
       "3307         1  0VCaMojESxrxingY2tNS4Q    4     1   \n",
       "\n",
       "                                                   name  popularity  \\\n",
       "2644  24 Preludes & Fugues, Op. 87: Prelude no.19 in...           2   \n",
       "6807                                   Weight Of It All          46   \n",
       "7912                             Come Through and Chill          76   \n",
       "1602                                      Crazy in Love          65   \n",
       "3307                                                 23          51   \n",
       "\n",
       "      speechiness  tempo  time_signature                 timestamp  valence  \\\n",
       "2644       0.0705  135.0               4 2018-03-16 16:54:00-07:00    0.101   \n",
       "6807       0.0745  166.0               4 2017-12-21 22:11:00-08:00    0.407   \n",
       "7912       0.3270   82.0               1 2018-01-19 07:54:00-08:00    0.588   \n",
       "1602       0.1190   79.0               4 2018-03-28 21:21:00-07:00    0.489   \n",
       "3307       0.0931  136.0               3 2018-03-09 10:04:00-08:00    0.313   \n",
       "\n",
       "      duration  log_loudness  \n",
       "2644  1.846883      3.373346  \n",
       "6807  3.428450      2.292737  \n",
       "7912  5.366667      2.263532  \n",
       "1602  3.791667      2.341902  \n",
       "3307  4.630667      2.232377  "
      ]
     },
     "execution_count": 23,
     "metadata": {},
     "output_type": "execute_result"
    }
   ],
   "source": [
    "full_history.sample(5)"
   ]
  },
  {
   "cell_type": "markdown",
   "metadata": {},
   "source": [
    "## What kinds of music do I listen to?"
   ]
  },
  {
   "cell_type": "markdown",
   "metadata": {},
   "source": [
    "First, what types of genres am I listening to?"
   ]
  },
  {
   "cell_type": "code",
   "execution_count": 24,
   "metadata": {},
   "outputs": [],
   "source": [
    "artists_index = pd.Index(artists['id'])\n",
    "\n",
    "def addTrackGenres(row):\n",
    "    inner_gs = []\n",
    "        \n",
    "    # for each artist in a track\n",
    "    for track_artist in row['artists']:\n",
    "                        \n",
    "        # if the artist exists, get its index\n",
    "        i = artists_index.get_loc(track_artist)\n",
    "        if i > -1:\n",
    "            cell = artists.iloc[i, 2]\n",
    "            if cell:\n",
    "                # collect genres from artists that match the current index\n",
    "                inner_gs.append(cell)\n",
    "                \n",
    "    if inner_gs:\n",
    "        row['genres'] = np.unique(list(itertools.chain(*inner_gs)))\n",
    "    else:\n",
    "        row['genres'] = None\n",
    "        \n",
    "    return row\n"
   ]
  },
  {
   "cell_type": "code",
   "execution_count": 25,
   "metadata": {},
   "outputs": [],
   "source": [
    "full_history = full_history.apply(addTrackGenres, 1)"
   ]
  },
  {
   "cell_type": "code",
   "execution_count": 26,
   "metadata": {},
   "outputs": [],
   "source": [
    "genres = []\n",
    "counts = []\n",
    "freqs =  []\n",
    "var1 =   []\n",
    "\n",
    "for row in full_history.loc[full_history['genres'].notnull(), ['energy', 'genres']].itertuples():\n",
    "    \n",
    "    for genre in row.genres:\n",
    "        \n",
    "        if genre in genres:\n",
    "            i = genres.index(genre)\n",
    "            counts[i] += 1\n",
    "            var1[i] += row.energy\n",
    "        else:\n",
    "            genres.append(genre)\n",
    "            counts.append(1)\n",
    "            var1.append(row.energy)\n",
    "\n",
    "total = sum(counts)\n",
    "freqs = np.array(counts) / total\n",
    "var1 = np.array(var1) / np.array(counts)\n",
    "\n",
    "collective_genres = pd.DataFrame({'freq': freqs, 'count': counts, 'genre': genres, 'var1': var1})"
   ]
  },
  {
   "cell_type": "markdown",
   "metadata": {},
   "source": [
    "Below is a visualization of my top 25 genres, starting with most listened to. Dark blue represents a low energy, dark red is high energy."
   ]
  },
  {
   "cell_type": "code",
   "execution_count": 27,
   "metadata": {},
   "outputs": [
    {
     "name": "stderr",
     "output_type": "stream",
     "text": [
      "/Users/alex/anaconda3/lib/python3.6/site-packages/seaborn/categorical.py:1508: FutureWarning: remove_na is deprecated and is a private function. Do not use.\n",
      "  stat_data = remove_na(group_data[hue_mask])\n"
     ]
    },
    {
     "data": {
      "image/png": "[encoded data removed]",
      "text/plain": [
       "<matplotlib.figure.Figure at 0x111324470>"
      ]
     },
     "metadata": {},
     "output_type": "display_data"
    }
   ],
   "source": [
    "offset = 0\n",
    "collective_genres = collective_genres.sort_values('freq', ascending=False)\n",
    "\n",
    "plt.subplots(figsize=(18,6))\n",
    "g = sns.barplot(x='genre', y='freq', \n",
    "                data=collective_genres[offset:offset+25], \n",
    "                hue='var1', palette='RdBu', dodge=False)\n",
    "g.legend_.remove()\n",
    "plt.xticks(rotation=30, horizontalalignment='right')\n",
    "plt.xlabel('Genre')\n",
    "plt.ylabel('Frequency');"
   ]
  },
  {
   "cell_type": "markdown",
   "metadata": {},
   "source": [
    "What is the overall mood of my music collection like? It is skewed toward a sadder mood, and has a mean valence of 0.4, which isn't particularly happy."
   ]
  },
  {
   "cell_type": "code",
   "execution_count": 28,
   "metadata": {},
   "outputs": [
    {
     "data": {
      "image/png": "[encoded data removed]",
      "text/plain": [
       "<matplotlib.figure.Figure at 0x1100ac668>"
      ]
     },
     "metadata": {},
     "output_type": "display_data"
    }
   ],
   "source": [
    "ax = sns.distplot(full_history.valence, bins=10, kde=False, hist_kws={\"edgecolor\": \"k\", \"linewidth\":1})\n",
    "plt.axvline(full_history.valence.median(), color='k', linestyle='--', linewidth=2);\n",
    "plt.text(0.8, 0.8, r'$\\mu={0:2f}$'.format(full_history.valence.median()), \n",
    "         horizontalalignment='center', verticalalignment='center', transform=ax.transAxes);"
   ]
  },
  {
   "cell_type": "markdown",
   "metadata": {},
   "source": [
    "Who are my most listened to artists?"
   ]
  },
  {
   "cell_type": "code",
   "execution_count": 29,
   "metadata": {},
   "outputs": [],
   "source": [
    "collective_artists = [artists for artists in full_history.loc[full_history['artists'].notnull(), 'artists']]\n",
    "    \n",
    "collective_artists = np.array(list(itertools.chain(*collective_artists)))\n",
    "unique_artists, artist_counts = np.unique(collective_artists, return_counts=True)\n",
    "\n",
    "artist_df = pd.DataFrame({'id': unique_artists, 'listens': artist_counts})\n",
    "artists = pd.merge(artist_df, artists, on='id')\n",
    "\n",
    "def simplifyGenre(x):\n",
    "    for genre in collective_genres['genre']:\n",
    "        if genre in x:\n",
    "            return genre\n",
    "        \n",
    "    return 'other'\n",
    "\n",
    "artists['simple_genre'] = artists['genres'].apply(simplifyGenre)"
   ]
  },
  {
   "cell_type": "markdown",
   "metadata": {},
   "source": [
    "Below is a visualization of my most listened to artists. They are counted if they are featured or produce a song as well. The color represents their top-level genre classification."
   ]
  },
  {
   "cell_type": "code",
   "execution_count": 30,
   "metadata": {},
   "outputs": [
    {
     "name": "stderr",
     "output_type": "stream",
     "text": [
      "/Users/alex/anaconda3/lib/python3.6/site-packages/seaborn/categorical.py:1508: FutureWarning: remove_na is deprecated and is a private function. Do not use.\n",
      "  stat_data = remove_na(group_data[hue_mask])\n"
     ]
    },
    {
     "data": {
      "image/png": "[encoded data removed]",
      "text/plain": [
       "<matplotlib.figure.Figure at 0x110f05978>"
      ]
     },
     "metadata": {},
     "output_type": "display_data"
    }
   ],
   "source": [
    "offset = 0\n",
    "sort_artist_df = artists.sort_values('listens', ascending=False)\n",
    "\n",
    "plt.subplots(figsize=(18,6))\n",
    "g = sns.barplot(x='artist', y='listens', data=sort_artist_df[offset:offset+25], hue='simple_genre', dodge=False, palette='hls')\n",
    "plt.xticks(rotation=30, horizontalalignment='right')\n",
    "plt.xlabel('Artist');\n",
    "plt.ylabel('# of Listens');\n",
    "#plt.savefig('topartists.png')"
   ]
  },
  {
   "cell_type": "markdown",
   "metadata": {},
   "source": [
    "How does my music collection look in terms of song length?\n",
    "\n",
    "The mean song is 3:52 minutes, the median is 3:40 minutes, and 75% of my music is shorter than 4:19 minutes. My five longest songs include two European classical pieces, two Indian classical pieces, and SB-01, an experimental track by Unknown Mortal Orchestra."
   ]
  },
  {
   "cell_type": "code",
   "execution_count": 31,
   "metadata": {},
   "outputs": [
    {
     "name": "stdout",
     "output_type": "stream",
     "text": [
      "count    12047.000000\n",
      "mean         3.883627\n",
      "std          1.395982\n",
      "min          0.566450\n",
      "25%          3.162992\n",
      "50%          3.669283\n",
      "75%          4.351750\n",
      "max         41.074900\n",
      "Name: duration, dtype: float64\n"
     ]
    },
    {
     "data": {
      "text/html": [
       "<div>\n",
       "<style scoped>\n",
       "    .dataframe tbody tr th:only-of-type {\n",
       "        vertical-align: middle;\n",
       "    }\n",
       "\n",
       "    .dataframe tbody tr th {\n",
       "        vertical-align: top;\n",
       "    }\n",
       "\n",
       "    .dataframe thead th {\n",
       "        text-align: right;\n",
       "    }\n",
       "</style>\n",
       "<table border=\"1\" class=\"dataframe\">\n",
       "  <thead>\n",
       "    <tr style=\"text-align: right;\">\n",
       "      <th></th>\n",
       "      <th>name</th>\n",
       "      <th>duration</th>\n",
       "    </tr>\n",
       "  </thead>\n",
       "  <tbody>\n",
       "    <tr>\n",
       "      <th>10252</th>\n",
       "      <td>Raag Mishra Shirvranjani Taal Deepchandi</td>\n",
       "      <td>21.820150</td>\n",
       "    </tr>\n",
       "    <tr>\n",
       "      <th>2638</th>\n",
       "      <td>Piano Concerto No. 1 in B-Flat Minor, Op. 23: ...</td>\n",
       "      <td>22.037783</td>\n",
       "    </tr>\n",
       "    <tr>\n",
       "      <th>7068</th>\n",
       "      <td>SB-01</td>\n",
       "      <td>22.143333</td>\n",
       "    </tr>\n",
       "    <tr>\n",
       "      <th>5536</th>\n",
       "      <td>Tod und Verklärung Op.24, TrV 158</td>\n",
       "      <td>27.024000</td>\n",
       "    </tr>\n",
       "    <tr>\n",
       "      <th>9985</th>\n",
       "      <td>Rag Bhimpalasi: Alap, Jod, Jhala</td>\n",
       "      <td>41.074900</td>\n",
       "    </tr>\n",
       "  </tbody>\n",
       "</table>\n",
       "</div>"
      ],
      "text/plain": [
       "                                                    name   duration\n",
       "10252           Raag Mishra Shirvranjani Taal Deepchandi  21.820150\n",
       "2638   Piano Concerto No. 1 in B-Flat Minor, Op. 23: ...  22.037783\n",
       "7068                                               SB-01  22.143333\n",
       "5536                   Tod und Verklärung Op.24, TrV 158  27.024000\n",
       "9985                    Rag Bhimpalasi: Alap, Jod, Jhala  41.074900"
      ]
     },
     "execution_count": 31,
     "metadata": {},
     "output_type": "execute_result"
    }
   ],
   "source": [
    "print(pd.Series(full_history['duration']).describe())\n",
    "full_history.sort_values('duration')[['name', 'duration']].tail(5)"
   ]
  },
  {
   "cell_type": "markdown",
   "metadata": {},
   "source": [
    "## When do I listen to music?\n",
    "\n",
    "It's unlikely I'm always listening to music, 24/7. So what does the time frame of my listening actually look like?\n",
    "\n",
    "Above I mentioned that on average I listen to about 78 songs per day. Since I've started recording my listening, how have I deviated from that? The graph below shows the \"rate\" of my music listening, overlaid with a linear estimation of exactly 78 songs per day. Around late March was Finals week and the beginning of my Spring Break, hence the steep rise in music listening (less time in class, more time in the library/relaxing at home). Following that is a flatline of music listening, which corresponds to a vacation I took with my girlfriend. I was spending time exploring a new place and being present with her, instead of listening to music."
   ]
  },
  {
   "cell_type": "code",
   "execution_count": 33,
   "metadata": {},
   "outputs": [
    {
     "data": {
      "image/png": "[encoded data removed]",
      "text/plain": [
       "<matplotlib.figure.Figure at 0x1101166d8>"
      ]
     },
     "metadata": {},
     "output_type": "display_data"
    }
   ],
   "source": [
    "dates = full_history['timestamp'].sort_values().reset_index(drop=True)\n",
    "plt.xticks(rotation=15)\n",
    "plt.plot([min(full_history['timestamp']), max(full_history['timestamp'])], \n",
    "         [0, max(dates.index)], \n",
    "         'r-', alpha=0.4, label='Linear Expected')\n",
    "plt.plot(dates.values, dates.index, c='k', label='Observed')\n",
    "plt.legend()\n",
    "plt.grid(alpha=0.4)"
   ]
  },
  {
   "cell_type": "markdown",
   "metadata": {},
   "source": [
    "During the average week, when do I listen to music?"
   ]
  },
  {
   "cell_type": "code",
   "execution_count": 34,
   "metadata": {},
   "outputs": [],
   "source": [
    "def makeWeekday(a):\n",
    "    '''\n",
    "    weekday\n",
    "    '''\n",
    "    return a.weekday()"
   ]
  },
  {
   "cell_type": "code",
   "execution_count": 35,
   "metadata": {},
   "outputs": [],
   "source": [
    "full_history['weekday'] = full_history['timestamp'].apply(makeWeekday)"
   ]
  },
  {
   "cell_type": "code",
   "execution_count": 36,
   "metadata": {},
   "outputs": [],
   "source": [
    "def makeDecimalHour(a):\n",
    "    '''\n",
    "    decimal hour\n",
    "    '''\n",
    "    return a.hour + (a.minute / 60.0)"
   ]
  },
  {
   "cell_type": "code",
   "execution_count": 37,
   "metadata": {},
   "outputs": [],
   "source": [
    "full_history['hour_decimal'] = full_history['timestamp'].apply(makeDecimalHour)"
   ]
  },
  {
   "cell_type": "code",
   "execution_count": 38,
   "metadata": {},
   "outputs": [],
   "source": [
    "def _averageDatetimeFrequency(df, hour_inc):\n",
    "    hour_bins = np.arange(0, 24+hour_inc, hour_inc)\n",
    "    hour_labels = np.arange(hour_inc, 24+hour_inc, hour_inc)\n",
    "\n",
    "    df['time_bin'] = pd.cut(df['hour_decimal'], bins=hour_bins, labels=hour_labels)\n",
    "    \n",
    "    history_time_bivar = df.groupby(['weekday', 'time_bin'], axis=0)\n",
    "    return history_time_bivar.size().unstack().fillna(0)\n",
    "\n",
    "def plotAverageDatetimeFrequency(data, title='', fs=(12,5), hour_inc=0.5):\n",
    "    plt.subplots(figsize=fs)\n",
    "    plt.title('Average Listening Date-time Frequency{}'.format(title))\n",
    "    g = sns.heatmap(_averageDatetimeFrequency(data, hour_inc), cmap=\"Blues\", robust=True)\n",
    "    plt.xlabel('Time Bin')\n",
    "    plt.ylabel('Weekday')\n",
    "    g.set(yticklabels=['Mon', 'Tue', 'Wed', 'Thur', 'Fri', 'Sat', 'Sun']); # use ; to suppress output"
   ]
  },
  {
   "cell_type": "markdown",
   "metadata": {},
   "source": [
    "The heatmap below attempts to answer the above question. Darker squares are hours on a specific day of the week in whih I've listened to a lot of music. Notice the lack of 3am-6am, where I have never listened to music. The light areas during the week around 2-5pm correspond with my practice schedule, a time in which music listening is impossible."
   ]
  },
  {
   "cell_type": "code",
   "execution_count": 39,
   "metadata": {},
   "outputs": [
    {
     "data": {
      "image/png": "[encoded data removed]",
      "text/plain": [
       "<matplotlib.figure.Figure at 0x10fb2f780>"
      ]
     },
     "metadata": {},
     "output_type": "display_data"
    }
   ],
   "source": [
    "plotAverageDatetimeFrequency(full_history, hour_inc=1)"
   ]
  },
  {
   "cell_type": "code",
   "execution_count": null,
   "metadata": {},
   "outputs": [],
   "source": [
    "inc = 1\n",
    "\n",
    "hour_labels = np.arange(inc, 24+inc, inc)\n",
    "day_bins = np.arange(0,7)\n",
    "\n",
    "genres_matrix = []\n",
    "\n",
    "w = []\n",
    "for day in day_bins:\n",
    "    d = []\n",
    "    for hour in hour_labels:\n",
    "        genres = full_history.loc[(full_history['weekday'] == day) & (full_history['time_bin'] == hour), 'genres']\n",
    "        \n",
    "        if list(genres):\n",
    "            unique_genres, genres_counts = np.unique(list(itertools.chain(*genres.dropna())), return_counts=True)\n",
    "            i, = np.where(genres_counts==genres_counts.max())\n",
    "            i = i[0]\n",
    "            d.append(str(unique_genres[i]))\n",
    "        else:\n",
    "            d.append('none')\n",
    "    w.append(d)\n",
    "    \n",
    "d = pd.DataFrame(w)"
   ]
  },
  {
   "cell_type": "code",
   "execution_count": null,
   "metadata": {},
   "outputs": [],
   "source": [
    "u = np.unique(d)\n",
    "u = dict(zip(u, range(len(u))))\n",
    "d = d.replace(u)"
   ]
  },
  {
   "cell_type": "code",
   "execution_count": null,
   "metadata": {},
   "outputs": [],
   "source": [
    "fig, ax = plt.subplots(figsize=(16,10))\n",
    "im = plt.imshow(d, cmap='', aspect=3)\n",
    "\n",
    "cb = fig.colorbar(im)\n",
    "cb.set_ticks(list(u.values()))\n",
    "cb.set_ticklabels(list(u.keys()))  # put text labels on them\n",
    "\n",
    "# Major ticks\n",
    "ax.set_xticks(np.arange(0, 24, 1));\n",
    "ax.set_yticks(np.arange(0, 7, 1));\n",
    "\n",
    "# Minor ticks\n",
    "ax.set_xticks(np.arange(-.5, 23, 1), minor=True);\n",
    "ax.set_yticks(np.arange(-.5, 6, 1), minor=True);\n",
    "\n",
    "# Gridlines based on minor ticks\n",
    "ax.grid(which='minor', color='w', linestyle='-', linewidth=2)\n",
    "ax.grid(which='major', b=False)\n",
    "\n",
    "ax.set_yticklabels(['Mon', 'Tue', 'Wed', 'Thur', 'Fri', 'Sat', 'Sun'])\n",
    "\n",
    "plt.xlabel('Hour of the Day')\n",
    "plt.ylabel('Weekday');"
   ]
  },
  {
   "cell_type": "markdown",
   "metadata": {},
   "source": [
    "Are there artists I prefer at a certain time of day? Let's limit our search to artists who follow these requirements:\n",
    "\n",
    " 1. if we lay out all the hours of the day that I've listened to a song by that artist, we get a vector (or array) of hours (in decimal). We only consider artists that have at most 3 hours between the 25% quantile hour and the 75% quantile hour. This ensures artists are truly localized to a certain time of the day\n",
    " 2. out of all artists, let's find the 90% quantile of listen counts. In this case it happens to be 9 listens. We only consider artists that have an equivalent amount of listens or more than this. This ensures I actually do listen to this artist. We don't want some artist with only 2 listens being included in our results."
   ]
  },
  {
   "cell_type": "code",
   "execution_count": 40,
   "metadata": {},
   "outputs": [
    {
     "data": {
      "text/plain": [
       "(3.0, 9.0)"
      ]
     },
     "execution_count": 40,
     "metadata": {},
     "output_type": "execute_result"
    }
   ],
   "source": [
    "MAX_SPREAD = 3.0\n",
    "MIN_COUNT = np.percentile(artists['listens'], 90)\n",
    "MAX_SPREAD, MIN_COUNT"
   ]
  },
  {
   "cell_type": "code",
   "execution_count": 41,
   "metadata": {},
   "outputs": [],
   "source": [
    "def is_compact(arr):\n",
    "    prc25, prc75 = np.percentile(arr, [25, 75])\n",
    "    return (prc75 - prc25) <= MAX_SPREAD\n",
    "\n",
    "selected_artists = []\n",
    "\n",
    "for artist in artists.itertuples():\n",
    "    track_hours = []\n",
    "        \n",
    "    if artist.listens < MIN_COUNT: continue\n",
    "        \n",
    "    for track in full_history.itertuples():\n",
    "        if artist.id in track.artists:\n",
    "            track_hours.append(track.hour_decimal)\n",
    "            \n",
    "    if is_compact(track_hours):\n",
    "        selected_artists.append([artist.artist, artist.id, np.median(track_hours)])\n",
    "\n",
    "artists_dayhours = pd.DataFrame(selected_artists, columns=['artist', 'id', 'hour'])"
   ]
  },
  {
   "cell_type": "markdown",
   "metadata": {},
   "source": [
    "Interestingly, we see a handul of artists are in fact localized to a certain time of the day for me. For example, we see some classic rock bands (The Kinks, The Who) localized to the morning and afternoon. I have a tendency to listen to classical music before bed, hence Gould, Vivaldi, and Debussy all 9pm and later artists."
   ]
  },
  {
   "cell_type": "code",
   "execution_count": 42,
   "metadata": {},
   "outputs": [
    {
     "name": "stderr",
     "output_type": "stream",
     "text": [
      "/Users/alex/anaconda3/lib/python3.6/site-packages/seaborn/categorical.py:1460: FutureWarning: remove_na is deprecated and is a private function. Do not use.\n",
      "  stat_data = remove_na(group_data)\n"
     ]
    },
    {
     "data": {
      "text/plain": [
       "<matplotlib.axes._subplots.AxesSubplot at 0x10f768c88>"
      ]
     },
     "execution_count": 42,
     "metadata": {},
     "output_type": "execute_result"
    },
    {
     "data": {
      "image/png": "[encoded data removed]",
      "text/plain": [
       "<matplotlib.figure.Figure at 0x10ffffe10>"
      ]
     },
     "metadata": {},
     "output_type": "display_data"
    }
   ],
   "source": [
    "a = artists_dayhours.sort_values('hour')\n",
    "plt.subplots(figsize=(6,10))\n",
    "plt.xlim([0,24])\n",
    "sns.barplot(a['hour'], a['artist'], orient='h', palette='summer')"
   ]
  },
  {
   "cell_type": "markdown",
   "metadata": {},
   "source": [
    "When I listen to music, how much do I listen to? We create the idea of a listening *cluster*, which is a period of time in which I listened to consecutive music. In one cluster, I might listen to just a single song, or 20 songs back-to-back, or a few hours of music on end.\n",
    "\n",
    "We examine this by creating clusters which depend on the time between one song at time $t_i$ and the next song at time $t_{i+1}$, and comparing this value to the duration of the song at $t_i$ plus some time extension. This extension allows little breaks in listening to be had (e.g. pausing in the middle of the song for a minute), but still allows it to continue the chain of songs.\n",
    "\n",
    "$$C = \\{t\\in T \\mid t_{i+1} - t_i < \\epsilon \\textrm{ and } t_i \\leq t_{i+1}\\}$$\n",
    "\n",
    "where $T$ is the set of all song timestamps, and $t_i$ is the timestamp of some song such that the timestamp $t_{i+1}$ occurs next, $t_i \\leq t_{i+1}$. $\\Delta$ is equal to the duration of the song at time $t_i$ and $\\epsilon$ is the cluster width extension variable ($\\epsilon > 0$). Various cluster width extensions are shown in the graph below. A cluster $C$ is the set such that $\\Delta + \\epsilon$ is greater than the amount of time between the timestamps $t_{i+1}$ and $t_i$.\n",
    "\n",
    "The results resemble a logarithmic graph, and are somewhat linear when log transformed. When the cluster width extension, $\\epsilon$, is 5 minutes, the average cluster duration is about 36 minutes. This is interpreted as, if we consider a grouping of listening to occur when one song is played within five minutes of the end of the previous song, I will listen for about 36 minutes. After that, I'll take a break of at least five minutes."
   ]
  },
  {
   "cell_type": "code",
   "execution_count": 43,
   "metadata": {},
   "outputs": [],
   "source": [
    "full_history['timestamp_64'] = pd.DatetimeIndex(full_history['timestamp']).view('int64') // pd.Timedelta(1, unit='s')\n",
    "T = full_history.copy()\n",
    "T = T.sort_values('timestamp_64', ascending=True)\n",
    "T = T.reset_index(drop=True)\n",
    "\n",
    "t_i1 = np.array(T.loc[1:, 'timestamp_64'])\n",
    "t_i = np.array(T.loc[:len(T)-2, 'timestamp_64'])\n",
    "raw_deltas = t_i1 - t_i\n",
    "\n",
    "T.drop(0, axis=0, inplace=True)\n",
    "T.loc[:, 'duration'] *= 60\n",
    "T.loc[:, 'delta'] = np.array(raw_deltas)\n",
    "# duration is the song duration in seconds\n",
    "# delta is the number of seconds from the ith to the (i+1)th record"
   ]
  },
  {
   "cell_type": "code",
   "execution_count": 44,
   "metadata": {},
   "outputs": [],
   "source": [
    "cluster_means = []\n",
    "MAXIMUM_GAPS = np.arange(0,20)\n",
    "\n",
    "for MAXIMUM_GAP in MAXIMUM_GAPS:\n",
    "    clusters = []\n",
    "    current_cluster = 0\n",
    "    for row in T.itertuples():\n",
    "        \n",
    "        current_cluster += row.duration\n",
    "        \n",
    "        if row.delta > (MAXIMUM_GAP * 60):\n",
    "            clusters.append(current_cluster)\n",
    "            current_cluster = 0\n",
    "            \n",
    "    clusters.append(current_cluster)\n",
    "    clusters = pd.Series(clusters) / 60\n",
    "    cluster_means.append(round(np.mean(clusters), 1))"
   ]
  },
  {
   "cell_type": "markdown",
   "metadata": {},
   "source": [
    "We see that as we increase the gap of time between one song and the song after, the clusters get longer and longer until the increase in cluster duration becomes linear. As interpretation: if we cluster together all songs that are at most 5 minutes apart, the average cluster of music is 20.9 minutes. At a 15 minute extension, clusters become 56 minutes long on average."
   ]
  },
  {
   "cell_type": "code",
   "execution_count": 45,
   "metadata": {},
   "outputs": [
    {
     "name": "stdout",
     "output_type": "stream",
     "text": [
      "3.8835749377386883\n"
     ]
    },
    {
     "data": {
      "text/plain": [
       "0      3.9\n",
       "1      4.0\n",
       "2      4.4\n",
       "3      6.5\n",
       "4     12.6\n",
       "5     20.9\n",
       "6     29.2\n",
       "7     35.2\n",
       "8     39.3\n",
       "9     44.0\n",
       "10    46.5\n",
       "11    48.6\n",
       "12    50.8\n",
       "13    52.9\n",
       "14    54.7\n",
       "15    56.0\n",
       "16    57.2\n",
       "17    58.1\n",
       "18    59.3\n",
       "19    60.6\n",
       "dtype: float64"
      ]
     },
     "execution_count": 45,
     "metadata": {},
     "output_type": "execute_result"
    },
    {
     "data": {
      "image/png": "[encoded data removed]",
      "text/plain": [
       "<matplotlib.figure.Figure at 0x10fff14e0>"
      ]
     },
     "metadata": {},
     "output_type": "display_data"
    }
   ],
   "source": [
    "plt.xlabel('Cluster Width Extension, $\\epsilon$, (minutes)')\n",
    "plt.ylabel('Mean Cluster Durations (minutes)')\n",
    "plt.scatter(x=MAXIMUM_GAPS, y=cluster_means)\n",
    "print(np.mean(T.duration)/60)\n",
    "pd.Series(cluster_means, index=MAXIMUM_GAPS)"
   ]
  },
  {
   "cell_type": "markdown",
   "metadata": {},
   "source": [
    "What's the probability I'll play another song within 10 minutes of the last song?"
   ]
  },
  {
   "cell_type": "code",
   "execution_count": 46,
   "metadata": {},
   "outputs": [],
   "source": [
    "mn = 1\n",
    "mx = 100\n",
    "ks = np.arange(mn, mx)\n",
    "EXTENSION = 10 * 60\n",
    "\n",
    "counts = []\n",
    "\n",
    "# for each listening item, starting wiht the earliest\n",
    "for row in T.itertuples():\n",
    "    in_count = np.zeros(len(ks)+1)\n",
    "    \n",
    "    # iterate up to maximum lookahead\n",
    "    for k in ks:\n",
    "        i = row.Index\n",
    "        \n",
    "        # if the lookahead is within the range, is the item k+1 ahead of i greater than the maximum CWE?\n",
    "        if i+k < len(T) and T.loc[i+k+1, 'delta'] > EXTENSION:\n",
    "            \n",
    "            # if it is, increment the kth value to indicate the lookahead ends there\n",
    "            in_count[k] += 1\n",
    "            break\n",
    "                \n",
    "    counts.append(in_count)\n",
    "        \n",
    "c = pd.DataFrame(counts, columns=np.arange(mn, mx+1))\n",
    "c.drop(1, axis=0, inplace=True)\n",
    "c = c.sum(axis=0) / c.sum().sum()"
   ]
  },
  {
   "cell_type": "markdown",
   "metadata": {},
   "source": [
    "If I listen to one song, the probability of playing one more within 10 minutes is about 8%. "
   ]
  },
  {
   "cell_type": "code",
   "execution_count": 47,
   "metadata": {},
   "outputs": [
    {
     "data": {
      "image/png": "[encoded data removed]",
      "text/plain": [
       "<matplotlib.figure.Figure at 0x1100069b0>"
      ]
     },
     "metadata": {},
     "output_type": "display_data"
    }
   ],
   "source": [
    "plt.subplots(figsize=(14,5))\n",
    "plt.bar(c.index, c.values);"
   ]
  },
  {
   "cell_type": "markdown",
   "metadata": {},
   "source": [
    "## What music do I *actually* like?\n",
    "\n",
    "With thousands of songs in my music listening history, it should be obvious that I don't *love* all of them. If we wish to describe the songs I like, the dataset must be labeled with whether I like a particular song. In other words, we extract implicit feedback to classify songs as \"Like\" or \"Dislike.\" Implicit feedback is easier to collect because it does not require individually labeling each sample. Here, we define this feedback as listening frequency. It is assumed that songs that are enjoyed are listened to more often than songs that are not enjoyed.\n",
    "\n",
    "There are two flavors of frequency feedback: absolute and relative. Absolute frequency feedback (AFF) is the listening frequency within the know period of recording. Relative frequency feedback (RFF) is the listening frequency between the first and last listening event. AFF accounts for long-term listening habits. RFF accounts for songs that were enjoyed during one period in time (and may still be enjoyed)."
   ]
  },
  {
   "cell_type": "code",
   "execution_count": null,
   "metadata": {},
   "outputs": [],
   "source": [
    "day_range = (full_history['timestamp'].max() - full_history['timestamp'].min()).days"
   ]
  },
  {
   "cell_type": "code",
   "execution_count": null,
   "metadata": {},
   "outputs": [],
   "source": [
    "bins = pd.date_range(min(full_history['timestamp']) - pd.Timedelta(weeks=1),\n",
    "                     max(full_history['timestamp']) + pd.Timedelta(weeks=1),\n",
    "                     freq='W', normalize=True)\n",
    "labels = list(range(1, len(bins)))\n",
    "T = full_history.copy()\n",
    "T['week'] = pd.cut(full_history['timestamp_64'],\n",
    "                               bins=bins.astype(np.int64)//10**9,\n",
    "                               labels=labels)\n",
    "T['week'] = T['week'].astype(np.int)"
   ]
  },
  {
   "cell_type": "code",
   "execution_count": null,
   "metadata": {},
   "outputs": [],
   "source": [
    "unique = get_unique().sort_values('timestamp_64')"
   ]
  },
  {
   "cell_type": "code",
   "execution_count": null,
   "metadata": {},
   "outputs": [],
   "source": [
    "for row in unique['id']:\n",
    "    \n",
    "    weeks = T.loc[T['id'] == row, 'week']\n",
    "    uweeks, counts = np.unique(weeks, return_counts=True)\n",
    "    \n",
    "    gain = np.log(sum(counts)/(np.median(weeks)/(len(uweeks)/len(bins))))\n",
    "    \n",
    "    unique.loc[unique['id'] == row, 'gain'] = gain"
   ]
  },
  {
   "cell_type": "code",
   "execution_count": null,
   "metadata": {},
   "outputs": [],
   "source": [
    "s_gains = np.array(sorted(unique['gain']))\n",
    "plt.plot(range(len(s_gains)), s_gains, linewidth=1.5, label='Weighted')\n",
    "l = sorted(listens)\n",
    "plt.plot(range(len(l)), l, label='Raw')\n",
    "plt.legend()"
   ]
  },
  {
   "cell_type": "code",
   "execution_count": null,
   "metadata": {},
   "outputs": [],
   "source": [
    "cols = ['acousticness', 'danceability', 'energy', 'explicit', 'mode', 'popularity', 'speechiness', \n",
    "        'tempo', 'valence', 'duration', 'log_loudness']\n",
    "\n",
    "X_train, X_test, y_train, y_test = train_test_split(unique[cols], unique['gain'], test_size=0.4)\n",
    "y_test, y_validate = y_test[:int(len(y_test)/2)], y_test[int(len(y_test)/2):]\n",
    "X_test, X_validate = X_test[:int(len(X_test)/2)], X_test[int(len(X_test)/2):]"
   ]
  },
  {
   "cell_type": "code",
   "execution_count": null,
   "metadata": {},
   "outputs": [],
   "source": [
    "from sklearn.linear_model import *\n",
    "clf = LinearRegression()\n",
    "\n",
    "clf.fit(X_train, y_train)\n",
    "\n",
    "print(clf.score(X_test, y_test))\n",
    "\n",
    "pd.Series(clf.predict(X_validate)).describe()"
   ]
  },
  {
   "cell_type": "code",
   "execution_count": null,
   "metadata": {},
   "outputs": [],
   "source": [
    "unique_counts = []\n",
    "\n",
    "last = full_history['timestamp'].max()\n",
    "\n",
    "for i, row_outer in full_history.iterrows():\n",
    "    matches = full_history.loc[full_history['id'] == row_outer['id'], 'timestamp']\n",
    "    \n",
    "    n = len(matches)\n",
    "        \n",
    "    ts = np.array(matches.sort_values())\n",
    "    spread = int((ts.max() - ts.min()) / 8.64e13)\n",
    "    spread = 1 if spread == 0 else spread\n",
    "    \n",
    "    rff = 1\n",
    "    med = 0\n",
    "    if n > 1:\n",
    "        deltas = (ts[1:] - ts[:-1]) / 8.64e13\n",
    "        med = int(np.median(deltas))\n",
    "        rff = n / spread\n",
    "    \n",
    "    distance = last - matches.max()\n",
    "\n",
    "    unique_counts.append([row_outer['id'], row_outer['name'], n, n / day_range, rff, distance.total_seconds()])\n",
    "    "
   ]
  },
  {
   "cell_type": "code",
   "execution_count": null,
   "metadata": {},
   "outputs": [],
   "source": [
    "unique = pd.DataFrame(unique_counts, columns=['id', 'name', 'n', 'aff', 'rff', 'distance']).drop_duplicates('id')"
   ]
  },
  {
   "cell_type": "markdown",
   "metadata": {},
   "source": [
    "## Do I prefer to discover new music or stick with known songs?\n",
    "\n",
    "Do I have any go-to songs? artists? A go-to song is a song...\n",
    "\n",
    "Do I have any hidden favorite songs? artists?"
   ]
  },
  {
   "cell_type": "markdown",
   "metadata": {},
   "source": [
    "How much of my collection is from artists from my list of top artists?\n",
    "\n",
    "The top 1% of artists ($n=40$) make up 27% of songs in my history, the top 5% of artists ($n=201$) make up 52% of songs, the top 10% of artists ($n=403$) make up 66% of songs, and the top 25% of artists ($n=1007$) make up 82% of songs."
   ]
  },
  {
   "cell_type": "code",
   "execution_count": 48,
   "metadata": {},
   "outputs": [],
   "source": [
    "makeup = []\n",
    "brackets = [0.01, 0.05, 0.1, 0.25]\n",
    "\n",
    "for portion in brackets:\n",
    "    \n",
    "    top_portion = round(len(sort_artist_df) * portion)\n",
    "    top_portion = sort_artist_df.iloc[:top_portion, 0]\n",
    "    \n",
    "    total_songs_in_portion = 0\n",
    "    for row in full_history.itertuples():\n",
    "        # for each track, look through the artists\n",
    "        for artist in row.artists:\n",
    "            # if at least one artist on the song is in the top portion, count it and skip the rest\n",
    "            if artist in list(top_portion):\n",
    "                total_songs_in_portion += 1\n",
    "                break\n",
    "            \n",
    "    makeup.append([len(top_portion), total_songs_in_portion / len(full_history)])\n",
    "    \n",
    "makeup = np.array(makeup)"
   ]
  },
  {
   "cell_type": "code",
   "execution_count": 49,
   "metadata": {},
   "outputs": [
    {
     "data": {
      "image/png": "[encoded data removed]",
      "text/plain": [
       "<matplotlib.figure.Figure at 0x11104be80>"
      ]
     },
     "metadata": {},
     "output_type": "display_data"
    }
   ],
   "source": [
    "plt.scatter(x=makeup[:, 0], y=makeup[:, 1])\n",
    "\n",
    "for i, elm in enumerate(makeup):\n",
    "    plt.annotate('{}%: ({}, {}%)'.format(int(brackets[i]*100), int(elm[0]), int(elm[1]*100)), \n",
    "                 (elm[0], elm[1]), (elm[0]+25, elm[1]-0.01))\n",
    "\n",
    "plt.xlabel('# of Artists')\n",
    "plt.ylabel('Proportion of Music Collection')\n",
    "plt.ylim([0,1]);"
   ]
  },
  {
   "cell_type": "markdown",
   "metadata": {},
   "source": [
    "54.9% of artists I've listened to, I've only listened to once!"
   ]
  },
  {
   "cell_type": "code",
   "execution_count": 50,
   "metadata": {},
   "outputs": [
    {
     "data": {
      "text/plain": [
       "0.5485473056866154"
      ]
     },
     "execution_count": 50,
     "metadata": {},
     "output_type": "execute_result"
    }
   ],
   "source": [
    "len(sort_artist_df[sort_artist_df['listens'] == 1])/len(sort_artist_df)"
   ]
  },
  {
   "cell_type": "markdown",
   "metadata": {},
   "source": [
    "# Is my music collection mainstream?\n",
    "\n",
    "Compared to what most people are listening to, am I any different? (I'd like to think so, but we'll see)"
   ]
  },
  {
   "cell_type": "code",
   "execution_count": null,
   "metadata": {},
   "outputs": [],
   "source": [
    "mainstream = pd.read_json('data/mainstream_music.json')"
   ]
  },
  {
   "cell_type": "code",
   "execution_count": null,
   "metadata": {},
   "outputs": [],
   "source": [
    "mainstream['tempo'] = mainstream['tempo'].apply(round)\n",
    "mainstream['tempo'] = mainstream['tempo'].apply(lambda x: x if x < 168 else x/2)"
   ]
  },
  {
   "cell_type": "code",
   "execution_count": null,
   "metadata": {},
   "outputs": [],
   "source": [
    "#hist(mainstream['tempo'], [65,170])\n",
    "sns.distplot(mainstream['tempo'])\n",
    "full_history['tempo'].describe()"
   ]
  },
  {
   "cell_type": "code",
   "execution_count": null,
   "metadata": {},
   "outputs": [],
   "source": [
    "mainstream['duration'] = mainstream['duration_ms'] / 1000 / 60\n",
    "mainstream = mainstream.drop('duration_ms', axis=1)"
   ]
  },
  {
   "cell_type": "code",
   "execution_count": null,
   "metadata": {},
   "outputs": [],
   "source": [
    "hist(mainstream['duration'], [2,8], 21)\n",
    "print(mainstream['duration'].describe())"
   ]
  }
 ],
 "metadata": {
  "kernelspec": {
   "display_name": "Python 3",
   "language": "python",
   "name": "python3"
  },
  "language_info": {
   "codemirror_mode": {
    "name": "ipython",
    "version": 3
   },
   "file_extension": ".py",
   "mimetype": "text/x-python",
   "name": "python",
   "nbconvert_exporter": "python",
   "pygments_lexer": "ipython3",
   "version": "3.6.3"
  }
 },
 "nbformat": 4,
 "nbformat_minor": 2
}
