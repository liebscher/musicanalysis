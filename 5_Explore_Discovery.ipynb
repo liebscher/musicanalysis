{
 "cells": [
  {
   "cell_type": "code",
   "execution_count": 1,
   "metadata": {},
   "outputs": [],
   "source": [
    "import pandas as pd\n",
    "from pandas import Timestamp\n",
    "import numpy as np\n",
    "import scipy.stats as stats\n",
    "from datetime import datetime\n",
    "from pytz import timezone\n",
    "\n",
    "import itertools\n",
    "\n",
    "import seaborn as sns\n",
    "import matplotlib.pyplot as plt\n",
    "from matplotlib import colors\n",
    "%matplotlib inline\n",
    "\n",
    "sns.set_style('whitegrid')\n",
    "pd.set_option('display.max_columns', 100)"
   ]
  },
  {
   "cell_type": "code",
   "execution_count": 2,
   "metadata": {},
   "outputs": [],
   "source": [
    "full_history = pd.read_json('data/history_clean.json')\n",
    "\n",
    "if full_history['timestamp'].max().tz is None:\n",
    "    full_history['timestamp'] = pd.to_datetime(full_history['timestamp'], utc=True)\n",
    "    full_history['timestamp'] = full_history['timestamp'].apply(lambda t: t.tz_convert('US/Pacific'))"
   ]
  },
  {
   "cell_type": "code",
   "execution_count": 3,
   "metadata": {},
   "outputs": [],
   "source": [
    "artists = pd.read_json('data/artists_clean.json')"
   ]
  },
  {
   "cell_type": "code",
   "execution_count": 4,
   "metadata": {},
   "outputs": [],
   "source": [
    "def get_unique():\n",
    "    unique_history = full_history.drop('timestamp', axis=1)\n",
    "    return unique_history.drop_duplicates('id')"
   ]
  },
  {
   "cell_type": "markdown",
   "metadata": {},
   "source": [
    "## Do I prefer to discover new music or stick with known songs?\n",
    "\n",
    "Do I have any go-to songs? artists? A go-to song is a song...\n",
    "\n",
    "Do I have any hidden favorite songs? artists?"
   ]
  },
  {
   "cell_type": "markdown",
   "metadata": {},
   "source": [
    "How much of my collection is from artists from my list of top artists?\n",
    "\n",
    "The top 1% of artists ($n=40$) make up 27% of songs in my history, the top 5% of artists ($n=201$) make up 52% of songs, the top 10% of artists ($n=403$) make up 66% of songs, and the top 25% of artists ($n=1007$) make up 82% of songs."
   ]
  },
  {
   "cell_type": "code",
   "execution_count": 13,
   "metadata": {},
   "outputs": [
    {
     "name": "stdout",
     "output_type": "stream",
     "text": [
      "2YZyLoL8N0Wb9xBt1NhZWg\n"
     ]
    }
   ],
   "source": [
    "makeup = []\n",
    "brackets = [0.01]#, 0.05, 0.1, 0.25]\n",
    "\n",
    "sort_artist_df = artists.sort_values('listens', ascending=False)\n",
    "\n",
    "for portion in brackets:\n",
    "    \n",
    "    top_portion = round(len(sort_artist_df) * portion)\n",
    "    top_portion = sort_artist_df.iloc[:top_portion, 0]\n",
    "        \n",
    "    total_songs_in_portion = 0\n",
    "    for row in full_history.itertuples():\n",
    "        # for each track, look through the artists\n",
    "        for artist in row.artists:\n",
    "            print(artist)\n",
    "            # if at least one artist on the song is in the top portion, count it and skip the rest\n",
    "            if artist in list(top_portion):\n",
    "                total_songs_in_portion += 1                \n",
    "                break\n",
    "        break\n",
    "            \n",
    "    makeup.append([len(top_portion), total_songs_in_portion / len(full_history)])\n",
    "    \n",
    "makeup = np.array(makeup)"
   ]
  },
  {
   "cell_type": "code",
   "execution_count": 7,
   "metadata": {},
   "outputs": [
    {
     "data": {
      "image/png": "[encoded data removed]",
      "text/plain": [
       "<matplotlib.figure.Figure at 0x1a13292a58>"
      ]
     },
     "metadata": {},
     "output_type": "display_data"
    }
   ],
   "source": [
    "plt.scatter(x=makeup[:, 0], y=makeup[:, 1])\n",
    "\n",
    "for i, elm in enumerate(makeup):\n",
    "    plt.annotate('{}%: ({}, {}%)'.format(int(brackets[i]*100), int(elm[0]), int(elm[1]*100)), \n",
    "                 (elm[0], elm[1]), (elm[0]+25, elm[1]-0.01))\n",
    "\n",
    "plt.xlabel('# of Artists')\n",
    "plt.ylabel('Proportion of Music Collection')\n",
    "plt.ylim([0,1]);"
   ]
  },
  {
   "cell_type": "markdown",
   "metadata": {},
   "source": [
    "54.9% of artists I've listened to, I've only listened to once!"
   ]
  },
  {
   "cell_type": "code",
   "execution_count": 14,
   "metadata": {},
   "outputs": [
    {
     "data": {
      "text/plain": [
       "0.547881010594947"
      ]
     },
     "execution_count": 14,
     "metadata": {},
     "output_type": "execute_result"
    }
   ],
   "source": [
    "len(sort_artist_df[sort_artist_df['listens'] == 1])/len(sort_artist_df)"
   ]
  },
  {
   "cell_type": "markdown",
   "metadata": {},
   "source": [
    "# Is my music collection mainstream?\n",
    "\n",
    "Compared to what most people are listening to, am I any different? (I'd like to think so, but we'll see)"
   ]
  },
  {
   "cell_type": "code",
   "execution_count": null,
   "metadata": {},
   "outputs": [],
   "source": [
    "mainstream = pd.read_json('data/mainstream_music.json')"
   ]
  },
  {
   "cell_type": "code",
   "execution_count": null,
   "metadata": {},
   "outputs": [],
   "source": [
    "mainstream['tempo'] = mainstream['tempo'].apply(round)\n",
    "mainstream['tempo'] = mainstream['tempo'].apply(lambda x: x if x < 168 else x/2)"
   ]
  },
  {
   "cell_type": "code",
   "execution_count": null,
   "metadata": {},
   "outputs": [],
   "source": [
    "#hist(mainstream['tempo'], [65,170])\n",
    "sns.distplot(mainstream['tempo'])\n",
    "full_history['tempo'].describe()"
   ]
  },
  {
   "cell_type": "code",
   "execution_count": null,
   "metadata": {},
   "outputs": [],
   "source": [
    "mainstream['duration'] = mainstream['duration_ms'] / 1000 / 60\n",
    "mainstream = mainstream.drop('duration_ms', axis=1)"
   ]
  },
  {
   "cell_type": "code",
   "execution_count": null,
   "metadata": {},
   "outputs": [],
   "source": [
    "hist(mainstream['duration'], [2,8], 21)\n",
    "print(mainstream['duration'].describe())"
   ]
  },
  {
   "cell_type": "code",
   "execution_count": null,
   "metadata": {},
   "outputs": [],
   "source": []
  }
 ],
 "metadata": {
  "kernelspec": {
   "display_name": "Python 3",
   "language": "python",
   "name": "python3"
  },
  "language_info": {
   "codemirror_mode": {
    "name": "ipython",
    "version": 3
   },
   "file_extension": ".py",
   "mimetype": "text/x-python",
   "name": "python",
   "nbconvert_exporter": "python",
   "pygments_lexer": "ipython3",
   "version": "3.6.3"
  }
 },
 "nbformat": 4,
 "nbformat_minor": 2
}
